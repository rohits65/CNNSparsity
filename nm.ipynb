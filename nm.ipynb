{
 "cells": [
  {
   "cell_type": "code",
   "execution_count": 38,
   "id": "1f7893a0",
   "metadata": {},
   "outputs": [],
   "source": [
    "import torch\n",
    "import torch.nn as nn\n",
    "import torch.optim as optim\n",
    "import torchvision.transforms as transforms\n",
    "from torch.utils.data import DataLoader\n",
    "from torchvision import datasets\n",
    "\n",
    "from resnet import ResNet20\n",
    "\n",
    "import os\n",
    "import torch\n",
    "import torch.optim as optim\n",
    "import torch.nn as nn\n",
    "from datetime import datetime\n",
    "\n",
    "from tqdm import tqdm\n",
    "\n",
    "device = torch.device(\"cuda\" if torch.cuda.is_available() else \"cpu\")"
   ]
  },
  {
   "cell_type": "code",
   "execution_count": 39,
   "id": "b28c279f",
   "metadata": {},
   "outputs": [],
   "source": [
    "hyperparameters = {\n",
    "    'sparsity_type': \"nm\", # nm / entropy / feather / spartan / ses / base (no sparsity)\n",
    "    'epochs': 200,\n",
    "    'lr': 0.1,\n",
    "    'momentum': 0.9,\n",
    "    'weight_decay': 5e-4,\n",
    "    'batch_size': 128,\n",
    "}"
   ]
  },
  {
   "cell_type": "code",
   "execution_count": 40,
   "id": "04d8c8e5",
   "metadata": {},
   "outputs": [],
   "source": [
    "transform_train = transforms.Compose([\n",
    "    transforms.RandomCrop(size=32, padding=4),\n",
    "    transforms.RandomHorizontalFlip(),\n",
    "    transforms.ToTensor(),\n",
    "    transforms.Normalize(mean=[0.4914, 0.4822, 0.4465],\n",
    "                         std=[0.2023, 0.1994, 0.201]),\n",
    "])\n",
    "\n",
    "transform_val = transforms.Compose([\n",
    "    transforms.ToTensor(),\n",
    "    transforms.Normalize(mean=[0.4914, 0.4822, 0.4465],\n",
    "                         std=[0.2023, 0.1994, 0.201]),\n",
    "])\n",
    "\n",
    "\n",
    "train_dataset = datasets.CIFAR10(root='./data', train=True, download=True, transform=transform_train)\n",
    "test_dataset = datasets.CIFAR10(root='./data', train=False, download=True, transform=transform_val)\n",
    "\n",
    "train_loader = DataLoader(train_dataset, batch_size=hyperparameters['batch_size'], shuffle=True, num_workers=2)\n",
    "test_loader = DataLoader(test_dataset, batch_size=hyperparameters['batch_size'], shuffle=False, num_workers=2)"
   ]
  },
  {
   "cell_type": "code",
   "execution_count": 41,
   "id": "656c8e01",
   "metadata": {},
   "outputs": [],
   "source": [
    "class Pruner:\n",
    "    def __init__(self, model, sparsity_ratio=0.5):\n",
    "        self.sparsity_ratio = 0.5\n",
    "        self.model = model\n",
    "\n",
    "    def apply_nm_sparsity(self):\n",
    "        \"\"\"\n",
    "        Apply N:M sparsity (2:4 pattern) to the ResNet-20 model.\n",
    "        This applies after training is completed and should only affect inference time.\n",
    "        \"\"\"\n",
    "        for name, module in self.model.named_modules():\n",
    "            if isinstance(module, nn.Conv2d):\n",
    "                # For each convolutional layer, apply 2:4 sparsity\n",
    "                weight = module.weight.data\n",
    "                num_filters = weight.size(0)  # Number of filters in the convolution\n",
    "                \n",
    "                # For every 4 weights, we keep the 2 largest magnitude weights and zero out the others\n",
    "                for i in range(num_filters):\n",
    "                    # Get the weights of the i-th filter\n",
    "                    filter_weights = weight[i].view(-1)  # Flatten the filter weights\n",
    "                    topk_values, topk_indices = torch.topk(torch.abs(filter_weights),\n",
    "                                                           int(len(filter_weights) * self.sparsity_ratio))\n",
    "                    \n",
    "                    # Set the smallest 2 values in each 4-group to zero\n",
    "                    threshold = topk_values[-1]  # The smallest non-zero magnitude in the top-k\n",
    "                    weight[i].data[torch.abs(weight[i]) < threshold] = 0  # Prune the less important weights\n",
    "                \n",
    "                print(f\"Applied N:M sparsity (2:4) on {name} filters\")\n",
    "\n",
    "    def print_sparsity(self):\n",
    "        tot_params = 0\n",
    "        tot_zeros = 0\n",
    "\n",
    "        for name, module in self.model.named_modules():\n",
    "            if isinstance(module, nn.Conv2d):\n",
    "                weight = module.weight.data\n",
    "                n_params = weight.numel()\n",
    "                n_zeros = torch.sum(weight == 0).item()\n",
    "\n",
    "                tot_params += n_params\n",
    "                tot_zeros += n_zeros\n",
    "\n",
    "                print(f\"{name}: Total Params = {n_params}. Total zero params = {n_zeros}. Sparsity = {n_zeros / n_params:.2%}\")\n",
    "            "
   ]
  },
  {
   "cell_type": "code",
   "execution_count": 42,
   "id": "96ad9bb2",
   "metadata": {},
   "outputs": [],
   "source": [
    "def train(model, train_loader, criterion, optimizer, epoch, log_file):\n",
    "    model.train()\n",
    "    running_loss = 0.0\n",
    "    correct = 0\n",
    "    total = 0\n",
    "\n",
    "    pbar = tqdm(train_loader, desc=f\"Epoch {epoch+1}\", ncols=100)\n",
    "    \n",
    "    for batch_idx, (inputs, targets) in enumerate(pbar):\n",
    "        inputs, targets = inputs.to(device), targets.to(device)\n",
    "\n",
    "        optimizer.zero_grad()\n",
    "\n",
    "        outputs = model(inputs)\n",
    "        loss = criterion(outputs, targets)\n",
    "\n",
    "        loss.backward()\n",
    "        optimizer.step()\n",
    "\n",
    "        running_loss += loss.item()\n",
    "        _, predicted = outputs.max(1)\n",
    "        correct += predicted.eq(targets).sum().item()\n",
    "        total += targets.size(0)\n",
    "\n",
    "        pbar.set_postfix(loss=running_loss/(batch_idx+1), accuracy=100.0 * correct / total)\n",
    "\n",
    "    avg_loss = running_loss / len(train_loader)\n",
    "    accuracy = 100.0 * correct / total\n",
    "    log_file.write(f'Epoch [{epoch+1}], Loss: {avg_loss:.4f}, Accuracy: {accuracy:.2f}%\\n')\n",
    "\n",
    "    return avg_loss, accuracy\n"
   ]
  },
  {
   "cell_type": "code",
   "execution_count": 43,
   "id": "4313d98a",
   "metadata": {},
   "outputs": [],
   "source": [
    "def test(model, test_loader, criterion, log_file):\n",
    "    model.eval()\n",
    "    correct = 0\n",
    "    total = 0\n",
    "    test_loss = 0.0\n",
    "\n",
    "    pbar = tqdm(test_loader, desc=\"Testing\", ncols=100)\n",
    "    \n",
    "    with torch.no_grad():\n",
    "        for inputs, targets in pbar:\n",
    "            inputs, targets = inputs.to(device), targets.to(device)\n",
    "\n",
    "            outputs = model(inputs)\n",
    "            loss = criterion(outputs, targets)\n",
    "            test_loss += loss.item()\n",
    "\n",
    "            _, predicted = outputs.max(1)\n",
    "            correct += predicted.eq(targets).sum().item()\n",
    "            total += targets.size(0)\n",
    "\n",
    "            pbar.set_postfix(loss=test_loss/(total + inputs.size(0)), accuracy=100.0 * correct / total)\n",
    "\n",
    "    avg_test_loss = test_loss / len(test_loader)\n",
    "    accuracy = 100.0 * correct / total\n",
    "    log_file.write(f'Test Loss: {avg_test_loss:.4f}, Accuracy: {accuracy:.2f}%\\n')\n",
    "\n",
    "    return avg_test_loss, accuracy"
   ]
  },
  {
   "cell_type": "code",
   "execution_count": 44,
   "id": "a3643d8c",
   "metadata": {},
   "outputs": [
    {
     "data": {
      "text/plain": [
       "ResNet20(\n",
       "  (conv1): Conv2d(3, 16, kernel_size=(3, 3), stride=(1, 1), padding=(1, 1), bias=False)\n",
       "  (bnorm1): BatchNorm2d(16, eps=1e-05, momentum=0.1, affine=True, track_running_stats=True)\n",
       "  (residual_layers): Sequential(\n",
       "    (0): ResBlock(\n",
       "      (conv1): Conv2d(16, 16, kernel_size=(3, 3), stride=(1, 1), padding=(1, 1), bias=False)\n",
       "      (bnorm1): BatchNorm2d(16, eps=1e-05, momentum=0.1, affine=True, track_running_stats=True)\n",
       "      (conv2): Conv2d(16, 16, kernel_size=(3, 3), stride=(1, 1), padding=(1, 1), bias=False)\n",
       "      (bnorm2): BatchNorm2d(16, eps=1e-05, momentum=0.1, affine=True, track_running_stats=True)\n",
       "      (residual): Sequential()\n",
       "    )\n",
       "    (1): ResBlock(\n",
       "      (conv1): Conv2d(16, 16, kernel_size=(3, 3), stride=(1, 1), padding=(1, 1), bias=False)\n",
       "      (bnorm1): BatchNorm2d(16, eps=1e-05, momentum=0.1, affine=True, track_running_stats=True)\n",
       "      (conv2): Conv2d(16, 16, kernel_size=(3, 3), stride=(1, 1), padding=(1, 1), bias=False)\n",
       "      (bnorm2): BatchNorm2d(16, eps=1e-05, momentum=0.1, affine=True, track_running_stats=True)\n",
       "      (residual): Sequential()\n",
       "    )\n",
       "    (2): ResBlock(\n",
       "      (conv1): Conv2d(16, 16, kernel_size=(3, 3), stride=(1, 1), padding=(1, 1), bias=False)\n",
       "      (bnorm1): BatchNorm2d(16, eps=1e-05, momentum=0.1, affine=True, track_running_stats=True)\n",
       "      (conv2): Conv2d(16, 16, kernel_size=(3, 3), stride=(1, 1), padding=(1, 1), bias=False)\n",
       "      (bnorm2): BatchNorm2d(16, eps=1e-05, momentum=0.1, affine=True, track_running_stats=True)\n",
       "      (residual): Sequential()\n",
       "    )\n",
       "    (3): ResBlock(\n",
       "      (conv1): Conv2d(16, 32, kernel_size=(3, 3), stride=(2, 2), padding=(1, 1), bias=False)\n",
       "      (bnorm1): BatchNorm2d(32, eps=1e-05, momentum=0.1, affine=True, track_running_stats=True)\n",
       "      (conv2): Conv2d(32, 32, kernel_size=(3, 3), stride=(1, 1), padding=(1, 1), bias=False)\n",
       "      (bnorm2): BatchNorm2d(32, eps=1e-05, momentum=0.1, affine=True, track_running_stats=True)\n",
       "      (residual): Sequential(\n",
       "        (0): Conv2d(16, 32, kernel_size=(1, 1), stride=(2, 2), bias=False)\n",
       "        (1): BatchNorm2d(32, eps=1e-05, momentum=0.1, affine=True, track_running_stats=True)\n",
       "      )\n",
       "    )\n",
       "    (4): ResBlock(\n",
       "      (conv1): Conv2d(32, 32, kernel_size=(3, 3), stride=(1, 1), padding=(1, 1), bias=False)\n",
       "      (bnorm1): BatchNorm2d(32, eps=1e-05, momentum=0.1, affine=True, track_running_stats=True)\n",
       "      (conv2): Conv2d(32, 32, kernel_size=(3, 3), stride=(1, 1), padding=(1, 1), bias=False)\n",
       "      (bnorm2): BatchNorm2d(32, eps=1e-05, momentum=0.1, affine=True, track_running_stats=True)\n",
       "      (residual): Sequential()\n",
       "    )\n",
       "    (5): ResBlock(\n",
       "      (conv1): Conv2d(32, 32, kernel_size=(3, 3), stride=(1, 1), padding=(1, 1), bias=False)\n",
       "      (bnorm1): BatchNorm2d(32, eps=1e-05, momentum=0.1, affine=True, track_running_stats=True)\n",
       "      (conv2): Conv2d(32, 32, kernel_size=(3, 3), stride=(1, 1), padding=(1, 1), bias=False)\n",
       "      (bnorm2): BatchNorm2d(32, eps=1e-05, momentum=0.1, affine=True, track_running_stats=True)\n",
       "      (residual): Sequential()\n",
       "    )\n",
       "    (6): ResBlock(\n",
       "      (conv1): Conv2d(32, 64, kernel_size=(3, 3), stride=(2, 2), padding=(1, 1), bias=False)\n",
       "      (bnorm1): BatchNorm2d(64, eps=1e-05, momentum=0.1, affine=True, track_running_stats=True)\n",
       "      (conv2): Conv2d(64, 64, kernel_size=(3, 3), stride=(1, 1), padding=(1, 1), bias=False)\n",
       "      (bnorm2): BatchNorm2d(64, eps=1e-05, momentum=0.1, affine=True, track_running_stats=True)\n",
       "      (residual): Sequential(\n",
       "        (0): Conv2d(32, 64, kernel_size=(1, 1), stride=(2, 2), bias=False)\n",
       "        (1): BatchNorm2d(64, eps=1e-05, momentum=0.1, affine=True, track_running_stats=True)\n",
       "      )\n",
       "    )\n",
       "    (7): ResBlock(\n",
       "      (conv1): Conv2d(64, 64, kernel_size=(3, 3), stride=(1, 1), padding=(1, 1), bias=False)\n",
       "      (bnorm1): BatchNorm2d(64, eps=1e-05, momentum=0.1, affine=True, track_running_stats=True)\n",
       "      (conv2): Conv2d(64, 64, kernel_size=(3, 3), stride=(1, 1), padding=(1, 1), bias=False)\n",
       "      (bnorm2): BatchNorm2d(64, eps=1e-05, momentum=0.1, affine=True, track_running_stats=True)\n",
       "      (residual): Sequential()\n",
       "    )\n",
       "    (8): ResBlock(\n",
       "      (conv1): Conv2d(64, 64, kernel_size=(3, 3), stride=(1, 1), padding=(1, 1), bias=False)\n",
       "      (bnorm1): BatchNorm2d(64, eps=1e-05, momentum=0.1, affine=True, track_running_stats=True)\n",
       "      (conv2): Conv2d(64, 64, kernel_size=(3, 3), stride=(1, 1), padding=(1, 1), bias=False)\n",
       "      (bnorm2): BatchNorm2d(64, eps=1e-05, momentum=0.1, affine=True, track_running_stats=True)\n",
       "      (residual): Sequential()\n",
       "    )\n",
       "  )\n",
       "  (pool): AvgPool2d(kernel_size=8, stride=8, padding=0)\n",
       "  (classifier): Linear(in_features=64, out_features=10, bias=True)\n",
       ")"
      ]
     },
     "execution_count": 44,
     "metadata": {},
     "output_type": "execute_result"
    }
   ],
   "source": [
    "resnet20_model = ResNet20()\n",
    "resnet20_model.to(device)"
   ]
  },
  {
   "cell_type": "code",
   "execution_count": 45,
   "id": "b9473ec3",
   "metadata": {},
   "outputs": [],
   "source": [
    "criterion = nn.CrossEntropyLoss()\n",
    "optimizer = optim.SGD(resnet20_model.parameters(), lr=hyperparameters['lr'], \n",
    "                      momentum=hyperparameters['momentum'], weight_decay=hyperparameters['weight_decay'])"
   ]
  },
  {
   "cell_type": "code",
   "execution_count": 46,
   "id": "132902de",
   "metadata": {},
   "outputs": [],
   "source": [
    "current_learning_rate = hyperparameters['lr']\n",
    "DECAY = 0.1\n",
    "DECAY_EPOCHS = [100, 150]\n",
    "EPOCHS = 200"
   ]
  },
  {
   "cell_type": "code",
   "execution_count": 47,
   "id": "17d23b22",
   "metadata": {},
   "outputs": [],
   "source": [
    "sparsity_type = hyperparameters['sparsity_type']\n",
    "output_base_path = \"/home/sg666/Class/ECE661/outputs\"\n",
    "sparsity_folder_path = os.path.join(output_base_path, sparsity_type)\n",
    "\n",
    "hyperparameter_str = f\"epochs_{hyperparameters['epochs']}_lr_{hyperparameters['lr']}_momentum_{hyperparameters['momentum']}_wd_{hyperparameters['weight_decay']}_batch_{hyperparameters['batch_size']}\"\n",
    "output_folder = os.path.join(sparsity_folder_path, hyperparameter_str)\n",
    "\n",
    "os.makedirs(output_folder, exist_ok=True)\n",
    "\n",
    "hyperparameter_file = os.path.join(output_folder, 'hyperparameters.txt')\n",
    "with open(hyperparameter_file, 'w') as f:\n",
    "    for key, value in hyperparameters.items():\n",
    "        f.write(f\"{key}: {value}\\n\")\n",
    "\n",
    "log_file_path = os.path.join(output_folder, 'training_log.txt')"
   ]
  },
  {
   "cell_type": "code",
   "execution_count": 48,
   "id": "e5b9f4a8",
   "metadata": {},
   "outputs": [],
   "source": [
    "pruner = Pruner(resnet20_model, sparsity_ratio=0.5)"
   ]
  },
  {
   "cell_type": "code",
   "execution_count": 49,
   "id": "e73ff898",
   "metadata": {},
   "outputs": [
    {
     "name": "stdout",
     "output_type": "stream",
     "text": [
      "Applied N:M sparsity (2:4) on conv1 filters\n",
      "Applied N:M sparsity (2:4) on residual_layers.0.conv1 filters\n",
      "Applied N:M sparsity (2:4) on residual_layers.0.conv2 filters\n",
      "Applied N:M sparsity (2:4) on residual_layers.1.conv1 filters\n",
      "Applied N:M sparsity (2:4) on residual_layers.1.conv2 filters\n",
      "Applied N:M sparsity (2:4) on residual_layers.2.conv1 filters\n",
      "Applied N:M sparsity (2:4) on residual_layers.2.conv2 filters\n",
      "Applied N:M sparsity (2:4) on residual_layers.3.conv1 filters\n",
      "Applied N:M sparsity (2:4) on residual_layers.3.conv2 filters\n",
      "Applied N:M sparsity (2:4) on residual_layers.3.residual.0 filters\n",
      "Applied N:M sparsity (2:4) on residual_layers.4.conv1 filters\n",
      "Applied N:M sparsity (2:4) on residual_layers.4.conv2 filters\n",
      "Applied N:M sparsity (2:4) on residual_layers.5.conv1 filters\n",
      "Applied N:M sparsity (2:4) on residual_layers.5.conv2 filters\n",
      "Applied N:M sparsity (2:4) on residual_layers.6.conv1 filters\n",
      "Applied N:M sparsity (2:4) on residual_layers.6.conv2 filters\n",
      "Applied N:M sparsity (2:4) on residual_layers.6.residual.0 filters\n",
      "Applied N:M sparsity (2:4) on residual_layers.7.conv1 filters\n",
      "Applied N:M sparsity (2:4) on residual_layers.7.conv2 filters\n",
      "Applied N:M sparsity (2:4) on residual_layers.8.conv1 filters\n",
      "Applied N:M sparsity (2:4) on residual_layers.8.conv2 filters\n",
      "conv1: Total Params = 432. Total zero params = 224. Sparsity = 51.85%\n",
      "residual_layers.0.conv1: Total Params = 2304. Total zero params = 1152. Sparsity = 50.00%\n",
      "residual_layers.0.conv2: Total Params = 2304. Total zero params = 1152. Sparsity = 50.00%\n",
      "residual_layers.1.conv1: Total Params = 2304. Total zero params = 1152. Sparsity = 50.00%\n",
      "residual_layers.1.conv2: Total Params = 2304. Total zero params = 1152. Sparsity = 50.00%\n",
      "residual_layers.2.conv1: Total Params = 2304. Total zero params = 1152. Sparsity = 50.00%\n",
      "residual_layers.2.conv2: Total Params = 2304. Total zero params = 1152. Sparsity = 50.00%\n",
      "residual_layers.3.conv1: Total Params = 4608. Total zero params = 2304. Sparsity = 50.00%\n",
      "residual_layers.3.conv2: Total Params = 9216. Total zero params = 4608. Sparsity = 50.00%\n",
      "residual_layers.3.residual.0: Total Params = 512. Total zero params = 256. Sparsity = 50.00%\n",
      "residual_layers.4.conv1: Total Params = 9216. Total zero params = 4608. Sparsity = 50.00%\n",
      "residual_layers.4.conv2: Total Params = 9216. Total zero params = 4608. Sparsity = 50.00%\n",
      "residual_layers.5.conv1: Total Params = 9216. Total zero params = 4608. Sparsity = 50.00%\n",
      "residual_layers.5.conv2: Total Params = 9216. Total zero params = 4608. Sparsity = 50.00%\n",
      "residual_layers.6.conv1: Total Params = 18432. Total zero params = 9216. Sparsity = 50.00%\n",
      "residual_layers.6.conv2: Total Params = 36864. Total zero params = 18432. Sparsity = 50.00%\n",
      "residual_layers.6.residual.0: Total Params = 2048. Total zero params = 1024. Sparsity = 50.00%\n",
      "residual_layers.7.conv1: Total Params = 36864. Total zero params = 18432. Sparsity = 50.00%\n",
      "residual_layers.7.conv2: Total Params = 36864. Total zero params = 18432. Sparsity = 50.00%\n",
      "residual_layers.8.conv1: Total Params = 36864. Total zero params = 18432. Sparsity = 50.00%\n",
      "residual_layers.8.conv2: Total Params = 36864. Total zero params = 18432. Sparsity = 50.00%\n"
     ]
    }
   ],
   "source": [
    "# Apply N:M sparsity on the trained base ResNet-20, then train model again with sparsity\n",
    "resnet20_model.load_state_dict(torch.load(\"/home/sg666/Class/ECE661/outputs/base/epochs_200_lr_0.1_momentum_0.9_wd_0.0005_batch_128/best_model.pth\"))\n",
    "pruner.apply_nm_sparsity()\n",
    "pruner.print_sparsity()"
   ]
  },
  {
   "cell_type": "code",
   "execution_count": 50,
   "id": "8b8e35c4",
   "metadata": {},
   "outputs": [
    {
     "name": "stderr",
     "output_type": "stream",
     "text": [
      "Epoch 1: 100%|█████████████████████████| 391/391 [00:06<00:00, 56.84it/s, accuracy=67.8, loss=0.931]\n",
      "Testing: 100%|██████████████████████████| 79/79 [00:00<00:00, 79.95it/s, accuracy=61.6, loss=0.0103]\n"
     ]
    },
    {
     "name": "stdout",
     "output_type": "stream",
     "text": [
      "Saved best model at epoch 1 with accuracy: 61.60%\n"
     ]
    },
    {
     "name": "stderr",
     "output_type": "stream",
     "text": [
      "Epoch 2: 100%|███████████████████████████| 391/391 [00:07<00:00, 50.47it/s, accuracy=78, loss=0.643]\n",
      "Testing: 100%|█████████████████████████| 79/79 [00:01<00:00, 71.45it/s, accuracy=74.7, loss=0.00606]\n"
     ]
    },
    {
     "name": "stdout",
     "output_type": "stream",
     "text": [
      "Saved best model at epoch 2 with accuracy: 74.71%\n"
     ]
    },
    {
     "name": "stderr",
     "output_type": "stream",
     "text": [
      "Epoch 3: 100%|█████████████████████████| 391/391 [00:07<00:00, 49.15it/s, accuracy=80.7, loss=0.568]\n",
      "Testing: 100%|█████████████████████████| 79/79 [00:01<00:00, 69.12it/s, accuracy=76.4, loss=0.00597]\n"
     ]
    },
    {
     "name": "stdout",
     "output_type": "stream",
     "text": [
      "Saved best model at epoch 3 with accuracy: 76.44%\n"
     ]
    },
    {
     "name": "stderr",
     "output_type": "stream",
     "text": [
      "Epoch 4: 100%|█████████████████████████| 391/391 [00:08<00:00, 48.62it/s, accuracy=81.8, loss=0.531]\n",
      "Testing: 100%|█████████████████████████| 79/79 [00:01<00:00, 75.42it/s, accuracy=73.5, loss=0.00686]\n",
      "Epoch 5: 100%|██████████████████████████| 391/391 [00:07<00:00, 51.41it/s, accuracy=82.5, loss=0.51]\n",
      "Testing: 100%|█████████████████████████| 79/79 [00:01<00:00, 74.98it/s, accuracy=75.7, loss=0.00574]\n",
      "Epoch 6: 100%|█████████████████████████| 391/391 [00:08<00:00, 48.48it/s, accuracy=83.2, loss=0.492]\n",
      "Testing: 100%|█████████████████████████| 79/79 [00:01<00:00, 70.22it/s, accuracy=75.1, loss=0.00591]\n",
      "Epoch 7: 100%|█████████████████████████| 391/391 [00:07<00:00, 49.20it/s, accuracy=83.4, loss=0.484]\n",
      "Testing: 100%|█████████████████████████| 79/79 [00:01<00:00, 68.88it/s, accuracy=69.5, loss=0.00749]\n",
      "Epoch 8: 100%|█████████████████████████| 391/391 [00:08<00:00, 45.69it/s, accuracy=83.8, loss=0.473]\n",
      "Testing: 100%|█████████████████████████| 79/79 [00:01<00:00, 66.95it/s, accuracy=79.1, loss=0.00486]\n"
     ]
    },
    {
     "name": "stdout",
     "output_type": "stream",
     "text": [
      "Saved best model at epoch 8 with accuracy: 79.14%\n"
     ]
    },
    {
     "name": "stderr",
     "output_type": "stream",
     "text": [
      "Epoch 9: 100%|█████████████████████████| 391/391 [00:08<00:00, 46.81it/s, accuracy=83.8, loss=0.468]\n",
      "Testing: 100%|█████████████████████████| 79/79 [00:01<00:00, 73.88it/s, accuracy=78.8, loss=0.00496]\n",
      "Epoch 10: 100%|████████████████████████| 391/391 [00:08<00:00, 47.65it/s, accuracy=84.2, loss=0.461]\n",
      "Testing: 100%|███████████████████████████| 79/79 [00:00<00:00, 79.26it/s, accuracy=80, loss=0.00486]\n"
     ]
    },
    {
     "name": "stdout",
     "output_type": "stream",
     "text": [
      "Saved best model at epoch 10 with accuracy: 79.99%\n"
     ]
    },
    {
     "name": "stderr",
     "output_type": "stream",
     "text": [
      "Epoch 11: 100%|████████████████████████| 391/391 [00:07<00:00, 51.91it/s, accuracy=84.1, loss=0.457]\n",
      "Testing: 100%|██████████████████████████| 79/79 [00:01<00:00, 64.80it/s, accuracy=75.5, loss=0.0064]\n",
      "Epoch 12: 100%|████████████████████████| 391/391 [00:08<00:00, 46.20it/s, accuracy=84.5, loss=0.453]\n",
      "Testing: 100%|█████████████████████████| 79/79 [00:00<00:00, 79.20it/s, accuracy=78.5, loss=0.00502]\n",
      "Epoch 13: 100%|████████████████████████| 391/391 [00:08<00:00, 48.14it/s, accuracy=84.4, loss=0.452]\n",
      "Testing: 100%|█████████████████████████| 79/79 [00:01<00:00, 74.03it/s, accuracy=74.8, loss=0.00667]\n",
      "Epoch 14: 100%|████████████████████████| 391/391 [00:08<00:00, 47.86it/s, accuracy=84.6, loss=0.451]\n",
      "Testing: 100%|█████████████████████████| 79/79 [00:01<00:00, 67.33it/s, accuracy=78.1, loss=0.00531]\n",
      "Epoch 15: 100%|████████████████████████| 391/391 [00:07<00:00, 49.17it/s, accuracy=84.7, loss=0.445]\n",
      "Testing: 100%|█████████████████████████| 79/79 [00:01<00:00, 66.07it/s, accuracy=80.8, loss=0.00446]\n"
     ]
    },
    {
     "name": "stdout",
     "output_type": "stream",
     "text": [
      "Saved best model at epoch 15 with accuracy: 80.80%\n"
     ]
    },
    {
     "name": "stderr",
     "output_type": "stream",
     "text": [
      "Epoch 16: 100%|████████████████████████| 391/391 [00:08<00:00, 48.20it/s, accuracy=84.7, loss=0.446]\n",
      "Testing: 100%|█████████████████████████| 79/79 [00:01<00:00, 72.99it/s, accuracy=79.6, loss=0.00517]\n",
      "Epoch 17: 100%|██████████████████████████| 391/391 [00:08<00:00, 46.75it/s, accuracy=85, loss=0.443]\n",
      "Testing: 100%|█████████████████████████| 79/79 [00:01<00:00, 71.22it/s, accuracy=80.6, loss=0.00459]\n",
      "Epoch 18: 100%|████████████████████████| 391/391 [00:07<00:00, 49.45it/s, accuracy=84.7, loss=0.443]\n",
      "Testing: 100%|█████████████████████████| 79/79 [00:01<00:00, 74.23it/s, accuracy=79.9, loss=0.00489]\n",
      "Epoch 19: 100%|████████████████████████| 391/391 [00:07<00:00, 49.24it/s, accuracy=85.1, loss=0.435]\n",
      "Testing: 100%|█████████████████████████| 79/79 [00:01<00:00, 69.63it/s, accuracy=76.8, loss=0.00555]\n",
      "Epoch 20: 100%|████████████████████████| 391/391 [00:07<00:00, 52.03it/s, accuracy=84.6, loss=0.448]\n",
      "Testing: 100%|█████████████████████████| 79/79 [00:01<00:00, 71.91it/s, accuracy=75.5, loss=0.00608]\n",
      "Epoch 21: 100%|████████████████████████| 391/391 [00:08<00:00, 48.17it/s, accuracy=85.1, loss=0.435]\n",
      "Testing: 100%|██████████████████████████| 79/79 [00:01<00:00, 71.79it/s, accuracy=80.7, loss=0.0047]\n",
      "Epoch 22: 100%|██████████████████████████| 391/391 [00:08<00:00, 48.70it/s, accuracy=85, loss=0.437]\n",
      "Testing: 100%|█████████████████████████| 79/79 [00:01<00:00, 71.37it/s, accuracy=75.5, loss=0.00612]\n",
      "Epoch 23: 100%|████████████████████████| 391/391 [00:07<00:00, 51.02it/s, accuracy=85.3, loss=0.431]\n",
      "Testing: 100%|█████████████████████████| 79/79 [00:01<00:00, 73.14it/s, accuracy=80.5, loss=0.00455]\n",
      "Epoch 24: 100%|████████████████████████| 391/391 [00:08<00:00, 44.04it/s, accuracy=84.9, loss=0.443]\n",
      "Testing: 100%|█████████████████████████| 79/79 [00:01<00:00, 71.57it/s, accuracy=76.6, loss=0.00572]\n",
      "Epoch 25: 100%|████████████████████████| 391/391 [00:08<00:00, 46.47it/s, accuracy=85.2, loss=0.433]\n",
      "Testing: 100%|█████████████████████████| 79/79 [00:01<00:00, 70.71it/s, accuracy=78.3, loss=0.00525]\n",
      "Epoch 26: 100%|█████████████████████████| 391/391 [00:08<00:00, 48.22it/s, accuracy=84.9, loss=0.44]\n",
      "Testing: 100%|███████████████████████████| 79/79 [00:01<00:00, 74.35it/s, accuracy=77, loss=0.00542]\n",
      "Epoch 27: 100%|████████████████████████| 391/391 [00:07<00:00, 49.79it/s, accuracy=85.2, loss=0.431]\n",
      "Testing: 100%|█████████████████████████| 79/79 [00:01<00:00, 77.77it/s, accuracy=76.9, loss=0.00545]\n",
      "Epoch 28: 100%|████████████████████████| 391/391 [00:07<00:00, 50.77it/s, accuracy=85.4, loss=0.429]\n",
      "Testing: 100%|█████████████████████████| 79/79 [00:01<00:00, 71.38it/s, accuracy=75.6, loss=0.00602]\n",
      "Epoch 29: 100%|████████████████████████| 391/391 [00:07<00:00, 51.65it/s, accuracy=85.3, loss=0.431]\n",
      "Testing: 100%|█████████████████████████| 79/79 [00:01<00:00, 74.83it/s, accuracy=78.3, loss=0.00557]\n",
      "Epoch 30: 100%|████████████████████████| 391/391 [00:08<00:00, 48.42it/s, accuracy=85.1, loss=0.429]\n",
      "Testing: 100%|█████████████████████████| 79/79 [00:01<00:00, 77.56it/s, accuracy=83.8, loss=0.00395]\n"
     ]
    },
    {
     "name": "stdout",
     "output_type": "stream",
     "text": [
      "Saved best model at epoch 30 with accuracy: 83.80%\n"
     ]
    },
    {
     "name": "stderr",
     "output_type": "stream",
     "text": [
      "Epoch 31: 100%|████████████████████████| 391/391 [00:08<00:00, 48.01it/s, accuracy=85.2, loss=0.428]\n",
      "Testing: 100%|███████████████████████████| 79/79 [00:00<00:00, 85.77it/s, accuracy=78, loss=0.00533]\n",
      "Epoch 32: 100%|█████████████████████████| 391/391 [00:07<00:00, 52.00it/s, accuracy=85.2, loss=0.43]\n",
      "Testing: 100%|█████████████████████████| 79/79 [00:01<00:00, 77.06it/s, accuracy=75.9, loss=0.00609]\n",
      "Epoch 33: 100%|████████████████████████| 391/391 [00:08<00:00, 48.10it/s, accuracy=85.3, loss=0.425]\n",
      "Testing: 100%|█████████████████████████| 79/79 [00:01<00:00, 76.53it/s, accuracy=70.7, loss=0.00755]\n",
      "Epoch 34: 100%|████████████████████████| 391/391 [00:08<00:00, 44.54it/s, accuracy=85.6, loss=0.421]\n",
      "Testing: 100%|█████████████████████████| 79/79 [00:01<00:00, 72.64it/s, accuracy=74.7, loss=0.00653]\n",
      "Epoch 35: 100%|█████████████████████████| 391/391 [00:08<00:00, 45.20it/s, accuracy=85.3, loss=0.43]\n",
      "Testing: 100%|█████████████████████████| 79/79 [00:01<00:00, 75.49it/s, accuracy=70.5, loss=0.00817]\n",
      "Epoch 36: 100%|████████████████████████| 391/391 [00:08<00:00, 48.28it/s, accuracy=85.3, loss=0.428]\n",
      "Testing: 100%|█████████████████████████| 79/79 [00:01<00:00, 75.00it/s, accuracy=83.1, loss=0.00386]\n",
      "Epoch 37: 100%|█████████████████████████| 391/391 [00:08<00:00, 45.29it/s, accuracy=85.5, loss=0.43]\n",
      "Testing: 100%|█████████████████████████| 79/79 [00:01<00:00, 62.23it/s, accuracy=79.2, loss=0.00507]\n",
      "Epoch 38: 100%|████████████████████████| 391/391 [00:08<00:00, 44.86it/s, accuracy=85.4, loss=0.427]\n",
      "Testing: 100%|███████████████████████████| 79/79 [00:01<00:00, 77.77it/s, accuracy=80, loss=0.00474]\n",
      "Epoch 39: 100%|████████████████████████| 391/391 [00:08<00:00, 48.85it/s, accuracy=85.5, loss=0.427]\n",
      "Testing: 100%|█████████████████████████| 79/79 [00:00<00:00, 83.89it/s, accuracy=79.5, loss=0.00477]\n",
      "Epoch 40: 100%|████████████████████████| 391/391 [00:07<00:00, 49.01it/s, accuracy=85.1, loss=0.432]\n",
      "Testing: 100%|███████████████████████████| 79/79 [00:00<00:00, 82.93it/s, accuracy=79, loss=0.00515]\n",
      "Epoch 41: 100%|████████████████████████| 391/391 [00:08<00:00, 46.43it/s, accuracy=85.4, loss=0.427]\n",
      "Testing: 100%|█████████████████████████| 79/79 [00:01<00:00, 77.39it/s, accuracy=77.8, loss=0.00555]\n",
      "Epoch 42: 100%|████████████████████████| 391/391 [00:08<00:00, 44.54it/s, accuracy=85.5, loss=0.424]\n",
      "Testing: 100%|███████████████████████████| 79/79 [00:01<00:00, 74.41it/s, accuracy=78, loss=0.00511]\n",
      "Epoch 43: 100%|████████████████████████| 391/391 [00:07<00:00, 50.81it/s, accuracy=85.5, loss=0.422]\n",
      "Testing: 100%|██████████████████████████| 79/79 [00:01<00:00, 73.62it/s, accuracy=76.6, loss=0.0057]\n",
      "Epoch 44: 100%|████████████████████████| 391/391 [00:08<00:00, 46.68it/s, accuracy=85.6, loss=0.425]\n",
      "Testing: 100%|██████████████████████████| 79/79 [00:00<00:00, 87.68it/s, accuracy=81.3, loss=0.0045]\n",
      "Epoch 45: 100%|████████████████████████| 391/391 [00:07<00:00, 49.67it/s, accuracy=85.3, loss=0.429]\n",
      "Testing: 100%|█████████████████████████| 79/79 [00:00<00:00, 85.90it/s, accuracy=75.4, loss=0.00643]\n",
      "Epoch 46: 100%|████████████████████████| 391/391 [00:07<00:00, 49.47it/s, accuracy=85.5, loss=0.422]\n",
      "Testing: 100%|█████████████████████████| 79/79 [00:01<00:00, 77.00it/s, accuracy=75.7, loss=0.00594]\n",
      "Epoch 47: 100%|████████████████████████| 391/391 [00:07<00:00, 50.76it/s, accuracy=85.5, loss=0.428]\n",
      "Testing: 100%|█████████████████████████| 79/79 [00:01<00:00, 76.84it/s, accuracy=80.5, loss=0.00452]\n",
      "Epoch 48: 100%|████████████████████████| 391/391 [00:08<00:00, 47.15it/s, accuracy=85.2, loss=0.426]\n",
      "Testing: 100%|█████████████████████████| 79/79 [00:01<00:00, 70.19it/s, accuracy=81.3, loss=0.00442]\n",
      "Epoch 49: 100%|████████████████████████| 391/391 [00:08<00:00, 45.55it/s, accuracy=85.5, loss=0.422]\n",
      "Testing: 100%|█████████████████████████| 79/79 [00:01<00:00, 76.37it/s, accuracy=75.8, loss=0.00598]\n",
      "Epoch 50: 100%|████████████████████████| 391/391 [00:08<00:00, 43.83it/s, accuracy=85.5, loss=0.423]\n",
      "Testing: 100%|█████████████████████████| 79/79 [00:00<00:00, 88.81it/s, accuracy=68.9, loss=0.00845]\n",
      "Epoch 51: 100%|████████████████████████| 391/391 [00:07<00:00, 50.29it/s, accuracy=85.4, loss=0.424]\n",
      "Testing: 100%|██████████████████████████| 79/79 [00:00<00:00, 85.30it/s, accuracy=77.8, loss=0.0058]\n",
      "Epoch 52: 100%|████████████████████████| 391/391 [00:07<00:00, 51.31it/s, accuracy=85.2, loss=0.425]\n",
      "Testing: 100%|█████████████████████████| 79/79 [00:00<00:00, 85.21it/s, accuracy=77.8, loss=0.00534]\n",
      "Epoch 53: 100%|████████████████████████| 391/391 [00:08<00:00, 46.44it/s, accuracy=85.7, loss=0.418]\n",
      "Testing: 100%|█████████████████████████| 79/79 [00:01<00:00, 73.91it/s, accuracy=81.3, loss=0.00446]\n",
      "Epoch 54: 100%|████████████████████████| 391/391 [00:08<00:00, 46.00it/s, accuracy=85.7, loss=0.419]\n",
      "Testing: 100%|█████████████████████████| 79/79 [00:00<00:00, 82.27it/s, accuracy=81.2, loss=0.00449]\n",
      "Epoch 55: 100%|█████████████████████████| 391/391 [00:08<00:00, 45.89it/s, accuracy=85.5, loss=0.42]\n",
      "Testing: 100%|█████████████████████████| 79/79 [00:00<00:00, 86.98it/s, accuracy=79.8, loss=0.00508]\n",
      "Epoch 56: 100%|████████████████████████| 391/391 [00:07<00:00, 50.92it/s, accuracy=85.4, loss=0.423]\n",
      "Testing: 100%|█████████████████████████| 79/79 [00:01<00:00, 70.71it/s, accuracy=81.5, loss=0.00435]\n",
      "Epoch 57: 100%|█████████████████████████| 391/391 [00:07<00:00, 49.05it/s, accuracy=85.6, loss=0.42]\n",
      "Testing: 100%|█████████████████████████| 79/79 [00:00<00:00, 83.18it/s, accuracy=80.4, loss=0.00438]\n",
      "Epoch 58: 100%|████████████████████████| 391/391 [00:08<00:00, 47.69it/s, accuracy=85.7, loss=0.417]\n",
      "Testing: 100%|█████████████████████████| 79/79 [00:01<00:00, 75.43it/s, accuracy=81.5, loss=0.00445]\n",
      "Epoch 59: 100%|████████████████████████| 391/391 [00:07<00:00, 51.58it/s, accuracy=85.6, loss=0.422]\n",
      "Testing: 100%|█████████████████████████| 79/79 [00:01<00:00, 75.42it/s, accuracy=79.5, loss=0.00521]\n",
      "Epoch 60: 100%|████████████████████████| 391/391 [00:07<00:00, 52.86it/s, accuracy=85.7, loss=0.418]\n",
      "Testing: 100%|█████████████████████████| 79/79 [00:01<00:00, 77.29it/s, accuracy=68.7, loss=0.00981]\n",
      "Epoch 61: 100%|████████████████████████| 391/391 [00:07<00:00, 51.55it/s, accuracy=85.6, loss=0.422]\n",
      "Testing: 100%|█████████████████████████| 79/79 [00:00<00:00, 87.23it/s, accuracy=80.3, loss=0.00461]\n",
      "Epoch 62: 100%|█████████████████████████| 391/391 [00:07<00:00, 55.68it/s, accuracy=85.6, loss=0.42]\n",
      "Testing: 100%|█████████████████████████| 79/79 [00:00<00:00, 84.04it/s, accuracy=74.3, loss=0.00648]\n",
      "Epoch 63: 100%|████████████████████████| 391/391 [00:07<00:00, 54.86it/s, accuracy=85.5, loss=0.425]\n",
      "Testing: 100%|█████████████████████████| 79/79 [00:00<00:00, 89.40it/s, accuracy=79.3, loss=0.00504]\n",
      "Epoch 64: 100%|████████████████████████| 391/391 [00:07<00:00, 53.11it/s, accuracy=85.4, loss=0.425]\n",
      "Testing: 100%|█████████████████████████| 79/79 [00:00<00:00, 91.29it/s, accuracy=77.8, loss=0.00519]\n",
      "Epoch 65: 100%|████████████████████████| 391/391 [00:07<00:00, 55.50it/s, accuracy=85.6, loss=0.418]\n",
      "Testing: 100%|█████████████████████████| 79/79 [00:00<00:00, 92.38it/s, accuracy=79.7, loss=0.00484]\n",
      "Epoch 66: 100%|████████████████████████| 391/391 [00:06<00:00, 56.25it/s, accuracy=85.1, loss=0.429]\n",
      "Testing: 100%|██████████████████████████| 79/79 [00:00<00:00, 83.12it/s, accuracy=71.7, loss=0.0076]\n",
      "Epoch 67: 100%|████████████████████████| 391/391 [00:07<00:00, 51.58it/s, accuracy=85.5, loss=0.422]\n",
      "Testing: 100%|█████████████████████████| 79/79 [00:00<00:00, 83.01it/s, accuracy=80.5, loss=0.00475]\n",
      "Epoch 68: 100%|████████████████████████| 391/391 [00:07<00:00, 53.61it/s, accuracy=85.7, loss=0.419]\n",
      "Testing: 100%|█████████████████████████| 79/79 [00:00<00:00, 84.40it/s, accuracy=77.4, loss=0.00556]\n",
      "Epoch 69: 100%|████████████████████████| 391/391 [00:06<00:00, 56.98it/s, accuracy=85.8, loss=0.413]\n",
      "Testing: 100%|█████████████████████████| 79/79 [00:01<00:00, 72.59it/s, accuracy=79.6, loss=0.00502]\n",
      "Epoch 70: 100%|████████████████████████| 391/391 [00:06<00:00, 60.68it/s, accuracy=85.6, loss=0.422]\n",
      "Testing: 100%|█████████████████████████| 79/79 [00:00<00:00, 80.87it/s, accuracy=74.5, loss=0.00655]\n",
      "Epoch 71: 100%|████████████████████████| 391/391 [00:07<00:00, 52.72it/s, accuracy=85.3, loss=0.425]\n",
      "Testing: 100%|█████████████████████████| 79/79 [00:00<00:00, 82.94it/s, accuracy=74.5, loss=0.00648]\n",
      "Epoch 72: 100%|█████████████████████████| 391/391 [00:06<00:00, 57.37it/s, accuracy=85.5, loss=0.42]\n",
      "Testing: 100%|█████████████████████████| 79/79 [00:00<00:00, 82.21it/s, accuracy=78.7, loss=0.00509]\n",
      "Epoch 73: 100%|████████████████████████| 391/391 [00:07<00:00, 51.98it/s, accuracy=85.6, loss=0.419]\n",
      "Testing: 100%|█████████████████████████| 79/79 [00:00<00:00, 94.08it/s, accuracy=78.3, loss=0.00537]\n",
      "Epoch 74: 100%|████████████████████████| 391/391 [00:07<00:00, 55.12it/s, accuracy=85.6, loss=0.419]\n",
      "Testing: 100%|█████████████████████████| 79/79 [00:00<00:00, 90.02it/s, accuracy=80.5, loss=0.00448]\n",
      "Epoch 75: 100%|████████████████████████| 391/391 [00:06<00:00, 57.14it/s, accuracy=85.5, loss=0.422]\n",
      "Testing: 100%|█████████████████████████| 79/79 [00:00<00:00, 87.24it/s, accuracy=81.3, loss=0.00435]\n",
      "Epoch 76: 100%|████████████████████████| 391/391 [00:07<00:00, 51.50it/s, accuracy=85.5, loss=0.422]\n",
      "Testing: 100%|█████████████████████████| 79/79 [00:00<00:00, 88.44it/s, accuracy=78.7, loss=0.00516]\n",
      "Epoch 77: 100%|████████████████████████| 391/391 [00:07<00:00, 54.52it/s, accuracy=85.5, loss=0.422]\n",
      "Testing: 100%|█████████████████████████| 79/79 [00:00<00:00, 87.14it/s, accuracy=78.8, loss=0.00532]\n",
      "Epoch 78: 100%|████████████████████████| 391/391 [00:07<00:00, 51.46it/s, accuracy=85.8, loss=0.416]\n",
      "Testing: 100%|██████████████████████████| 79/79 [00:00<00:00, 79.81it/s, accuracy=79.8, loss=0.0051]\n",
      "Epoch 79: 100%|████████████████████████| 391/391 [00:07<00:00, 55.50it/s, accuracy=85.9, loss=0.418]\n",
      "Testing: 100%|██████████████████████████| 79/79 [00:00<00:00, 87.13it/s, accuracy=80.3, loss=0.0045]\n",
      "Epoch 80: 100%|████████████████████████| 391/391 [00:07<00:00, 52.37it/s, accuracy=85.8, loss=0.417]\n",
      "Testing: 100%|███████████████████████████| 79/79 [00:01<00:00, 77.23it/s, accuracy=81, loss=0.00466]\n",
      "Epoch 81: 100%|████████████████████████| 391/391 [00:08<00:00, 46.39it/s, accuracy=85.7, loss=0.416]\n",
      "Testing: 100%|██████████████████████████| 79/79 [00:01<00:00, 73.98it/s, accuracy=77.8, loss=0.0053]\n",
      "Epoch 82: 100%|████████████████████████| 391/391 [00:07<00:00, 50.98it/s, accuracy=85.7, loss=0.414]\n",
      "Testing: 100%|█████████████████████████| 79/79 [00:01<00:00, 71.18it/s, accuracy=76.2, loss=0.00545]\n",
      "Epoch 83: 100%|████████████████████████| 391/391 [00:07<00:00, 49.71it/s, accuracy=85.6, loss=0.419]\n",
      "Testing: 100%|███████████████████████████| 79/79 [00:01<00:00, 70.81it/s, accuracy=78, loss=0.00552]\n",
      "Epoch 84: 100%|████████████████████████| 391/391 [00:08<00:00, 47.67it/s, accuracy=85.7, loss=0.417]\n",
      "Testing: 100%|█████████████████████████| 79/79 [00:01<00:00, 65.10it/s, accuracy=75.9, loss=0.00614]\n",
      "Epoch 85: 100%|█████████████████████████| 391/391 [00:08<00:00, 48.07it/s, accuracy=85.6, loss=0.42]\n",
      "Testing: 100%|█████████████████████████| 79/79 [00:01<00:00, 70.39it/s, accuracy=76.3, loss=0.00619]\n",
      "Epoch 86: 100%|█████████████████████████| 391/391 [00:08<00:00, 47.60it/s, accuracy=85.7, loss=0.42]\n",
      "Testing: 100%|██████████████████████████| 79/79 [00:01<00:00, 71.66it/s, accuracy=81.7, loss=0.0045]\n",
      "Epoch 87: 100%|████████████████████████| 391/391 [00:07<00:00, 49.04it/s, accuracy=85.8, loss=0.415]\n",
      "Testing: 100%|█████████████████████████| 79/79 [00:01<00:00, 76.17it/s, accuracy=73.5, loss=0.00703]\n",
      "Epoch 88: 100%|████████████████████████| 391/391 [00:08<00:00, 47.25it/s, accuracy=85.8, loss=0.414]\n",
      "Testing: 100%|███████████████████████████| 79/79 [00:01<00:00, 72.88it/s, accuracy=81, loss=0.00437]\n",
      "Epoch 89: 100%|████████████████████████| 391/391 [00:08<00:00, 48.21it/s, accuracy=85.8, loss=0.413]\n",
      "Testing: 100%|█████████████████████████| 79/79 [00:01<00:00, 74.71it/s, accuracy=80.6, loss=0.00455]\n",
      "Epoch 90: 100%|████████████████████████| 391/391 [00:08<00:00, 46.60it/s, accuracy=85.6, loss=0.422]\n",
      "Testing: 100%|█████████████████████████| 79/79 [00:01<00:00, 74.51it/s, accuracy=74.1, loss=0.00682]\n",
      "Epoch 91: 100%|█████████████████████████| 391/391 [00:08<00:00, 44.49it/s, accuracy=85.7, loss=0.42]\n",
      "Testing: 100%|█████████████████████████| 79/79 [00:01<00:00, 71.95it/s, accuracy=79.4, loss=0.00498]\n",
      "Epoch 92: 100%|████████████████████████| 391/391 [00:08<00:00, 45.01it/s, accuracy=85.6, loss=0.418]\n",
      "Testing: 100%|██████████████████████████| 79/79 [00:01<00:00, 70.69it/s, accuracy=78.9, loss=0.0051]\n",
      "Epoch 93: 100%|█████████████████████████| 391/391 [00:08<00:00, 44.81it/s, accuracy=85.6, loss=0.42]\n",
      "Testing: 100%|█████████████████████████| 79/79 [00:01<00:00, 74.91it/s, accuracy=80.9, loss=0.00446]\n",
      "Epoch 94: 100%|████████████████████████| 391/391 [00:07<00:00, 50.78it/s, accuracy=85.7, loss=0.414]\n",
      "Testing: 100%|█████████████████████████| 79/79 [00:01<00:00, 71.13it/s, accuracy=74.7, loss=0.00599]\n",
      "Epoch 95: 100%|████████████████████████| 391/391 [00:08<00:00, 46.24it/s, accuracy=85.5, loss=0.422]\n",
      "Testing: 100%|█████████████████████████| 79/79 [00:01<00:00, 67.04it/s, accuracy=73.3, loss=0.00697]\n",
      "Epoch 96: 100%|█████████████████████████| 391/391 [00:08<00:00, 47.01it/s, accuracy=85.8, loss=0.41]\n",
      "Testing: 100%|█████████████████████████| 79/79 [00:01<00:00, 73.33it/s, accuracy=76.3, loss=0.00634]\n",
      "Epoch 97: 100%|████████████████████████| 391/391 [00:07<00:00, 49.57it/s, accuracy=85.7, loss=0.413]\n",
      "Testing: 100%|█████████████████████████| 79/79 [00:01<00:00, 78.45it/s, accuracy=80.5, loss=0.00474]\n",
      "Epoch 98: 100%|████████████████████████| 391/391 [00:08<00:00, 46.44it/s, accuracy=85.6, loss=0.418]\n",
      "Testing: 100%|█████████████████████████| 79/79 [00:01<00:00, 73.66it/s, accuracy=82.5, loss=0.00409]\n",
      "Epoch 99: 100%|████████████████████████| 391/391 [00:08<00:00, 46.17it/s, accuracy=85.8, loss=0.414]\n",
      "Testing: 100%|█████████████████████████| 79/79 [00:01<00:00, 72.62it/s, accuracy=78.3, loss=0.00529]\n",
      "Epoch 100: 100%|███████████████████████| 391/391 [00:08<00:00, 47.54it/s, accuracy=85.6, loss=0.418]\n",
      "Testing: 100%|█████████████████████████| 79/79 [00:01<00:00, 76.07it/s, accuracy=76.1, loss=0.00606]\n"
     ]
    },
    {
     "name": "stdout",
     "output_type": "stream",
     "text": [
      "Current learning rate has decayed to 0.010000\n"
     ]
    },
    {
     "name": "stderr",
     "output_type": "stream",
     "text": [
      "Epoch 101: 100%|███████████████████████| 391/391 [00:09<00:00, 43.39it/s, accuracy=91.2, loss=0.264]\n",
      "Testing: 100%|█████████████████████████| 79/79 [00:01<00:00, 74.85it/s, accuracy=90.2, loss=0.00228]\n"
     ]
    },
    {
     "name": "stdout",
     "output_type": "stream",
     "text": [
      "Saved best model at epoch 101 with accuracy: 90.15%\n"
     ]
    },
    {
     "name": "stderr",
     "output_type": "stream",
     "text": [
      "Epoch 102: 100%|████████████████████████| 391/391 [00:07<00:00, 50.93it/s, accuracy=92.6, loss=0.22]\n",
      "Testing: 100%|█████████████████████████| 79/79 [00:01<00:00, 74.50it/s, accuracy=90.3, loss=0.00222]\n"
     ]
    },
    {
     "name": "stdout",
     "output_type": "stream",
     "text": [
      "Saved best model at epoch 102 with accuracy: 90.33%\n"
     ]
    },
    {
     "name": "stderr",
     "output_type": "stream",
     "text": [
      "Epoch 103: 100%|███████████████████████| 391/391 [00:08<00:00, 47.59it/s, accuracy=93.1, loss=0.205]\n",
      "Testing: 100%|█████████████████████████| 79/79 [00:01<00:00, 74.23it/s, accuracy=90.8, loss=0.00218]\n"
     ]
    },
    {
     "name": "stdout",
     "output_type": "stream",
     "text": [
      "Saved best model at epoch 103 with accuracy: 90.79%\n"
     ]
    },
    {
     "name": "stderr",
     "output_type": "stream",
     "text": [
      "Epoch 104: 100%|███████████████████████| 391/391 [00:08<00:00, 47.35it/s, accuracy=93.3, loss=0.195]\n",
      "Testing: 100%|█████████████████████████| 79/79 [00:01<00:00, 74.73it/s, accuracy=90.8, loss=0.00216]\n"
     ]
    },
    {
     "name": "stdout",
     "output_type": "stream",
     "text": [
      "Saved best model at epoch 104 with accuracy: 90.85%\n"
     ]
    },
    {
     "name": "stderr",
     "output_type": "stream",
     "text": [
      "Epoch 105: 100%|███████████████████████| 391/391 [00:08<00:00, 47.99it/s, accuracy=93.8, loss=0.184]\n",
      "Testing: 100%|█████████████████████████| 79/79 [00:01<00:00, 73.86it/s, accuracy=90.8, loss=0.00219]\n",
      "Epoch 106: 100%|█████████████████████████| 391/391 [00:07<00:00, 50.23it/s, accuracy=94, loss=0.175]\n",
      "Testing: 100%|██████████████████████████| 79/79 [00:01<00:00, 72.56it/s, accuracy=90.7, loss=0.0022]\n",
      "Epoch 107: 100%|████████████████████████| 391/391 [00:07<00:00, 49.76it/s, accuracy=94.2, loss=0.17]\n",
      "Testing: 100%|███████████████████████████| 79/79 [00:01<00:00, 75.09it/s, accuracy=91, loss=0.00216]\n"
     ]
    },
    {
     "name": "stdout",
     "output_type": "stream",
     "text": [
      "Saved best model at epoch 107 with accuracy: 90.95%\n"
     ]
    },
    {
     "name": "stderr",
     "output_type": "stream",
     "text": [
      "Epoch 108: 100%|███████████████████████| 391/391 [00:08<00:00, 46.75it/s, accuracy=94.4, loss=0.166]\n",
      "Testing: 100%|█████████████████████████| 79/79 [00:01<00:00, 67.97it/s, accuracy=90.7, loss=0.00219]\n",
      "Epoch 109: 100%|███████████████████████| 391/391 [00:07<00:00, 49.17it/s, accuracy=94.4, loss=0.161]\n",
      "Testing: 100%|███████████████████████████| 79/79 [00:01<00:00, 69.41it/s, accuracy=91, loss=0.00219]\n"
     ]
    },
    {
     "name": "stdout",
     "output_type": "stream",
     "text": [
      "Saved best model at epoch 109 with accuracy: 91.03%\n"
     ]
    },
    {
     "name": "stderr",
     "output_type": "stream",
     "text": [
      "Epoch 110: 100%|███████████████████████| 391/391 [00:08<00:00, 46.88it/s, accuracy=94.6, loss=0.157]\n",
      "Testing: 100%|███████████████████████████| 79/79 [00:01<00:00, 72.59it/s, accuracy=91, loss=0.00215]\n",
      "Epoch 111: 100%|███████████████████████| 391/391 [00:07<00:00, 49.55it/s, accuracy=94.9, loss=0.153]\n",
      "Testing: 100%|█████████████████████████| 79/79 [00:01<00:00, 71.32it/s, accuracy=90.8, loss=0.00219]\n",
      "Epoch 112: 100%|███████████████████████| 391/391 [00:08<00:00, 47.86it/s, accuracy=94.9, loss=0.149]\n",
      "Testing: 100%|█████████████████████████| 79/79 [00:01<00:00, 75.07it/s, accuracy=91.1, loss=0.00217]\n"
     ]
    },
    {
     "name": "stdout",
     "output_type": "stream",
     "text": [
      "Saved best model at epoch 112 with accuracy: 91.07%\n"
     ]
    },
    {
     "name": "stderr",
     "output_type": "stream",
     "text": [
      "Epoch 113: 100%|███████████████████████| 391/391 [00:07<00:00, 51.88it/s, accuracy=94.9, loss=0.147]\n",
      "Testing: 100%|█████████████████████████| 79/79 [00:01<00:00, 72.45it/s, accuracy=91.3, loss=0.00218]\n"
     ]
    },
    {
     "name": "stdout",
     "output_type": "stream",
     "text": [
      "Saved best model at epoch 113 with accuracy: 91.27%\n"
     ]
    },
    {
     "name": "stderr",
     "output_type": "stream",
     "text": [
      "Epoch 114: 100%|███████████████████████| 391/391 [00:08<00:00, 48.17it/s, accuracy=95.1, loss=0.143]\n",
      "Testing: 100%|█████████████████████████| 79/79 [00:01<00:00, 65.35it/s, accuracy=91.1, loss=0.00222]\n",
      "Epoch 115: 100%|█████████████████████████| 391/391 [00:08<00:00, 46.29it/s, accuracy=95, loss=0.143]\n",
      "Testing: 100%|█████████████████████████| 79/79 [00:01<00:00, 71.54it/s, accuracy=90.6, loss=0.00226]\n",
      "Epoch 116: 100%|███████████████████████| 391/391 [00:07<00:00, 50.49it/s, accuracy=95.3, loss=0.137]\n",
      "Testing: 100%|█████████████████████████| 79/79 [00:01<00:00, 71.23it/s, accuracy=90.7, loss=0.00221]\n",
      "Epoch 117: 100%|███████████████████████| 391/391 [00:07<00:00, 50.19it/s, accuracy=95.1, loss=0.141]\n",
      "Testing: 100%|█████████████████████████| 79/79 [00:01<00:00, 74.92it/s, accuracy=90.7, loss=0.00239]\n",
      "Epoch 118: 100%|███████████████████████| 391/391 [00:08<00:00, 46.51it/s, accuracy=95.2, loss=0.139]\n",
      "Testing: 100%|█████████████████████████| 79/79 [00:01<00:00, 66.77it/s, accuracy=90.8, loss=0.00224]\n",
      "Epoch 119: 100%|███████████████████████| 391/391 [00:07<00:00, 49.41it/s, accuracy=95.3, loss=0.135]\n",
      "Testing: 100%|█████████████████████████| 79/79 [00:01<00:00, 76.94it/s, accuracy=90.5, loss=0.00237]\n",
      "Epoch 120: 100%|███████████████████████| 391/391 [00:08<00:00, 47.29it/s, accuracy=95.2, loss=0.139]\n",
      "Testing: 100%|█████████████████████████| 79/79 [00:01<00:00, 66.91it/s, accuracy=90.8, loss=0.00229]\n",
      "Epoch 121: 100%|███████████████████████| 391/391 [00:08<00:00, 47.83it/s, accuracy=95.4, loss=0.133]\n",
      "Testing: 100%|██████████████████████████| 79/79 [00:01<00:00, 71.66it/s, accuracy=90.6, loss=0.0024]\n",
      "Epoch 122: 100%|███████████████████████| 391/391 [00:08<00:00, 48.39it/s, accuracy=95.3, loss=0.137]\n",
      "Testing: 100%|█████████████████████████| 79/79 [00:01<00:00, 74.60it/s, accuracy=90.6, loss=0.00239]\n",
      "Epoch 123: 100%|███████████████████████| 391/391 [00:07<00:00, 50.80it/s, accuracy=95.4, loss=0.133]\n",
      "Testing: 100%|█████████████████████████| 79/79 [00:01<00:00, 67.16it/s, accuracy=91.1, loss=0.00231]\n",
      "Epoch 124: 100%|███████████████████████| 391/391 [00:07<00:00, 49.42it/s, accuracy=95.4, loss=0.136]\n",
      "Testing: 100%|██████████████████████████| 79/79 [00:01<00:00, 78.07it/s, accuracy=90.4, loss=0.0024]\n",
      "Epoch 125: 100%|███████████████████████| 391/391 [00:07<00:00, 49.95it/s, accuracy=95.6, loss=0.131]\n",
      "Testing: 100%|█████████████████████████| 79/79 [00:01<00:00, 71.59it/s, accuracy=90.9, loss=0.00235]\n",
      "Epoch 126: 100%|███████████████████████| 391/391 [00:08<00:00, 47.79it/s, accuracy=95.4, loss=0.134]\n",
      "Testing: 100%|█████████████████████████| 79/79 [00:01<00:00, 73.55it/s, accuracy=90.4, loss=0.00249]\n",
      "Epoch 127: 100%|███████████████████████| 391/391 [00:07<00:00, 50.03it/s, accuracy=95.5, loss=0.131]\n",
      "Testing: 100%|█████████████████████████| 79/79 [00:01<00:00, 74.50it/s, accuracy=89.9, loss=0.00263]\n",
      "Epoch 128: 100%|███████████████████████| 391/391 [00:07<00:00, 49.17it/s, accuracy=95.3, loss=0.137]\n",
      "Testing: 100%|█████████████████████████| 79/79 [00:01<00:00, 74.53it/s, accuracy=90.5, loss=0.00249]\n",
      "Epoch 129: 100%|███████████████████████| 391/391 [00:08<00:00, 46.94it/s, accuracy=95.2, loss=0.137]\n",
      "Testing: 100%|█████████████████████████| 79/79 [00:00<00:00, 79.09it/s, accuracy=90.4, loss=0.00244]\n",
      "Epoch 130: 100%|███████████████████████| 391/391 [00:07<00:00, 49.48it/s, accuracy=95.3, loss=0.135]\n",
      "Testing: 100%|█████████████████████████| 79/79 [00:01<00:00, 77.61it/s, accuracy=89.8, loss=0.00261]\n",
      "Epoch 131: 100%|███████████████████████| 391/391 [00:08<00:00, 47.03it/s, accuracy=95.2, loss=0.138]\n",
      "Testing: 100%|███████████████████████████| 79/79 [00:01<00:00, 76.49it/s, accuracy=90, loss=0.00246]\n",
      "Epoch 132: 100%|███████████████████████| 391/391 [00:08<00:00, 46.83it/s, accuracy=95.4, loss=0.133]\n",
      "Testing: 100%|█████████████████████████| 79/79 [00:01<00:00, 70.04it/s, accuracy=90.4, loss=0.00254]\n",
      "Epoch 133: 100%|███████████████████████| 391/391 [00:08<00:00, 46.03it/s, accuracy=95.3, loss=0.134]\n",
      "Testing: 100%|█████████████████████████| 79/79 [00:01<00:00, 73.28it/s, accuracy=90.2, loss=0.00252]\n",
      "Epoch 134: 100%|█████████████████████████| 391/391 [00:08<00:00, 47.03it/s, accuracy=95, loss=0.139]\n",
      "Testing: 100%|█████████████████████████| 79/79 [00:01<00:00, 71.85it/s, accuracy=90.2, loss=0.00254]\n",
      "Epoch 135: 100%|███████████████████████| 391/391 [00:08<00:00, 47.18it/s, accuracy=95.3, loss=0.135]\n",
      "Testing: 100%|█████████████████████████| 79/79 [00:01<00:00, 74.41it/s, accuracy=90.5, loss=0.00243]\n",
      "Epoch 136: 100%|███████████████████████| 391/391 [00:08<00:00, 46.88it/s, accuracy=95.3, loss=0.133]\n",
      "Testing: 100%|█████████████████████████| 79/79 [00:01<00:00, 69.22it/s, accuracy=90.3, loss=0.00253]\n",
      "Epoch 137: 100%|███████████████████████| 391/391 [00:08<00:00, 47.13it/s, accuracy=95.3, loss=0.136]\n",
      "Testing: 100%|█████████████████████████| 79/79 [00:01<00:00, 75.84it/s, accuracy=89.8, loss=0.00255]\n",
      "Epoch 138: 100%|███████████████████████| 391/391 [00:07<00:00, 52.24it/s, accuracy=95.2, loss=0.139]\n",
      "Testing: 100%|█████████████████████████| 79/79 [00:01<00:00, 76.75it/s, accuracy=89.5, loss=0.00274]\n",
      "Epoch 139: 100%|███████████████████████| 391/391 [00:07<00:00, 51.38it/s, accuracy=95.2, loss=0.141]\n",
      "Testing: 100%|█████████████████████████| 79/79 [00:01<00:00, 74.98it/s, accuracy=90.1, loss=0.00255]\n",
      "Epoch 140: 100%|████████████████████████| 391/391 [00:07<00:00, 48.95it/s, accuracy=95.1, loss=0.14]\n",
      "Testing: 100%|█████████████████████████| 79/79 [00:01<00:00, 74.26it/s, accuracy=89.8, loss=0.00254]\n",
      "Epoch 141: 100%|███████████████████████| 391/391 [00:08<00:00, 48.06it/s, accuracy=95.1, loss=0.139]\n",
      "Testing: 100%|█████████████████████████| 79/79 [00:01<00:00, 69.17it/s, accuracy=89.2, loss=0.00287]\n",
      "Epoch 142: 100%|███████████████████████| 391/391 [00:08<00:00, 48.23it/s, accuracy=95.3, loss=0.135]\n",
      "Testing: 100%|█████████████████████████| 79/79 [00:01<00:00, 75.32it/s, accuracy=87.8, loss=0.00332]\n",
      "Epoch 143: 100%|███████████████████████| 391/391 [00:07<00:00, 49.29it/s, accuracy=95.2, loss=0.139]\n",
      "Testing: 100%|█████████████████████████| 79/79 [00:01<00:00, 76.09it/s, accuracy=89.3, loss=0.00282]\n",
      "Epoch 144: 100%|████████████████████████| 391/391 [00:08<00:00, 48.55it/s, accuracy=95.1, loss=0.14]\n",
      "Testing: 100%|███████████████████████████| 79/79 [00:01<00:00, 76.91it/s, accuracy=90, loss=0.00267]\n",
      "Epoch 145: 100%|███████████████████████| 391/391 [00:07<00:00, 48.90it/s, accuracy=95.4, loss=0.133]\n",
      "Testing: 100%|███████████████████████████| 79/79 [00:01<00:00, 75.42it/s, accuracy=90, loss=0.00257]\n",
      "Epoch 146: 100%|███████████████████████| 391/391 [00:08<00:00, 45.84it/s, accuracy=95.3, loss=0.136]\n",
      "Testing: 100%|█████████████████████████| 79/79 [00:01<00:00, 72.40it/s, accuracy=89.3, loss=0.00258]\n",
      "Epoch 147: 100%|███████████████████████| 391/391 [00:08<00:00, 44.81it/s, accuracy=95.2, loss=0.139]\n",
      "Testing: 100%|█████████████████████████| 79/79 [00:01<00:00, 73.34it/s, accuracy=89.8, loss=0.00257]\n",
      "Epoch 148: 100%|███████████████████████| 391/391 [00:07<00:00, 49.17it/s, accuracy=95.5, loss=0.134]\n",
      "Testing: 100%|█████████████████████████| 79/79 [00:00<00:00, 81.37it/s, accuracy=89.4, loss=0.00275]\n",
      "Epoch 149: 100%|███████████████████████| 391/391 [00:07<00:00, 51.70it/s, accuracy=95.2, loss=0.139]\n",
      "Testing: 100%|███████████████████████████| 79/79 [00:00<00:00, 80.49it/s, accuracy=89, loss=0.00281]\n",
      "Epoch 150: 100%|███████████████████████| 391/391 [00:08<00:00, 48.23it/s, accuracy=95.5, loss=0.134]\n",
      "Testing: 100%|██████████████████████████| 79/79 [00:01<00:00, 75.47it/s, accuracy=89.2, loss=0.0029]\n"
     ]
    },
    {
     "name": "stdout",
     "output_type": "stream",
     "text": [
      "Current learning rate has decayed to 0.001000\n"
     ]
    },
    {
     "name": "stderr",
     "output_type": "stream",
     "text": [
      "Epoch 151: 100%|██████████████████████| 391/391 [00:08<00:00, 47.97it/s, accuracy=97.1, loss=0.0904]\n",
      "Testing: 100%|█████████████████████████| 79/79 [00:01<00:00, 72.10it/s, accuracy=91.7, loss=0.00209]\n"
     ]
    },
    {
     "name": "stdout",
     "output_type": "stream",
     "text": [
      "Saved best model at epoch 151 with accuracy: 91.70%\n"
     ]
    },
    {
     "name": "stderr",
     "output_type": "stream",
     "text": [
      "Epoch 152: 100%|██████████████████████| 391/391 [00:07<00:00, 48.99it/s, accuracy=97.8, loss=0.0725]\n",
      "Testing: 100%|█████████████████████████| 79/79 [00:00<00:00, 80.52it/s, accuracy=92.1, loss=0.00204]\n"
     ]
    },
    {
     "name": "stdout",
     "output_type": "stream",
     "text": [
      "Saved best model at epoch 152 with accuracy: 92.08%\n"
     ]
    },
    {
     "name": "stderr",
     "output_type": "stream",
     "text": [
      "Epoch 153: 100%|████████████████████████| 391/391 [00:07<00:00, 49.80it/s, accuracy=98, loss=0.0682]\n",
      "Testing: 100%|█████████████████████████| 79/79 [00:01<00:00, 76.50it/s, accuracy=92.2, loss=0.00202]\n"
     ]
    },
    {
     "name": "stdout",
     "output_type": "stream",
     "text": [
      "Saved best model at epoch 153 with accuracy: 92.25%\n"
     ]
    },
    {
     "name": "stderr",
     "output_type": "stream",
     "text": [
      "Epoch 154: 100%|██████████████████████| 391/391 [00:08<00:00, 44.92it/s, accuracy=98.1, loss=0.0641]\n",
      "Testing: 100%|█████████████████████████| 79/79 [00:01<00:00, 75.70it/s, accuracy=92.3, loss=0.00201]\n"
     ]
    },
    {
     "name": "stdout",
     "output_type": "stream",
     "text": [
      "Saved best model at epoch 154 with accuracy: 92.26%\n"
     ]
    },
    {
     "name": "stderr",
     "output_type": "stream",
     "text": [
      "Epoch 155: 100%|██████████████████████| 391/391 [00:09<00:00, 43.09it/s, accuracy=98.2, loss=0.0607]\n",
      "Testing: 100%|█████████████████████████| 79/79 [00:01<00:00, 76.51it/s, accuracy=92.3, loss=0.00205]\n"
     ]
    },
    {
     "name": "stdout",
     "output_type": "stream",
     "text": [
      "Saved best model at epoch 155 with accuracy: 92.32%\n"
     ]
    },
    {
     "name": "stderr",
     "output_type": "stream",
     "text": [
      "Epoch 156: 100%|██████████████████████| 391/391 [00:08<00:00, 45.55it/s, accuracy=98.3, loss=0.0583]\n",
      "Testing: 100%|█████████████████████████| 79/79 [00:01<00:00, 76.60it/s, accuracy=92.3, loss=0.00203]\n",
      "Epoch 157: 100%|██████████████████████| 391/391 [00:08<00:00, 47.97it/s, accuracy=98.4, loss=0.0571]\n",
      "Testing: 100%|█████████████████████████| 79/79 [00:01<00:00, 77.86it/s, accuracy=92.3, loss=0.00205]\n",
      "Epoch 158: 100%|██████████████████████| 391/391 [00:08<00:00, 47.42it/s, accuracy=98.5, loss=0.0555]\n",
      "Testing: 100%|█████████████████████████| 79/79 [00:00<00:00, 79.42it/s, accuracy=92.3, loss=0.00205]\n"
     ]
    },
    {
     "name": "stdout",
     "output_type": "stream",
     "text": [
      "Saved best model at epoch 158 with accuracy: 92.34%\n"
     ]
    },
    {
     "name": "stderr",
     "output_type": "stream",
     "text": [
      "Epoch 159: 100%|██████████████████████| 391/391 [00:07<00:00, 55.22it/s, accuracy=98.5, loss=0.0542]\n",
      "Testing: 100%|█████████████████████████| 79/79 [00:00<00:00, 80.21it/s, accuracy=92.3, loss=0.00208]\n"
     ]
    },
    {
     "name": "stdout",
     "output_type": "stream",
     "text": [
      "Saved best model at epoch 159 with accuracy: 92.35%\n"
     ]
    },
    {
     "name": "stderr",
     "output_type": "stream",
     "text": [
      "Epoch 160: 100%|██████████████████████| 391/391 [00:06<00:00, 57.84it/s, accuracy=98.5, loss=0.0516]\n",
      "Testing: 100%|█████████████████████████| 79/79 [00:00<00:00, 87.96it/s, accuracy=92.2, loss=0.00208]\n",
      "Epoch 161: 100%|███████████████████████| 391/391 [00:07<00:00, 51.02it/s, accuracy=98.6, loss=0.052]\n",
      "Testing: 100%|██████████████████████████| 79/79 [00:01<00:00, 74.30it/s, accuracy=92.3, loss=0.0021]\n",
      "Epoch 162: 100%|████████████████████████| 391/391 [00:07<00:00, 52.97it/s, accuracy=98.6, loss=0.05]\n",
      "Testing: 100%|█████████████████████████| 79/79 [00:00<00:00, 82.95it/s, accuracy=92.3, loss=0.00208]\n",
      "Epoch 163: 100%|██████████████████████| 391/391 [00:07<00:00, 49.89it/s, accuracy=98.7, loss=0.0485]\n",
      "Testing: 100%|█████████████████████████| 79/79 [00:00<00:00, 83.76it/s, accuracy=92.3, loss=0.00209]\n",
      "Epoch 164: 100%|██████████████████████| 391/391 [00:07<00:00, 50.94it/s, accuracy=98.6, loss=0.0485]\n",
      "Testing: 100%|█████████████████████████| 79/79 [00:01<00:00, 72.98it/s, accuracy=92.4, loss=0.00208]\n"
     ]
    },
    {
     "name": "stdout",
     "output_type": "stream",
     "text": [
      "Saved best model at epoch 164 with accuracy: 92.41%\n"
     ]
    },
    {
     "name": "stderr",
     "output_type": "stream",
     "text": [
      "Epoch 165: 100%|██████████████████████| 391/391 [00:06<00:00, 56.64it/s, accuracy=98.7, loss=0.0475]\n",
      "Testing: 100%|█████████████████████████| 79/79 [00:00<00:00, 85.72it/s, accuracy=92.4, loss=0.00207]\n",
      "Epoch 166: 100%|██████████████████████| 391/391 [00:07<00:00, 50.65it/s, accuracy=98.7, loss=0.0471]\n",
      "Testing: 100%|██████████████████████████| 79/79 [00:00<00:00, 80.81it/s, accuracy=92.3, loss=0.0021]\n",
      "Epoch 167: 100%|██████████████████████| 391/391 [00:07<00:00, 50.86it/s, accuracy=98.7, loss=0.0459]\n",
      "Testing: 100%|█████████████████████████| 79/79 [00:01<00:00, 72.54it/s, accuracy=92.2, loss=0.00213]\n",
      "Epoch 168: 100%|██████████████████████| 391/391 [00:08<00:00, 47.66it/s, accuracy=98.8, loss=0.0439]\n",
      "Testing: 100%|█████████████████████████| 79/79 [00:01<00:00, 75.82it/s, accuracy=92.3, loss=0.00214]\n",
      "Epoch 169: 100%|██████████████████████| 391/391 [00:07<00:00, 50.75it/s, accuracy=98.9, loss=0.0443]\n",
      "Testing: 100%|█████████████████████████| 79/79 [00:00<00:00, 85.36it/s, accuracy=92.2, loss=0.00211]\n",
      "Epoch 170: 100%|███████████████████████| 391/391 [00:07<00:00, 50.96it/s, accuracy=98.8, loss=0.044]\n",
      "Testing: 100%|█████████████████████████| 79/79 [00:00<00:00, 92.15it/s, accuracy=92.3, loss=0.00213]\n",
      "Epoch 171: 100%|██████████████████████| 391/391 [00:06<00:00, 59.59it/s, accuracy=98.8, loss=0.0433]\n",
      "Testing: 100%|█████████████████████████| 79/79 [00:00<00:00, 81.54it/s, accuracy=92.2, loss=0.00215]\n",
      "Epoch 172: 100%|██████████████████████| 391/391 [00:06<00:00, 56.25it/s, accuracy=98.9, loss=0.0412]\n",
      "Testing: 100%|█████████████████████████| 79/79 [00:00<00:00, 84.59it/s, accuracy=92.3, loss=0.00211]\n",
      "Epoch 173: 100%|██████████████████████| 391/391 [00:07<00:00, 49.04it/s, accuracy=98.9, loss=0.0415]\n",
      "Testing: 100%|█████████████████████████| 79/79 [00:00<00:00, 81.74it/s, accuracy=92.5, loss=0.00216]\n"
     ]
    },
    {
     "name": "stdout",
     "output_type": "stream",
     "text": [
      "Saved best model at epoch 173 with accuracy: 92.46%\n"
     ]
    },
    {
     "name": "stderr",
     "output_type": "stream",
     "text": [
      "Epoch 174: 100%|██████████████████████| 391/391 [00:07<00:00, 54.59it/s, accuracy=98.9, loss=0.0405]\n",
      "Testing: 100%|█████████████████████████| 79/79 [00:00<00:00, 83.44it/s, accuracy=92.5, loss=0.00212]\n"
     ]
    },
    {
     "name": "stdout",
     "output_type": "stream",
     "text": [
      "Saved best model at epoch 174 with accuracy: 92.48%\n"
     ]
    },
    {
     "name": "stderr",
     "output_type": "stream",
     "text": [
      "Epoch 175: 100%|██████████████████████| 391/391 [00:07<00:00, 49.04it/s, accuracy=98.9, loss=0.0403]\n",
      "Testing: 100%|█████████████████████████| 79/79 [00:00<00:00, 80.91it/s, accuracy=92.3, loss=0.00214]\n",
      "Epoch 176: 100%|████████████████████████| 391/391 [00:08<00:00, 48.09it/s, accuracy=99, loss=0.0388]\n",
      "Testing: 100%|█████████████████████████| 79/79 [00:01<00:00, 75.05it/s, accuracy=92.5, loss=0.00215]\n",
      "Epoch 177: 100%|██████████████████████| 391/391 [00:07<00:00, 49.70it/s, accuracy=98.9, loss=0.0391]\n",
      "Testing: 100%|█████████████████████████| 79/79 [00:01<00:00, 70.41it/s, accuracy=92.4, loss=0.00217]\n",
      "Epoch 178: 100%|████████████████████████| 391/391 [00:08<00:00, 46.38it/s, accuracy=99, loss=0.0393]\n",
      "Testing: 100%|█████████████████████████| 79/79 [00:00<00:00, 79.10it/s, accuracy=92.4, loss=0.00217]\n",
      "Epoch 179: 100%|██████████████████████| 391/391 [00:07<00:00, 50.33it/s, accuracy=99.1, loss=0.0375]\n",
      "Testing: 100%|█████████████████████████| 79/79 [00:01<00:00, 68.15it/s, accuracy=92.4, loss=0.00218]\n",
      "Epoch 180: 100%|█████████████████████████| 391/391 [00:08<00:00, 46.96it/s, accuracy=99, loss=0.037]\n",
      "Testing: 100%|█████████████████████████| 79/79 [00:01<00:00, 68.01it/s, accuracy=92.4, loss=0.00214]\n",
      "Epoch 181: 100%|██████████████████████| 391/391 [00:08<00:00, 46.87it/s, accuracy=99.1, loss=0.0369]\n",
      "Testing: 100%|█████████████████████████| 79/79 [00:01<00:00, 71.39it/s, accuracy=92.3, loss=0.00219]\n",
      "Epoch 182: 100%|█████████████████████████| 391/391 [00:08<00:00, 47.01it/s, accuracy=99, loss=0.037]\n",
      "Testing: 100%|█████████████████████████| 79/79 [00:01<00:00, 73.22it/s, accuracy=92.3, loss=0.00221]\n",
      "Epoch 183: 100%|██████████████████████| 391/391 [00:08<00:00, 44.97it/s, accuracy=99.1, loss=0.0359]\n",
      "Testing: 100%|█████████████████████████| 79/79 [00:01<00:00, 71.51it/s, accuracy=92.5, loss=0.00221]\n",
      "Epoch 184: 100%|██████████████████████| 391/391 [00:08<00:00, 46.35it/s, accuracy=99.1, loss=0.0366]\n",
      "Testing: 100%|██████████████████████████| 79/79 [00:01<00:00, 75.37it/s, accuracy=92.4, loss=0.0022]\n",
      "Epoch 185: 100%|██████████████████████| 391/391 [00:08<00:00, 46.21it/s, accuracy=99.1, loss=0.0355]\n",
      "Testing: 100%|██████████████████████████| 79/79 [00:01<00:00, 69.45it/s, accuracy=92.5, loss=0.0022]\n"
     ]
    },
    {
     "name": "stdout",
     "output_type": "stream",
     "text": [
      "Saved best model at epoch 185 with accuracy: 92.50%\n"
     ]
    },
    {
     "name": "stderr",
     "output_type": "stream",
     "text": [
      "Epoch 186: 100%|███████████████████████| 391/391 [00:08<00:00, 45.17it/s, accuracy=99.1, loss=0.036]\n",
      "Testing: 100%|█████████████████████████| 79/79 [00:01<00:00, 69.57it/s, accuracy=92.5, loss=0.00222]\n",
      "Epoch 187: 100%|████████████████████████| 391/391 [00:08<00:00, 46.64it/s, accuracy=99, loss=0.0368]\n",
      "Testing: 100%|█████████████████████████| 79/79 [00:01<00:00, 72.02it/s, accuracy=92.5, loss=0.00219]\n",
      "Epoch 188: 100%|██████████████████████| 391/391 [00:08<00:00, 47.11it/s, accuracy=99.1, loss=0.0349]\n",
      "Testing: 100%|█████████████████████████| 79/79 [00:00<00:00, 82.00it/s, accuracy=92.4, loss=0.00219]\n",
      "Epoch 189: 100%|██████████████████████| 391/391 [00:07<00:00, 52.42it/s, accuracy=99.1, loss=0.0351]\n",
      "Testing: 100%|█████████████████████████| 79/79 [00:00<00:00, 84.12it/s, accuracy=92.4, loss=0.00219]\n",
      "Epoch 190: 100%|██████████████████████| 391/391 [00:07<00:00, 55.26it/s, accuracy=99.1, loss=0.0345]\n",
      "Testing: 100%|██████████████████████████| 79/79 [00:00<00:00, 79.33it/s, accuracy=92.3, loss=0.0022]\n",
      "Epoch 191: 100%|██████████████████████| 391/391 [00:07<00:00, 49.16it/s, accuracy=99.1, loss=0.0346]\n",
      "Testing: 100%|█████████████████████████| 79/79 [00:01<00:00, 77.84it/s, accuracy=92.5, loss=0.00219]\n",
      "Epoch 192: 100%|██████████████████████| 391/391 [00:08<00:00, 46.30it/s, accuracy=99.2, loss=0.0333]\n",
      "Testing: 100%|█████████████████████████| 79/79 [00:01<00:00, 70.67it/s, accuracy=92.5, loss=0.00221]\n",
      "Epoch 193: 100%|██████████████████████| 391/391 [00:08<00:00, 46.87it/s, accuracy=99.2, loss=0.0327]\n",
      "Testing: 100%|█████████████████████████| 79/79 [00:01<00:00, 74.76it/s, accuracy=92.4, loss=0.00221]\n",
      "Epoch 194: 100%|██████████████████████| 391/391 [00:07<00:00, 49.42it/s, accuracy=99.1, loss=0.0348]\n",
      "Testing: 100%|█████████████████████████| 79/79 [00:01<00:00, 78.95it/s, accuracy=92.2, loss=0.00226]\n",
      "Epoch 195: 100%|██████████████████████| 391/391 [00:07<00:00, 50.84it/s, accuracy=99.2, loss=0.0314]\n",
      "Testing: 100%|█████████████████████████| 79/79 [00:01<00:00, 78.51it/s, accuracy=92.5, loss=0.00222]\n",
      "Epoch 196: 100%|██████████████████████| 391/391 [00:08<00:00, 47.46it/s, accuracy=99.3, loss=0.0311]\n",
      "Testing: 100%|█████████████████████████| 79/79 [00:01<00:00, 71.12it/s, accuracy=92.5, loss=0.00225]\n",
      "Epoch 197: 100%|██████████████████████| 391/391 [00:07<00:00, 49.94it/s, accuracy=99.2, loss=0.0319]\n",
      "Testing: 100%|█████████████████████████| 79/79 [00:00<00:00, 80.92it/s, accuracy=92.5, loss=0.00222]\n",
      "Epoch 198: 100%|██████████████████████| 391/391 [00:07<00:00, 50.01it/s, accuracy=99.2, loss=0.0306]\n",
      "Testing: 100%|█████████████████████████| 79/79 [00:01<00:00, 71.99it/s, accuracy=92.5, loss=0.00222]\n",
      "Epoch 199: 100%|██████████████████████| 391/391 [00:07<00:00, 49.02it/s, accuracy=99.2, loss=0.0316]\n",
      "Testing: 100%|█████████████████████████| 79/79 [00:01<00:00, 74.69it/s, accuracy=92.4, loss=0.00225]\n",
      "Epoch 200: 100%|██████████████████████| 391/391 [00:08<00:00, 47.86it/s, accuracy=99.3, loss=0.0307]\n",
      "Testing: 100%|█████████████████████████| 79/79 [00:01<00:00, 63.00it/s, accuracy=92.3, loss=0.00226]\n"
     ]
    }
   ],
   "source": [
    "with open(log_file_path, 'w') as log_file:\n",
    "    log_file.write(f\"Training started at {datetime.now()}\\n\")\n",
    "\n",
    "    best_accuracy = 0.0\n",
    "    \n",
    "    for epoch in range(hyperparameters['epochs']):\n",
    "        train_loss, train_accuracy = train(resnet20_model, train_loader, criterion, optimizer, epoch, log_file)\n",
    "        test_loss, test_accuracy = test(resnet20_model, test_loader, criterion, log_file)\n",
    "\n",
    "        if test_accuracy > best_accuracy:\n",
    "            best_accuracy = test_accuracy\n",
    "            model_checkpoint_path = os.path.join(output_folder, f\"model_best.pth\")\n",
    "            torch.save(resnet20_model.state_dict(), model_checkpoint_path)\n",
    "            print(f\"Saved best model at epoch {epoch+1} with accuracy: {best_accuracy:.2f}%\")\n",
    "\n",
    "\n",
    "        if epoch+1 in DECAY_EPOCHS:\n",
    "            current_learning_rate = current_learning_rate * DECAY\n",
    "            for param_group in optimizer.param_groups:\n",
    "                param_group['lr'] = current_learning_rate\n",
    "            print(\"Current learning rate has decayed to %f\" %current_learning_rate)\n",
    "\n",
    "    log_file.write(f\"Training completed at {datetime.now()}\\n\")\n",
    "    log_file.write(f\"Best model accuracy: {best_accuracy:.2f}%\\n\")\n"
   ]
  }
 ],
 "metadata": {
  "kernelspec": {
   "display_name": "shrey_coursework",
   "language": "python",
   "name": "python3"
  },
  "language_info": {
   "codemirror_mode": {
    "name": "ipython",
    "version": 3
   },
   "file_extension": ".py",
   "mimetype": "text/x-python",
   "name": "python",
   "nbconvert_exporter": "python",
   "pygments_lexer": "ipython3",
   "version": "3.10.12"
  }
 },
 "nbformat": 4,
 "nbformat_minor": 5
}
