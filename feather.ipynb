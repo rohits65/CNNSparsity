{
 "cells": [
  {
   "cell_type": "code",
   "execution_count": 1,
   "id": "d5756234",
   "metadata": {},
   "outputs": [],
   "source": [
    "import os\n",
    "import torch\n",
    "import numpy as np\n",
    "import torch.nn as nn\n",
    "import torch.optim as optim\n",
    "import torch.nn.functional as F\n",
    "import torchvision.transforms as transforms\n",
    "\n",
    "from datetime import datetime\n",
    "from tqdm import tqdm\n",
    "from torch.utils.data import DataLoader\n",
    "from torchvision import datasets\n",
    "\n",
    "from resnet import ResNet20\n",
    "\n",
    "device = torch.device(\"cuda:1\" if torch.cuda.is_available() else \"cpu\")"
   ]
  },
  {
   "cell_type": "code",
   "execution_count": 2,
   "id": "64de9b57",
   "metadata": {},
   "outputs": [],
   "source": [
    "class Feather:\n",
    "    def __init__(self, gth, theta):\n",
    "        self.gth = gth\n",
    "        self.theta = theta\n",
    "    \n",
    "    def forward(self, w):\n",
    "        return Feather_aux.apply(w, self.gth, self.theta)\n",
    "        \n",
    "\n",
    "\n",
    "class Feather_aux(torch.autograd.Function):\n",
    "    @staticmethod\n",
    "    def forward(ctx, w, gth, theta):\n",
    "             \n",
    "        ctx.aux = torch.where(torch.abs(w) > gth, 1.0, theta)\n",
    "     \n",
    "        p = 3\n",
    "        diff = torch.abs(w)**p - gth**p \n",
    "        w_masked = torch.where(diff > 0, torch.sign(w)*(diff)**(1/p), 0.0)   \n",
    "        \n",
    "        return w_masked\n",
    "\n",
    "    @staticmethod\n",
    "    def backward(ctx, g):\n",
    "        \n",
    "        g = ctx.aux*g           \n",
    "        return g, None, None \n",
    "    \n",
    "\n",
    "class SparseConv(nn.Module):\n",
    "    def __init__(self, conv, feather):\n",
    "        super(SparseConv, self).__init__()\n",
    "        self.conv = conv\n",
    "        self.feather = feather\n",
    "\n",
    "    def forward(self, x):\n",
    "\n",
    "        w = self.conv.weight\n",
    "        b = self.conv.bias\n",
    "        stride = self.conv.stride\n",
    "        padding = self.conv.padding\n",
    "        groups = self.conv.groups\n",
    "\n",
    "\n",
    "        if self.feather.gth > 0:\n",
    "            w = self.feather.forward(w)\n",
    "\n",
    "        out = F.conv2d(x, w, bias=b, padding=padding, stride=stride, groups=groups)\n",
    "        return out\n",
    "\n",
    "class SparseFc(nn.Module):\n",
    "    def __init__(self, fc, feather):\n",
    "        super(SparseFc, self).__init__()\n",
    "        self.fc = fc\n",
    "        self.feather = feather\n",
    " \n",
    "    def forward(self, x):\n",
    "\n",
    "        w = self.fc.weight\n",
    "        b = self.fc.bias\n",
    "                \n",
    "        if self.feather.gth > 0:            \n",
    "            w = self.feather.forward(w)\n",
    "            \n",
    "        out = F.linear(x, w, bias=b)\n",
    "        return out\n",
    "\n",
    "\n",
    "def iter_sparsify(m, feather, pthres=0):\n",
    "    for name, child in m.named_children():\n",
    "        iter_sparsify(child, feather, pthres)\n",
    "        if type(child) == nn.Conv2d:\n",
    "            nw = (child.in_channels * child.out_channels * child.kernel_size[0] * child.kernel_size[1]) / child.groups\n",
    "            if nw >= pthres:  \n",
    "                slayer = SparseConv(child, feather)\n",
    "                m.__setattr__(name, slayer)\n",
    "\n",
    "              \n",
    "        if type(child) == nn.Linear:\n",
    "            nw = child.in_features * child.out_features\n",
    "            if nw >= pthres:\n",
    "                slayer = SparseFc(child, feather)\n",
    "                m.__setattr__(name, slayer)\n",
    "\n",
    "\n",
    "def iter_desparsify(m, feather):\n",
    "    for name, child in m.named_children():\n",
    "        iter_desparsify(child, feather)\n",
    "        if type(child) == SparseConv:\n",
    "            conv = child.conv\n",
    "            w = conv.weight.data\n",
    "            \n",
    "            nw = feather.forward(w)\n",
    "            conv.weight.data = nw\n",
    "\n",
    "            m.__setattr__(name, conv)\n",
    "\n",
    "        if type(child) == SparseFc:\n",
    "            fc= child.fc\n",
    "            w = fc.weight.data\n",
    "\n",
    "            nw = feather.forward(w)\n",
    "            fc.weight.data = nw\n",
    "\n",
    "            m.__setattr__(name, fc)\n",
    "\n",
    " \n",
    "def get_params(model):\n",
    "    bn_ids =[]  \n",
    "    modules = list(model.named_modules())      \n",
    "    for n, layer in modules:\n",
    "        if isinstance(layer,torch.nn.modules.batchnorm.BatchNorm2d): \n",
    "            bn_ids.append(id(layer.weight))\n",
    "            bn_ids.append(id(layer.bias))\n",
    "    \n",
    "    params, params_nowd = [], []\n",
    "    for name, p in model.named_parameters():\n",
    "    \n",
    "        if id(p) in bn_ids or 'bias' in name:\n",
    "            params_nowd += [p]\n",
    "        else:\n",
    "            params += [p]\n",
    "    return params, params_nowd\n",
    "\n",
    "\n",
    "def get_prunable_weights_cnt(model):\n",
    "    prunable_weights_cnt = 0\n",
    "    temp_dims = [0]\n",
    "    for name, layer in model.named_modules():\n",
    "        if ('Sparse' in layer.__class__.__name__):\n",
    "            if 'Conv' in layer.__class__.__name__ :\n",
    "                w = layer.conv.weight\n",
    "            elif 'Fc' in layer.__class__.__name__:\n",
    "                w = layer.fc.weight\n",
    "            else:\n",
    "                print(\" Not Recognized Sparse Module \")\n",
    "\n",
    "            temp_dims.append(w.numel())         \n",
    "            tnum = w.numel()\n",
    "            prunable_weights_cnt += tnum\n",
    "            \n",
    "    idx_list = [0]\n",
    "    for i in range(len(temp_dims)):\n",
    "        idx_list.append(temp_dims[i] + idx_list[i])\n",
    "            \n",
    "    return prunable_weights_cnt, idx_list\n",
    "\n",
    "\n",
    "def calc_thresh(w, ratio):\n",
    "    w_sorted, _ = torch.sort(w)\n",
    "    m = (len(w_sorted)-1)*ratio\n",
    "    idx_floor, idx_ceil = int(np.floor(m)), int(np.ceil(m))\n",
    "    v1, v2 = w_sorted[idx_floor], w_sorted[idx_ceil]\n",
    "    thresh = v1 + (v2-v1)*(m-idx_floor)\n",
    "    return thresh.item()\n",
    "\n",
    "\n",
    "\n",
    "def get_global_thresh(model, device, st_batch, prunable_weights_cnt, idx_list):\n",
    "    i = 1\n",
    "    w_total = torch.empty(prunable_weights_cnt).to(device) \n",
    "    for name, layer in model.named_modules():\n",
    "        if ('Sparse' in layer.__class__.__name__):\n",
    "            if 'Conv' in layer.__class__.__name__ :\n",
    "                w = layer.conv.weight.flatten().detach()            \n",
    "            elif 'Fc' in layer.__class__.__name__:\n",
    "                w = layer.fc.weight.flatten().detach() \n",
    "\n",
    "            w_total[idx_list[i] : idx_list[i+1]] = w\n",
    "            i +=1\n",
    "         \n",
    "    global_thresh = calc_thresh(torch.abs(w_total), st_batch)\n",
    "    \n",
    "    return global_thresh\n",
    "\n",
    "\n",
    "def pruning_scheduler(final_rate, nbatches, ntotalsteps, t1):\n",
    "    \n",
    "    kf = final_rate\n",
    "    t1 = t1*nbatches   \n",
    "    t2 = int(np.floor(ntotalsteps*0.5))\n",
    "\n",
    "    t = np.arange(t1,t2)\n",
    "    k = np.hstack(( np.zeros(t1), ( kf - kf*(1-(t-t1)/(t2-t1))**3), kf*np.ones(ntotalsteps-t2) )) \n",
    "\n",
    "    return k\n",
    " \n",
    "def get_theta(final_rate):\n",
    "    if final_rate > 0.95:\n",
    "        theta = 0.5\n",
    "    else:\n",
    "        theta = 1.0\n",
    "    return theta\n",
    "\n",
    "\n",
    "class Pruner:  \n",
    "    def __init__(self, model, device, final_rate,  nbatches, epochs, pthres=0, t1=0):\n",
    "\n",
    "        theta = get_theta(final_rate)\n",
    "        self.ntotalsteps = nbatches*epochs\n",
    "        self.step_idx = 0\n",
    "        \n",
    "        self.feather = Feather(gth=0.0, theta=theta)     \n",
    "        self.device = device\n",
    "        self.t1 = t1\n",
    "        \n",
    "        self.model = model \n",
    "           \n",
    "        iter_sparsify(m=self.model, feather=self.feather, pthres=pthres)     \n",
    "        prunable_weights_cnt, idx_list = get_prunable_weights_cnt(self.model)\n",
    "        \n",
    "        self.prunable_weights_cnt = prunable_weights_cnt\n",
    "        self.idx_list = idx_list\n",
    "        \n",
    "        pscheduler = pruning_scheduler(final_rate, nbatches, self.ntotalsteps, self.t1)\n",
    "        self.pscheduler = pscheduler\n",
    "        \n",
    "    def update_thresh(self, end_of_batch=False):       \n",
    "        idx = self.step_idx\n",
    "        if end_of_batch:\n",
    "            idx -=1\n",
    "        st_batch = self.pscheduler[idx]\n",
    "        \n",
    "        new_gth = 0.0\n",
    "        if st_batch > 0:\n",
    "            new_gth = get_global_thresh(self.model, self.device, st_batch, self.prunable_weights_cnt, self.idx_list)\n",
    "\n",
    "        self.feather.gth = new_gth \n",
    "        if not end_of_batch:\n",
    "            self.step_idx += 1 \n",
    "        \n",
    "    def print_sparsity(self):   \n",
    "        local_zeros_cnt = 0\n",
    "        for name, layer in self.model.named_modules():\n",
    "            if ('Sparse' in layer.__class__.__name__):\n",
    "                if 'Conv' in layer.__class__.__name__ :\n",
    "                    w = layer.conv.weight\n",
    "                elif 'Fc' in layer.__class__.__name__:\n",
    "                    w = layer.fc.weight\n",
    "                else:\n",
    "                    print(\" Not Recognized Sparse Module \")\n",
    "\n",
    "                th = self.feather.gth \n",
    "                nw = F.hardshrink(w, th)\n",
    "                      \n",
    "                tsparsity = (nw == 0).float().sum().item()\n",
    "                local_zeros_cnt += tsparsity\n",
    "        \n",
    "                tnum = nw.numel()\n",
    "    \n",
    "                print(f'{name}'.ljust(40), f'#w: {int(tnum)}'.ljust(11), f'| sparsity: {round(100.0 * tsparsity / tnum, 2)}%'.ljust(18))  \n",
    "                  \n",
    "        return 100 * float(local_zeros_cnt) / float(self.prunable_weights_cnt)\n",
    "    \n",
    "    def desparsify(self):\n",
    "        iter_desparsify(self.model, self.feather)\n",
    "\n"
   ]
  },
  {
   "cell_type": "code",
   "execution_count": 3,
   "id": "d861b214",
   "metadata": {},
   "outputs": [],
   "source": [
    "hyperparameters = {\n",
    "    'sparsity_type': \"feather\", # nm / entropy / feather / spartan / ses / base (no sparsity)\n",
    "    'epochs': 200,\n",
    "    'lr': 0.1,\n",
    "    'momentum': 0.9,\n",
    "    'weight_decay': 5e-4,\n",
    "    'batch_size': 391,\n",
    "}"
   ]
  },
  {
   "cell_type": "code",
   "execution_count": 4,
   "id": "7da2779f",
   "metadata": {},
   "outputs": [],
   "source": [
    "transform_train = transforms.Compose([\n",
    "    transforms.RandomCrop(size=32, padding=4),\n",
    "    transforms.RandomHorizontalFlip(),\n",
    "    transforms.ToTensor(),\n",
    "    transforms.Normalize(mean=[0.4914, 0.4822, 0.4465],\n",
    "                         std=[0.2023, 0.1994, 0.201]),\n",
    "])\n",
    "\n",
    "transform_val = transforms.Compose([\n",
    "    transforms.ToTensor(),\n",
    "    transforms.Normalize(mean=[0.4914, 0.4822, 0.4465],\n",
    "                         std=[0.2023, 0.1994, 0.201]),\n",
    "])\n",
    "\n",
    "\n",
    "train_dataset = datasets.CIFAR10(root='./data', train=True, download=True, transform=transform_train)\n",
    "test_dataset = datasets.CIFAR10(root='./data', train=False, download=True, transform=transform_val)\n",
    "\n",
    "train_loader = DataLoader(train_dataset, batch_size=hyperparameters['batch_size'], shuffle=True, num_workers=2)\n",
    "test_loader = DataLoader(test_dataset, batch_size=hyperparameters['batch_size'], shuffle=False, num_workers=2)"
   ]
  },
  {
   "cell_type": "code",
   "execution_count": 5,
   "id": "574171a9",
   "metadata": {},
   "outputs": [],
   "source": [
    "sparsity_type = hyperparameters['sparsity_type']\n",
    "output_base_path = \"/home/sg666/Class/ECE661/outputs\"\n",
    "sparsity_folder_path = os.path.join(output_base_path, sparsity_type)\n",
    "\n",
    "hyperparameter_str = f\"epochs_{hyperparameters['epochs']}_lr_{hyperparameters['lr']}_momentum_{hyperparameters['momentum']}_wd_{hyperparameters['weight_decay']}_batch_{hyperparameters['batch_size']}\"\n",
    "output_folder = os.path.join(sparsity_folder_path, hyperparameter_str)\n",
    "\n",
    "os.makedirs(output_folder, exist_ok=True)\n",
    "\n",
    "hyperparameter_file = os.path.join(output_folder, 'hyperparameters.txt')\n",
    "with open(hyperparameter_file, 'w') as f:\n",
    "    for key, value in hyperparameters.items():\n",
    "        f.write(f\"{key}: {value}\\n\")"
   ]
  },
  {
   "cell_type": "code",
   "execution_count": 6,
   "id": "e0434edf",
   "metadata": {},
   "outputs": [],
   "source": [
    "resnet20_model = ResNet20()\n",
    "resnet20_model.to(device)\n",
    "\n",
    "pruner = Pruner(resnet20_model, device, final_rate=0.95, nbatches=hyperparameters['batch_size'], epochs=hyperparameters['epochs'])"
   ]
  },
  {
   "cell_type": "code",
   "execution_count": 7,
   "id": "c80223c8",
   "metadata": {},
   "outputs": [],
   "source": [
    "def train(model, train_loader, criterion, optimizer, epoch, log_file):\n",
    "    model.train()\n",
    "    running_loss = 0.0\n",
    "    correct = 0\n",
    "    total = 0\n",
    "\n",
    "    pbar = tqdm(train_loader, desc=f\"Epoch {epoch+1}\", ncols=100)\n",
    "    \n",
    "    for batch_idx, (inputs, targets) in enumerate(pbar):\n",
    "        pruner.update_thresh()\n",
    "\n",
    "        inputs, targets = inputs.to(device), targets.to(device)\n",
    "\n",
    "        optimizer.zero_grad()\n",
    "\n",
    "        outputs = model(inputs)\n",
    "        loss = criterion(outputs, targets)\n",
    "\n",
    "        loss.backward()\n",
    "        optimizer.step()\n",
    "\n",
    "        running_loss += loss.item()\n",
    "        _, predicted = outputs.max(1)\n",
    "        correct += predicted.eq(targets).sum().item()\n",
    "        total += targets.size(0)\n",
    "\n",
    "        pbar.set_postfix(loss=running_loss/(batch_idx+1), accuracy=100.0 * correct / total)\n",
    "\n",
    "    avg_loss = running_loss / len(train_loader)\n",
    "    accuracy = 100.0 * correct / total\n",
    "\n",
    "    sparsity = pruner.print_sparsity()\n",
    "    log_file.write(f'Epoch [{epoch+1}], Loss: {avg_loss:.4f}, Accuracy: {accuracy:.2f}%, Sparsity: {sparsity:.2f}%\\n')\n",
    "    \n",
    "    pruner.update_thresh(end_of_batch=True)\n",
    "\n",
    "    return avg_loss, accuracy"
   ]
  },
  {
   "cell_type": "code",
   "execution_count": 8,
   "id": "a5dad223",
   "metadata": {},
   "outputs": [],
   "source": [
    "def test(model, test_loader, criterion, log_file):\n",
    "    model.eval()\n",
    "    correct = 0\n",
    "    total = 0\n",
    "    test_loss = 0.0\n",
    "\n",
    "    pbar = tqdm(test_loader, desc=\"Testing\", ncols=100)\n",
    "    \n",
    "    with torch.no_grad():\n",
    "        for inputs, targets in pbar:\n",
    "            inputs, targets = inputs.to(device), targets.to(device)\n",
    "\n",
    "            outputs = model(inputs)\n",
    "            loss = criterion(outputs, targets)\n",
    "            test_loss += loss.item()\n",
    "\n",
    "            _, predicted = outputs.max(1)\n",
    "            correct += predicted.eq(targets).sum().item()\n",
    "            total += targets.size(0)\n",
    "\n",
    "            pbar.set_postfix(loss=test_loss/(total + inputs.size(0)), accuracy=100.0 * correct / total)\n",
    "\n",
    "    avg_test_loss = test_loss / len(test_loader)\n",
    "    accuracy = 100.0 * correct / total\n",
    "    log_file.write(f'Test Loss: {avg_test_loss:.4f}, Accuracy: {accuracy:.2f}%\\n')\n",
    "\n",
    "    return avg_test_loss, accuracy\n"
   ]
  },
  {
   "cell_type": "code",
   "execution_count": 9,
   "id": "92bb7630",
   "metadata": {},
   "outputs": [],
   "source": [
    "current_learning_rate = hyperparameters['lr']\n",
    "DECAY = 0.1\n",
    "DECAY_EPOCHS = [100, 150]\n",
    "EPOCHS = 200"
   ]
  },
  {
   "cell_type": "code",
   "execution_count": 10,
   "id": "78402283",
   "metadata": {},
   "outputs": [
    {
     "name": "stderr",
     "output_type": "stream",
     "text": [
      "Epoch 1: 100%|██████████████████████████| 128/128 [00:06<00:00, 18.36it/s, accuracy=36.4, loss=1.69]\n"
     ]
    },
    {
     "name": "stdout",
     "output_type": "stream",
     "text": [
      "conv1                                    #w: 432     | sparsity: 0.46% \n",
      "residual_layers.0.conv1                  #w: 2304    | sparsity: 0.26% \n",
      "residual_layers.0.conv2                  #w: 2304    | sparsity: 0.48% \n",
      "residual_layers.1.conv1                  #w: 2304    | sparsity: 0.22% \n",
      "residual_layers.1.conv2                  #w: 2304    | sparsity: 0.56% \n",
      "residual_layers.2.conv1                  #w: 2304    | sparsity: 0.78% \n",
      "residual_layers.2.conv2                  #w: 2304    | sparsity: 0.43% \n",
      "residual_layers.3.conv1                  #w: 4608    | sparsity: 0.52% \n",
      "residual_layers.3.conv2                  #w: 9216    | sparsity: 0.62% \n",
      "residual_layers.3.residual.0             #w: 512     | sparsity: 0.2%  \n",
      "residual_layers.4.conv1                  #w: 9216    | sparsity: 0.65% \n",
      "residual_layers.4.conv2                  #w: 9216    | sparsity: 0.89% \n",
      "residual_layers.5.conv1                  #w: 9216    | sparsity: 0.88% \n",
      "residual_layers.5.conv2                  #w: 9216    | sparsity: 0.76% \n",
      "residual_layers.6.conv1                  #w: 18432   | sparsity: 0.74% \n",
      "residual_layers.6.conv2                  #w: 36864   | sparsity: 1.07% \n",
      "residual_layers.6.residual.0             #w: 2048    | sparsity: 0.29% \n",
      "residual_layers.7.conv1                  #w: 36864   | sparsity: 1.01% \n",
      "residual_layers.7.conv2                  #w: 36864   | sparsity: 1.1%  \n",
      "residual_layers.8.conv1                  #w: 36864   | sparsity: 1.0%  \n",
      "residual_layers.8.conv2                  #w: 36864   | sparsity: 0.93% \n",
      "classifier                               #w: 640     | sparsity: 0.16% \n"
     ]
    },
    {
     "name": "stderr",
     "output_type": "stream",
     "text": [
      "Testing: 100%|█████████████████████████| 26/26 [00:01<00:00, 25.62it/s, accuracy=46.5, loss=0.00372]\n"
     ]
    },
    {
     "name": "stdout",
     "output_type": "stream",
     "text": [
      "Saved best model at epoch 1 with accuracy: 46.49%\n"
     ]
    },
    {
     "name": "stderr",
     "output_type": "stream",
     "text": [
      "Epoch 2: 100%|████████████████████████████| 128/128 [00:06<00:00, 20.47it/s, accuracy=56, loss=1.21]\n"
     ]
    },
    {
     "name": "stdout",
     "output_type": "stream",
     "text": [
      "conv1                                    #w: 432     | sparsity: 0.23% \n",
      "residual_layers.0.conv1                  #w: 2304    | sparsity: 0.87% \n",
      "residual_layers.0.conv2                  #w: 2304    | sparsity: 0.82% \n",
      "residual_layers.1.conv1                  #w: 2304    | sparsity: 1.09% \n",
      "residual_layers.1.conv2                  #w: 2304    | sparsity: 0.78% \n",
      "residual_layers.2.conv1                  #w: 2304    | sparsity: 0.78% \n",
      "residual_layers.2.conv2                  #w: 2304    | sparsity: 0.78% \n",
      "residual_layers.3.conv1                  #w: 4608    | sparsity: 0.91% \n",
      "residual_layers.3.conv2                  #w: 9216    | sparsity: 1.51% \n",
      "residual_layers.3.residual.0             #w: 512     | sparsity: 0.39% \n",
      "residual_layers.4.conv1                  #w: 9216    | sparsity: 1.31% \n",
      "residual_layers.4.conv2                  #w: 9216    | sparsity: 1.31% \n",
      "residual_layers.5.conv1                  #w: 9216    | sparsity: 1.35% \n",
      "residual_layers.5.conv2                  #w: 9216    | sparsity: 1.32% \n",
      "residual_layers.6.conv1                  #w: 18432   | sparsity: 1.33% \n",
      "residual_layers.6.conv2                  #w: 36864   | sparsity: 2.06% \n",
      "residual_layers.6.residual.0             #w: 2048    | sparsity: 0.63% \n",
      "residual_layers.7.conv1                  #w: 36864   | sparsity: 2.15% \n",
      "residual_layers.7.conv2                  #w: 36864   | sparsity: 2.3%  \n",
      "residual_layers.8.conv1                  #w: 36864   | sparsity: 2.18% \n",
      "residual_layers.8.conv2                  #w: 36864   | sparsity: 2.09% \n",
      "classifier                               #w: 640     | sparsity: 0.31% \n"
     ]
    },
    {
     "name": "stderr",
     "output_type": "stream",
     "text": [
      "Testing: 100%|█████████████████████████| 26/26 [00:00<00:00, 27.11it/s, accuracy=53.6, loss=0.00349]\n"
     ]
    },
    {
     "name": "stdout",
     "output_type": "stream",
     "text": [
      "Saved best model at epoch 2 with accuracy: 53.59%\n"
     ]
    },
    {
     "name": "stderr",
     "output_type": "stream",
     "text": [
      "Epoch 3: 100%|█████████████████████████| 128/128 [00:06<00:00, 20.34it/s, accuracy=64.7, loss=0.986]\n"
     ]
    },
    {
     "name": "stdout",
     "output_type": "stream",
     "text": [
      "conv1                                    #w: 432     | sparsity: 0.46% \n",
      "residual_layers.0.conv1                  #w: 2304    | sparsity: 1.39% \n",
      "residual_layers.0.conv2                  #w: 2304    | sparsity: 0.87% \n",
      "residual_layers.1.conv1                  #w: 2304    | sparsity: 1.35% \n",
      "residual_layers.1.conv2                  #w: 2304    | sparsity: 1.17% \n",
      "residual_layers.2.conv1                  #w: 2304    | sparsity: 1.69% \n",
      "residual_layers.2.conv2                  #w: 2304    | sparsity: 1.52% \n",
      "residual_layers.3.conv1                  #w: 4608    | sparsity: 1.43% \n",
      "residual_layers.3.conv2                  #w: 9216    | sparsity: 1.82% \n",
      "residual_layers.3.residual.0             #w: 512     | sparsity: 0.59% \n",
      "residual_layers.4.conv1                  #w: 9216    | sparsity: 1.88% \n",
      "residual_layers.4.conv2                  #w: 9216    | sparsity: 2.26% \n",
      "residual_layers.5.conv1                  #w: 9216    | sparsity: 2.09% \n",
      "residual_layers.5.conv2                  #w: 9216    | sparsity: 2.15% \n",
      "residual_layers.6.conv1                  #w: 18432   | sparsity: 2.17% \n",
      "residual_layers.6.conv2                  #w: 36864   | sparsity: 3.07% \n",
      "residual_layers.6.residual.0             #w: 2048    | sparsity: 0.88% \n",
      "residual_layers.7.conv1                  #w: 36864   | sparsity: 3.02% \n",
      "residual_layers.7.conv2                  #w: 36864   | sparsity: 3.11% \n",
      "residual_layers.8.conv1                  #w: 36864   | sparsity: 3.43% \n",
      "residual_layers.8.conv2                  #w: 36864   | sparsity: 3.27% \n",
      "classifier                               #w: 640     | sparsity: 0.16% \n"
     ]
    },
    {
     "name": "stderr",
     "output_type": "stream",
     "text": [
      "Testing: 100%|█████████████████████████| 26/26 [00:00<00:00, 27.41it/s, accuracy=55.3, loss=0.00328]\n"
     ]
    },
    {
     "name": "stdout",
     "output_type": "stream",
     "text": [
      "Saved best model at epoch 3 with accuracy: 55.31%\n"
     ]
    },
    {
     "name": "stderr",
     "output_type": "stream",
     "text": [
      "Epoch 4: 100%|█████████████████████████| 128/128 [00:06<00:00, 19.95it/s, accuracy=70.5, loss=0.838]\n"
     ]
    },
    {
     "name": "stdout",
     "output_type": "stream",
     "text": [
      "conv1                                    #w: 432     | sparsity: 0.46% \n",
      "residual_layers.0.conv1                  #w: 2304    | sparsity: 1.74% \n",
      "residual_layers.0.conv2                  #w: 2304    | sparsity: 1.39% \n",
      "residual_layers.1.conv1                  #w: 2304    | sparsity: 1.56% \n",
      "residual_layers.1.conv2                  #w: 2304    | sparsity: 1.78% \n",
      "residual_layers.2.conv1                  #w: 2304    | sparsity: 1.78% \n",
      "residual_layers.2.conv2                  #w: 2304    | sparsity: 2.21% \n",
      "residual_layers.3.conv1                  #w: 4608    | sparsity: 1.41% \n",
      "residual_layers.3.conv2                  #w: 9216    | sparsity: 2.39% \n",
      "residual_layers.3.residual.0             #w: 512     | sparsity: 0.39% \n",
      "residual_layers.4.conv1                  #w: 9216    | sparsity: 2.34% \n",
      "residual_layers.4.conv2                  #w: 9216    | sparsity: 2.76% \n",
      "residual_layers.5.conv1                  #w: 9216    | sparsity: 2.58% \n",
      "residual_layers.5.conv2                  #w: 9216    | sparsity: 3.14% \n",
      "residual_layers.6.conv1                  #w: 18432   | sparsity: 3.02% \n",
      "residual_layers.6.conv2                  #w: 36864   | sparsity: 3.86% \n",
      "residual_layers.6.residual.0             #w: 2048    | sparsity: 1.42% \n",
      "residual_layers.7.conv1                  #w: 36864   | sparsity: 4.12% \n",
      "residual_layers.7.conv2                  #w: 36864   | sparsity: 4.22% \n",
      "residual_layers.8.conv1                  #w: 36864   | sparsity: 4.45% \n",
      "residual_layers.8.conv2                  #w: 36864   | sparsity: 4.67% \n",
      "classifier                               #w: 640     | sparsity: 0.94% \n"
     ]
    },
    {
     "name": "stderr",
     "output_type": "stream",
     "text": [
      "Testing: 100%|█████████████████████████| 26/26 [00:00<00:00, 29.00it/s, accuracy=64.6, loss=0.00273]\n"
     ]
    },
    {
     "name": "stdout",
     "output_type": "stream",
     "text": [
      "Saved best model at epoch 4 with accuracy: 64.57%\n"
     ]
    },
    {
     "name": "stderr",
     "output_type": "stream",
     "text": [
      "Epoch 5: 100%|█████████████████████████| 128/128 [00:06<00:00, 20.88it/s, accuracy=74.5, loss=0.726]\n"
     ]
    },
    {
     "name": "stdout",
     "output_type": "stream",
     "text": [
      "conv1                                    #w: 432     | sparsity: 0.46% \n",
      "residual_layers.0.conv1                  #w: 2304    | sparsity: 1.74% \n",
      "residual_layers.0.conv2                  #w: 2304    | sparsity: 1.91% \n",
      "residual_layers.1.conv1                  #w: 2304    | sparsity: 2.0%  \n",
      "residual_layers.1.conv2                  #w: 2304    | sparsity: 1.82% \n",
      "residual_layers.2.conv1                  #w: 2304    | sparsity: 2.91% \n",
      "residual_layers.2.conv2                  #w: 2304    | sparsity: 2.47% \n",
      "residual_layers.3.conv1                  #w: 4608    | sparsity: 1.97% \n",
      "residual_layers.3.conv2                  #w: 9216    | sparsity: 2.98% \n",
      "residual_layers.3.residual.0             #w: 512     | sparsity: 0.98% \n",
      "residual_layers.4.conv1                  #w: 9216    | sparsity: 3.07% \n",
      "residual_layers.4.conv2                  #w: 9216    | sparsity: 3.08% \n",
      "residual_layers.5.conv1                  #w: 9216    | sparsity: 3.3%  \n",
      "residual_layers.5.conv2                  #w: 9216    | sparsity: 3.35% \n",
      "residual_layers.6.conv1                  #w: 18432   | sparsity: 3.78% \n",
      "residual_layers.6.conv2                  #w: 36864   | sparsity: 4.94% \n",
      "residual_layers.6.residual.0             #w: 2048    | sparsity: 1.95% \n",
      "residual_layers.7.conv1                  #w: 36864   | sparsity: 4.88% \n",
      "residual_layers.7.conv2                  #w: 36864   | sparsity: 5.19% \n",
      "residual_layers.8.conv1                  #w: 36864   | sparsity: 5.52% \n",
      "residual_layers.8.conv2                  #w: 36864   | sparsity: 6.2%  \n",
      "classifier                               #w: 640     | sparsity: 1.25% \n"
     ]
    },
    {
     "name": "stderr",
     "output_type": "stream",
     "text": [
      "Testing: 100%|█████████████████████████| 26/26 [00:00<00:00, 28.28it/s, accuracy=64.6, loss=0.00272]\n",
      "Epoch 6: 100%|█████████████████████████| 128/128 [00:06<00:00, 19.59it/s, accuracy=76.9, loss=0.662]\n"
     ]
    },
    {
     "name": "stdout",
     "output_type": "stream",
     "text": [
      "conv1                                    #w: 432     | sparsity: 0.93% \n",
      "residual_layers.0.conv1                  #w: 2304    | sparsity: 2.47% \n",
      "residual_layers.0.conv2                  #w: 2304    | sparsity: 2.91% \n",
      "residual_layers.1.conv1                  #w: 2304    | sparsity: 2.47% \n",
      "residual_layers.1.conv2                  #w: 2304    | sparsity: 2.73% \n",
      "residual_layers.2.conv1                  #w: 2304    | sparsity: 2.73% \n",
      "residual_layers.2.conv2                  #w: 2304    | sparsity: 3.17% \n",
      "residual_layers.3.conv1                  #w: 4608    | sparsity: 2.86% \n",
      "residual_layers.3.conv2                  #w: 9216    | sparsity: 3.28% \n",
      "residual_layers.3.residual.0             #w: 512     | sparsity: 1.37% \n",
      "residual_layers.4.conv1                  #w: 9216    | sparsity: 3.58% \n",
      "residual_layers.4.conv2                  #w: 9216    | sparsity: 3.73% \n",
      "residual_layers.5.conv1                  #w: 9216    | sparsity: 4.03% \n",
      "residual_layers.5.conv2                  #w: 9216    | sparsity: 4.14% \n",
      "residual_layers.6.conv1                  #w: 18432   | sparsity: 4.36% \n",
      "residual_layers.6.conv2                  #w: 36864   | sparsity: 5.45% \n",
      "residual_layers.6.residual.0             #w: 2048    | sparsity: 1.81% \n",
      "residual_layers.7.conv1                  #w: 36864   | sparsity: 5.65% \n",
      "residual_layers.7.conv2                  #w: 36864   | sparsity: 6.47% \n",
      "residual_layers.8.conv1                  #w: 36864   | sparsity: 6.87% \n",
      "residual_layers.8.conv2                  #w: 36864   | sparsity: 7.47% \n",
      "classifier                               #w: 640     | sparsity: 1.09% \n"
     ]
    },
    {
     "name": "stderr",
     "output_type": "stream",
     "text": [
      "Testing: 100%|███████████████████████████| 26/26 [00:01<00:00, 23.57it/s, accuracy=66, loss=0.00282]\n"
     ]
    },
    {
     "name": "stdout",
     "output_type": "stream",
     "text": [
      "Saved best model at epoch 6 with accuracy: 65.95%\n"
     ]
    },
    {
     "name": "stderr",
     "output_type": "stream",
     "text": [
      "Epoch 7: 100%|█████████████████████████| 128/128 [00:06<00:00, 19.70it/s, accuracy=78.6, loss=0.612]\n"
     ]
    },
    {
     "name": "stdout",
     "output_type": "stream",
     "text": [
      "conv1                                    #w: 432     | sparsity: 1.62% \n",
      "residual_layers.0.conv1                  #w: 2304    | sparsity: 2.43% \n",
      "residual_layers.0.conv2                  #w: 2304    | sparsity: 2.6%  \n",
      "residual_layers.1.conv1                  #w: 2304    | sparsity: 2.65% \n",
      "residual_layers.1.conv2                  #w: 2304    | sparsity: 3.04% \n",
      "residual_layers.2.conv1                  #w: 2304    | sparsity: 2.56% \n",
      "residual_layers.2.conv2                  #w: 2304    | sparsity: 4.04% \n",
      "residual_layers.3.conv1                  #w: 4608    | sparsity: 3.43% \n",
      "residual_layers.3.conv2                  #w: 9216    | sparsity: 4.16% \n",
      "residual_layers.3.residual.0             #w: 512     | sparsity: 1.76% \n",
      "residual_layers.4.conv1                  #w: 9216    | sparsity: 3.84% \n",
      "residual_layers.4.conv2                  #w: 9216    | sparsity: 4.1%  \n",
      "residual_layers.5.conv1                  #w: 9216    | sparsity: 4.28% \n",
      "residual_layers.5.conv2                  #w: 9216    | sparsity: 4.73% \n",
      "residual_layers.6.conv1                  #w: 18432   | sparsity: 5.2%  \n",
      "residual_layers.6.conv2                  #w: 36864   | sparsity: 6.2%  \n",
      "residual_layers.6.residual.0             #w: 2048    | sparsity: 2.1%  \n",
      "residual_layers.7.conv1                  #w: 36864   | sparsity: 6.27% \n",
      "residual_layers.7.conv2                  #w: 36864   | sparsity: 7.5%  \n",
      "residual_layers.8.conv1                  #w: 36864   | sparsity: 8.2%  \n",
      "residual_layers.8.conv2                  #w: 36864   | sparsity: 9.12% \n",
      "classifier                               #w: 640     | sparsity: 1.25% \n"
     ]
    },
    {
     "name": "stderr",
     "output_type": "stream",
     "text": [
      "Testing: 100%|█████████████████████████| 26/26 [00:00<00:00, 27.71it/s, accuracy=70.6, loss=0.00229]\n"
     ]
    },
    {
     "name": "stdout",
     "output_type": "stream",
     "text": [
      "Saved best model at epoch 7 with accuracy: 70.57%\n"
     ]
    },
    {
     "name": "stderr",
     "output_type": "stream",
     "text": [
      "Epoch 8: 100%|█████████████████████████| 128/128 [00:06<00:00, 20.44it/s, accuracy=79.8, loss=0.579]\n"
     ]
    },
    {
     "name": "stdout",
     "output_type": "stream",
     "text": [
      "conv1                                    #w: 432     | sparsity: 0.69% \n",
      "residual_layers.0.conv1                  #w: 2304    | sparsity: 3.56% \n",
      "residual_layers.0.conv2                  #w: 2304    | sparsity: 2.91% \n",
      "residual_layers.1.conv1                  #w: 2304    | sparsity: 3.73% \n",
      "residual_layers.1.conv2                  #w: 2304    | sparsity: 3.73% \n",
      "residual_layers.2.conv1                  #w: 2304    | sparsity: 3.47% \n",
      "residual_layers.2.conv2                  #w: 2304    | sparsity: 3.73% \n",
      "residual_layers.3.conv1                  #w: 4608    | sparsity: 3.34% \n",
      "residual_layers.3.conv2                  #w: 9216    | sparsity: 4.12% \n",
      "residual_layers.3.residual.0             #w: 512     | sparsity: 1.76% \n",
      "residual_layers.4.conv1                  #w: 9216    | sparsity: 4.39% \n",
      "residual_layers.4.conv2                  #w: 9216    | sparsity: 4.34% \n",
      "residual_layers.5.conv1                  #w: 9216    | sparsity: 4.89% \n",
      "residual_layers.5.conv2                  #w: 9216    | sparsity: 5.18% \n",
      "residual_layers.6.conv1                  #w: 18432   | sparsity: 5.42% \n",
      "residual_layers.6.conv2                  #w: 36864   | sparsity: 7.14% \n",
      "residual_layers.6.residual.0             #w: 2048    | sparsity: 1.71% \n",
      "residual_layers.7.conv1                  #w: 36864   | sparsity: 7.25% \n",
      "residual_layers.7.conv2                  #w: 36864   | sparsity: 8.38% \n",
      "residual_layers.8.conv1                  #w: 36864   | sparsity: 9.48% \n",
      "residual_layers.8.conv2                  #w: 36864   | sparsity: 10.76%\n",
      "classifier                               #w: 640     | sparsity: 0.47% \n"
     ]
    },
    {
     "name": "stderr",
     "output_type": "stream",
     "text": [
      "Testing: 100%|█████████████████████████| 26/26 [00:00<00:00, 29.68it/s, accuracy=77.5, loss=0.00169]\n"
     ]
    },
    {
     "name": "stdout",
     "output_type": "stream",
     "text": [
      "Saved best model at epoch 8 with accuracy: 77.52%\n"
     ]
    },
    {
     "name": "stderr",
     "output_type": "stream",
     "text": [
      "Epoch 9: 100%|█████████████████████████| 128/128 [00:06<00:00, 20.95it/s, accuracy=81.1, loss=0.544]\n"
     ]
    },
    {
     "name": "stdout",
     "output_type": "stream",
     "text": [
      "conv1                                    #w: 432     | sparsity: 1.16% \n",
      "residual_layers.0.conv1                  #w: 2304    | sparsity: 4.25% \n",
      "residual_layers.0.conv2                  #w: 2304    | sparsity: 3.52% \n",
      "residual_layers.1.conv1                  #w: 2304    | sparsity: 3.52% \n",
      "residual_layers.1.conv2                  #w: 2304    | sparsity: 3.69% \n",
      "residual_layers.2.conv1                  #w: 2304    | sparsity: 4.08% \n",
      "residual_layers.2.conv2                  #w: 2304    | sparsity: 5.03% \n",
      "residual_layers.3.conv1                  #w: 4608    | sparsity: 4.25% \n",
      "residual_layers.3.conv2                  #w: 9216    | sparsity: 4.83% \n",
      "residual_layers.3.residual.0             #w: 512     | sparsity: 1.17% \n",
      "residual_layers.4.conv1                  #w: 9216    | sparsity: 5.32% \n",
      "residual_layers.4.conv2                  #w: 9216    | sparsity: 5.54% \n",
      "residual_layers.5.conv1                  #w: 9216    | sparsity: 5.47% \n",
      "residual_layers.5.conv2                  #w: 9216    | sparsity: 6.1%  \n",
      "residual_layers.6.conv1                  #w: 18432   | sparsity: 5.46% \n",
      "residual_layers.6.conv2                  #w: 36864   | sparsity: 7.42% \n",
      "residual_layers.6.residual.0             #w: 2048    | sparsity: 2.98% \n",
      "residual_layers.7.conv1                  #w: 36864   | sparsity: 8.06% \n",
      "residual_layers.7.conv2                  #w: 36864   | sparsity: 9.58% \n",
      "residual_layers.8.conv1                  #w: 36864   | sparsity: 10.73%\n",
      "residual_layers.8.conv2                  #w: 36864   | sparsity: 12.4% \n",
      "classifier                               #w: 640     | sparsity: 2.03% \n"
     ]
    },
    {
     "name": "stderr",
     "output_type": "stream",
     "text": [
      "Testing: 100%|█████████████████████████| 26/26 [00:00<00:00, 28.12it/s, accuracy=78.5, loss=0.00161]\n"
     ]
    },
    {
     "name": "stdout",
     "output_type": "stream",
     "text": [
      "Saved best model at epoch 9 with accuracy: 78.55%\n"
     ]
    },
    {
     "name": "stderr",
     "output_type": "stream",
     "text": [
      "Epoch 10: 100%|████████████████████████| 128/128 [00:06<00:00, 20.28it/s, accuracy=81.9, loss=0.523]\n"
     ]
    },
    {
     "name": "stdout",
     "output_type": "stream",
     "text": [
      "conv1                                    #w: 432     | sparsity: 2.08% \n",
      "residual_layers.0.conv1                  #w: 2304    | sparsity: 4.25% \n",
      "residual_layers.0.conv2                  #w: 2304    | sparsity: 3.65% \n",
      "residual_layers.1.conv1                  #w: 2304    | sparsity: 3.91% \n",
      "residual_layers.1.conv2                  #w: 2304    | sparsity: 4.82% \n",
      "residual_layers.2.conv1                  #w: 2304    | sparsity: 4.43% \n",
      "residual_layers.2.conv2                  #w: 2304    | sparsity: 5.56% \n",
      "residual_layers.3.conv1                  #w: 4608    | sparsity: 4.3%  \n",
      "residual_layers.3.conv2                  #w: 9216    | sparsity: 5.08% \n",
      "residual_layers.3.residual.0             #w: 512     | sparsity: 1.56% \n",
      "residual_layers.4.conv1                  #w: 9216    | sparsity: 5.21% \n",
      "residual_layers.4.conv2                  #w: 9216    | sparsity: 5.35% \n",
      "residual_layers.5.conv1                  #w: 9216    | sparsity: 6.08% \n",
      "residual_layers.5.conv2                  #w: 9216    | sparsity: 6.64% \n",
      "residual_layers.6.conv1                  #w: 18432   | sparsity: 6.58% \n",
      "residual_layers.6.conv2                  #w: 36864   | sparsity: 8.16% \n",
      "residual_layers.6.residual.0             #w: 2048    | sparsity: 3.56% \n",
      "residual_layers.7.conv1                  #w: 36864   | sparsity: 8.64% \n",
      "residual_layers.7.conv2                  #w: 36864   | sparsity: 10.44%\n",
      "residual_layers.8.conv1                  #w: 36864   | sparsity: 12.1% \n",
      "residual_layers.8.conv2                  #w: 36864   | sparsity: 14.17%\n",
      "classifier                               #w: 640     | sparsity: 1.25% \n"
     ]
    },
    {
     "name": "stderr",
     "output_type": "stream",
     "text": [
      "Testing: 100%|█████████████████████████| 26/26 [00:00<00:00, 27.25it/s, accuracy=75.1, loss=0.00193]\n",
      "Epoch 11: 100%|████████████████████████| 128/128 [00:06<00:00, 20.36it/s, accuracy=82.8, loss=0.498]\n"
     ]
    },
    {
     "name": "stdout",
     "output_type": "stream",
     "text": [
      "conv1                                    #w: 432     | sparsity: 1.62% \n",
      "residual_layers.0.conv1                  #w: 2304    | sparsity: 5.08% \n",
      "residual_layers.0.conv2                  #w: 2304    | sparsity: 4.64% \n",
      "residual_layers.1.conv1                  #w: 2304    | sparsity: 4.99% \n",
      "residual_layers.1.conv2                  #w: 2304    | sparsity: 4.77% \n",
      "residual_layers.2.conv1                  #w: 2304    | sparsity: 5.08% \n",
      "residual_layers.2.conv2                  #w: 2304    | sparsity: 6.6%  \n",
      "residual_layers.3.conv1                  #w: 4608    | sparsity: 4.86% \n",
      "residual_layers.3.conv2                  #w: 9216    | sparsity: 5.73% \n",
      "residual_layers.3.residual.0             #w: 512     | sparsity: 2.73% \n",
      "residual_layers.4.conv1                  #w: 9216    | sparsity: 5.73% \n",
      "residual_layers.4.conv2                  #w: 9216    | sparsity: 6.17% \n",
      "residual_layers.5.conv1                  #w: 9216    | sparsity: 6.71% \n",
      "residual_layers.5.conv2                  #w: 9216    | sparsity: 7.3%  \n",
      "residual_layers.6.conv1                  #w: 18432   | sparsity: 7.2%  \n",
      "residual_layers.6.conv2                  #w: 36864   | sparsity: 8.78% \n",
      "residual_layers.6.residual.0             #w: 2048    | sparsity: 3.22% \n",
      "residual_layers.7.conv1                  #w: 36864   | sparsity: 8.87% \n",
      "residual_layers.7.conv2                  #w: 36864   | sparsity: 11.34%\n",
      "residual_layers.8.conv1                  #w: 36864   | sparsity: 13.31%\n",
      "residual_layers.8.conv2                  #w: 36864   | sparsity: 15.89%\n",
      "classifier                               #w: 640     | sparsity: 1.72% \n"
     ]
    },
    {
     "name": "stderr",
     "output_type": "stream",
     "text": [
      "Testing: 100%|█████████████████████████| 26/26 [00:01<00:00, 25.82it/s, accuracy=77.8, loss=0.00169]\n",
      "Epoch 12: 100%|████████████████████████| 128/128 [00:06<00:00, 19.50it/s, accuracy=83.3, loss=0.483]\n"
     ]
    },
    {
     "name": "stdout",
     "output_type": "stream",
     "text": [
      "conv1                                    #w: 432     | sparsity: 2.55% \n",
      "residual_layers.0.conv1                  #w: 2304    | sparsity: 5.34% \n",
      "residual_layers.0.conv2                  #w: 2304    | sparsity: 4.86% \n",
      "residual_layers.1.conv1                  #w: 2304    | sparsity: 5.47% \n",
      "residual_layers.1.conv2                  #w: 2304    | sparsity: 5.43% \n",
      "residual_layers.2.conv1                  #w: 2304    | sparsity: 5.9%  \n",
      "residual_layers.2.conv2                  #w: 2304    | sparsity: 5.73% \n",
      "residual_layers.3.conv1                  #w: 4608    | sparsity: 5.25% \n",
      "residual_layers.3.conv2                  #w: 9216    | sparsity: 6.61% \n",
      "residual_layers.3.residual.0             #w: 512     | sparsity: 2.93% \n",
      "residual_layers.4.conv1                  #w: 9216    | sparsity: 6.34% \n",
      "residual_layers.4.conv2                  #w: 9216    | sparsity: 6.71% \n",
      "residual_layers.5.conv1                  #w: 9216    | sparsity: 7.2%  \n",
      "residual_layers.5.conv2                  #w: 9216    | sparsity: 7.69% \n",
      "residual_layers.6.conv1                  #w: 18432   | sparsity: 7.86% \n",
      "residual_layers.6.conv2                  #w: 36864   | sparsity: 9.27% \n",
      "residual_layers.6.residual.0             #w: 2048    | sparsity: 3.66% \n",
      "residual_layers.7.conv1                  #w: 36864   | sparsity: 9.63% \n",
      "residual_layers.7.conv2                  #w: 36864   | sparsity: 12.45%\n",
      "residual_layers.8.conv1                  #w: 36864   | sparsity: 14.28%\n",
      "residual_layers.8.conv2                  #w: 36864   | sparsity: 17.79%\n",
      "classifier                               #w: 640     | sparsity: 1.09% \n"
     ]
    },
    {
     "name": "stderr",
     "output_type": "stream",
     "text": [
      "Testing: 100%|█████████████████████████| 26/26 [00:00<00:00, 27.53it/s, accuracy=76.8, loss=0.00177]\n",
      "Epoch 13: 100%|████████████████████████| 128/128 [00:06<00:00, 20.61it/s, accuracy=83.8, loss=0.469]\n"
     ]
    },
    {
     "name": "stdout",
     "output_type": "stream",
     "text": [
      "conv1                                    #w: 432     | sparsity: 1.62% \n",
      "residual_layers.0.conv1                  #w: 2304    | sparsity: 5.82% \n",
      "residual_layers.0.conv2                  #w: 2304    | sparsity: 5.56% \n",
      "residual_layers.1.conv1                  #w: 2304    | sparsity: 5.86% \n",
      "residual_layers.1.conv2                  #w: 2304    | sparsity: 6.86% \n",
      "residual_layers.2.conv1                  #w: 2304    | sparsity: 6.16% \n",
      "residual_layers.2.conv2                  #w: 2304    | sparsity: 6.16% \n",
      "residual_layers.3.conv1                  #w: 4608    | sparsity: 5.49% \n",
      "residual_layers.3.conv2                  #w: 9216    | sparsity: 6.94% \n",
      "residual_layers.3.residual.0             #w: 512     | sparsity: 2.93% \n",
      "residual_layers.4.conv1                  #w: 9216    | sparsity: 6.49% \n",
      "residual_layers.4.conv2                  #w: 9216    | sparsity: 6.99% \n",
      "residual_layers.5.conv1                  #w: 9216    | sparsity: 7.76% \n",
      "residual_layers.5.conv2                  #w: 9216    | sparsity: 8.36% \n",
      "residual_layers.6.conv1                  #w: 18432   | sparsity: 8.35% \n",
      "residual_layers.6.conv2                  #w: 36864   | sparsity: 9.78% \n",
      "residual_layers.6.residual.0             #w: 2048    | sparsity: 4.25% \n",
      "residual_layers.7.conv1                  #w: 36864   | sparsity: 10.22%\n",
      "residual_layers.7.conv2                  #w: 36864   | sparsity: 13.27%\n",
      "residual_layers.8.conv1                  #w: 36864   | sparsity: 15.77%\n",
      "residual_layers.8.conv2                  #w: 36864   | sparsity: 19.65%\n",
      "classifier                               #w: 640     | sparsity: 1.56% \n"
     ]
    },
    {
     "name": "stderr",
     "output_type": "stream",
     "text": [
      "Testing: 100%|█████████████████████████| 26/26 [00:00<00:00, 28.92it/s, accuracy=75.7, loss=0.00184]\n",
      "Epoch 14: 100%|████████████████████████| 128/128 [00:06<00:00, 21.02it/s, accuracy=83.9, loss=0.462]\n"
     ]
    },
    {
     "name": "stdout",
     "output_type": "stream",
     "text": [
      "conv1                                    #w: 432     | sparsity: 1.39% \n",
      "residual_layers.0.conv1                  #w: 2304    | sparsity: 6.12% \n",
      "residual_layers.0.conv2                  #w: 2304    | sparsity: 6.03% \n",
      "residual_layers.1.conv1                  #w: 2304    | sparsity: 6.03% \n",
      "residual_layers.1.conv2                  #w: 2304    | sparsity: 5.95% \n",
      "residual_layers.2.conv1                  #w: 2304    | sparsity: 6.55% \n",
      "residual_layers.2.conv2                  #w: 2304    | sparsity: 7.51% \n",
      "residual_layers.3.conv1                  #w: 4608    | sparsity: 6.42% \n",
      "residual_layers.3.conv2                  #w: 9216    | sparsity: 7.44% \n",
      "residual_layers.3.residual.0             #w: 512     | sparsity: 2.73% \n",
      "residual_layers.4.conv1                  #w: 9216    | sparsity: 7.17% \n",
      "residual_layers.4.conv2                  #w: 9216    | sparsity: 7.56% \n",
      "residual_layers.5.conv1                  #w: 9216    | sparsity: 8.59% \n",
      "residual_layers.5.conv2                  #w: 9216    | sparsity: 9.41% \n",
      "residual_layers.6.conv1                  #w: 18432   | sparsity: 8.79% \n",
      "residual_layers.6.conv2                  #w: 36864   | sparsity: 10.28%\n",
      "residual_layers.6.residual.0             #w: 2048    | sparsity: 5.22% \n",
      "residual_layers.7.conv1                  #w: 36864   | sparsity: 10.67%\n",
      "residual_layers.7.conv2                  #w: 36864   | sparsity: 14.27%\n",
      "residual_layers.8.conv1                  #w: 36864   | sparsity: 17.14%\n",
      "residual_layers.8.conv2                  #w: 36864   | sparsity: 21.21%\n",
      "classifier                               #w: 640     | sparsity: 1.09% \n"
     ]
    },
    {
     "name": "stderr",
     "output_type": "stream",
     "text": [
      "Testing: 100%|█████████████████████████| 26/26 [00:00<00:00, 29.90it/s, accuracy=80.2, loss=0.00147]\n"
     ]
    },
    {
     "name": "stdout",
     "output_type": "stream",
     "text": [
      "Saved best model at epoch 14 with accuracy: 80.20%\n"
     ]
    },
    {
     "name": "stderr",
     "output_type": "stream",
     "text": [
      "Epoch 15: 100%|████████████████████████| 128/128 [00:06<00:00, 20.81it/s, accuracy=84.6, loss=0.447]\n"
     ]
    },
    {
     "name": "stdout",
     "output_type": "stream",
     "text": [
      "conv1                                    #w: 432     | sparsity: 2.08% \n",
      "residual_layers.0.conv1                  #w: 2304    | sparsity: 7.38% \n",
      "residual_layers.0.conv2                  #w: 2304    | sparsity: 6.73% \n",
      "residual_layers.1.conv1                  #w: 2304    | sparsity: 7.12% \n",
      "residual_layers.1.conv2                  #w: 2304    | sparsity: 6.68% \n",
      "residual_layers.2.conv1                  #w: 2304    | sparsity: 6.16% \n",
      "residual_layers.2.conv2                  #w: 2304    | sparsity: 7.2%  \n",
      "residual_layers.3.conv1                  #w: 4608    | sparsity: 6.51% \n",
      "residual_layers.3.conv2                  #w: 9216    | sparsity: 7.71% \n",
      "residual_layers.3.residual.0             #w: 512     | sparsity: 2.93% \n",
      "residual_layers.4.conv1                  #w: 9216    | sparsity: 7.56% \n",
      "residual_layers.4.conv2                  #w: 9216    | sparsity: 8.51% \n",
      "residual_layers.5.conv1                  #w: 9216    | sparsity: 9.53% \n",
      "residual_layers.5.conv2                  #w: 9216    | sparsity: 10.26%\n",
      "residual_layers.6.conv1                  #w: 18432   | sparsity: 9.14% \n",
      "residual_layers.6.conv2                  #w: 36864   | sparsity: 11.18%\n",
      "residual_layers.6.residual.0             #w: 2048    | sparsity: 5.22% \n",
      "residual_layers.7.conv1                  #w: 36864   | sparsity: 11.14%\n",
      "residual_layers.7.conv2                  #w: 36864   | sparsity: 15.16%\n",
      "residual_layers.8.conv1                  #w: 36864   | sparsity: 17.97%\n",
      "residual_layers.8.conv2                  #w: 36864   | sparsity: 23.18%\n",
      "classifier                               #w: 640     | sparsity: 2.19% \n"
     ]
    },
    {
     "name": "stderr",
     "output_type": "stream",
     "text": [
      "Testing: 100%|█████████████████████████| 26/26 [00:00<00:00, 29.66it/s, accuracy=78.5, loss=0.00164]\n",
      "Epoch 16: 100%|████████████████████████| 128/128 [00:06<00:00, 20.40it/s, accuracy=84.9, loss=0.438]\n"
     ]
    },
    {
     "name": "stdout",
     "output_type": "stream",
     "text": [
      "conv1                                    #w: 432     | sparsity: 2.55% \n",
      "residual_layers.0.conv1                  #w: 2304    | sparsity: 7.99% \n",
      "residual_layers.0.conv2                  #w: 2304    | sparsity: 7.25% \n",
      "residual_layers.1.conv1                  #w: 2304    | sparsity: 7.16% \n",
      "residual_layers.1.conv2                  #w: 2304    | sparsity: 7.07% \n",
      "residual_layers.2.conv1                  #w: 2304    | sparsity: 6.99% \n",
      "residual_layers.2.conv2                  #w: 2304    | sparsity: 8.07% \n",
      "residual_layers.3.conv1                  #w: 4608    | sparsity: 7.23% \n",
      "residual_layers.3.conv2                  #w: 9216    | sparsity: 8.62% \n",
      "residual_layers.3.residual.0             #w: 512     | sparsity: 5.66% \n",
      "residual_layers.4.conv1                  #w: 9216    | sparsity: 7.6%  \n",
      "residual_layers.4.conv2                  #w: 9216    | sparsity: 8.64% \n",
      "residual_layers.5.conv1                  #w: 9216    | sparsity: 9.48% \n",
      "residual_layers.5.conv2                  #w: 9216    | sparsity: 10.64%\n",
      "residual_layers.6.conv1                  #w: 18432   | sparsity: 9.59% \n",
      "residual_layers.6.conv2                  #w: 36864   | sparsity: 11.43%\n",
      "residual_layers.6.residual.0             #w: 2048    | sparsity: 5.47% \n",
      "residual_layers.7.conv1                  #w: 36864   | sparsity: 11.94%\n",
      "residual_layers.7.conv2                  #w: 36864   | sparsity: 16.11%\n",
      "residual_layers.8.conv1                  #w: 36864   | sparsity: 19.05%\n",
      "residual_layers.8.conv2                  #w: 36864   | sparsity: 25.16%\n",
      "classifier                               #w: 640     | sparsity: 1.88% \n"
     ]
    },
    {
     "name": "stderr",
     "output_type": "stream",
     "text": [
      "Testing: 100%|█████████████████████████| 26/26 [00:00<00:00, 28.24it/s, accuracy=81.7, loss=0.00136]\n"
     ]
    },
    {
     "name": "stdout",
     "output_type": "stream",
     "text": [
      "Saved best model at epoch 16 with accuracy: 81.73%\n"
     ]
    },
    {
     "name": "stderr",
     "output_type": "stream",
     "text": [
      "Epoch 17: 100%|█████████████████████████| 128/128 [00:06<00:00, 20.91it/s, accuracy=85.2, loss=0.43]\n"
     ]
    },
    {
     "name": "stdout",
     "output_type": "stream",
     "text": [
      "conv1                                    #w: 432     | sparsity: 2.08% \n",
      "residual_layers.0.conv1                  #w: 2304    | sparsity: 8.2%  \n",
      "residual_layers.0.conv2                  #w: 2304    | sparsity: 7.77% \n",
      "residual_layers.1.conv1                  #w: 2304    | sparsity: 8.42% \n",
      "residual_layers.1.conv2                  #w: 2304    | sparsity: 7.99% \n",
      "residual_layers.2.conv1                  #w: 2304    | sparsity: 8.12% \n",
      "residual_layers.2.conv2                  #w: 2304    | sparsity: 8.2%  \n",
      "residual_layers.3.conv1                  #w: 4608    | sparsity: 7.01% \n",
      "residual_layers.3.conv2                  #w: 9216    | sparsity: 9.05% \n",
      "residual_layers.3.residual.0             #w: 512     | sparsity: 4.49% \n",
      "residual_layers.4.conv1                  #w: 9216    | sparsity: 8.53% \n",
      "residual_layers.4.conv2                  #w: 9216    | sparsity: 8.85% \n",
      "residual_layers.5.conv1                  #w: 9216    | sparsity: 10.17%\n",
      "residual_layers.5.conv2                  #w: 9216    | sparsity: 11.34%\n",
      "residual_layers.6.conv1                  #w: 18432   | sparsity: 10.39%\n",
      "residual_layers.6.conv2                  #w: 36864   | sparsity: 12.14%\n",
      "residual_layers.6.residual.0             #w: 2048    | sparsity: 6.49% \n",
      "residual_layers.7.conv1                  #w: 36864   | sparsity: 12.38%\n",
      "residual_layers.7.conv2                  #w: 36864   | sparsity: 16.9% \n",
      "residual_layers.8.conv1                  #w: 36864   | sparsity: 20.13%\n",
      "residual_layers.8.conv2                  #w: 36864   | sparsity: 26.81%\n",
      "classifier                               #w: 640     | sparsity: 1.88% \n"
     ]
    },
    {
     "name": "stderr",
     "output_type": "stream",
     "text": [
      "Testing: 100%|█████████████████████████| 26/26 [00:00<00:00, 29.27it/s, accuracy=79.8, loss=0.00153]\n",
      "Epoch 18: 100%|████████████████████████| 128/128 [00:06<00:00, 20.96it/s, accuracy=85.8, loss=0.411]\n"
     ]
    },
    {
     "name": "stdout",
     "output_type": "stream",
     "text": [
      "conv1                                    #w: 432     | sparsity: 2.78% \n",
      "residual_layers.0.conv1                  #w: 2304    | sparsity: 9.07% \n",
      "residual_layers.0.conv2                  #w: 2304    | sparsity: 8.38% \n",
      "residual_layers.1.conv1                  #w: 2304    | sparsity: 8.2%  \n",
      "residual_layers.1.conv2                  #w: 2304    | sparsity: 7.38% \n",
      "residual_layers.2.conv1                  #w: 2304    | sparsity: 8.51% \n",
      "residual_layers.2.conv2                  #w: 2304    | sparsity: 8.55% \n",
      "residual_layers.3.conv1                  #w: 4608    | sparsity: 7.75% \n",
      "residual_layers.3.conv2                  #w: 9216    | sparsity: 9.31% \n",
      "residual_layers.3.residual.0             #w: 512     | sparsity: 3.52% \n",
      "residual_layers.4.conv1                  #w: 9216    | sparsity: 9.35% \n",
      "residual_layers.4.conv2                  #w: 9216    | sparsity: 9.28% \n",
      "residual_layers.5.conv1                  #w: 9216    | sparsity: 10.32%\n",
      "residual_layers.5.conv2                  #w: 9216    | sparsity: 11.79%\n",
      "residual_layers.6.conv1                  #w: 18432   | sparsity: 10.67%\n",
      "residual_layers.6.conv2                  #w: 36864   | sparsity: 12.51%\n",
      "residual_layers.6.residual.0             #w: 2048    | sparsity: 6.3%  \n",
      "residual_layers.7.conv1                  #w: 36864   | sparsity: 13.26%\n",
      "residual_layers.7.conv2                  #w: 36864   | sparsity: 18.12%\n",
      "residual_layers.8.conv1                  #w: 36864   | sparsity: 21.37%\n",
      "residual_layers.8.conv2                  #w: 36864   | sparsity: 28.64%\n",
      "classifier                               #w: 640     | sparsity: 2.03% \n"
     ]
    },
    {
     "name": "stderr",
     "output_type": "stream",
     "text": [
      "Testing: 100%|█████████████████████████| 26/26 [00:00<00:00, 29.95it/s, accuracy=76.3, loss=0.00196]\n",
      "Epoch 19: 100%|████████████████████████| 128/128 [00:05<00:00, 21.38it/s, accuracy=85.9, loss=0.413]\n"
     ]
    },
    {
     "name": "stdout",
     "output_type": "stream",
     "text": [
      "conv1                                    #w: 432     | sparsity: 2.55% \n",
      "residual_layers.0.conv1                  #w: 2304    | sparsity: 10.07%\n",
      "residual_layers.0.conv2                  #w: 2304    | sparsity: 8.42% \n",
      "residual_layers.1.conv1                  #w: 2304    | sparsity: 8.72% \n",
      "residual_layers.1.conv2                  #w: 2304    | sparsity: 7.6%  \n",
      "residual_layers.2.conv1                  #w: 2304    | sparsity: 9.2%  \n",
      "residual_layers.2.conv2                  #w: 2304    | sparsity: 9.94% \n",
      "residual_layers.3.conv1                  #w: 4608    | sparsity: 7.99% \n",
      "residual_layers.3.conv2                  #w: 9216    | sparsity: 9.32% \n",
      "residual_layers.3.residual.0             #w: 512     | sparsity: 3.71% \n",
      "residual_layers.4.conv1                  #w: 9216    | sparsity: 9.53% \n",
      "residual_layers.4.conv2                  #w: 9216    | sparsity: 10.35%\n",
      "residual_layers.5.conv1                  #w: 9216    | sparsity: 10.72%\n",
      "residual_layers.5.conv2                  #w: 9216    | sparsity: 12.84%\n",
      "residual_layers.6.conv1                  #w: 18432   | sparsity: 11.51%\n",
      "residual_layers.6.conv2                  #w: 36864   | sparsity: 13.34%\n",
      "residual_layers.6.residual.0             #w: 2048    | sparsity: 7.67% \n",
      "residual_layers.7.conv1                  #w: 36864   | sparsity: 13.63%\n",
      "residual_layers.7.conv2                  #w: 36864   | sparsity: 19.0% \n",
      "residual_layers.8.conv1                  #w: 36864   | sparsity: 22.23%\n",
      "residual_layers.8.conv2                  #w: 36864   | sparsity: 30.3% \n",
      "classifier                               #w: 640     | sparsity: 3.44% \n"
     ]
    },
    {
     "name": "stderr",
     "output_type": "stream",
     "text": [
      "Testing: 100%|█████████████████████████| 26/26 [00:01<00:00, 25.22it/s, accuracy=76.4, loss=0.00187]\n",
      "Epoch 20: 100%|████████████████████████| 128/128 [00:06<00:00, 21.05it/s, accuracy=86.1, loss=0.405]\n"
     ]
    },
    {
     "name": "stdout",
     "output_type": "stream",
     "text": [
      "conv1                                    #w: 432     | sparsity: 3.24% \n",
      "residual_layers.0.conv1                  #w: 2304    | sparsity: 9.72% \n",
      "residual_layers.0.conv2                  #w: 2304    | sparsity: 8.85% \n",
      "residual_layers.1.conv1                  #w: 2304    | sparsity: 8.16% \n",
      "residual_layers.1.conv2                  #w: 2304    | sparsity: 8.72% \n",
      "residual_layers.2.conv1                  #w: 2304    | sparsity: 9.55% \n",
      "residual_layers.2.conv2                  #w: 2304    | sparsity: 9.64% \n",
      "residual_layers.3.conv1                  #w: 4608    | sparsity: 8.01% \n",
      "residual_layers.3.conv2                  #w: 9216    | sparsity: 10.1% \n",
      "residual_layers.3.residual.0             #w: 512     | sparsity: 4.3%  \n",
      "residual_layers.4.conv1                  #w: 9216    | sparsity: 9.71% \n",
      "residual_layers.4.conv2                  #w: 9216    | sparsity: 10.89%\n",
      "residual_layers.5.conv1                  #w: 9216    | sparsity: 11.6% \n",
      "residual_layers.5.conv2                  #w: 9216    | sparsity: 12.77%\n",
      "residual_layers.6.conv1                  #w: 18432   | sparsity: 11.69%\n",
      "residual_layers.6.conv2                  #w: 36864   | sparsity: 14.11%\n",
      "residual_layers.6.residual.0             #w: 2048    | sparsity: 7.81% \n",
      "residual_layers.7.conv1                  #w: 36864   | sparsity: 14.13%\n",
      "residual_layers.7.conv2                  #w: 36864   | sparsity: 19.81%\n",
      "residual_layers.8.conv1                  #w: 36864   | sparsity: 23.55%\n",
      "residual_layers.8.conv2                  #w: 36864   | sparsity: 32.14%\n",
      "classifier                               #w: 640     | sparsity: 2.66% \n"
     ]
    },
    {
     "name": "stderr",
     "output_type": "stream",
     "text": [
      "Testing: 100%|█████████████████████████| 26/26 [00:00<00:00, 30.39it/s, accuracy=78.6, loss=0.00165]\n",
      "Epoch 21: 100%|████████████████████████| 128/128 [00:06<00:00, 20.34it/s, accuracy=86.3, loss=0.395]\n"
     ]
    },
    {
     "name": "stdout",
     "output_type": "stream",
     "text": [
      "conv1                                    #w: 432     | sparsity: 4.4%  \n",
      "residual_layers.0.conv1                  #w: 2304    | sparsity: 9.51% \n",
      "residual_layers.0.conv2                  #w: 2304    | sparsity: 10.2% \n",
      "residual_layers.1.conv1                  #w: 2304    | sparsity: 8.81% \n",
      "residual_layers.1.conv2                  #w: 2304    | sparsity: 9.29% \n",
      "residual_layers.2.conv1                  #w: 2304    | sparsity: 10.76%\n",
      "residual_layers.2.conv2                  #w: 2304    | sparsity: 10.72%\n",
      "residual_layers.3.conv1                  #w: 4608    | sparsity: 10.03%\n",
      "residual_layers.3.conv2                  #w: 9216    | sparsity: 11.14%\n",
      "residual_layers.3.residual.0             #w: 512     | sparsity: 6.64% \n",
      "residual_layers.4.conv1                  #w: 9216    | sparsity: 10.67%\n",
      "residual_layers.4.conv2                  #w: 9216    | sparsity: 11.44%\n",
      "residual_layers.5.conv1                  #w: 9216    | sparsity: 12.0% \n",
      "residual_layers.5.conv2                  #w: 9216    | sparsity: 13.75%\n",
      "residual_layers.6.conv1                  #w: 18432   | sparsity: 12.32%\n",
      "residual_layers.6.conv2                  #w: 36864   | sparsity: 14.37%\n",
      "residual_layers.6.residual.0             #w: 2048    | sparsity: 7.71% \n",
      "residual_layers.7.conv1                  #w: 36864   | sparsity: 14.88%\n",
      "residual_layers.7.conv2                  #w: 36864   | sparsity: 20.46%\n",
      "residual_layers.8.conv1                  #w: 36864   | sparsity: 24.41%\n",
      "residual_layers.8.conv2                  #w: 36864   | sparsity: 33.75%\n",
      "classifier                               #w: 640     | sparsity: 2.34% \n"
     ]
    },
    {
     "name": "stderr",
     "output_type": "stream",
     "text": [
      "Testing: 100%|█████████████████████████| 26/26 [00:00<00:00, 30.02it/s, accuracy=79.7, loss=0.00157]\n",
      "Epoch 22: 100%|████████████████████████| 128/128 [00:06<00:00, 21.19it/s, accuracy=86.4, loss=0.397]\n"
     ]
    },
    {
     "name": "stdout",
     "output_type": "stream",
     "text": [
      "conv1                                    #w: 432     | sparsity: 5.32% \n",
      "residual_layers.0.conv1                  #w: 2304    | sparsity: 10.33%\n",
      "residual_layers.0.conv2                  #w: 2304    | sparsity: 9.59% \n",
      "residual_layers.1.conv1                  #w: 2304    | sparsity: 9.24% \n",
      "residual_layers.1.conv2                  #w: 2304    | sparsity: 9.72% \n",
      "residual_layers.2.conv1                  #w: 2304    | sparsity: 11.15%\n",
      "residual_layers.2.conv2                  #w: 2304    | sparsity: 11.59%\n",
      "residual_layers.3.conv1                  #w: 4608    | sparsity: 10.37%\n",
      "residual_layers.3.conv2                  #w: 9216    | sparsity: 11.39%\n",
      "residual_layers.3.residual.0             #w: 512     | sparsity: 5.08% \n",
      "residual_layers.4.conv1                  #w: 9216    | sparsity: 11.12%\n",
      "residual_layers.4.conv2                  #w: 9216    | sparsity: 11.87%\n",
      "residual_layers.5.conv1                  #w: 9216    | sparsity: 12.67%\n",
      "residual_layers.5.conv2                  #w: 9216    | sparsity: 14.2% \n",
      "residual_layers.6.conv1                  #w: 18432   | sparsity: 12.97%\n",
      "residual_layers.6.conv2                  #w: 36864   | sparsity: 14.99%\n",
      "residual_layers.6.residual.0             #w: 2048    | sparsity: 8.3%  \n",
      "residual_layers.7.conv1                  #w: 36864   | sparsity: 15.36%\n",
      "residual_layers.7.conv2                  #w: 36864   | sparsity: 21.61%\n",
      "residual_layers.8.conv1                  #w: 36864   | sparsity: 25.44%\n",
      "residual_layers.8.conv2                  #w: 36864   | sparsity: 35.17%\n",
      "classifier                               #w: 640     | sparsity: 2.34% \n"
     ]
    },
    {
     "name": "stderr",
     "output_type": "stream",
     "text": [
      "Testing: 100%|█████████████████████████| 26/26 [00:00<00:00, 30.10it/s, accuracy=72.6, loss=0.00227]\n",
      "Epoch 23: 100%|████████████████████████| 128/128 [00:06<00:00, 20.73it/s, accuracy=86.6, loss=0.386]\n"
     ]
    },
    {
     "name": "stdout",
     "output_type": "stream",
     "text": [
      "conv1                                    #w: 432     | sparsity: 5.56% \n",
      "residual_layers.0.conv1                  #w: 2304    | sparsity: 10.29%\n",
      "residual_layers.0.conv2                  #w: 2304    | sparsity: 9.64% \n",
      "residual_layers.1.conv1                  #w: 2304    | sparsity: 10.42%\n",
      "residual_layers.1.conv2                  #w: 2304    | sparsity: 10.46%\n",
      "residual_layers.2.conv1                  #w: 2304    | sparsity: 11.55%\n",
      "residual_layers.2.conv2                  #w: 2304    | sparsity: 12.67%\n",
      "residual_layers.3.conv1                  #w: 4608    | sparsity: 10.22%\n",
      "residual_layers.3.conv2                  #w: 9216    | sparsity: 11.94%\n",
      "residual_layers.3.residual.0             #w: 512     | sparsity: 6.05% \n",
      "residual_layers.4.conv1                  #w: 9216    | sparsity: 11.44%\n",
      "residual_layers.4.conv2                  #w: 9216    | sparsity: 12.58%\n",
      "residual_layers.5.conv1                  #w: 9216    | sparsity: 13.59%\n",
      "residual_layers.5.conv2                  #w: 9216    | sparsity: 14.84%\n",
      "residual_layers.6.conv1                  #w: 18432   | sparsity: 13.64%\n",
      "residual_layers.6.conv2                  #w: 36864   | sparsity: 15.49%\n",
      "residual_layers.6.residual.0             #w: 2048    | sparsity: 8.98% \n",
      "residual_layers.7.conv1                  #w: 36864   | sparsity: 15.85%\n",
      "residual_layers.7.conv2                  #w: 36864   | sparsity: 22.4% \n",
      "residual_layers.8.conv1                  #w: 36864   | sparsity: 26.48%\n",
      "residual_layers.8.conv2                  #w: 36864   | sparsity: 36.74%\n",
      "classifier                               #w: 640     | sparsity: 3.75% \n"
     ]
    },
    {
     "name": "stderr",
     "output_type": "stream",
     "text": [
      "Testing: 100%|█████████████████████████| 26/26 [00:00<00:00, 29.47it/s, accuracy=73.4, loss=0.00218]\n",
      "Epoch 24: 100%|████████████████████████| 128/128 [00:06<00:00, 20.43it/s, accuracy=86.7, loss=0.387]\n"
     ]
    },
    {
     "name": "stdout",
     "output_type": "stream",
     "text": [
      "conv1                                    #w: 432     | sparsity: 3.94% \n",
      "residual_layers.0.conv1                  #w: 2304    | sparsity: 11.15%\n",
      "residual_layers.0.conv2                  #w: 2304    | sparsity: 10.46%\n",
      "residual_layers.1.conv1                  #w: 2304    | sparsity: 11.15%\n",
      "residual_layers.1.conv2                  #w: 2304    | sparsity: 10.98%\n",
      "residual_layers.2.conv1                  #w: 2304    | sparsity: 11.63%\n",
      "residual_layers.2.conv2                  #w: 2304    | sparsity: 13.28%\n",
      "residual_layers.3.conv1                  #w: 4608    | sparsity: 10.26%\n",
      "residual_layers.3.conv2                  #w: 9216    | sparsity: 12.58%\n",
      "residual_layers.3.residual.0             #w: 512     | sparsity: 5.86% \n",
      "residual_layers.4.conv1                  #w: 9216    | sparsity: 12.83%\n",
      "residual_layers.4.conv2                  #w: 9216    | sparsity: 13.17%\n",
      "residual_layers.5.conv1                  #w: 9216    | sparsity: 14.01%\n",
      "residual_layers.5.conv2                  #w: 9216    | sparsity: 15.25%\n",
      "residual_layers.6.conv1                  #w: 18432   | sparsity: 13.74%\n",
      "residual_layers.6.conv2                  #w: 36864   | sparsity: 16.16%\n",
      "residual_layers.6.residual.0             #w: 2048    | sparsity: 10.11%\n",
      "residual_layers.7.conv1                  #w: 36864   | sparsity: 16.65%\n",
      "residual_layers.7.conv2                  #w: 36864   | sparsity: 23.38%\n",
      "residual_layers.8.conv1                  #w: 36864   | sparsity: 27.48%\n",
      "residual_layers.8.conv2                  #w: 36864   | sparsity: 38.13%\n",
      "classifier                               #w: 640     | sparsity: 2.66% \n"
     ]
    },
    {
     "name": "stderr",
     "output_type": "stream",
     "text": [
      "Testing: 100%|█████████████████████████| 26/26 [00:00<00:00, 28.04it/s, accuracy=74.8, loss=0.00221]\n",
      "Epoch 25: 100%|████████████████████████| 128/128 [00:06<00:00, 20.88it/s, accuracy=86.8, loss=0.382]\n"
     ]
    },
    {
     "name": "stdout",
     "output_type": "stream",
     "text": [
      "conv1                                    #w: 432     | sparsity: 4.17% \n",
      "residual_layers.0.conv1                  #w: 2304    | sparsity: 11.59%\n",
      "residual_layers.0.conv2                  #w: 2304    | sparsity: 11.07%\n",
      "residual_layers.1.conv1                  #w: 2304    | sparsity: 11.28%\n",
      "residual_layers.1.conv2                  #w: 2304    | sparsity: 11.5% \n",
      "residual_layers.2.conv1                  #w: 2304    | sparsity: 12.37%\n",
      "residual_layers.2.conv2                  #w: 2304    | sparsity: 13.89%\n",
      "residual_layers.3.conv1                  #w: 4608    | sparsity: 11.02%\n",
      "residual_layers.3.conv2                  #w: 9216    | sparsity: 12.99%\n",
      "residual_layers.3.residual.0             #w: 512     | sparsity: 5.08% \n",
      "residual_layers.4.conv1                  #w: 9216    | sparsity: 13.12%\n",
      "residual_layers.4.conv2                  #w: 9216    | sparsity: 13.78%\n",
      "residual_layers.5.conv1                  #w: 9216    | sparsity: 14.54%\n",
      "residual_layers.5.conv2                  #w: 9216    | sparsity: 16.19%\n",
      "residual_layers.6.conv1                  #w: 18432   | sparsity: 14.56%\n",
      "residual_layers.6.conv2                  #w: 36864   | sparsity: 16.66%\n",
      "residual_layers.6.residual.0             #w: 2048    | sparsity: 10.79%\n",
      "residual_layers.7.conv1                  #w: 36864   | sparsity: 17.11%\n",
      "residual_layers.7.conv2                  #w: 36864   | sparsity: 24.52%\n",
      "residual_layers.8.conv1                  #w: 36864   | sparsity: 28.36%\n",
      "residual_layers.8.conv2                  #w: 36864   | sparsity: 39.54%\n",
      "classifier                               #w: 640     | sparsity: 3.59% \n"
     ]
    },
    {
     "name": "stderr",
     "output_type": "stream",
     "text": [
      "Testing: 100%|█████████████████████████| 26/26 [00:00<00:00, 31.15it/s, accuracy=75.6, loss=0.00192]\n",
      "Epoch 26: 100%|████████████████████████| 128/128 [00:06<00:00, 20.62it/s, accuracy=87.1, loss=0.372]\n"
     ]
    },
    {
     "name": "stdout",
     "output_type": "stream",
     "text": [
      "conv1                                    #w: 432     | sparsity: 4.17% \n",
      "residual_layers.0.conv1                  #w: 2304    | sparsity: 11.81%\n",
      "residual_layers.0.conv2                  #w: 2304    | sparsity: 10.98%\n",
      "residual_layers.1.conv1                  #w: 2304    | sparsity: 11.94%\n",
      "residual_layers.1.conv2                  #w: 2304    | sparsity: 11.55%\n",
      "residual_layers.2.conv1                  #w: 2304    | sparsity: 12.72%\n",
      "residual_layers.2.conv2                  #w: 2304    | sparsity: 14.93%\n",
      "residual_layers.3.conv1                  #w: 4608    | sparsity: 10.94%\n",
      "residual_layers.3.conv2                  #w: 9216    | sparsity: 13.11%\n",
      "residual_layers.3.residual.0             #w: 512     | sparsity: 7.03% \n",
      "residual_layers.4.conv1                  #w: 9216    | sparsity: 13.62%\n",
      "residual_layers.4.conv2                  #w: 9216    | sparsity: 14.69%\n",
      "residual_layers.5.conv1                  #w: 9216    | sparsity: 15.03%\n",
      "residual_layers.5.conv2                  #w: 9216    | sparsity: 17.12%\n",
      "residual_layers.6.conv1                  #w: 18432   | sparsity: 15.14%\n",
      "residual_layers.6.conv2                  #w: 36864   | sparsity: 17.32%\n",
      "residual_layers.6.residual.0             #w: 2048    | sparsity: 11.62%\n",
      "residual_layers.7.conv1                  #w: 36864   | sparsity: 17.82%\n",
      "residual_layers.7.conv2                  #w: 36864   | sparsity: 25.18%\n",
      "residual_layers.8.conv1                  #w: 36864   | sparsity: 29.15%\n",
      "residual_layers.8.conv2                  #w: 36864   | sparsity: 41.27%\n",
      "classifier                               #w: 640     | sparsity: 3.75% \n"
     ]
    },
    {
     "name": "stderr",
     "output_type": "stream",
     "text": [
      "Testing: 100%|███████████████████████████| 26/26 [00:00<00:00, 27.90it/s, accuracy=78, loss=0.00175]\n",
      "Epoch 27: 100%|████████████████████████| 128/128 [00:06<00:00, 21.16it/s, accuracy=87.4, loss=0.368]\n"
     ]
    },
    {
     "name": "stdout",
     "output_type": "stream",
     "text": [
      "conv1                                    #w: 432     | sparsity: 4.63% \n",
      "residual_layers.0.conv1                  #w: 2304    | sparsity: 13.28%\n",
      "residual_layers.0.conv2                  #w: 2304    | sparsity: 12.41%\n",
      "residual_layers.1.conv1                  #w: 2304    | sparsity: 13.63%\n",
      "residual_layers.1.conv2                  #w: 2304    | sparsity: 11.94%\n",
      "residual_layers.2.conv1                  #w: 2304    | sparsity: 13.98%\n",
      "residual_layers.2.conv2                  #w: 2304    | sparsity: 14.63%\n",
      "residual_layers.3.conv1                  #w: 4608    | sparsity: 11.24%\n",
      "residual_layers.3.conv2                  #w: 9216    | sparsity: 13.79%\n",
      "residual_layers.3.residual.0             #w: 512     | sparsity: 6.64% \n",
      "residual_layers.4.conv1                  #w: 9216    | sparsity: 14.25%\n",
      "residual_layers.4.conv2                  #w: 9216    | sparsity: 15.03%\n",
      "residual_layers.5.conv1                  #w: 9216    | sparsity: 15.89%\n",
      "residual_layers.5.conv2                  #w: 9216    | sparsity: 18.01%\n",
      "residual_layers.6.conv1                  #w: 18432   | sparsity: 15.53%\n",
      "residual_layers.6.conv2                  #w: 36864   | sparsity: 17.81%\n",
      "residual_layers.6.residual.0             #w: 2048    | sparsity: 11.67%\n",
      "residual_layers.7.conv1                  #w: 36864   | sparsity: 18.31%\n",
      "residual_layers.7.conv2                  #w: 36864   | sparsity: 26.07%\n",
      "residual_layers.8.conv1                  #w: 36864   | sparsity: 30.25%\n",
      "residual_layers.8.conv2                  #w: 36864   | sparsity: 42.31%\n",
      "classifier                               #w: 640     | sparsity: 3.91% \n"
     ]
    },
    {
     "name": "stderr",
     "output_type": "stream",
     "text": [
      "Testing: 100%|█████████████████████████| 26/26 [00:00<00:00, 29.05it/s, accuracy=84.2, loss=0.00122]\n"
     ]
    },
    {
     "name": "stdout",
     "output_type": "stream",
     "text": [
      "Saved best model at epoch 27 with accuracy: 84.20%\n"
     ]
    },
    {
     "name": "stderr",
     "output_type": "stream",
     "text": [
      "Epoch 28: 100%|█████████████████████████| 128/128 [00:06<00:00, 20.81it/s, accuracy=87.5, loss=0.36]\n"
     ]
    },
    {
     "name": "stdout",
     "output_type": "stream",
     "text": [
      "conv1                                    #w: 432     | sparsity: 4.4%  \n",
      "residual_layers.0.conv1                  #w: 2304    | sparsity: 12.93%\n",
      "residual_layers.0.conv2                  #w: 2304    | sparsity: 13.19%\n",
      "residual_layers.1.conv1                  #w: 2304    | sparsity: 12.8% \n",
      "residual_layers.1.conv2                  #w: 2304    | sparsity: 11.98%\n",
      "residual_layers.2.conv1                  #w: 2304    | sparsity: 14.54%\n",
      "residual_layers.2.conv2                  #w: 2304    | sparsity: 14.84%\n",
      "residual_layers.3.conv1                  #w: 4608    | sparsity: 11.76%\n",
      "residual_layers.3.conv2                  #w: 9216    | sparsity: 14.51%\n",
      "residual_layers.3.residual.0             #w: 512     | sparsity: 8.98% \n",
      "residual_layers.4.conv1                  #w: 9216    | sparsity: 14.84%\n",
      "residual_layers.4.conv2                  #w: 9216    | sparsity: 15.76%\n",
      "residual_layers.5.conv1                  #w: 9216    | sparsity: 16.35%\n",
      "residual_layers.5.conv2                  #w: 9216    | sparsity: 18.75%\n",
      "residual_layers.6.conv1                  #w: 18432   | sparsity: 15.86%\n",
      "residual_layers.6.conv2                  #w: 36864   | sparsity: 18.44%\n",
      "residual_layers.6.residual.0             #w: 2048    | sparsity: 11.77%\n",
      "residual_layers.7.conv1                  #w: 36864   | sparsity: 19.16%\n",
      "residual_layers.7.conv2                  #w: 36864   | sparsity: 26.91%\n",
      "residual_layers.8.conv1                  #w: 36864   | sparsity: 31.23%\n",
      "residual_layers.8.conv2                  #w: 36864   | sparsity: 43.81%\n",
      "classifier                               #w: 640     | sparsity: 4.38% \n"
     ]
    },
    {
     "name": "stderr",
     "output_type": "stream",
     "text": [
      "Testing: 100%|█████████████████████████| 26/26 [00:00<00:00, 29.71it/s, accuracy=81.8, loss=0.00141]\n",
      "Epoch 29: 100%|████████████████████████| 128/128 [00:06<00:00, 20.89it/s, accuracy=87.5, loss=0.362]\n"
     ]
    },
    {
     "name": "stdout",
     "output_type": "stream",
     "text": [
      "conv1                                    #w: 432     | sparsity: 3.94% \n",
      "residual_layers.0.conv1                  #w: 2304    | sparsity: 13.89%\n",
      "residual_layers.0.conv2                  #w: 2304    | sparsity: 13.59%\n",
      "residual_layers.1.conv1                  #w: 2304    | sparsity: 14.28%\n",
      "residual_layers.1.conv2                  #w: 2304    | sparsity: 13.85%\n",
      "residual_layers.2.conv1                  #w: 2304    | sparsity: 16.84%\n",
      "residual_layers.2.conv2                  #w: 2304    | sparsity: 14.28%\n",
      "residual_layers.3.conv1                  #w: 4608    | sparsity: 12.8% \n",
      "residual_layers.3.conv2                  #w: 9216    | sparsity: 14.71%\n",
      "residual_layers.3.residual.0             #w: 512     | sparsity: 8.4%  \n",
      "residual_layers.4.conv1                  #w: 9216    | sparsity: 15.05%\n",
      "residual_layers.4.conv2                  #w: 9216    | sparsity: 16.6% \n",
      "residual_layers.5.conv1                  #w: 9216    | sparsity: 17.05%\n",
      "residual_layers.5.conv2                  #w: 9216    | sparsity: 19.41%\n",
      "residual_layers.6.conv1                  #w: 18432   | sparsity: 16.5% \n",
      "residual_layers.6.conv2                  #w: 36864   | sparsity: 18.96%\n",
      "residual_layers.6.residual.0             #w: 2048    | sparsity: 11.72%\n",
      "residual_layers.7.conv1                  #w: 36864   | sparsity: 19.82%\n",
      "residual_layers.7.conv2                  #w: 36864   | sparsity: 27.78%\n",
      "residual_layers.8.conv1                  #w: 36864   | sparsity: 32.19%\n",
      "residual_layers.8.conv2                  #w: 36864   | sparsity: 45.06%\n",
      "classifier                               #w: 640     | sparsity: 3.75% \n"
     ]
    },
    {
     "name": "stderr",
     "output_type": "stream",
     "text": [
      "Testing: 100%|█████████████████████████| 26/26 [00:00<00:00, 26.96it/s, accuracy=72.6, loss=0.00218]\n",
      "Epoch 30: 100%|████████████████████████| 128/128 [00:06<00:00, 20.95it/s, accuracy=87.4, loss=0.364]\n"
     ]
    },
    {
     "name": "stdout",
     "output_type": "stream",
     "text": [
      "conv1                                    #w: 432     | sparsity: 3.94% \n",
      "residual_layers.0.conv1                  #w: 2304    | sparsity: 14.93%\n",
      "residual_layers.0.conv2                  #w: 2304    | sparsity: 14.5% \n",
      "residual_layers.1.conv1                  #w: 2304    | sparsity: 14.63%\n",
      "residual_layers.1.conv2                  #w: 2304    | sparsity: 14.76%\n",
      "residual_layers.2.conv1                  #w: 2304    | sparsity: 16.58%\n",
      "residual_layers.2.conv2                  #w: 2304    | sparsity: 16.41%\n",
      "residual_layers.3.conv1                  #w: 4608    | sparsity: 13.11%\n",
      "residual_layers.3.conv2                  #w: 9216    | sparsity: 15.23%\n",
      "residual_layers.3.residual.0             #w: 512     | sparsity: 7.62% \n",
      "residual_layers.4.conv1                  #w: 9216    | sparsity: 15.98%\n",
      "residual_layers.4.conv2                  #w: 9216    | sparsity: 17.2% \n",
      "residual_layers.5.conv1                  #w: 9216    | sparsity: 17.19%\n",
      "residual_layers.5.conv2                  #w: 9216    | sparsity: 19.74%\n",
      "residual_layers.6.conv1                  #w: 18432   | sparsity: 17.47%\n",
      "residual_layers.6.conv2                  #w: 36864   | sparsity: 19.78%\n",
      "residual_layers.6.residual.0             #w: 2048    | sparsity: 12.74%\n",
      "residual_layers.7.conv1                  #w: 36864   | sparsity: 20.54%\n",
      "residual_layers.7.conv2                  #w: 36864   | sparsity: 28.45%\n",
      "residual_layers.8.conv1                  #w: 36864   | sparsity: 32.92%\n",
      "residual_layers.8.conv2                  #w: 36864   | sparsity: 46.12%\n",
      "classifier                               #w: 640     | sparsity: 3.44% \n"
     ]
    },
    {
     "name": "stderr",
     "output_type": "stream",
     "text": [
      "Testing: 100%|█████████████████████████| 26/26 [00:00<00:00, 29.02it/s, accuracy=75.7, loss=0.00218]\n",
      "Epoch 31: 100%|████████████████████████| 128/128 [00:06<00:00, 20.57it/s, accuracy=87.9, loss=0.355]\n"
     ]
    },
    {
     "name": "stdout",
     "output_type": "stream",
     "text": [
      "conv1                                    #w: 432     | sparsity: 5.09% \n",
      "residual_layers.0.conv1                  #w: 2304    | sparsity: 16.41%\n",
      "residual_layers.0.conv2                  #w: 2304    | sparsity: 14.15%\n",
      "residual_layers.1.conv1                  #w: 2304    | sparsity: 15.97%\n",
      "residual_layers.1.conv2                  #w: 2304    | sparsity: 15.23%\n",
      "residual_layers.2.conv1                  #w: 2304    | sparsity: 16.45%\n",
      "residual_layers.2.conv2                  #w: 2304    | sparsity: 17.84%\n",
      "residual_layers.3.conv1                  #w: 4608    | sparsity: 13.91%\n",
      "residual_layers.3.conv2                  #w: 9216    | sparsity: 15.7% \n",
      "residual_layers.3.residual.0             #w: 512     | sparsity: 6.64% \n",
      "residual_layers.4.conv1                  #w: 9216    | sparsity: 16.7% \n",
      "residual_layers.4.conv2                  #w: 9216    | sparsity: 17.72%\n",
      "residual_layers.5.conv1                  #w: 9216    | sparsity: 18.23%\n",
      "residual_layers.5.conv2                  #w: 9216    | sparsity: 20.59%\n",
      "residual_layers.6.conv1                  #w: 18432   | sparsity: 17.69%\n",
      "residual_layers.6.conv2                  #w: 36864   | sparsity: 20.27%\n",
      "residual_layers.6.residual.0             #w: 2048    | sparsity: 12.6% \n",
      "residual_layers.7.conv1                  #w: 36864   | sparsity: 20.71%\n",
      "residual_layers.7.conv2                  #w: 36864   | sparsity: 29.16%\n",
      "residual_layers.8.conv1                  #w: 36864   | sparsity: 34.14%\n",
      "residual_layers.8.conv2                  #w: 36864   | sparsity: 47.55%\n",
      "classifier                               #w: 640     | sparsity: 3.75% \n"
     ]
    },
    {
     "name": "stderr",
     "output_type": "stream",
     "text": [
      "Testing: 100%|█████████████████████████| 26/26 [00:00<00:00, 29.79it/s, accuracy=78.5, loss=0.00169]\n",
      "Epoch 32: 100%|████████████████████████| 128/128 [00:06<00:00, 20.97it/s, accuracy=88.1, loss=0.345]\n"
     ]
    },
    {
     "name": "stdout",
     "output_type": "stream",
     "text": [
      "conv1                                    #w: 432     | sparsity: 4.4%  \n",
      "residual_layers.0.conv1                  #w: 2304    | sparsity: 15.89%\n",
      "residual_layers.0.conv2                  #w: 2304    | sparsity: 15.93%\n",
      "residual_layers.1.conv1                  #w: 2304    | sparsity: 16.67%\n",
      "residual_layers.1.conv2                  #w: 2304    | sparsity: 14.41%\n",
      "residual_layers.2.conv1                  #w: 2304    | sparsity: 17.32%\n",
      "residual_layers.2.conv2                  #w: 2304    | sparsity: 18.1% \n",
      "residual_layers.3.conv1                  #w: 4608    | sparsity: 15.36%\n",
      "residual_layers.3.conv2                  #w: 9216    | sparsity: 16.75%\n",
      "residual_layers.3.residual.0             #w: 512     | sparsity: 9.57% \n",
      "residual_layers.4.conv1                  #w: 9216    | sparsity: 17.49%\n",
      "residual_layers.4.conv2                  #w: 9216    | sparsity: 18.45%\n",
      "residual_layers.5.conv1                  #w: 9216    | sparsity: 18.39%\n",
      "residual_layers.5.conv2                  #w: 9216    | sparsity: 21.3% \n",
      "residual_layers.6.conv1                  #w: 18432   | sparsity: 18.25%\n",
      "residual_layers.6.conv2                  #w: 36864   | sparsity: 21.04%\n",
      "residual_layers.6.residual.0             #w: 2048    | sparsity: 12.6% \n",
      "residual_layers.7.conv1                  #w: 36864   | sparsity: 21.82%\n",
      "residual_layers.7.conv2                  #w: 36864   | sparsity: 29.84%\n",
      "residual_layers.8.conv1                  #w: 36864   | sparsity: 34.54%\n",
      "residual_layers.8.conv2                  #w: 36864   | sparsity: 48.66%\n",
      "classifier                               #w: 640     | sparsity: 4.06% \n"
     ]
    },
    {
     "name": "stderr",
     "output_type": "stream",
     "text": [
      "Testing: 100%|█████████████████████████| 26/26 [00:00<00:00, 26.15it/s, accuracy=77.5, loss=0.00184]\n",
      "Epoch 33: 100%|████████████████████████| 128/128 [00:06<00:00, 20.45it/s, accuracy=87.5, loss=0.354]\n"
     ]
    },
    {
     "name": "stdout",
     "output_type": "stream",
     "text": [
      "conv1                                    #w: 432     | sparsity: 7.64% \n",
      "residual_layers.0.conv1                  #w: 2304    | sparsity: 16.41%\n",
      "residual_layers.0.conv2                  #w: 2304    | sparsity: 16.62%\n",
      "residual_layers.1.conv1                  #w: 2304    | sparsity: 17.1% \n",
      "residual_layers.1.conv2                  #w: 2304    | sparsity: 15.06%\n",
      "residual_layers.2.conv1                  #w: 2304    | sparsity: 19.36%\n",
      "residual_layers.2.conv2                  #w: 2304    | sparsity: 19.05%\n",
      "residual_layers.3.conv1                  #w: 4608    | sparsity: 15.21%\n",
      "residual_layers.3.conv2                  #w: 9216    | sparsity: 17.24%\n",
      "residual_layers.3.residual.0             #w: 512     | sparsity: 10.16%\n",
      "residual_layers.4.conv1                  #w: 9216    | sparsity: 17.58%\n",
      "residual_layers.4.conv2                  #w: 9216    | sparsity: 18.74%\n",
      "residual_layers.5.conv1                  #w: 9216    | sparsity: 19.64%\n",
      "residual_layers.5.conv2                  #w: 9216    | sparsity: 21.7% \n",
      "residual_layers.6.conv1                  #w: 18432   | sparsity: 19.4% \n",
      "residual_layers.6.conv2                  #w: 36864   | sparsity: 21.26%\n",
      "residual_layers.6.residual.0             #w: 2048    | sparsity: 14.11%\n",
      "residual_layers.7.conv1                  #w: 36864   | sparsity: 22.51%\n",
      "residual_layers.7.conv2                  #w: 36864   | sparsity: 30.67%\n",
      "residual_layers.8.conv1                  #w: 36864   | sparsity: 35.71%\n",
      "residual_layers.8.conv2                  #w: 36864   | sparsity: 49.56%\n",
      "classifier                               #w: 640     | sparsity: 4.69% \n"
     ]
    },
    {
     "name": "stderr",
     "output_type": "stream",
     "text": [
      "Testing: 100%|█████████████████████████| 26/26 [00:00<00:00, 27.69it/s, accuracy=78.9, loss=0.00178]\n",
      "Epoch 34: 100%|████████████████████████| 128/128 [00:06<00:00, 21.03it/s, accuracy=87.9, loss=0.351]\n"
     ]
    },
    {
     "name": "stdout",
     "output_type": "stream",
     "text": [
      "conv1                                    #w: 432     | sparsity: 6.02% \n",
      "residual_layers.0.conv1                  #w: 2304    | sparsity: 17.23%\n",
      "residual_layers.0.conv2                  #w: 2304    | sparsity: 16.1% \n",
      "residual_layers.1.conv1                  #w: 2304    | sparsity: 17.93%\n",
      "residual_layers.1.conv2                  #w: 2304    | sparsity: 15.06%\n",
      "residual_layers.2.conv1                  #w: 2304    | sparsity: 17.62%\n",
      "residual_layers.2.conv2                  #w: 2304    | sparsity: 18.97%\n",
      "residual_layers.3.conv1                  #w: 4608    | sparsity: 15.21%\n",
      "residual_layers.3.conv2                  #w: 9216    | sparsity: 17.89%\n",
      "residual_layers.3.residual.0             #w: 512     | sparsity: 10.35%\n",
      "residual_layers.4.conv1                  #w: 9216    | sparsity: 18.02%\n",
      "residual_layers.4.conv2                  #w: 9216    | sparsity: 19.44%\n",
      "residual_layers.5.conv1                  #w: 9216    | sparsity: 20.06%\n",
      "residual_layers.5.conv2                  #w: 9216    | sparsity: 23.12%\n",
      "residual_layers.6.conv1                  #w: 18432   | sparsity: 19.68%\n",
      "residual_layers.6.conv2                  #w: 36864   | sparsity: 22.13%\n",
      "residual_layers.6.residual.0             #w: 2048    | sparsity: 14.26%\n",
      "residual_layers.7.conv1                  #w: 36864   | sparsity: 23.42%\n",
      "residual_layers.7.conv2                  #w: 36864   | sparsity: 31.55%\n",
      "residual_layers.8.conv1                  #w: 36864   | sparsity: 36.55%\n",
      "residual_layers.8.conv2                  #w: 36864   | sparsity: 50.73%\n",
      "classifier                               #w: 640     | sparsity: 4.06% \n"
     ]
    },
    {
     "name": "stderr",
     "output_type": "stream",
     "text": [
      "Testing: 100%|█████████████████████████| 26/26 [00:00<00:00, 28.05it/s, accuracy=72.4, loss=0.00237]\n",
      "Epoch 35: 100%|████████████████████████| 128/128 [00:06<00:00, 20.80it/s, accuracy=88.3, loss=0.343]\n"
     ]
    },
    {
     "name": "stdout",
     "output_type": "stream",
     "text": [
      "conv1                                    #w: 432     | sparsity: 5.32% \n",
      "residual_layers.0.conv1                  #w: 2304    | sparsity: 17.36%\n",
      "residual_layers.0.conv2                  #w: 2304    | sparsity: 17.01%\n",
      "residual_layers.1.conv1                  #w: 2304    | sparsity: 18.71%\n",
      "residual_layers.1.conv2                  #w: 2304    | sparsity: 16.06%\n",
      "residual_layers.2.conv1                  #w: 2304    | sparsity: 18.58%\n",
      "residual_layers.2.conv2                  #w: 2304    | sparsity: 21.01%\n",
      "residual_layers.3.conv1                  #w: 4608    | sparsity: 16.04%\n",
      "residual_layers.3.conv2                  #w: 9216    | sparsity: 18.47%\n",
      "residual_layers.3.residual.0             #w: 512     | sparsity: 10.35%\n",
      "residual_layers.4.conv1                  #w: 9216    | sparsity: 18.66%\n",
      "residual_layers.4.conv2                  #w: 9216    | sparsity: 20.31%\n",
      "residual_layers.5.conv1                  #w: 9216    | sparsity: 21.37%\n",
      "residual_layers.5.conv2                  #w: 9216    | sparsity: 23.45%\n",
      "residual_layers.6.conv1                  #w: 18432   | sparsity: 19.84%\n",
      "residual_layers.6.conv2                  #w: 36864   | sparsity: 22.75%\n",
      "residual_layers.6.residual.0             #w: 2048    | sparsity: 15.04%\n",
      "residual_layers.7.conv1                  #w: 36864   | sparsity: 23.95%\n",
      "residual_layers.7.conv2                  #w: 36864   | sparsity: 32.34%\n",
      "residual_layers.8.conv1                  #w: 36864   | sparsity: 37.24%\n",
      "residual_layers.8.conv2                  #w: 36864   | sparsity: 51.84%\n",
      "classifier                               #w: 640     | sparsity: 4.69% \n"
     ]
    },
    {
     "name": "stderr",
     "output_type": "stream",
     "text": [
      "Testing: 100%|█████████████████████████| 26/26 [00:00<00:00, 29.96it/s, accuracy=75.1, loss=0.00212]\n",
      "Epoch 36: 100%|████████████████████████| 128/128 [00:06<00:00, 21.01it/s, accuracy=88.4, loss=0.339]\n"
     ]
    },
    {
     "name": "stdout",
     "output_type": "stream",
     "text": [
      "conv1                                    #w: 432     | sparsity: 5.79% \n",
      "residual_layers.0.conv1                  #w: 2304    | sparsity: 18.75%\n",
      "residual_layers.0.conv2                  #w: 2304    | sparsity: 16.15%\n",
      "residual_layers.1.conv1                  #w: 2304    | sparsity: 18.75%\n",
      "residual_layers.1.conv2                  #w: 2304    | sparsity: 16.62%\n",
      "residual_layers.2.conv1                  #w: 2304    | sparsity: 19.57%\n",
      "residual_layers.2.conv2                  #w: 2304    | sparsity: 20.36%\n",
      "residual_layers.3.conv1                  #w: 4608    | sparsity: 16.28%\n",
      "residual_layers.3.conv2                  #w: 9216    | sparsity: 19.18%\n",
      "residual_layers.3.residual.0             #w: 512     | sparsity: 11.33%\n",
      "residual_layers.4.conv1                  #w: 9216    | sparsity: 18.93%\n",
      "residual_layers.4.conv2                  #w: 9216    | sparsity: 20.64%\n",
      "residual_layers.5.conv1                  #w: 9216    | sparsity: 21.21%\n",
      "residual_layers.5.conv2                  #w: 9216    | sparsity: 24.14%\n",
      "residual_layers.6.conv1                  #w: 18432   | sparsity: 20.79%\n",
      "residual_layers.6.conv2                  #w: 36864   | sparsity: 23.48%\n",
      "residual_layers.6.residual.0             #w: 2048    | sparsity: 15.09%\n",
      "residual_layers.7.conv1                  #w: 36864   | sparsity: 24.64%\n",
      "residual_layers.7.conv2                  #w: 36864   | sparsity: 33.28%\n",
      "residual_layers.8.conv1                  #w: 36864   | sparsity: 38.26%\n",
      "residual_layers.8.conv2                  #w: 36864   | sparsity: 52.62%\n",
      "classifier                               #w: 640     | sparsity: 4.69% \n"
     ]
    },
    {
     "name": "stderr",
     "output_type": "stream",
     "text": [
      "Testing: 100%|█████████████████████████| 26/26 [00:00<00:00, 26.52it/s, accuracy=82.1, loss=0.00138]\n",
      "Epoch 37: 100%|████████████████████████| 128/128 [00:06<00:00, 21.19it/s, accuracy=88.2, loss=0.336]\n"
     ]
    },
    {
     "name": "stdout",
     "output_type": "stream",
     "text": [
      "conv1                                    #w: 432     | sparsity: 7.18% \n",
      "residual_layers.0.conv1                  #w: 2304    | sparsity: 18.97%\n",
      "residual_layers.0.conv2                  #w: 2304    | sparsity: 17.58%\n",
      "residual_layers.1.conv1                  #w: 2304    | sparsity: 19.44%\n",
      "residual_layers.1.conv2                  #w: 2304    | sparsity: 17.71%\n",
      "residual_layers.2.conv1                  #w: 2304    | sparsity: 19.92%\n",
      "residual_layers.2.conv2                  #w: 2304    | sparsity: 21.79%\n",
      "residual_layers.3.conv1                  #w: 4608    | sparsity: 16.75%\n",
      "residual_layers.3.conv2                  #w: 9216    | sparsity: 19.8% \n",
      "residual_layers.3.residual.0             #w: 512     | sparsity: 10.16%\n",
      "residual_layers.4.conv1                  #w: 9216    | sparsity: 19.59%\n",
      "residual_layers.4.conv2                  #w: 9216    | sparsity: 21.31%\n",
      "residual_layers.5.conv1                  #w: 9216    | sparsity: 22.01%\n",
      "residual_layers.5.conv2                  #w: 9216    | sparsity: 24.73%\n",
      "residual_layers.6.conv1                  #w: 18432   | sparsity: 21.38%\n",
      "residual_layers.6.conv2                  #w: 36864   | sparsity: 24.18%\n",
      "residual_layers.6.residual.0             #w: 2048    | sparsity: 16.36%\n",
      "residual_layers.7.conv1                  #w: 36864   | sparsity: 25.38%\n",
      "residual_layers.7.conv2                  #w: 36864   | sparsity: 34.08%\n",
      "residual_layers.8.conv1                  #w: 36864   | sparsity: 39.09%\n",
      "residual_layers.8.conv2                  #w: 36864   | sparsity: 53.4% \n",
      "classifier                               #w: 640     | sparsity: 4.53% \n"
     ]
    },
    {
     "name": "stderr",
     "output_type": "stream",
     "text": [
      "Testing: 100%|█████████████████████████| 26/26 [00:00<00:00, 29.80it/s, accuracy=73.6, loss=0.00258]\n",
      "Epoch 38: 100%|████████████████████████| 128/128 [00:06<00:00, 21.15it/s, accuracy=88.2, loss=0.338]\n"
     ]
    },
    {
     "name": "stdout",
     "output_type": "stream",
     "text": [
      "conv1                                    #w: 432     | sparsity: 6.25% \n",
      "residual_layers.0.conv1                  #w: 2304    | sparsity: 21.4% \n",
      "residual_layers.0.conv2                  #w: 2304    | sparsity: 19.1% \n",
      "residual_layers.1.conv1                  #w: 2304    | sparsity: 19.44%\n",
      "residual_layers.1.conv2                  #w: 2304    | sparsity: 17.93%\n",
      "residual_layers.2.conv1                  #w: 2304    | sparsity: 21.14%\n",
      "residual_layers.2.conv2                  #w: 2304    | sparsity: 21.35%\n",
      "residual_layers.3.conv1                  #w: 4608    | sparsity: 17.36%\n",
      "residual_layers.3.conv2                  #w: 9216    | sparsity: 20.31%\n",
      "residual_layers.3.residual.0             #w: 512     | sparsity: 12.3% \n",
      "residual_layers.4.conv1                  #w: 9216    | sparsity: 20.14%\n",
      "residual_layers.4.conv2                  #w: 9216    | sparsity: 21.82%\n",
      "residual_layers.5.conv1                  #w: 9216    | sparsity: 22.94%\n",
      "residual_layers.5.conv2                  #w: 9216    | sparsity: 25.25%\n",
      "residual_layers.6.conv1                  #w: 18432   | sparsity: 21.93%\n",
      "residual_layers.6.conv2                  #w: 36864   | sparsity: 24.98%\n",
      "residual_layers.6.residual.0             #w: 2048    | sparsity: 16.21%\n",
      "residual_layers.7.conv1                  #w: 36864   | sparsity: 25.75%\n",
      "residual_layers.7.conv2                  #w: 36864   | sparsity: 34.95%\n",
      "residual_layers.8.conv1                  #w: 36864   | sparsity: 39.85%\n",
      "residual_layers.8.conv2                  #w: 36864   | sparsity: 54.49%\n",
      "classifier                               #w: 640     | sparsity: 4.84% \n"
     ]
    },
    {
     "name": "stderr",
     "output_type": "stream",
     "text": [
      "Testing: 100%|█████████████████████████| 26/26 [00:00<00:00, 28.48it/s, accuracy=79.9, loss=0.00159]\n",
      "Epoch 39: 100%|████████████████████████| 128/128 [00:06<00:00, 20.82it/s, accuracy=88.3, loss=0.337]\n"
     ]
    },
    {
     "name": "stdout",
     "output_type": "stream",
     "text": [
      "conv1                                    #w: 432     | sparsity: 6.48% \n",
      "residual_layers.0.conv1                  #w: 2304    | sparsity: 21.83%\n",
      "residual_layers.0.conv2                  #w: 2304    | sparsity: 19.27%\n",
      "residual_layers.1.conv1                  #w: 2304    | sparsity: 20.4% \n",
      "residual_layers.1.conv2                  #w: 2304    | sparsity: 17.62%\n",
      "residual_layers.2.conv1                  #w: 2304    | sparsity: 20.96%\n",
      "residual_layers.2.conv2                  #w: 2304    | sparsity: 22.01%\n",
      "residual_layers.3.conv1                  #w: 4608    | sparsity: 18.36%\n",
      "residual_layers.3.conv2                  #w: 9216    | sparsity: 20.8% \n",
      "residual_layers.3.residual.0             #w: 512     | sparsity: 13.67%\n",
      "residual_layers.4.conv1                  #w: 9216    | sparsity: 21.25%\n",
      "residual_layers.4.conv2                  #w: 9216    | sparsity: 22.47%\n",
      "residual_layers.5.conv1                  #w: 9216    | sparsity: 23.44%\n",
      "residual_layers.5.conv2                  #w: 9216    | sparsity: 25.88%\n",
      "residual_layers.6.conv1                  #w: 18432   | sparsity: 22.61%\n",
      "residual_layers.6.conv2                  #w: 36864   | sparsity: 25.66%\n",
      "residual_layers.6.residual.0             #w: 2048    | sparsity: 16.85%\n",
      "residual_layers.7.conv1                  #w: 36864   | sparsity: 26.53%\n",
      "residual_layers.7.conv2                  #w: 36864   | sparsity: 35.71%\n",
      "residual_layers.8.conv1                  #w: 36864   | sparsity: 40.45%\n",
      "residual_layers.8.conv2                  #w: 36864   | sparsity: 55.24%\n",
      "classifier                               #w: 640     | sparsity: 3.91% \n"
     ]
    },
    {
     "name": "stderr",
     "output_type": "stream",
     "text": [
      "Testing: 100%|█████████████████████████| 26/26 [00:00<00:00, 28.79it/s, accuracy=82.7, loss=0.00136]\n",
      "Epoch 40: 100%|████████████████████████| 128/128 [00:06<00:00, 20.89it/s, accuracy=88.6, loss=0.332]\n"
     ]
    },
    {
     "name": "stdout",
     "output_type": "stream",
     "text": [
      "conv1                                    #w: 432     | sparsity: 8.8%  \n",
      "residual_layers.0.conv1                  #w: 2304    | sparsity: 20.57%\n",
      "residual_layers.0.conv2                  #w: 2304    | sparsity: 20.66%\n",
      "residual_layers.1.conv1                  #w: 2304    | sparsity: 21.48%\n",
      "residual_layers.1.conv2                  #w: 2304    | sparsity: 18.62%\n",
      "residual_layers.2.conv1                  #w: 2304    | sparsity: 20.7% \n",
      "residual_layers.2.conv2                  #w: 2304    | sparsity: 23.09%\n",
      "residual_layers.3.conv1                  #w: 4608    | sparsity: 18.86%\n",
      "residual_layers.3.conv2                  #w: 9216    | sparsity: 21.34%\n",
      "residual_layers.3.residual.0             #w: 512     | sparsity: 12.7% \n",
      "residual_layers.4.conv1                  #w: 9216    | sparsity: 22.02%\n",
      "residual_layers.4.conv2                  #w: 9216    | sparsity: 23.51%\n",
      "residual_layers.5.conv1                  #w: 9216    | sparsity: 23.99%\n",
      "residual_layers.5.conv2                  #w: 9216    | sparsity: 27.3% \n",
      "residual_layers.6.conv1                  #w: 18432   | sparsity: 23.21%\n",
      "residual_layers.6.conv2                  #w: 36864   | sparsity: 26.12%\n",
      "residual_layers.6.residual.0             #w: 2048    | sparsity: 17.58%\n",
      "residual_layers.7.conv1                  #w: 36864   | sparsity: 26.74%\n",
      "residual_layers.7.conv2                  #w: 36864   | sparsity: 36.69%\n",
      "residual_layers.8.conv1                  #w: 36864   | sparsity: 41.48%\n",
      "residual_layers.8.conv2                  #w: 36864   | sparsity: 56.3% \n",
      "classifier                               #w: 640     | sparsity: 5.16% \n"
     ]
    },
    {
     "name": "stderr",
     "output_type": "stream",
     "text": [
      "Testing: 100%|█████████████████████████| 26/26 [00:00<00:00, 27.67it/s, accuracy=80.3, loss=0.00157]\n",
      "Epoch 41: 100%|█████████████████████████| 128/128 [00:06<00:00, 21.03it/s, accuracy=88.5, loss=0.33]\n"
     ]
    },
    {
     "name": "stdout",
     "output_type": "stream",
     "text": [
      "conv1                                    #w: 432     | sparsity: 10.65%\n",
      "residual_layers.0.conv1                  #w: 2304    | sparsity: 23.74%\n",
      "residual_layers.0.conv2                  #w: 2304    | sparsity: 20.66%\n",
      "residual_layers.1.conv1                  #w: 2304    | sparsity: 21.74%\n",
      "residual_layers.1.conv2                  #w: 2304    | sparsity: 19.14%\n",
      "residual_layers.2.conv1                  #w: 2304    | sparsity: 22.35%\n",
      "residual_layers.2.conv2                  #w: 2304    | sparsity: 23.48%\n",
      "residual_layers.3.conv1                  #w: 4608    | sparsity: 19.1% \n",
      "residual_layers.3.conv2                  #w: 9216    | sparsity: 21.95%\n",
      "residual_layers.3.residual.0             #w: 512     | sparsity: 12.3% \n",
      "residual_layers.4.conv1                  #w: 9216    | sparsity: 22.82%\n",
      "residual_layers.4.conv2                  #w: 9216    | sparsity: 23.39%\n",
      "residual_layers.5.conv1                  #w: 9216    | sparsity: 24.54%\n",
      "residual_layers.5.conv2                  #w: 9216    | sparsity: 27.97%\n",
      "residual_layers.6.conv1                  #w: 18432   | sparsity: 24.1% \n",
      "residual_layers.6.conv2                  #w: 36864   | sparsity: 26.71%\n",
      "residual_layers.6.residual.0             #w: 2048    | sparsity: 18.26%\n",
      "residual_layers.7.conv1                  #w: 36864   | sparsity: 27.44%\n",
      "residual_layers.7.conv2                  #w: 36864   | sparsity: 37.5% \n",
      "residual_layers.8.conv1                  #w: 36864   | sparsity: 42.16%\n",
      "residual_layers.8.conv2                  #w: 36864   | sparsity: 56.94%\n",
      "classifier                               #w: 640     | sparsity: 5.47% \n"
     ]
    },
    {
     "name": "stderr",
     "output_type": "stream",
     "text": [
      "Testing: 100%|███████████████████████████| 26/26 [00:00<00:00, 28.71it/s, accuracy=81, loss=0.00147]\n",
      "Epoch 42: 100%|████████████████████████| 128/128 [00:06<00:00, 21.30it/s, accuracy=88.6, loss=0.329]\n"
     ]
    },
    {
     "name": "stdout",
     "output_type": "stream",
     "text": [
      "conv1                                    #w: 432     | sparsity: 9.03% \n",
      "residual_layers.0.conv1                  #w: 2304    | sparsity: 23.18%\n",
      "residual_layers.0.conv2                  #w: 2304    | sparsity: 21.96%\n",
      "residual_layers.1.conv1                  #w: 2304    | sparsity: 22.92%\n",
      "residual_layers.1.conv2                  #w: 2304    | sparsity: 19.53%\n",
      "residual_layers.2.conv1                  #w: 2304    | sparsity: 23.44%\n",
      "residual_layers.2.conv2                  #w: 2304    | sparsity: 23.44%\n",
      "residual_layers.3.conv1                  #w: 4608    | sparsity: 19.57%\n",
      "residual_layers.3.conv2                  #w: 9216    | sparsity: 22.16%\n",
      "residual_layers.3.residual.0             #w: 512     | sparsity: 12.7% \n",
      "residual_layers.4.conv1                  #w: 9216    | sparsity: 23.06%\n",
      "residual_layers.4.conv2                  #w: 9216    | sparsity: 24.4% \n",
      "residual_layers.5.conv1                  #w: 9216    | sparsity: 25.16%\n",
      "residual_layers.5.conv2                  #w: 9216    | sparsity: 28.05%\n",
      "residual_layers.6.conv1                  #w: 18432   | sparsity: 24.17%\n",
      "residual_layers.6.conv2                  #w: 36864   | sparsity: 27.54%\n",
      "residual_layers.6.residual.0             #w: 2048    | sparsity: 18.26%\n",
      "residual_layers.7.conv1                  #w: 36864   | sparsity: 28.11%\n",
      "residual_layers.7.conv2                  #w: 36864   | sparsity: 38.06%\n",
      "residual_layers.8.conv1                  #w: 36864   | sparsity: 43.25%\n",
      "residual_layers.8.conv2                  #w: 36864   | sparsity: 58.07%\n",
      "classifier                               #w: 640     | sparsity: 5.78% \n"
     ]
    },
    {
     "name": "stderr",
     "output_type": "stream",
     "text": [
      "Testing: 100%|█████████████████████████| 26/26 [00:00<00:00, 29.37it/s, accuracy=82.5, loss=0.00132]\n",
      "Epoch 43: 100%|████████████████████████| 128/128 [00:06<00:00, 20.73it/s, accuracy=88.7, loss=0.327]\n"
     ]
    },
    {
     "name": "stdout",
     "output_type": "stream",
     "text": [
      "conv1                                    #w: 432     | sparsity: 9.03% \n",
      "residual_layers.0.conv1                  #w: 2304    | sparsity: 24.26%\n",
      "residual_layers.0.conv2                  #w: 2304    | sparsity: 20.27%\n",
      "residual_layers.1.conv1                  #w: 2304    | sparsity: 24.44%\n",
      "residual_layers.1.conv2                  #w: 2304    | sparsity: 21.31%\n",
      "residual_layers.2.conv1                  #w: 2304    | sparsity: 22.79%\n",
      "residual_layers.2.conv2                  #w: 2304    | sparsity: 23.35%\n",
      "residual_layers.3.conv1                  #w: 4608    | sparsity: 19.66%\n",
      "residual_layers.3.conv2                  #w: 9216    | sparsity: 22.66%\n",
      "residual_layers.3.residual.0             #w: 512     | sparsity: 12.5% \n",
      "residual_layers.4.conv1                  #w: 9216    | sparsity: 24.45%\n",
      "residual_layers.4.conv2                  #w: 9216    | sparsity: 25.1% \n",
      "residual_layers.5.conv1                  #w: 9216    | sparsity: 25.89%\n",
      "residual_layers.5.conv2                  #w: 9216    | sparsity: 28.7% \n",
      "residual_layers.6.conv1                  #w: 18432   | sparsity: 25.13%\n",
      "residual_layers.6.conv2                  #w: 36864   | sparsity: 28.05%\n",
      "residual_layers.6.residual.0             #w: 2048    | sparsity: 18.46%\n",
      "residual_layers.7.conv1                  #w: 36864   | sparsity: 28.88%\n",
      "residual_layers.7.conv2                  #w: 36864   | sparsity: 38.63%\n",
      "residual_layers.8.conv1                  #w: 36864   | sparsity: 44.05%\n",
      "residual_layers.8.conv2                  #w: 36864   | sparsity: 58.84%\n",
      "classifier                               #w: 640     | sparsity: 6.09% \n"
     ]
    },
    {
     "name": "stderr",
     "output_type": "stream",
     "text": [
      "Testing: 100%|█████████████████████████| 26/26 [00:00<00:00, 30.42it/s, accuracy=81.3, loss=0.00145]\n",
      "Epoch 44: 100%|█████████████████████████| 128/128 [00:06<00:00, 20.93it/s, accuracy=88.5, loss=0.33]\n"
     ]
    },
    {
     "name": "stdout",
     "output_type": "stream",
     "text": [
      "conv1                                    #w: 432     | sparsity: 9.49% \n",
      "residual_layers.0.conv1                  #w: 2304    | sparsity: 24.78%\n",
      "residual_layers.0.conv2                  #w: 2304    | sparsity: 21.66%\n",
      "residual_layers.1.conv1                  #w: 2304    | sparsity: 25.09%\n",
      "residual_layers.1.conv2                  #w: 2304    | sparsity: 21.74%\n",
      "residual_layers.2.conv1                  #w: 2304    | sparsity: 24.44%\n",
      "residual_layers.2.conv2                  #w: 2304    | sparsity: 24.65%\n",
      "residual_layers.3.conv1                  #w: 4608    | sparsity: 20.72%\n",
      "residual_layers.3.conv2                  #w: 9216    | sparsity: 23.38%\n",
      "residual_layers.3.residual.0             #w: 512     | sparsity: 14.65%\n",
      "residual_layers.4.conv1                  #w: 9216    | sparsity: 24.71%\n",
      "residual_layers.4.conv2                  #w: 9216    | sparsity: 25.76%\n",
      "residual_layers.5.conv1                  #w: 9216    | sparsity: 26.76%\n",
      "residual_layers.5.conv2                  #w: 9216    | sparsity: 29.55%\n",
      "residual_layers.6.conv1                  #w: 18432   | sparsity: 25.62%\n",
      "residual_layers.6.conv2                  #w: 36864   | sparsity: 28.62%\n",
      "residual_layers.6.residual.0             #w: 2048    | sparsity: 18.75%\n",
      "residual_layers.7.conv1                  #w: 36864   | sparsity: 29.64%\n",
      "residual_layers.7.conv2                  #w: 36864   | sparsity: 39.3% \n",
      "residual_layers.8.conv1                  #w: 36864   | sparsity: 44.59%\n",
      "residual_layers.8.conv2                  #w: 36864   | sparsity: 59.8% \n",
      "classifier                               #w: 640     | sparsity: 6.88% \n"
     ]
    },
    {
     "name": "stderr",
     "output_type": "stream",
     "text": [
      "Testing: 100%|█████████████████████████| 26/26 [00:00<00:00, 30.71it/s, accuracy=80.8, loss=0.00154]\n",
      "Epoch 45: 100%|████████████████████████| 128/128 [00:06<00:00, 20.68it/s, accuracy=88.8, loss=0.322]\n"
     ]
    },
    {
     "name": "stdout",
     "output_type": "stream",
     "text": [
      "conv1                                    #w: 432     | sparsity: 10.65%\n",
      "residual_layers.0.conv1                  #w: 2304    | sparsity: 25.65%\n",
      "residual_layers.0.conv2                  #w: 2304    | sparsity: 21.7% \n",
      "residual_layers.1.conv1                  #w: 2304    | sparsity: 24.74%\n",
      "residual_layers.1.conv2                  #w: 2304    | sparsity: 22.61%\n",
      "residual_layers.2.conv1                  #w: 2304    | sparsity: 25.22%\n",
      "residual_layers.2.conv2                  #w: 2304    | sparsity: 24.74%\n",
      "residual_layers.3.conv1                  #w: 4608    | sparsity: 20.59%\n",
      "residual_layers.3.conv2                  #w: 9216    | sparsity: 24.84%\n",
      "residual_layers.3.residual.0             #w: 512     | sparsity: 14.06%\n",
      "residual_layers.4.conv1                  #w: 9216    | sparsity: 25.08%\n",
      "residual_layers.4.conv2                  #w: 9216    | sparsity: 26.63%\n",
      "residual_layers.5.conv1                  #w: 9216    | sparsity: 27.55%\n",
      "residual_layers.5.conv2                  #w: 9216    | sparsity: 30.97%\n",
      "residual_layers.6.conv1                  #w: 18432   | sparsity: 26.42%\n",
      "residual_layers.6.conv2                  #w: 36864   | sparsity: 28.99%\n",
      "residual_layers.6.residual.0             #w: 2048    | sparsity: 18.41%\n",
      "residual_layers.7.conv1                  #w: 36864   | sparsity: 30.45%\n",
      "residual_layers.7.conv2                  #w: 36864   | sparsity: 40.1% \n",
      "residual_layers.8.conv1                  #w: 36864   | sparsity: 45.16%\n",
      "residual_layers.8.conv2                  #w: 36864   | sparsity: 60.47%\n",
      "classifier                               #w: 640     | sparsity: 6.88% \n"
     ]
    },
    {
     "name": "stderr",
     "output_type": "stream",
     "text": [
      "Testing: 100%|█████████████████████████| 26/26 [00:00<00:00, 29.98it/s, accuracy=82.3, loss=0.00147]\n",
      "Epoch 46: 100%|████████████████████████| 128/128 [00:06<00:00, 20.95it/s, accuracy=89.1, loss=0.318]\n"
     ]
    },
    {
     "name": "stdout",
     "output_type": "stream",
     "text": [
      "conv1                                    #w: 432     | sparsity: 9.49% \n",
      "residual_layers.0.conv1                  #w: 2304    | sparsity: 25.35%\n",
      "residual_layers.0.conv2                  #w: 2304    | sparsity: 22.35%\n",
      "residual_layers.1.conv1                  #w: 2304    | sparsity: 25.13%\n",
      "residual_layers.1.conv2                  #w: 2304    | sparsity: 22.22%\n",
      "residual_layers.2.conv1                  #w: 2304    | sparsity: 24.26%\n",
      "residual_layers.2.conv2                  #w: 2304    | sparsity: 26.22%\n",
      "residual_layers.3.conv1                  #w: 4608    | sparsity: 21.27%\n",
      "residual_layers.3.conv2                  #w: 9216    | sparsity: 25.41%\n",
      "residual_layers.3.residual.0             #w: 512     | sparsity: 14.06%\n",
      "residual_layers.4.conv1                  #w: 9216    | sparsity: 26.18%\n",
      "residual_layers.4.conv2                  #w: 9216    | sparsity: 26.97%\n",
      "residual_layers.5.conv1                  #w: 9216    | sparsity: 28.07%\n",
      "residual_layers.5.conv2                  #w: 9216    | sparsity: 30.87%\n",
      "residual_layers.6.conv1                  #w: 18432   | sparsity: 26.62%\n",
      "residual_layers.6.conv2                  #w: 36864   | sparsity: 29.72%\n",
      "residual_layers.6.residual.0             #w: 2048    | sparsity: 20.31%\n",
      "residual_layers.7.conv1                  #w: 36864   | sparsity: 30.99%\n",
      "residual_layers.7.conv2                  #w: 36864   | sparsity: 41.02%\n",
      "residual_layers.8.conv1                  #w: 36864   | sparsity: 45.96%\n",
      "residual_layers.8.conv2                  #w: 36864   | sparsity: 61.47%\n",
      "classifier                               #w: 640     | sparsity: 7.34% \n"
     ]
    },
    {
     "name": "stderr",
     "output_type": "stream",
     "text": [
      "Testing: 100%|█████████████████████████| 26/26 [00:00<00:00, 30.31it/s, accuracy=81.4, loss=0.00147]\n",
      "Epoch 47: 100%|████████████████████████| 128/128 [00:06<00:00, 20.76it/s, accuracy=89.1, loss=0.316]\n"
     ]
    },
    {
     "name": "stdout",
     "output_type": "stream",
     "text": [
      "conv1                                    #w: 432     | sparsity: 11.57%\n",
      "residual_layers.0.conv1                  #w: 2304    | sparsity: 27.34%\n",
      "residual_layers.0.conv2                  #w: 2304    | sparsity: 23.52%\n",
      "residual_layers.1.conv1                  #w: 2304    | sparsity: 24.87%\n",
      "residual_layers.1.conv2                  #w: 2304    | sparsity: 22.96%\n",
      "residual_layers.2.conv1                  #w: 2304    | sparsity: 25.0% \n",
      "residual_layers.2.conv2                  #w: 2304    | sparsity: 26.35%\n",
      "residual_layers.3.conv1                  #w: 4608    | sparsity: 22.01%\n",
      "residual_layers.3.conv2                  #w: 9216    | sparsity: 25.71%\n",
      "residual_layers.3.residual.0             #w: 512     | sparsity: 12.89%\n",
      "residual_layers.4.conv1                  #w: 9216    | sparsity: 26.89%\n",
      "residual_layers.4.conv2                  #w: 9216    | sparsity: 28.16%\n",
      "residual_layers.5.conv1                  #w: 9216    | sparsity: 28.99%\n",
      "residual_layers.5.conv2                  #w: 9216    | sparsity: 31.63%\n",
      "residual_layers.6.conv1                  #w: 18432   | sparsity: 27.0% \n",
      "residual_layers.6.conv2                  #w: 36864   | sparsity: 30.55%\n",
      "residual_layers.6.residual.0             #w: 2048    | sparsity: 20.7% \n",
      "residual_layers.7.conv1                  #w: 36864   | sparsity: 31.62%\n",
      "residual_layers.7.conv2                  #w: 36864   | sparsity: 41.59%\n",
      "residual_layers.8.conv1                  #w: 36864   | sparsity: 46.51%\n",
      "residual_layers.8.conv2                  #w: 36864   | sparsity: 62.38%\n",
      "classifier                               #w: 640     | sparsity: 6.88% \n"
     ]
    },
    {
     "name": "stderr",
     "output_type": "stream",
     "text": [
      "Testing: 100%|█████████████████████████| 26/26 [00:00<00:00, 29.88it/s, accuracy=80.4, loss=0.00164]\n",
      "Epoch 48: 100%|███████████████████████████| 128/128 [00:06<00:00, 20.65it/s, accuracy=89, loss=0.32]\n"
     ]
    },
    {
     "name": "stdout",
     "output_type": "stream",
     "text": [
      "conv1                                    #w: 432     | sparsity: 10.65%\n",
      "residual_layers.0.conv1                  #w: 2304    | sparsity: 28.47%\n",
      "residual_layers.0.conv2                  #w: 2304    | sparsity: 23.74%\n",
      "residual_layers.1.conv1                  #w: 2304    | sparsity: 25.52%\n",
      "residual_layers.1.conv2                  #w: 2304    | sparsity: 23.35%\n",
      "residual_layers.2.conv1                  #w: 2304    | sparsity: 26.74%\n",
      "residual_layers.2.conv2                  #w: 2304    | sparsity: 28.91%\n",
      "residual_layers.3.conv1                  #w: 4608    | sparsity: 22.46%\n",
      "residual_layers.3.conv2                  #w: 9216    | sparsity: 25.73%\n",
      "residual_layers.3.residual.0             #w: 512     | sparsity: 12.7% \n",
      "residual_layers.4.conv1                  #w: 9216    | sparsity: 27.5% \n",
      "residual_layers.4.conv2                  #w: 9216    | sparsity: 28.37%\n",
      "residual_layers.5.conv1                  #w: 9216    | sparsity: 29.52%\n",
      "residual_layers.5.conv2                  #w: 9216    | sparsity: 32.83%\n",
      "residual_layers.6.conv1                  #w: 18432   | sparsity: 28.03%\n",
      "residual_layers.6.conv2                  #w: 36864   | sparsity: 31.1% \n",
      "residual_layers.6.residual.0             #w: 2048    | sparsity: 21.83%\n",
      "residual_layers.7.conv1                  #w: 36864   | sparsity: 32.16%\n",
      "residual_layers.7.conv2                  #w: 36864   | sparsity: 41.97%\n",
      "residual_layers.8.conv1                  #w: 36864   | sparsity: 47.52%\n",
      "residual_layers.8.conv2                  #w: 36864   | sparsity: 63.03%\n",
      "classifier                               #w: 640     | sparsity: 7.81% \n"
     ]
    },
    {
     "name": "stderr",
     "output_type": "stream",
     "text": [
      "Testing: 100%|█████████████████████████| 26/26 [00:00<00:00, 30.01it/s, accuracy=77.7, loss=0.00189]\n",
      "Epoch 49: 100%|████████████████████████| 128/128 [00:06<00:00, 20.23it/s, accuracy=89.3, loss=0.311]\n"
     ]
    },
    {
     "name": "stdout",
     "output_type": "stream",
     "text": [
      "conv1                                    #w: 432     | sparsity: 11.11%\n",
      "residual_layers.0.conv1                  #w: 2304    | sparsity: 30.03%\n",
      "residual_layers.0.conv2                  #w: 2304    | sparsity: 25.0% \n",
      "residual_layers.1.conv1                  #w: 2304    | sparsity: 25.78%\n",
      "residual_layers.1.conv2                  #w: 2304    | sparsity: 23.61%\n",
      "residual_layers.2.conv1                  #w: 2304    | sparsity: 26.65%\n",
      "residual_layers.2.conv2                  #w: 2304    | sparsity: 29.3% \n",
      "residual_layers.3.conv1                  #w: 4608    | sparsity: 22.16%\n",
      "residual_layers.3.conv2                  #w: 9216    | sparsity: 26.38%\n",
      "residual_layers.3.residual.0             #w: 512     | sparsity: 13.48%\n",
      "residual_layers.4.conv1                  #w: 9216    | sparsity: 28.53%\n",
      "residual_layers.4.conv2                  #w: 9216    | sparsity: 29.45%\n",
      "residual_layers.5.conv1                  #w: 9216    | sparsity: 30.05%\n",
      "residual_layers.5.conv2                  #w: 9216    | sparsity: 33.24%\n",
      "residual_layers.6.conv1                  #w: 18432   | sparsity: 28.68%\n",
      "residual_layers.6.conv2                  #w: 36864   | sparsity: 31.93%\n",
      "residual_layers.6.residual.0             #w: 2048    | sparsity: 22.12%\n",
      "residual_layers.7.conv1                  #w: 36864   | sparsity: 33.12%\n",
      "residual_layers.7.conv2                  #w: 36864   | sparsity: 42.44%\n",
      "residual_layers.8.conv1                  #w: 36864   | sparsity: 48.11%\n",
      "residual_layers.8.conv2                  #w: 36864   | sparsity: 63.54%\n",
      "classifier                               #w: 640     | sparsity: 7.97% \n"
     ]
    },
    {
     "name": "stderr",
     "output_type": "stream",
     "text": [
      "Testing: 100%|██████████████████████████| 26/26 [00:00<00:00, 30.69it/s, accuracy=78.4, loss=0.0018]\n",
      "Epoch 50: 100%|█████████████████████████| 128/128 [00:05<00:00, 21.36it/s, accuracy=89.2, loss=0.31]\n"
     ]
    },
    {
     "name": "stdout",
     "output_type": "stream",
     "text": [
      "conv1                                    #w: 432     | sparsity: 12.73%\n",
      "residual_layers.0.conv1                  #w: 2304    | sparsity: 29.95%\n",
      "residual_layers.0.conv2                  #w: 2304    | sparsity: 26.0% \n",
      "residual_layers.1.conv1                  #w: 2304    | sparsity: 26.74%\n",
      "residual_layers.1.conv2                  #w: 2304    | sparsity: 23.05%\n",
      "residual_layers.2.conv1                  #w: 2304    | sparsity: 27.69%\n",
      "residual_layers.2.conv2                  #w: 2304    | sparsity: 29.21%\n",
      "residual_layers.3.conv1                  #w: 4608    | sparsity: 23.05%\n",
      "residual_layers.3.conv2                  #w: 9216    | sparsity: 27.3% \n",
      "residual_layers.3.residual.0             #w: 512     | sparsity: 14.84%\n",
      "residual_layers.4.conv1                  #w: 9216    | sparsity: 29.58%\n",
      "residual_layers.4.conv2                  #w: 9216    | sparsity: 30.38%\n",
      "residual_layers.5.conv1                  #w: 9216    | sparsity: 30.67%\n",
      "residual_layers.5.conv2                  #w: 9216    | sparsity: 33.83%\n",
      "residual_layers.6.conv1                  #w: 18432   | sparsity: 29.33%\n",
      "residual_layers.6.conv2                  #w: 36864   | sparsity: 32.48%\n",
      "residual_layers.6.residual.0             #w: 2048    | sparsity: 23.78%\n",
      "residual_layers.7.conv1                  #w: 36864   | sparsity: 33.37%\n",
      "residual_layers.7.conv2                  #w: 36864   | sparsity: 43.79%\n",
      "residual_layers.8.conv1                  #w: 36864   | sparsity: 48.4% \n",
      "residual_layers.8.conv2                  #w: 36864   | sparsity: 64.18%\n",
      "classifier                               #w: 640     | sparsity: 8.28% \n"
     ]
    },
    {
     "name": "stderr",
     "output_type": "stream",
     "text": [
      "Testing: 100%|█████████████████████████| 26/26 [00:00<00:00, 28.76it/s, accuracy=76.6, loss=0.00188]\n",
      "Epoch 51: 100%|████████████████████████| 128/128 [00:05<00:00, 21.37it/s, accuracy=88.9, loss=0.318]\n"
     ]
    },
    {
     "name": "stdout",
     "output_type": "stream",
     "text": [
      "conv1                                    #w: 432     | sparsity: 12.04%\n",
      "residual_layers.0.conv1                  #w: 2304    | sparsity: 31.47%\n",
      "residual_layers.0.conv2                  #w: 2304    | sparsity: 25.61%\n",
      "residual_layers.1.conv1                  #w: 2304    | sparsity: 26.87%\n",
      "residual_layers.1.conv2                  #w: 2304    | sparsity: 24.7% \n",
      "residual_layers.2.conv1                  #w: 2304    | sparsity: 27.43%\n",
      "residual_layers.2.conv2                  #w: 2304    | sparsity: 29.08%\n",
      "residual_layers.3.conv1                  #w: 4608    | sparsity: 23.72%\n",
      "residual_layers.3.conv2                  #w: 9216    | sparsity: 28.03%\n",
      "residual_layers.3.residual.0             #w: 512     | sparsity: 13.67%\n",
      "residual_layers.4.conv1                  #w: 9216    | sparsity: 30.44%\n",
      "residual_layers.4.conv2                  #w: 9216    | sparsity: 30.83%\n",
      "residual_layers.5.conv1                  #w: 9216    | sparsity: 31.12%\n",
      "residual_layers.5.conv2                  #w: 9216    | sparsity: 34.56%\n",
      "residual_layers.6.conv1                  #w: 18432   | sparsity: 29.96%\n",
      "residual_layers.6.conv2                  #w: 36864   | sparsity: 32.95%\n",
      "residual_layers.6.residual.0             #w: 2048    | sparsity: 23.24%\n",
      "residual_layers.7.conv1                  #w: 36864   | sparsity: 34.22%\n",
      "residual_layers.7.conv2                  #w: 36864   | sparsity: 44.14%\n",
      "residual_layers.8.conv1                  #w: 36864   | sparsity: 49.22%\n",
      "residual_layers.8.conv2                  #w: 36864   | sparsity: 65.13%\n",
      "classifier                               #w: 640     | sparsity: 7.97% \n"
     ]
    },
    {
     "name": "stderr",
     "output_type": "stream",
     "text": [
      "Testing: 100%|█████████████████████████| 26/26 [00:00<00:00, 30.48it/s, accuracy=76.1, loss=0.00212]\n",
      "Epoch 52: 100%|████████████████████████| 128/128 [00:06<00:00, 21.31it/s, accuracy=89.2, loss=0.315]\n"
     ]
    },
    {
     "name": "stdout",
     "output_type": "stream",
     "text": [
      "conv1                                    #w: 432     | sparsity: 11.57%\n",
      "residual_layers.0.conv1                  #w: 2304    | sparsity: 31.64%\n",
      "residual_layers.0.conv2                  #w: 2304    | sparsity: 25.78%\n",
      "residual_layers.1.conv1                  #w: 2304    | sparsity: 27.95%\n",
      "residual_layers.1.conv2                  #w: 2304    | sparsity: 25.74%\n",
      "residual_layers.2.conv1                  #w: 2304    | sparsity: 27.56%\n",
      "residual_layers.2.conv2                  #w: 2304    | sparsity: 29.3% \n",
      "residual_layers.3.conv1                  #w: 4608    | sparsity: 23.76%\n",
      "residual_layers.3.conv2                  #w: 9216    | sparsity: 28.74%\n",
      "residual_layers.3.residual.0             #w: 512     | sparsity: 15.04%\n",
      "residual_layers.4.conv1                  #w: 9216    | sparsity: 30.36%\n",
      "residual_layers.4.conv2                  #w: 9216    | sparsity: 31.26%\n",
      "residual_layers.5.conv1                  #w: 9216    | sparsity: 31.85%\n",
      "residual_layers.5.conv2                  #w: 9216    | sparsity: 35.21%\n",
      "residual_layers.6.conv1                  #w: 18432   | sparsity: 30.56%\n",
      "residual_layers.6.conv2                  #w: 36864   | sparsity: 33.78%\n",
      "residual_layers.6.residual.0             #w: 2048    | sparsity: 24.37%\n",
      "residual_layers.7.conv1                  #w: 36864   | sparsity: 34.88%\n",
      "residual_layers.7.conv2                  #w: 36864   | sparsity: 44.92%\n",
      "residual_layers.8.conv1                  #w: 36864   | sparsity: 49.81%\n",
      "residual_layers.8.conv2                  #w: 36864   | sparsity: 65.84%\n",
      "classifier                               #w: 640     | sparsity: 8.12% \n"
     ]
    },
    {
     "name": "stderr",
     "output_type": "stream",
     "text": [
      "Testing: 100%|███████████████████████████| 26/26 [00:00<00:00, 29.38it/s, accuracy=78, loss=0.00182]\n",
      "Epoch 53: 100%|████████████████████████| 128/128 [00:06<00:00, 21.25it/s, accuracy=89.4, loss=0.309]\n"
     ]
    },
    {
     "name": "stdout",
     "output_type": "stream",
     "text": [
      "conv1                                    #w: 432     | sparsity: 12.5% \n",
      "residual_layers.0.conv1                  #w: 2304    | sparsity: 33.07%\n",
      "residual_layers.0.conv2                  #w: 2304    | sparsity: 26.74%\n",
      "residual_layers.1.conv1                  #w: 2304    | sparsity: 27.99%\n",
      "residual_layers.1.conv2                  #w: 2304    | sparsity: 26.48%\n",
      "residual_layers.2.conv1                  #w: 2304    | sparsity: 28.73%\n",
      "residual_layers.2.conv2                  #w: 2304    | sparsity: 30.08%\n",
      "residual_layers.3.conv1                  #w: 4608    | sparsity: 24.48%\n",
      "residual_layers.3.conv2                  #w: 9216    | sparsity: 29.79%\n",
      "residual_layers.3.residual.0             #w: 512     | sparsity: 15.23%\n",
      "residual_layers.4.conv1                  #w: 9216    | sparsity: 30.77%\n",
      "residual_layers.4.conv2                  #w: 9216    | sparsity: 32.3% \n",
      "residual_layers.5.conv1                  #w: 9216    | sparsity: 32.22%\n",
      "residual_layers.5.conv2                  #w: 9216    | sparsity: 35.76%\n",
      "residual_layers.6.conv1                  #w: 18432   | sparsity: 30.96%\n",
      "residual_layers.6.conv2                  #w: 36864   | sparsity: 34.35%\n",
      "residual_layers.6.residual.0             #w: 2048    | sparsity: 24.32%\n",
      "residual_layers.7.conv1                  #w: 36864   | sparsity: 35.48%\n",
      "residual_layers.7.conv2                  #w: 36864   | sparsity: 45.56%\n",
      "residual_layers.8.conv1                  #w: 36864   | sparsity: 50.41%\n",
      "residual_layers.8.conv2                  #w: 36864   | sparsity: 66.56%\n",
      "classifier                               #w: 640     | sparsity: 7.81% \n"
     ]
    },
    {
     "name": "stderr",
     "output_type": "stream",
     "text": [
      "Testing: 100%|███████████████████████████| 26/26 [00:00<00:00, 28.40it/s, accuracy=78, loss=0.00188]\n",
      "Epoch 54: 100%|█████████████████████████| 128/128 [00:06<00:00, 21.13it/s, accuracy=89.4, loss=0.31]\n"
     ]
    },
    {
     "name": "stdout",
     "output_type": "stream",
     "text": [
      "conv1                                    #w: 432     | sparsity: 14.81%\n",
      "residual_layers.0.conv1                  #w: 2304    | sparsity: 33.46%\n",
      "residual_layers.0.conv2                  #w: 2304    | sparsity: 26.48%\n",
      "residual_layers.1.conv1                  #w: 2304    | sparsity: 28.52%\n",
      "residual_layers.1.conv2                  #w: 2304    | sparsity: 27.47%\n",
      "residual_layers.2.conv1                  #w: 2304    | sparsity: 28.6% \n",
      "residual_layers.2.conv2                  #w: 2304    | sparsity: 29.51%\n",
      "residual_layers.3.conv1                  #w: 4608    | sparsity: 24.28%\n",
      "residual_layers.3.conv2                  #w: 9216    | sparsity: 29.79%\n",
      "residual_layers.3.residual.0             #w: 512     | sparsity: 14.06%\n",
      "residual_layers.4.conv1                  #w: 9216    | sparsity: 31.15%\n",
      "residual_layers.4.conv2                  #w: 9216    | sparsity: 33.11%\n",
      "residual_layers.5.conv1                  #w: 9216    | sparsity: 33.24%\n",
      "residual_layers.5.conv2                  #w: 9216    | sparsity: 37.11%\n",
      "residual_layers.6.conv1                  #w: 18432   | sparsity: 31.65%\n",
      "residual_layers.6.conv2                  #w: 36864   | sparsity: 35.05%\n",
      "residual_layers.6.residual.0             #w: 2048    | sparsity: 24.71%\n",
      "residual_layers.7.conv1                  #w: 36864   | sparsity: 36.09%\n",
      "residual_layers.7.conv2                  #w: 36864   | sparsity: 46.05%\n",
      "residual_layers.8.conv1                  #w: 36864   | sparsity: 51.26%\n",
      "residual_layers.8.conv2                  #w: 36864   | sparsity: 67.44%\n",
      "classifier                               #w: 640     | sparsity: 8.28% \n"
     ]
    },
    {
     "name": "stderr",
     "output_type": "stream",
     "text": [
      "Testing: 100%|█████████████████████████| 26/26 [00:00<00:00, 27.44it/s, accuracy=78.6, loss=0.00183]\n",
      "Epoch 55: 100%|████████████████████████| 128/128 [00:06<00:00, 21.01it/s, accuracy=89.4, loss=0.311]\n"
     ]
    },
    {
     "name": "stdout",
     "output_type": "stream",
     "text": [
      "conv1                                    #w: 432     | sparsity: 13.19%\n",
      "residual_layers.0.conv1                  #w: 2304    | sparsity: 33.81%\n",
      "residual_layers.0.conv2                  #w: 2304    | sparsity: 27.73%\n",
      "residual_layers.1.conv1                  #w: 2304    | sparsity: 27.69%\n",
      "residual_layers.1.conv2                  #w: 2304    | sparsity: 28.6% \n",
      "residual_layers.2.conv1                  #w: 2304    | sparsity: 29.47%\n",
      "residual_layers.2.conv2                  #w: 2304    | sparsity: 30.64%\n",
      "residual_layers.3.conv1                  #w: 4608    | sparsity: 24.48%\n",
      "residual_layers.3.conv2                  #w: 9216    | sparsity: 30.65%\n",
      "residual_layers.3.residual.0             #w: 512     | sparsity: 18.95%\n",
      "residual_layers.4.conv1                  #w: 9216    | sparsity: 32.14%\n",
      "residual_layers.4.conv2                  #w: 9216    | sparsity: 33.52%\n",
      "residual_layers.5.conv1                  #w: 9216    | sparsity: 32.88%\n",
      "residual_layers.5.conv2                  #w: 9216    | sparsity: 38.04%\n",
      "residual_layers.6.conv1                  #w: 18432   | sparsity: 32.15%\n",
      "residual_layers.6.conv2                  #w: 36864   | sparsity: 35.68%\n",
      "residual_layers.6.residual.0             #w: 2048    | sparsity: 24.32%\n",
      "residual_layers.7.conv1                  #w: 36864   | sparsity: 36.77%\n",
      "residual_layers.7.conv2                  #w: 36864   | sparsity: 47.13%\n",
      "residual_layers.8.conv1                  #w: 36864   | sparsity: 51.67%\n",
      "residual_layers.8.conv2                  #w: 36864   | sparsity: 67.76%\n",
      "classifier                               #w: 640     | sparsity: 7.97% \n"
     ]
    },
    {
     "name": "stderr",
     "output_type": "stream",
     "text": [
      "Testing: 100%|█████████████████████████| 26/26 [00:00<00:00, 27.93it/s, accuracy=80.7, loss=0.00155]\n",
      "Epoch 56: 100%|█████████████████████████| 128/128 [00:06<00:00, 20.48it/s, accuracy=89.3, loss=0.31]\n"
     ]
    },
    {
     "name": "stdout",
     "output_type": "stream",
     "text": [
      "conv1                                    #w: 432     | sparsity: 16.2% \n",
      "residual_layers.0.conv1                  #w: 2304    | sparsity: 34.51%\n",
      "residual_layers.0.conv2                  #w: 2304    | sparsity: 29.08%\n",
      "residual_layers.1.conv1                  #w: 2304    | sparsity: 30.6% \n",
      "residual_layers.1.conv2                  #w: 2304    | sparsity: 28.3% \n",
      "residual_layers.2.conv1                  #w: 2304    | sparsity: 29.69%\n",
      "residual_layers.2.conv2                  #w: 2304    | sparsity: 32.47%\n",
      "residual_layers.3.conv1                  #w: 4608    | sparsity: 25.82%\n",
      "residual_layers.3.conv2                  #w: 9216    | sparsity: 30.32%\n",
      "residual_layers.3.residual.0             #w: 512     | sparsity: 17.38%\n",
      "residual_layers.4.conv1                  #w: 9216    | sparsity: 32.38%\n",
      "residual_layers.4.conv2                  #w: 9216    | sparsity: 34.06%\n",
      "residual_layers.5.conv1                  #w: 9216    | sparsity: 33.27%\n",
      "residual_layers.5.conv2                  #w: 9216    | sparsity: 38.8% \n",
      "residual_layers.6.conv1                  #w: 18432   | sparsity: 32.56%\n",
      "residual_layers.6.conv2                  #w: 36864   | sparsity: 36.39%\n",
      "residual_layers.6.residual.0             #w: 2048    | sparsity: 23.88%\n",
      "residual_layers.7.conv1                  #w: 36864   | sparsity: 37.41%\n",
      "residual_layers.7.conv2                  #w: 36864   | sparsity: 47.98%\n",
      "residual_layers.8.conv1                  #w: 36864   | sparsity: 52.24%\n",
      "residual_layers.8.conv2                  #w: 36864   | sparsity: 68.76%\n",
      "classifier                               #w: 640     | sparsity: 8.12% \n"
     ]
    },
    {
     "name": "stderr",
     "output_type": "stream",
     "text": [
      "Testing: 100%|█████████████████████████| 26/26 [00:01<00:00, 24.89it/s, accuracy=80.5, loss=0.00164]\n",
      "Epoch 57: 100%|█████████████████████████| 128/128 [00:06<00:00, 21.03it/s, accuracy=89.2, loss=0.31]\n"
     ]
    },
    {
     "name": "stdout",
     "output_type": "stream",
     "text": [
      "conv1                                    #w: 432     | sparsity: 14.81%\n",
      "residual_layers.0.conv1                  #w: 2304    | sparsity: 34.81%\n",
      "residual_layers.0.conv2                  #w: 2304    | sparsity: 28.52%\n",
      "residual_layers.1.conv1                  #w: 2304    | sparsity: 30.86%\n",
      "residual_layers.1.conv2                  #w: 2304    | sparsity: 28.73%\n",
      "residual_layers.2.conv1                  #w: 2304    | sparsity: 29.95%\n",
      "residual_layers.2.conv2                  #w: 2304    | sparsity: 33.72%\n",
      "residual_layers.3.conv1                  #w: 4608    | sparsity: 26.74%\n",
      "residual_layers.3.conv2                  #w: 9216    | sparsity: 30.92%\n",
      "residual_layers.3.residual.0             #w: 512     | sparsity: 18.75%\n",
      "residual_layers.4.conv1                  #w: 9216    | sparsity: 33.38%\n",
      "residual_layers.4.conv2                  #w: 9216    | sparsity: 34.78%\n",
      "residual_layers.5.conv1                  #w: 9216    | sparsity: 34.38%\n",
      "residual_layers.5.conv2                  #w: 9216    | sparsity: 39.54%\n",
      "residual_layers.6.conv1                  #w: 18432   | sparsity: 33.12%\n",
      "residual_layers.6.conv2                  #w: 36864   | sparsity: 36.92%\n",
      "residual_layers.6.residual.0             #w: 2048    | sparsity: 25.44%\n",
      "residual_layers.7.conv1                  #w: 36864   | sparsity: 37.97%\n",
      "residual_layers.7.conv2                  #w: 36864   | sparsity: 48.47%\n",
      "residual_layers.8.conv1                  #w: 36864   | sparsity: 53.05%\n",
      "residual_layers.8.conv2                  #w: 36864   | sparsity: 69.33%\n",
      "classifier                               #w: 640     | sparsity: 8.28% \n"
     ]
    },
    {
     "name": "stderr",
     "output_type": "stream",
     "text": [
      "Testing: 100%|█████████████████████████| 26/26 [00:00<00:00, 28.79it/s, accuracy=83.7, loss=0.00127]\n",
      "Epoch 58: 100%|████████████████████████| 128/128 [00:06<00:00, 20.37it/s, accuracy=89.2, loss=0.309]\n"
     ]
    },
    {
     "name": "stdout",
     "output_type": "stream",
     "text": [
      "conv1                                    #w: 432     | sparsity: 15.05%\n",
      "residual_layers.0.conv1                  #w: 2304    | sparsity: 35.2% \n",
      "residual_layers.0.conv2                  #w: 2304    | sparsity: 29.43%\n",
      "residual_layers.1.conv1                  #w: 2304    | sparsity: 30.16%\n",
      "residual_layers.1.conv2                  #w: 2304    | sparsity: 29.43%\n",
      "residual_layers.2.conv1                  #w: 2304    | sparsity: 30.3% \n",
      "residual_layers.2.conv2                  #w: 2304    | sparsity: 34.9% \n",
      "residual_layers.3.conv1                  #w: 4608    | sparsity: 27.15%\n",
      "residual_layers.3.conv2                  #w: 9216    | sparsity: 31.49%\n",
      "residual_layers.3.residual.0             #w: 512     | sparsity: 17.97%\n",
      "residual_layers.4.conv1                  #w: 9216    | sparsity: 33.92%\n",
      "residual_layers.4.conv2                  #w: 9216    | sparsity: 35.02%\n",
      "residual_layers.5.conv1                  #w: 9216    | sparsity: 34.44%\n",
      "residual_layers.5.conv2                  #w: 9216    | sparsity: 39.63%\n",
      "residual_layers.6.conv1                  #w: 18432   | sparsity: 33.78%\n",
      "residual_layers.6.conv2                  #w: 36864   | sparsity: 37.69%\n",
      "residual_layers.6.residual.0             #w: 2048    | sparsity: 25.93%\n",
      "residual_layers.7.conv1                  #w: 36864   | sparsity: 38.75%\n",
      "residual_layers.7.conv2                  #w: 36864   | sparsity: 49.26%\n",
      "residual_layers.8.conv1                  #w: 36864   | sparsity: 53.78%\n",
      "residual_layers.8.conv2                  #w: 36864   | sparsity: 69.81%\n",
      "classifier                               #w: 640     | sparsity: 7.81% \n"
     ]
    },
    {
     "name": "stderr",
     "output_type": "stream",
     "text": [
      "Testing: 100%|█████████████████████████| 26/26 [00:00<00:00, 27.73it/s, accuracy=81.2, loss=0.00152]\n",
      "Epoch 59: 100%|████████████████████████| 128/128 [00:06<00:00, 20.74it/s, accuracy=89.3, loss=0.306]\n"
     ]
    },
    {
     "name": "stdout",
     "output_type": "stream",
     "text": [
      "conv1                                    #w: 432     | sparsity: 14.81%\n",
      "residual_layers.0.conv1                  #w: 2304    | sparsity: 35.89%\n",
      "residual_layers.0.conv2                  #w: 2304    | sparsity: 29.95%\n",
      "residual_layers.1.conv1                  #w: 2304    | sparsity: 30.82%\n",
      "residual_layers.1.conv2                  #w: 2304    | sparsity: 29.21%\n",
      "residual_layers.2.conv1                  #w: 2304    | sparsity: 30.77%\n",
      "residual_layers.2.conv2                  #w: 2304    | sparsity: 33.51%\n",
      "residual_layers.3.conv1                  #w: 4608    | sparsity: 28.3% \n",
      "residual_layers.3.conv2                  #w: 9216    | sparsity: 32.06%\n",
      "residual_layers.3.residual.0             #w: 512     | sparsity: 16.41%\n",
      "residual_layers.4.conv1                  #w: 9216    | sparsity: 33.92%\n",
      "residual_layers.4.conv2                  #w: 9216    | sparsity: 36.08%\n",
      "residual_layers.5.conv1                  #w: 9216    | sparsity: 34.8% \n",
      "residual_layers.5.conv2                  #w: 9216    | sparsity: 40.7% \n",
      "residual_layers.6.conv1                  #w: 18432   | sparsity: 34.58%\n",
      "residual_layers.6.conv2                  #w: 36864   | sparsity: 38.06%\n",
      "residual_layers.6.residual.0             #w: 2048    | sparsity: 26.27%\n",
      "residual_layers.7.conv1                  #w: 36864   | sparsity: 39.59%\n",
      "residual_layers.7.conv2                  #w: 36864   | sparsity: 49.75%\n",
      "residual_layers.8.conv1                  #w: 36864   | sparsity: 54.29%\n",
      "residual_layers.8.conv2                  #w: 36864   | sparsity: 70.48%\n",
      "classifier                               #w: 640     | sparsity: 8.91% \n"
     ]
    },
    {
     "name": "stderr",
     "output_type": "stream",
     "text": [
      "Testing: 100%|█████████████████████████| 26/26 [00:00<00:00, 30.90it/s, accuracy=79.2, loss=0.00175]\n",
      "Epoch 60: 100%|████████████████████████| 128/128 [00:06<00:00, 20.47it/s, accuracy=89.4, loss=0.309]\n"
     ]
    },
    {
     "name": "stdout",
     "output_type": "stream",
     "text": [
      "conv1                                    #w: 432     | sparsity: 15.05%\n",
      "residual_layers.0.conv1                  #w: 2304    | sparsity: 36.89%\n",
      "residual_layers.0.conv2                  #w: 2304    | sparsity: 30.12%\n",
      "residual_layers.1.conv1                  #w: 2304    | sparsity: 31.55%\n",
      "residual_layers.1.conv2                  #w: 2304    | sparsity: 29.86%\n",
      "residual_layers.2.conv1                  #w: 2304    | sparsity: 32.47%\n",
      "residual_layers.2.conv2                  #w: 2304    | sparsity: 34.94%\n",
      "residual_layers.3.conv1                  #w: 4608    | sparsity: 29.1% \n",
      "residual_layers.3.conv2                  #w: 9216    | sparsity: 32.75%\n",
      "residual_layers.3.residual.0             #w: 512     | sparsity: 14.45%\n",
      "residual_layers.4.conv1                  #w: 9216    | sparsity: 34.26%\n",
      "residual_layers.4.conv2                  #w: 9216    | sparsity: 36.35%\n",
      "residual_layers.5.conv1                  #w: 9216    | sparsity: 35.87%\n",
      "residual_layers.5.conv2                  #w: 9216    | sparsity: 41.73%\n",
      "residual_layers.6.conv1                  #w: 18432   | sparsity: 34.62%\n",
      "residual_layers.6.conv2                  #w: 36864   | sparsity: 38.95%\n",
      "residual_layers.6.residual.0             #w: 2048    | sparsity: 26.61%\n",
      "residual_layers.7.conv1                  #w: 36864   | sparsity: 40.3% \n",
      "residual_layers.7.conv2                  #w: 36864   | sparsity: 50.27%\n",
      "residual_layers.8.conv1                  #w: 36864   | sparsity: 54.73%\n",
      "residual_layers.8.conv2                  #w: 36864   | sparsity: 71.07%\n",
      "classifier                               #w: 640     | sparsity: 8.91% \n"
     ]
    },
    {
     "name": "stderr",
     "output_type": "stream",
     "text": [
      "Testing: 100%|█████████████████████████| 26/26 [00:00<00:00, 27.43it/s, accuracy=81.3, loss=0.00158]\n",
      "Epoch 61: 100%|████████████████████████| 128/128 [00:06<00:00, 19.99it/s, accuracy=89.6, loss=0.303]\n"
     ]
    },
    {
     "name": "stdout",
     "output_type": "stream",
     "text": [
      "conv1                                    #w: 432     | sparsity: 13.66%\n",
      "residual_layers.0.conv1                  #w: 2304    | sparsity: 37.33%\n",
      "residual_layers.0.conv2                  #w: 2304    | sparsity: 30.86%\n",
      "residual_layers.1.conv1                  #w: 2304    | sparsity: 31.68%\n",
      "residual_layers.1.conv2                  #w: 2304    | sparsity: 30.64%\n",
      "residual_layers.2.conv1                  #w: 2304    | sparsity: 33.38%\n",
      "residual_layers.2.conv2                  #w: 2304    | sparsity: 35.98%\n",
      "residual_layers.3.conv1                  #w: 4608    | sparsity: 29.56%\n",
      "residual_layers.3.conv2                  #w: 9216    | sparsity: 33.26%\n",
      "residual_layers.3.residual.0             #w: 512     | sparsity: 17.97%\n",
      "residual_layers.4.conv1                  #w: 9216    | sparsity: 35.03%\n",
      "residual_layers.4.conv2                  #w: 9216    | sparsity: 36.99%\n",
      "residual_layers.5.conv1                  #w: 9216    | sparsity: 36.86%\n",
      "residual_layers.5.conv2                  #w: 9216    | sparsity: 42.25%\n",
      "residual_layers.6.conv1                  #w: 18432   | sparsity: 35.32%\n",
      "residual_layers.6.conv2                  #w: 36864   | sparsity: 39.28%\n",
      "residual_layers.6.residual.0             #w: 2048    | sparsity: 27.0% \n",
      "residual_layers.7.conv1                  #w: 36864   | sparsity: 40.99%\n",
      "residual_layers.7.conv2                  #w: 36864   | sparsity: 50.99%\n",
      "residual_layers.8.conv1                  #w: 36864   | sparsity: 55.56%\n",
      "residual_layers.8.conv2                  #w: 36864   | sparsity: 71.46%\n",
      "classifier                               #w: 640     | sparsity: 9.69% \n"
     ]
    },
    {
     "name": "stderr",
     "output_type": "stream",
     "text": [
      "Testing: 100%|█████████████████████████| 26/26 [00:00<00:00, 26.76it/s, accuracy=80.1, loss=0.00163]\n",
      "Epoch 62: 100%|████████████████████████| 128/128 [00:06<00:00, 20.42it/s, accuracy=89.6, loss=0.304]\n"
     ]
    },
    {
     "name": "stdout",
     "output_type": "stream",
     "text": [
      "conv1                                    #w: 432     | sparsity: 15.97%\n",
      "residual_layers.0.conv1                  #w: 2304    | sparsity: 37.46%\n",
      "residual_layers.0.conv2                  #w: 2304    | sparsity: 31.25%\n",
      "residual_layers.1.conv1                  #w: 2304    | sparsity: 32.9% \n",
      "residual_layers.1.conv2                  #w: 2304    | sparsity: 31.12%\n",
      "residual_layers.2.conv1                  #w: 2304    | sparsity: 33.12%\n",
      "residual_layers.2.conv2                  #w: 2304    | sparsity: 35.76%\n",
      "residual_layers.3.conv1                  #w: 4608    | sparsity: 29.45%\n",
      "residual_layers.3.conv2                  #w: 9216    | sparsity: 33.38%\n",
      "residual_layers.3.residual.0             #w: 512     | sparsity: 16.99%\n",
      "residual_layers.4.conv1                  #w: 9216    | sparsity: 35.69%\n",
      "residual_layers.4.conv2                  #w: 9216    | sparsity: 37.66%\n",
      "residual_layers.5.conv1                  #w: 9216    | sparsity: 37.01%\n",
      "residual_layers.5.conv2                  #w: 9216    | sparsity: 42.66%\n",
      "residual_layers.6.conv1                  #w: 18432   | sparsity: 35.74%\n",
      "residual_layers.6.conv2                  #w: 36864   | sparsity: 40.0% \n",
      "residual_layers.6.residual.0             #w: 2048    | sparsity: 28.32%\n",
      "residual_layers.7.conv1                  #w: 36864   | sparsity: 41.57%\n",
      "residual_layers.7.conv2                  #w: 36864   | sparsity: 51.58%\n",
      "residual_layers.8.conv1                  #w: 36864   | sparsity: 56.25%\n",
      "residual_layers.8.conv2                  #w: 36864   | sparsity: 72.31%\n",
      "classifier                               #w: 640     | sparsity: 9.84% \n"
     ]
    },
    {
     "name": "stderr",
     "output_type": "stream",
     "text": [
      "Testing: 100%|█████████████████████████| 26/26 [00:01<00:00, 25.85it/s, accuracy=84.7, loss=0.00115]\n"
     ]
    },
    {
     "name": "stdout",
     "output_type": "stream",
     "text": [
      "Saved best model at epoch 62 with accuracy: 84.68%\n"
     ]
    },
    {
     "name": "stderr",
     "output_type": "stream",
     "text": [
      "Epoch 63: 100%|████████████████████████| 128/128 [00:06<00:00, 19.98it/s, accuracy=89.4, loss=0.306]\n"
     ]
    },
    {
     "name": "stdout",
     "output_type": "stream",
     "text": [
      "conv1                                    #w: 432     | sparsity: 15.51%\n",
      "residual_layers.0.conv1                  #w: 2304    | sparsity: 38.37%\n",
      "residual_layers.0.conv2                  #w: 2304    | sparsity: 31.47%\n",
      "residual_layers.1.conv1                  #w: 2304    | sparsity: 32.9% \n",
      "residual_layers.1.conv2                  #w: 2304    | sparsity: 32.25%\n",
      "residual_layers.2.conv1                  #w: 2304    | sparsity: 32.25%\n",
      "residual_layers.2.conv2                  #w: 2304    | sparsity: 35.81%\n",
      "residual_layers.3.conv1                  #w: 4608    | sparsity: 29.34%\n",
      "residual_layers.3.conv2                  #w: 9216    | sparsity: 35.07%\n",
      "residual_layers.3.residual.0             #w: 512     | sparsity: 20.12%\n",
      "residual_layers.4.conv1                  #w: 9216    | sparsity: 36.5% \n",
      "residual_layers.4.conv2                  #w: 9216    | sparsity: 38.01%\n",
      "residual_layers.5.conv1                  #w: 9216    | sparsity: 37.71%\n",
      "residual_layers.5.conv2                  #w: 9216    | sparsity: 43.58%\n",
      "residual_layers.6.conv1                  #w: 18432   | sparsity: 36.47%\n",
      "residual_layers.6.conv2                  #w: 36864   | sparsity: 40.8% \n",
      "residual_layers.6.residual.0             #w: 2048    | sparsity: 28.52%\n",
      "residual_layers.7.conv1                  #w: 36864   | sparsity: 42.19%\n",
      "residual_layers.7.conv2                  #w: 36864   | sparsity: 52.35%\n",
      "residual_layers.8.conv1                  #w: 36864   | sparsity: 56.98%\n",
      "residual_layers.8.conv2                  #w: 36864   | sparsity: 72.05%\n",
      "classifier                               #w: 640     | sparsity: 9.22% \n"
     ]
    },
    {
     "name": "stderr",
     "output_type": "stream",
     "text": [
      "Testing: 100%|██████████████████████████| 26/26 [00:00<00:00, 27.21it/s, accuracy=81.1, loss=0.0015]\n",
      "Epoch 64: 100%|████████████████████████| 128/128 [00:06<00:00, 19.94it/s, accuracy=89.3, loss=0.311]\n"
     ]
    },
    {
     "name": "stdout",
     "output_type": "stream",
     "text": [
      "conv1                                    #w: 432     | sparsity: 15.74%\n",
      "residual_layers.0.conv1                  #w: 2304    | sparsity: 38.28%\n",
      "residual_layers.0.conv2                  #w: 2304    | sparsity: 31.42%\n",
      "residual_layers.1.conv1                  #w: 2304    | sparsity: 32.55%\n",
      "residual_layers.1.conv2                  #w: 2304    | sparsity: 32.38%\n",
      "residual_layers.2.conv1                  #w: 2304    | sparsity: 33.12%\n",
      "residual_layers.2.conv2                  #w: 2304    | sparsity: 37.63%\n",
      "residual_layers.3.conv1                  #w: 4608    | sparsity: 30.12%\n",
      "residual_layers.3.conv2                  #w: 9216    | sparsity: 34.8% \n",
      "residual_layers.3.residual.0             #w: 512     | sparsity: 18.95%\n",
      "residual_layers.4.conv1                  #w: 9216    | sparsity: 36.57%\n",
      "residual_layers.4.conv2                  #w: 9216    | sparsity: 38.98%\n",
      "residual_layers.5.conv1                  #w: 9216    | sparsity: 38.23%\n",
      "residual_layers.5.conv2                  #w: 9216    | sparsity: 43.78%\n",
      "residual_layers.6.conv1                  #w: 18432   | sparsity: 37.03%\n",
      "residual_layers.6.conv2                  #w: 36864   | sparsity: 41.2% \n",
      "residual_layers.6.residual.0             #w: 2048    | sparsity: 29.05%\n",
      "residual_layers.7.conv1                  #w: 36864   | sparsity: 43.23%\n",
      "residual_layers.7.conv2                  #w: 36864   | sparsity: 53.14%\n",
      "residual_layers.8.conv1                  #w: 36864   | sparsity: 57.54%\n",
      "residual_layers.8.conv2                  #w: 36864   | sparsity: 72.62%\n",
      "classifier                               #w: 640     | sparsity: 9.38% \n"
     ]
    },
    {
     "name": "stderr",
     "output_type": "stream",
     "text": [
      "Testing: 100%|█████████████████████████| 26/26 [00:00<00:00, 26.88it/s, accuracy=81.6, loss=0.00148]\n",
      "Epoch 65: 100%|████████████████████████| 128/128 [00:06<00:00, 19.53it/s, accuracy=89.7, loss=0.295]\n"
     ]
    },
    {
     "name": "stdout",
     "output_type": "stream",
     "text": [
      "conv1                                    #w: 432     | sparsity: 17.36%\n",
      "residual_layers.0.conv1                  #w: 2304    | sparsity: 40.76%\n",
      "residual_layers.0.conv2                  #w: 2304    | sparsity: 32.07%\n",
      "residual_layers.1.conv1                  #w: 2304    | sparsity: 34.03%\n",
      "residual_layers.1.conv2                  #w: 2304    | sparsity: 32.2% \n",
      "residual_layers.2.conv1                  #w: 2304    | sparsity: 32.99%\n",
      "residual_layers.2.conv2                  #w: 2304    | sparsity: 36.41%\n",
      "residual_layers.3.conv1                  #w: 4608    | sparsity: 31.6% \n",
      "residual_layers.3.conv2                  #w: 9216    | sparsity: 35.54%\n",
      "residual_layers.3.residual.0             #w: 512     | sparsity: 19.14%\n",
      "residual_layers.4.conv1                  #w: 9216    | sparsity: 37.49%\n",
      "residual_layers.4.conv2                  #w: 9216    | sparsity: 39.57%\n",
      "residual_layers.5.conv1                  #w: 9216    | sparsity: 38.51%\n",
      "residual_layers.5.conv2                  #w: 9216    | sparsity: 44.78%\n",
      "residual_layers.6.conv1                  #w: 18432   | sparsity: 37.35%\n",
      "residual_layers.6.conv2                  #w: 36864   | sparsity: 41.65%\n",
      "residual_layers.6.residual.0             #w: 2048    | sparsity: 30.76%\n",
      "residual_layers.7.conv1                  #w: 36864   | sparsity: 43.62%\n",
      "residual_layers.7.conv2                  #w: 36864   | sparsity: 53.81%\n",
      "residual_layers.8.conv1                  #w: 36864   | sparsity: 58.15%\n",
      "residual_layers.8.conv2                  #w: 36864   | sparsity: 73.13%\n",
      "classifier                               #w: 640     | sparsity: 9.38% \n"
     ]
    },
    {
     "name": "stderr",
     "output_type": "stream",
     "text": [
      "Testing: 100%|█████████████████████████| 26/26 [00:00<00:00, 26.11it/s, accuracy=78.9, loss=0.00178]\n",
      "Epoch 66: 100%|████████████████████████| 128/128 [00:06<00:00, 20.36it/s, accuracy=89.5, loss=0.303]\n"
     ]
    },
    {
     "name": "stdout",
     "output_type": "stream",
     "text": [
      "conv1                                    #w: 432     | sparsity: 16.67%\n",
      "residual_layers.0.conv1                  #w: 2304    | sparsity: 40.8% \n",
      "residual_layers.0.conv2                  #w: 2304    | sparsity: 32.38%\n",
      "residual_layers.1.conv1                  #w: 2304    | sparsity: 33.38%\n",
      "residual_layers.1.conv2                  #w: 2304    | sparsity: 32.47%\n",
      "residual_layers.2.conv1                  #w: 2304    | sparsity: 33.38%\n",
      "residual_layers.2.conv2                  #w: 2304    | sparsity: 37.54%\n",
      "residual_layers.3.conv1                  #w: 4608    | sparsity: 31.77%\n",
      "residual_layers.3.conv2                  #w: 9216    | sparsity: 36.12%\n",
      "residual_layers.3.residual.0             #w: 512     | sparsity: 18.75%\n",
      "residual_layers.4.conv1                  #w: 9216    | sparsity: 37.99%\n",
      "residual_layers.4.conv2                  #w: 9216    | sparsity: 40.12%\n",
      "residual_layers.5.conv1                  #w: 9216    | sparsity: 39.33%\n",
      "residual_layers.5.conv2                  #w: 9216    | sparsity: 45.91%\n",
      "residual_layers.6.conv1                  #w: 18432   | sparsity: 38.32%\n",
      "residual_layers.6.conv2                  #w: 36864   | sparsity: 42.11%\n",
      "residual_layers.6.residual.0             #w: 2048    | sparsity: 30.91%\n",
      "residual_layers.7.conv1                  #w: 36864   | sparsity: 44.21%\n",
      "residual_layers.7.conv2                  #w: 36864   | sparsity: 54.25%\n",
      "residual_layers.8.conv1                  #w: 36864   | sparsity: 58.73%\n",
      "residual_layers.8.conv2                  #w: 36864   | sparsity: 73.98%\n",
      "classifier                               #w: 640     | sparsity: 9.06% \n"
     ]
    },
    {
     "name": "stderr",
     "output_type": "stream",
     "text": [
      "Testing: 100%|█████████████████████████| 26/26 [00:01<00:00, 23.85it/s, accuracy=82.7, loss=0.00145]\n",
      "Epoch 67: 100%|████████████████████████| 128/128 [00:06<00:00, 21.02it/s, accuracy=89.5, loss=0.305]\n"
     ]
    },
    {
     "name": "stdout",
     "output_type": "stream",
     "text": [
      "conv1                                    #w: 432     | sparsity: 16.9% \n",
      "residual_layers.0.conv1                  #w: 2304    | sparsity: 40.93%\n",
      "residual_layers.0.conv2                  #w: 2304    | sparsity: 34.33%\n",
      "residual_layers.1.conv1                  #w: 2304    | sparsity: 33.85%\n",
      "residual_layers.1.conv2                  #w: 2304    | sparsity: 33.25%\n",
      "residual_layers.2.conv1                  #w: 2304    | sparsity: 35.29%\n",
      "residual_layers.2.conv2                  #w: 2304    | sparsity: 38.98%\n",
      "residual_layers.3.conv1                  #w: 4608    | sparsity: 32.01%\n",
      "residual_layers.3.conv2                  #w: 9216    | sparsity: 36.95%\n",
      "residual_layers.3.residual.0             #w: 512     | sparsity: 18.36%\n",
      "residual_layers.4.conv1                  #w: 9216    | sparsity: 38.92%\n",
      "residual_layers.4.conv2                  #w: 9216    | sparsity: 41.3% \n",
      "residual_layers.5.conv1                  #w: 9216    | sparsity: 39.76%\n",
      "residual_layers.5.conv2                  #w: 9216    | sparsity: 45.72%\n",
      "residual_layers.6.conv1                  #w: 18432   | sparsity: 38.83%\n",
      "residual_layers.6.conv2                  #w: 36864   | sparsity: 42.5% \n",
      "residual_layers.6.residual.0             #w: 2048    | sparsity: 30.52%\n",
      "residual_layers.7.conv1                  #w: 36864   | sparsity: 44.79%\n",
      "residual_layers.7.conv2                  #w: 36864   | sparsity: 55.14%\n",
      "residual_layers.8.conv1                  #w: 36864   | sparsity: 59.13%\n",
      "residual_layers.8.conv2                  #w: 36864   | sparsity: 74.33%\n",
      "classifier                               #w: 640     | sparsity: 10.62%\n"
     ]
    },
    {
     "name": "stderr",
     "output_type": "stream",
     "text": [
      "Testing: 100%|█████████████████████████| 26/26 [00:00<00:00, 26.67it/s, accuracy=81.6, loss=0.00153]\n",
      "Epoch 68: 100%|████████████████████████| 128/128 [00:05<00:00, 21.34it/s, accuracy=89.4, loss=0.307]\n"
     ]
    },
    {
     "name": "stdout",
     "output_type": "stream",
     "text": [
      "conv1                                    #w: 432     | sparsity: 17.82%\n",
      "residual_layers.0.conv1                  #w: 2304    | sparsity: 42.1% \n",
      "residual_layers.0.conv2                  #w: 2304    | sparsity: 33.46%\n",
      "residual_layers.1.conv1                  #w: 2304    | sparsity: 35.37%\n",
      "residual_layers.1.conv2                  #w: 2304    | sparsity: 33.29%\n",
      "residual_layers.2.conv1                  #w: 2304    | sparsity: 34.9% \n",
      "residual_layers.2.conv2                  #w: 2304    | sparsity: 39.76%\n",
      "residual_layers.3.conv1                  #w: 4608    | sparsity: 32.6% \n",
      "residual_layers.3.conv2                  #w: 9216    | sparsity: 36.72%\n",
      "residual_layers.3.residual.0             #w: 512     | sparsity: 19.34%\n",
      "residual_layers.4.conv1                  #w: 9216    | sparsity: 39.47%\n",
      "residual_layers.4.conv2                  #w: 9216    | sparsity: 42.22%\n",
      "residual_layers.5.conv1                  #w: 9216    | sparsity: 40.25%\n",
      "residual_layers.5.conv2                  #w: 9216    | sparsity: 46.44%\n",
      "residual_layers.6.conv1                  #w: 18432   | sparsity: 39.49%\n",
      "residual_layers.6.conv2                  #w: 36864   | sparsity: 43.29%\n",
      "residual_layers.6.residual.0             #w: 2048    | sparsity: 31.1% \n",
      "residual_layers.7.conv1                  #w: 36864   | sparsity: 45.36%\n",
      "residual_layers.7.conv2                  #w: 36864   | sparsity: 55.62%\n",
      "residual_layers.8.conv1                  #w: 36864   | sparsity: 60.04%\n",
      "residual_layers.8.conv2                  #w: 36864   | sparsity: 74.56%\n",
      "classifier                               #w: 640     | sparsity: 10.47%\n"
     ]
    },
    {
     "name": "stderr",
     "output_type": "stream",
     "text": [
      "Testing: 100%|█████████████████████████| 26/26 [00:00<00:00, 32.67it/s, accuracy=77.5, loss=0.00192]\n",
      "Epoch 69: 100%|████████████████████████| 128/128 [00:05<00:00, 21.68it/s, accuracy=89.5, loss=0.301]\n"
     ]
    },
    {
     "name": "stdout",
     "output_type": "stream",
     "text": [
      "conv1                                    #w: 432     | sparsity: 17.36%\n",
      "residual_layers.0.conv1                  #w: 2304    | sparsity: 42.01%\n",
      "residual_layers.0.conv2                  #w: 2304    | sparsity: 33.77%\n",
      "residual_layers.1.conv1                  #w: 2304    | sparsity: 35.68%\n",
      "residual_layers.1.conv2                  #w: 2304    | sparsity: 34.68%\n",
      "residual_layers.2.conv1                  #w: 2304    | sparsity: 34.85%\n",
      "residual_layers.2.conv2                  #w: 2304    | sparsity: 40.19%\n",
      "residual_layers.3.conv1                  #w: 4608    | sparsity: 32.73%\n",
      "residual_layers.3.conv2                  #w: 9216    | sparsity: 36.96%\n",
      "residual_layers.3.residual.0             #w: 512     | sparsity: 17.97%\n",
      "residual_layers.4.conv1                  #w: 9216    | sparsity: 40.26%\n",
      "residual_layers.4.conv2                  #w: 9216    | sparsity: 42.35%\n",
      "residual_layers.5.conv1                  #w: 9216    | sparsity: 40.91%\n",
      "residual_layers.5.conv2                  #w: 9216    | sparsity: 46.73%\n",
      "residual_layers.6.conv1                  #w: 18432   | sparsity: 39.96%\n",
      "residual_layers.6.conv2                  #w: 36864   | sparsity: 43.8% \n",
      "residual_layers.6.residual.0             #w: 2048    | sparsity: 32.08%\n",
      "residual_layers.7.conv1                  #w: 36864   | sparsity: 46.11%\n",
      "residual_layers.7.conv2                  #w: 36864   | sparsity: 56.53%\n",
      "residual_layers.8.conv1                  #w: 36864   | sparsity: 60.67%\n",
      "residual_layers.8.conv2                  #w: 36864   | sparsity: 74.97%\n",
      "classifier                               #w: 640     | sparsity: 10.16%\n"
     ]
    },
    {
     "name": "stderr",
     "output_type": "stream",
     "text": [
      "Testing: 100%|█████████████████████████| 26/26 [00:00<00:00, 28.17it/s, accuracy=78.5, loss=0.00171]\n",
      "Epoch 70: 100%|████████████████████████| 128/128 [00:05<00:00, 21.47it/s, accuracy=89.5, loss=0.304]\n"
     ]
    },
    {
     "name": "stdout",
     "output_type": "stream",
     "text": [
      "conv1                                    #w: 432     | sparsity: 20.14%\n",
      "residual_layers.0.conv1                  #w: 2304    | sparsity: 42.27%\n",
      "residual_layers.0.conv2                  #w: 2304    | sparsity: 34.64%\n",
      "residual_layers.1.conv1                  #w: 2304    | sparsity: 36.11%\n",
      "residual_layers.1.conv2                  #w: 2304    | sparsity: 35.03%\n",
      "residual_layers.2.conv1                  #w: 2304    | sparsity: 36.24%\n",
      "residual_layers.2.conv2                  #w: 2304    | sparsity: 39.41%\n",
      "residual_layers.3.conv1                  #w: 4608    | sparsity: 32.7% \n",
      "residual_layers.3.conv2                  #w: 9216    | sparsity: 37.22%\n",
      "residual_layers.3.residual.0             #w: 512     | sparsity: 19.73%\n",
      "residual_layers.4.conv1                  #w: 9216    | sparsity: 40.73%\n",
      "residual_layers.4.conv2                  #w: 9216    | sparsity: 43.4% \n",
      "residual_layers.5.conv1                  #w: 9216    | sparsity: 41.23%\n",
      "residual_layers.5.conv2                  #w: 9216    | sparsity: 47.93%\n",
      "residual_layers.6.conv1                  #w: 18432   | sparsity: 40.51%\n",
      "residual_layers.6.conv2                  #w: 36864   | sparsity: 44.72%\n",
      "residual_layers.6.residual.0             #w: 2048    | sparsity: 32.37%\n",
      "residual_layers.7.conv1                  #w: 36864   | sparsity: 46.47%\n",
      "residual_layers.7.conv2                  #w: 36864   | sparsity: 56.86%\n",
      "residual_layers.8.conv1                  #w: 36864   | sparsity: 61.16%\n",
      "residual_layers.8.conv2                  #w: 36864   | sparsity: 75.65%\n",
      "classifier                               #w: 640     | sparsity: 10.31%\n"
     ]
    },
    {
     "name": "stderr",
     "output_type": "stream",
     "text": [
      "Testing: 100%|█████████████████████████| 26/26 [00:01<00:00, 24.43it/s, accuracy=81.7, loss=0.00152]\n",
      "Epoch 71: 100%|████████████████████████| 128/128 [00:06<00:00, 20.23it/s, accuracy=89.5, loss=0.306]\n"
     ]
    },
    {
     "name": "stdout",
     "output_type": "stream",
     "text": [
      "conv1                                    #w: 432     | sparsity: 20.14%\n",
      "residual_layers.0.conv1                  #w: 2304    | sparsity: 43.4% \n",
      "residual_layers.0.conv2                  #w: 2304    | sparsity: 35.55%\n",
      "residual_layers.1.conv1                  #w: 2304    | sparsity: 37.33%\n",
      "residual_layers.1.conv2                  #w: 2304    | sparsity: 35.98%\n",
      "residual_layers.2.conv1                  #w: 2304    | sparsity: 36.2% \n",
      "residual_layers.2.conv2                  #w: 2304    | sparsity: 40.84%\n",
      "residual_layers.3.conv1                  #w: 4608    | sparsity: 33.81%\n",
      "residual_layers.3.conv2                  #w: 9216    | sparsity: 38.43%\n",
      "residual_layers.3.residual.0             #w: 512     | sparsity: 17.97%\n",
      "residual_layers.4.conv1                  #w: 9216    | sparsity: 41.59%\n",
      "residual_layers.4.conv2                  #w: 9216    | sparsity: 43.86%\n",
      "residual_layers.5.conv1                  #w: 9216    | sparsity: 42.05%\n",
      "residual_layers.5.conv2                  #w: 9216    | sparsity: 48.12%\n",
      "residual_layers.6.conv1                  #w: 18432   | sparsity: 40.98%\n",
      "residual_layers.6.conv2                  #w: 36864   | sparsity: 45.33%\n",
      "residual_layers.6.residual.0             #w: 2048    | sparsity: 33.74%\n",
      "residual_layers.7.conv1                  #w: 36864   | sparsity: 47.29%\n",
      "residual_layers.7.conv2                  #w: 36864   | sparsity: 57.38%\n",
      "residual_layers.8.conv1                  #w: 36864   | sparsity: 61.36%\n",
      "residual_layers.8.conv2                  #w: 36864   | sparsity: 75.96%\n",
      "classifier                               #w: 640     | sparsity: 10.94%\n"
     ]
    },
    {
     "name": "stderr",
     "output_type": "stream",
     "text": [
      "Testing: 100%|█████████████████████████| 26/26 [00:00<00:00, 27.08it/s, accuracy=78.4, loss=0.00177]\n",
      "Epoch 72: 100%|████████████████████████| 128/128 [00:06<00:00, 20.73it/s, accuracy=89.7, loss=0.301]\n"
     ]
    },
    {
     "name": "stdout",
     "output_type": "stream",
     "text": [
      "conv1                                    #w: 432     | sparsity: 20.6% \n",
      "residual_layers.0.conv1                  #w: 2304    | sparsity: 43.97%\n",
      "residual_layers.0.conv2                  #w: 2304    | sparsity: 36.24%\n",
      "residual_layers.1.conv1                  #w: 2304    | sparsity: 37.59%\n",
      "residual_layers.1.conv2                  #w: 2304    | sparsity: 36.33%\n",
      "residual_layers.2.conv1                  #w: 2304    | sparsity: 37.93%\n",
      "residual_layers.2.conv2                  #w: 2304    | sparsity: 41.67%\n",
      "residual_layers.3.conv1                  #w: 4608    | sparsity: 34.85%\n",
      "residual_layers.3.conv2                  #w: 9216    | sparsity: 38.63%\n",
      "residual_layers.3.residual.0             #w: 512     | sparsity: 18.36%\n",
      "residual_layers.4.conv1                  #w: 9216    | sparsity: 42.08%\n",
      "residual_layers.4.conv2                  #w: 9216    | sparsity: 44.09%\n",
      "residual_layers.5.conv1                  #w: 9216    | sparsity: 42.04%\n",
      "residual_layers.5.conv2                  #w: 9216    | sparsity: 49.13%\n",
      "residual_layers.6.conv1                  #w: 18432   | sparsity: 41.59%\n",
      "residual_layers.6.conv2                  #w: 36864   | sparsity: 45.91%\n",
      "residual_layers.6.residual.0             #w: 2048    | sparsity: 35.16%\n",
      "residual_layers.7.conv1                  #w: 36864   | sparsity: 47.7% \n",
      "residual_layers.7.conv2                  #w: 36864   | sparsity: 58.03%\n",
      "residual_layers.8.conv1                  #w: 36864   | sparsity: 62.19%\n",
      "residual_layers.8.conv2                  #w: 36864   | sparsity: 76.2% \n",
      "classifier                               #w: 640     | sparsity: 11.41%\n"
     ]
    },
    {
     "name": "stderr",
     "output_type": "stream",
     "text": [
      "Testing: 100%|██████████████████████████| 26/26 [00:00<00:00, 29.71it/s, accuracy=85.6, loss=0.0011]\n"
     ]
    },
    {
     "name": "stdout",
     "output_type": "stream",
     "text": [
      "Saved best model at epoch 72 with accuracy: 85.57%\n"
     ]
    },
    {
     "name": "stderr",
     "output_type": "stream",
     "text": [
      "Epoch 73: 100%|████████████████████████| 128/128 [00:06<00:00, 21.13it/s, accuracy=89.9, loss=0.296]\n"
     ]
    },
    {
     "name": "stdout",
     "output_type": "stream",
     "text": [
      "conv1                                    #w: 432     | sparsity: 19.68%\n",
      "residual_layers.0.conv1                  #w: 2304    | sparsity: 43.58%\n",
      "residual_layers.0.conv2                  #w: 2304    | sparsity: 37.11%\n",
      "residual_layers.1.conv1                  #w: 2304    | sparsity: 39.41%\n",
      "residual_layers.1.conv2                  #w: 2304    | sparsity: 36.63%\n",
      "residual_layers.2.conv1                  #w: 2304    | sparsity: 38.28%\n",
      "residual_layers.2.conv2                  #w: 2304    | sparsity: 41.41%\n",
      "residual_layers.3.conv1                  #w: 4608    | sparsity: 34.59%\n",
      "residual_layers.3.conv2                  #w: 9216    | sparsity: 39.06%\n",
      "residual_layers.3.residual.0             #w: 512     | sparsity: 17.77%\n",
      "residual_layers.4.conv1                  #w: 9216    | sparsity: 42.04%\n",
      "residual_layers.4.conv2                  #w: 9216    | sparsity: 44.64%\n",
      "residual_layers.5.conv1                  #w: 9216    | sparsity: 43.61%\n",
      "residual_layers.5.conv2                  #w: 9216    | sparsity: 49.46%\n",
      "residual_layers.6.conv1                  #w: 18432   | sparsity: 42.56%\n",
      "residual_layers.6.conv2                  #w: 36864   | sparsity: 46.78%\n",
      "residual_layers.6.residual.0             #w: 2048    | sparsity: 33.79%\n",
      "residual_layers.7.conv1                  #w: 36864   | sparsity: 48.25%\n",
      "residual_layers.7.conv2                  #w: 36864   | sparsity: 58.3% \n",
      "residual_layers.8.conv1                  #w: 36864   | sparsity: 62.9% \n",
      "residual_layers.8.conv2                  #w: 36864   | sparsity: 76.54%\n",
      "classifier                               #w: 640     | sparsity: 11.09%\n"
     ]
    },
    {
     "name": "stderr",
     "output_type": "stream",
     "text": [
      "Testing: 100%|█████████████████████████| 26/26 [00:00<00:00, 27.27it/s, accuracy=80.8, loss=0.00164]\n",
      "Epoch 74: 100%|████████████████████████| 128/128 [00:05<00:00, 22.18it/s, accuracy=89.6, loss=0.302]\n"
     ]
    },
    {
     "name": "stdout",
     "output_type": "stream",
     "text": [
      "conv1                                    #w: 432     | sparsity: 18.52%\n",
      "residual_layers.0.conv1                  #w: 2304    | sparsity: 45.23%\n",
      "residual_layers.0.conv2                  #w: 2304    | sparsity: 36.94%\n",
      "residual_layers.1.conv1                  #w: 2304    | sparsity: 39.67%\n",
      "residual_layers.1.conv2                  #w: 2304    | sparsity: 38.11%\n",
      "residual_layers.2.conv1                  #w: 2304    | sparsity: 37.85%\n",
      "residual_layers.2.conv2                  #w: 2304    | sparsity: 42.45%\n",
      "residual_layers.3.conv1                  #w: 4608    | sparsity: 35.22%\n",
      "residual_layers.3.conv2                  #w: 9216    | sparsity: 40.06%\n",
      "residual_layers.3.residual.0             #w: 512     | sparsity: 19.53%\n",
      "residual_layers.4.conv1                  #w: 9216    | sparsity: 43.24%\n",
      "residual_layers.4.conv2                  #w: 9216    | sparsity: 45.58%\n",
      "residual_layers.5.conv1                  #w: 9216    | sparsity: 43.87%\n",
      "residual_layers.5.conv2                  #w: 9216    | sparsity: 50.24%\n",
      "residual_layers.6.conv1                  #w: 18432   | sparsity: 43.0% \n",
      "residual_layers.6.conv2                  #w: 36864   | sparsity: 47.08%\n",
      "residual_layers.6.residual.0             #w: 2048    | sparsity: 35.3% \n",
      "residual_layers.7.conv1                  #w: 36864   | sparsity: 48.96%\n",
      "residual_layers.7.conv2                  #w: 36864   | sparsity: 58.97%\n",
      "residual_layers.8.conv1                  #w: 36864   | sparsity: 63.15%\n",
      "residual_layers.8.conv2                  #w: 36864   | sparsity: 77.03%\n",
      "classifier                               #w: 640     | sparsity: 11.25%\n"
     ]
    },
    {
     "name": "stderr",
     "output_type": "stream",
     "text": [
      "Testing: 100%|█████████████████████████| 26/26 [00:00<00:00, 30.04it/s, accuracy=81.9, loss=0.00141]\n",
      "Epoch 75: 100%|████████████████████████| 128/128 [00:05<00:00, 22.16it/s, accuracy=89.7, loss=0.299]\n"
     ]
    },
    {
     "name": "stdout",
     "output_type": "stream",
     "text": [
      "conv1                                    #w: 432     | sparsity: 21.06%\n",
      "residual_layers.0.conv1                  #w: 2304    | sparsity: 45.31%\n",
      "residual_layers.0.conv2                  #w: 2304    | sparsity: 37.67%\n",
      "residual_layers.1.conv1                  #w: 2304    | sparsity: 38.06%\n",
      "residual_layers.1.conv2                  #w: 2304    | sparsity: 38.32%\n",
      "residual_layers.2.conv1                  #w: 2304    | sparsity: 38.72%\n",
      "residual_layers.2.conv2                  #w: 2304    | sparsity: 42.01%\n",
      "residual_layers.3.conv1                  #w: 4608    | sparsity: 35.44%\n",
      "residual_layers.3.conv2                  #w: 9216    | sparsity: 39.97%\n",
      "residual_layers.3.residual.0             #w: 512     | sparsity: 20.7% \n",
      "residual_layers.4.conv1                  #w: 9216    | sparsity: 43.98%\n",
      "residual_layers.4.conv2                  #w: 9216    | sparsity: 46.12%\n",
      "residual_layers.5.conv1                  #w: 9216    | sparsity: 44.26%\n",
      "residual_layers.5.conv2                  #w: 9216    | sparsity: 51.43%\n",
      "residual_layers.6.conv1                  #w: 18432   | sparsity: 43.04%\n",
      "residual_layers.6.conv2                  #w: 36864   | sparsity: 47.45%\n",
      "residual_layers.6.residual.0             #w: 2048    | sparsity: 35.25%\n",
      "residual_layers.7.conv1                  #w: 36864   | sparsity: 49.63%\n",
      "residual_layers.7.conv2                  #w: 36864   | sparsity: 59.71%\n",
      "residual_layers.8.conv1                  #w: 36864   | sparsity: 63.85%\n",
      "residual_layers.8.conv2                  #w: 36864   | sparsity: 77.56%\n",
      "classifier                               #w: 640     | sparsity: 12.5% \n"
     ]
    },
    {
     "name": "stderr",
     "output_type": "stream",
     "text": [
      "Testing: 100%|█████████████████████████| 26/26 [00:00<00:00, 29.74it/s, accuracy=80.6, loss=0.00157]\n",
      "Epoch 76: 100%|████████████████████████| 128/128 [00:06<00:00, 20.71it/s, accuracy=89.4, loss=0.305]\n"
     ]
    },
    {
     "name": "stdout",
     "output_type": "stream",
     "text": [
      "conv1                                    #w: 432     | sparsity: 21.53%\n",
      "residual_layers.0.conv1                  #w: 2304    | sparsity: 45.7% \n",
      "residual_layers.0.conv2                  #w: 2304    | sparsity: 39.24%\n",
      "residual_layers.1.conv1                  #w: 2304    | sparsity: 39.97%\n",
      "residual_layers.1.conv2                  #w: 2304    | sparsity: 38.63%\n",
      "residual_layers.2.conv1                  #w: 2304    | sparsity: 39.06%\n",
      "residual_layers.2.conv2                  #w: 2304    | sparsity: 42.45%\n",
      "residual_layers.3.conv1                  #w: 4608    | sparsity: 35.79%\n",
      "residual_layers.3.conv2                  #w: 9216    | sparsity: 40.58%\n",
      "residual_layers.3.residual.0             #w: 512     | sparsity: 20.7% \n",
      "residual_layers.4.conv1                  #w: 9216    | sparsity: 44.57%\n",
      "residual_layers.4.conv2                  #w: 9216    | sparsity: 46.56%\n",
      "residual_layers.5.conv1                  #w: 9216    | sparsity: 44.16%\n",
      "residual_layers.5.conv2                  #w: 9216    | sparsity: 51.36%\n",
      "residual_layers.6.conv1                  #w: 18432   | sparsity: 43.33%\n",
      "residual_layers.6.conv2                  #w: 36864   | sparsity: 48.17%\n",
      "residual_layers.6.residual.0             #w: 2048    | sparsity: 37.06%\n",
      "residual_layers.7.conv1                  #w: 36864   | sparsity: 50.34%\n",
      "residual_layers.7.conv2                  #w: 36864   | sparsity: 60.22%\n",
      "residual_layers.8.conv1                  #w: 36864   | sparsity: 64.08%\n",
      "residual_layers.8.conv2                  #w: 36864   | sparsity: 78.35%\n",
      "classifier                               #w: 640     | sparsity: 11.72%\n"
     ]
    },
    {
     "name": "stderr",
     "output_type": "stream",
     "text": [
      "Testing: 100%|███████████████████████████| 26/26 [00:01<00:00, 23.93it/s, accuracy=82, loss=0.00142]\n",
      "Epoch 77: 100%|████████████████████████| 128/128 [00:06<00:00, 20.35it/s, accuracy=89.8, loss=0.295]\n"
     ]
    },
    {
     "name": "stdout",
     "output_type": "stream",
     "text": [
      "conv1                                    #w: 432     | sparsity: 20.37%\n",
      "residual_layers.0.conv1                  #w: 2304    | sparsity: 46.53%\n",
      "residual_layers.0.conv2                  #w: 2304    | sparsity: 37.93%\n",
      "residual_layers.1.conv1                  #w: 2304    | sparsity: 40.19%\n",
      "residual_layers.1.conv2                  #w: 2304    | sparsity: 38.72%\n",
      "residual_layers.2.conv1                  #w: 2304    | sparsity: 39.11%\n",
      "residual_layers.2.conv2                  #w: 2304    | sparsity: 44.18%\n",
      "residual_layers.3.conv1                  #w: 4608    | sparsity: 36.81%\n",
      "residual_layers.3.conv2                  #w: 9216    | sparsity: 40.9% \n",
      "residual_layers.3.residual.0             #w: 512     | sparsity: 22.85%\n",
      "residual_layers.4.conv1                  #w: 9216    | sparsity: 44.99%\n",
      "residual_layers.4.conv2                  #w: 9216    | sparsity: 47.4% \n",
      "residual_layers.5.conv1                  #w: 9216    | sparsity: 44.49%\n",
      "residual_layers.5.conv2                  #w: 9216    | sparsity: 52.28%\n",
      "residual_layers.6.conv1                  #w: 18432   | sparsity: 44.03%\n",
      "residual_layers.6.conv2                  #w: 36864   | sparsity: 48.65%\n",
      "residual_layers.6.residual.0             #w: 2048    | sparsity: 35.94%\n",
      "residual_layers.7.conv1                  #w: 36864   | sparsity: 50.97%\n",
      "residual_layers.7.conv2                  #w: 36864   | sparsity: 60.95%\n",
      "residual_layers.8.conv1                  #w: 36864   | sparsity: 64.66%\n",
      "residual_layers.8.conv2                  #w: 36864   | sparsity: 78.42%\n",
      "classifier                               #w: 640     | sparsity: 11.72%\n"
     ]
    },
    {
     "name": "stderr",
     "output_type": "stream",
     "text": [
      "Testing: 100%|█████████████████████████| 26/26 [00:00<00:00, 27.83it/s, accuracy=82.3, loss=0.00138]\n",
      "Epoch 78: 100%|████████████████████████| 128/128 [00:06<00:00, 20.54it/s, accuracy=89.5, loss=0.303]\n"
     ]
    },
    {
     "name": "stdout",
     "output_type": "stream",
     "text": [
      "conv1                                    #w: 432     | sparsity: 21.3% \n",
      "residual_layers.0.conv1                  #w: 2304    | sparsity: 46.83%\n",
      "residual_layers.0.conv2                  #w: 2304    | sparsity: 38.45%\n",
      "residual_layers.1.conv1                  #w: 2304    | sparsity: 41.28%\n",
      "residual_layers.1.conv2                  #w: 2304    | sparsity: 40.32%\n",
      "residual_layers.2.conv1                  #w: 2304    | sparsity: 39.89%\n",
      "residual_layers.2.conv2                  #w: 2304    | sparsity: 45.27%\n",
      "residual_layers.3.conv1                  #w: 4608    | sparsity: 37.28%\n",
      "residual_layers.3.conv2                  #w: 9216    | sparsity: 42.07%\n",
      "residual_layers.3.residual.0             #w: 512     | sparsity: 23.05%\n",
      "residual_layers.4.conv1                  #w: 9216    | sparsity: 45.39%\n",
      "residual_layers.4.conv2                  #w: 9216    | sparsity: 47.46%\n",
      "residual_layers.5.conv1                  #w: 9216    | sparsity: 45.12%\n",
      "residual_layers.5.conv2                  #w: 9216    | sparsity: 52.3% \n",
      "residual_layers.6.conv1                  #w: 18432   | sparsity: 44.37%\n",
      "residual_layers.6.conv2                  #w: 36864   | sparsity: 49.26%\n",
      "residual_layers.6.residual.0             #w: 2048    | sparsity: 36.72%\n",
      "residual_layers.7.conv1                  #w: 36864   | sparsity: 51.63%\n",
      "residual_layers.7.conv2                  #w: 36864   | sparsity: 61.27%\n",
      "residual_layers.8.conv1                  #w: 36864   | sparsity: 65.3% \n",
      "residual_layers.8.conv2                  #w: 36864   | sparsity: 78.84%\n",
      "classifier                               #w: 640     | sparsity: 13.28%\n"
     ]
    },
    {
     "name": "stderr",
     "output_type": "stream",
     "text": [
      "Testing: 100%|█████████████████████████| 26/26 [00:01<00:00, 25.28it/s, accuracy=81.8, loss=0.00147]\n",
      "Epoch 79: 100%|████████████████████████| 128/128 [00:06<00:00, 20.52it/s, accuracy=89.4, loss=0.308]\n"
     ]
    },
    {
     "name": "stdout",
     "output_type": "stream",
     "text": [
      "conv1                                    #w: 432     | sparsity: 19.21%\n",
      "residual_layers.0.conv1                  #w: 2304    | sparsity: 47.48%\n",
      "residual_layers.0.conv2                  #w: 2304    | sparsity: 39.41%\n",
      "residual_layers.1.conv1                  #w: 2304    | sparsity: 40.62%\n",
      "residual_layers.1.conv2                  #w: 2304    | sparsity: 40.54%\n",
      "residual_layers.2.conv1                  #w: 2304    | sparsity: 39.97%\n",
      "residual_layers.2.conv2                  #w: 2304    | sparsity: 45.31%\n",
      "residual_layers.3.conv1                  #w: 4608    | sparsity: 37.37%\n",
      "residual_layers.3.conv2                  #w: 9216    | sparsity: 42.65%\n",
      "residual_layers.3.residual.0             #w: 512     | sparsity: 23.44%\n",
      "residual_layers.4.conv1                  #w: 9216    | sparsity: 45.86%\n",
      "residual_layers.4.conv2                  #w: 9216    | sparsity: 48.93%\n",
      "residual_layers.5.conv1                  #w: 9216    | sparsity: 45.57%\n",
      "residual_layers.5.conv2                  #w: 9216    | sparsity: 52.9% \n",
      "residual_layers.6.conv1                  #w: 18432   | sparsity: 44.7% \n",
      "residual_layers.6.conv2                  #w: 36864   | sparsity: 49.64%\n",
      "residual_layers.6.residual.0             #w: 2048    | sparsity: 37.74%\n",
      "residual_layers.7.conv1                  #w: 36864   | sparsity: 52.28%\n",
      "residual_layers.7.conv2                  #w: 36864   | sparsity: 61.87%\n",
      "residual_layers.8.conv1                  #w: 36864   | sparsity: 65.94%\n",
      "residual_layers.8.conv2                  #w: 36864   | sparsity: 79.27%\n",
      "classifier                               #w: 640     | sparsity: 13.91%\n"
     ]
    },
    {
     "name": "stderr",
     "output_type": "stream",
     "text": [
      "Testing: 100%|█████████████████████████| 26/26 [00:00<00:00, 28.27it/s, accuracy=77.6, loss=0.00191]\n",
      "Epoch 80: 100%|████████████████████████| 128/128 [00:06<00:00, 21.20it/s, accuracy=89.5, loss=0.301]\n"
     ]
    },
    {
     "name": "stdout",
     "output_type": "stream",
     "text": [
      "conv1                                    #w: 432     | sparsity: 23.15%\n",
      "residual_layers.0.conv1                  #w: 2304    | sparsity: 46.92%\n",
      "residual_layers.0.conv2                  #w: 2304    | sparsity: 38.98%\n",
      "residual_layers.1.conv1                  #w: 2304    | sparsity: 42.1% \n",
      "residual_layers.1.conv2                  #w: 2304    | sparsity: 41.15%\n",
      "residual_layers.2.conv1                  #w: 2304    | sparsity: 39.67%\n",
      "residual_layers.2.conv2                  #w: 2304    | sparsity: 46.27%\n",
      "residual_layers.3.conv1                  #w: 4608    | sparsity: 37.85%\n",
      "residual_layers.3.conv2                  #w: 9216    | sparsity: 42.81%\n",
      "residual_layers.3.residual.0             #w: 512     | sparsity: 24.8% \n",
      "residual_layers.4.conv1                  #w: 9216    | sparsity: 46.74%\n",
      "residual_layers.4.conv2                  #w: 9216    | sparsity: 49.73%\n",
      "residual_layers.5.conv1                  #w: 9216    | sparsity: 46.44%\n",
      "residual_layers.5.conv2                  #w: 9216    | sparsity: 53.3% \n",
      "residual_layers.6.conv1                  #w: 18432   | sparsity: 45.36%\n",
      "residual_layers.6.conv2                  #w: 36864   | sparsity: 50.08%\n",
      "residual_layers.6.residual.0             #w: 2048    | sparsity: 38.13%\n",
      "residual_layers.7.conv1                  #w: 36864   | sparsity: 52.39%\n",
      "residual_layers.7.conv2                  #w: 36864   | sparsity: 62.3% \n",
      "residual_layers.8.conv1                  #w: 36864   | sparsity: 66.52%\n",
      "residual_layers.8.conv2                  #w: 36864   | sparsity: 80.01%\n",
      "classifier                               #w: 640     | sparsity: 13.59%\n"
     ]
    },
    {
     "name": "stderr",
     "output_type": "stream",
     "text": [
      "Testing: 100%|█████████████████████████| 26/26 [00:00<00:00, 29.47it/s, accuracy=81.6, loss=0.00148]\n",
      "Epoch 81: 100%|████████████████████████| 128/128 [00:06<00:00, 20.98it/s, accuracy=89.4, loss=0.306]\n"
     ]
    },
    {
     "name": "stdout",
     "output_type": "stream",
     "text": [
      "conv1                                    #w: 432     | sparsity: 22.69%\n",
      "residual_layers.0.conv1                  #w: 2304    | sparsity: 47.74%\n",
      "residual_layers.0.conv2                  #w: 2304    | sparsity: 40.71%\n",
      "residual_layers.1.conv1                  #w: 2304    | sparsity: 42.75%\n",
      "residual_layers.1.conv2                  #w: 2304    | sparsity: 41.28%\n",
      "residual_layers.2.conv1                  #w: 2304    | sparsity: 40.19%\n",
      "residual_layers.2.conv2                  #w: 2304    | sparsity: 47.05%\n",
      "residual_layers.3.conv1                  #w: 4608    | sparsity: 38.17%\n",
      "residual_layers.3.conv2                  #w: 9216    | sparsity: 42.96%\n",
      "residual_layers.3.residual.0             #w: 512     | sparsity: 22.46%\n",
      "residual_layers.4.conv1                  #w: 9216    | sparsity: 46.95%\n",
      "residual_layers.4.conv2                  #w: 9216    | sparsity: 49.74%\n",
      "residual_layers.5.conv1                  #w: 9216    | sparsity: 47.37%\n",
      "residual_layers.5.conv2                  #w: 9216    | sparsity: 53.52%\n",
      "residual_layers.6.conv1                  #w: 18432   | sparsity: 45.9% \n",
      "residual_layers.6.conv2                  #w: 36864   | sparsity: 50.69%\n",
      "residual_layers.6.residual.0             #w: 2048    | sparsity: 38.28%\n",
      "residual_layers.7.conv1                  #w: 36864   | sparsity: 53.2% \n",
      "residual_layers.7.conv2                  #w: 36864   | sparsity: 63.11%\n",
      "residual_layers.8.conv1                  #w: 36864   | sparsity: 67.01%\n",
      "residual_layers.8.conv2                  #w: 36864   | sparsity: 80.08%\n",
      "classifier                               #w: 640     | sparsity: 14.38%\n"
     ]
    },
    {
     "name": "stderr",
     "output_type": "stream",
     "text": [
      "Testing: 100%|██████████████████████████| 26/26 [00:00<00:00, 26.16it/s, accuracy=81.7, loss=0.0015]\n",
      "Epoch 82: 100%|████████████████████████| 128/128 [00:06<00:00, 20.58it/s, accuracy=89.5, loss=0.304]\n"
     ]
    },
    {
     "name": "stdout",
     "output_type": "stream",
     "text": [
      "conv1                                    #w: 432     | sparsity: 21.76%\n",
      "residual_layers.0.conv1                  #w: 2304    | sparsity: 48.61%\n",
      "residual_layers.0.conv2                  #w: 2304    | sparsity: 41.8% \n",
      "residual_layers.1.conv1                  #w: 2304    | sparsity: 43.66%\n",
      "residual_layers.1.conv2                  #w: 2304    | sparsity: 41.23%\n",
      "residual_layers.2.conv1                  #w: 2304    | sparsity: 41.67%\n",
      "residual_layers.2.conv2                  #w: 2304    | sparsity: 47.18%\n",
      "residual_layers.3.conv1                  #w: 4608    | sparsity: 38.37%\n",
      "residual_layers.3.conv2                  #w: 9216    | sparsity: 43.14%\n",
      "residual_layers.3.residual.0             #w: 512     | sparsity: 23.44%\n",
      "residual_layers.4.conv1                  #w: 9216    | sparsity: 47.71%\n",
      "residual_layers.4.conv2                  #w: 9216    | sparsity: 50.22%\n",
      "residual_layers.5.conv1                  #w: 9216    | sparsity: 47.22%\n",
      "residual_layers.5.conv2                  #w: 9216    | sparsity: 54.2% \n",
      "residual_layers.6.conv1                  #w: 18432   | sparsity: 46.69%\n",
      "residual_layers.6.conv2                  #w: 36864   | sparsity: 51.4% \n",
      "residual_layers.6.residual.0             #w: 2048    | sparsity: 38.77%\n",
      "residual_layers.7.conv1                  #w: 36864   | sparsity: 53.9% \n",
      "residual_layers.7.conv2                  #w: 36864   | sparsity: 63.37%\n",
      "residual_layers.8.conv1                  #w: 36864   | sparsity: 67.22%\n",
      "residual_layers.8.conv2                  #w: 36864   | sparsity: 80.5% \n",
      "classifier                               #w: 640     | sparsity: 14.06%\n"
     ]
    },
    {
     "name": "stderr",
     "output_type": "stream",
     "text": [
      "Testing: 100%|█████████████████████████| 26/26 [00:00<00:00, 26.02it/s, accuracy=84.6, loss=0.00116]\n",
      "Epoch 83: 100%|████████████████████████| 128/128 [00:06<00:00, 21.20it/s, accuracy=89.6, loss=0.303]\n"
     ]
    },
    {
     "name": "stdout",
     "output_type": "stream",
     "text": [
      "conv1                                    #w: 432     | sparsity: 21.76%\n",
      "residual_layers.0.conv1                  #w: 2304    | sparsity: 48.31%\n",
      "residual_layers.0.conv2                  #w: 2304    | sparsity: 40.62%\n",
      "residual_layers.1.conv1                  #w: 2304    | sparsity: 44.31%\n",
      "residual_layers.1.conv2                  #w: 2304    | sparsity: 42.36%\n",
      "residual_layers.2.conv1                  #w: 2304    | sparsity: 41.36%\n",
      "residual_layers.2.conv2                  #w: 2304    | sparsity: 46.83%\n",
      "residual_layers.3.conv1                  #w: 4608    | sparsity: 39.11%\n",
      "residual_layers.3.conv2                  #w: 9216    | sparsity: 43.35%\n",
      "residual_layers.3.residual.0             #w: 512     | sparsity: 25.2% \n",
      "residual_layers.4.conv1                  #w: 9216    | sparsity: 48.52%\n",
      "residual_layers.4.conv2                  #w: 9216    | sparsity: 50.37%\n",
      "residual_layers.5.conv1                  #w: 9216    | sparsity: 48.11%\n",
      "residual_layers.5.conv2                  #w: 9216    | sparsity: 54.57%\n",
      "residual_layers.6.conv1                  #w: 18432   | sparsity: 47.03%\n",
      "residual_layers.6.conv2                  #w: 36864   | sparsity: 52.0% \n",
      "residual_layers.6.residual.0             #w: 2048    | sparsity: 38.33%\n",
      "residual_layers.7.conv1                  #w: 36864   | sparsity: 54.35%\n",
      "residual_layers.7.conv2                  #w: 36864   | sparsity: 64.13%\n",
      "residual_layers.8.conv1                  #w: 36864   | sparsity: 68.21%\n",
      "residual_layers.8.conv2                  #w: 36864   | sparsity: 80.5% \n",
      "classifier                               #w: 640     | sparsity: 14.53%\n"
     ]
    },
    {
     "name": "stderr",
     "output_type": "stream",
     "text": [
      "Testing: 100%|█████████████████████████| 26/26 [00:00<00:00, 28.41it/s, accuracy=81.4, loss=0.00149]\n",
      "Epoch 84: 100%|████████████████████████| 128/128 [00:06<00:00, 21.33it/s, accuracy=89.5, loss=0.303]\n"
     ]
    },
    {
     "name": "stdout",
     "output_type": "stream",
     "text": [
      "conv1                                    #w: 432     | sparsity: 21.3% \n",
      "residual_layers.0.conv1                  #w: 2304    | sparsity: 49.35%\n",
      "residual_layers.0.conv2                  #w: 2304    | sparsity: 41.06%\n",
      "residual_layers.1.conv1                  #w: 2304    | sparsity: 45.1% \n",
      "residual_layers.1.conv2                  #w: 2304    | sparsity: 42.27%\n",
      "residual_layers.2.conv1                  #w: 2304    | sparsity: 41.15%\n",
      "residual_layers.2.conv2                  #w: 2304    | sparsity: 47.09%\n",
      "residual_layers.3.conv1                  #w: 4608    | sparsity: 39.76%\n",
      "residual_layers.3.conv2                  #w: 9216    | sparsity: 44.37%\n",
      "residual_layers.3.residual.0             #w: 512     | sparsity: 26.76%\n",
      "residual_layers.4.conv1                  #w: 9216    | sparsity: 48.59%\n",
      "residual_layers.4.conv2                  #w: 9216    | sparsity: 51.45%\n",
      "residual_layers.5.conv1                  #w: 9216    | sparsity: 47.92%\n",
      "residual_layers.5.conv2                  #w: 9216    | sparsity: 54.6% \n",
      "residual_layers.6.conv1                  #w: 18432   | sparsity: 47.82%\n",
      "residual_layers.6.conv2                  #w: 36864   | sparsity: 52.53%\n",
      "residual_layers.6.residual.0             #w: 2048    | sparsity: 37.89%\n",
      "residual_layers.7.conv1                  #w: 36864   | sparsity: 54.84%\n",
      "residual_layers.7.conv2                  #w: 36864   | sparsity: 64.61%\n",
      "residual_layers.8.conv1                  #w: 36864   | sparsity: 68.5% \n",
      "residual_layers.8.conv2                  #w: 36864   | sparsity: 81.27%\n",
      "classifier                               #w: 640     | sparsity: 14.84%\n"
     ]
    },
    {
     "name": "stderr",
     "output_type": "stream",
     "text": [
      "Testing: 100%|█████████████████████████| 26/26 [00:00<00:00, 30.68it/s, accuracy=83.9, loss=0.00125]\n",
      "Epoch 85: 100%|████████████████████████| 128/128 [00:06<00:00, 20.76it/s, accuracy=89.6, loss=0.301]\n"
     ]
    },
    {
     "name": "stdout",
     "output_type": "stream",
     "text": [
      "conv1                                    #w: 432     | sparsity: 22.69%\n",
      "residual_layers.0.conv1                  #w: 2304    | sparsity: 50.61%\n",
      "residual_layers.0.conv2                  #w: 2304    | sparsity: 41.15%\n",
      "residual_layers.1.conv1                  #w: 2304    | sparsity: 45.31%\n",
      "residual_layers.1.conv2                  #w: 2304    | sparsity: 42.62%\n",
      "residual_layers.2.conv1                  #w: 2304    | sparsity: 41.58%\n",
      "residual_layers.2.conv2                  #w: 2304    | sparsity: 49.18%\n",
      "residual_layers.3.conv1                  #w: 4608    | sparsity: 40.95%\n",
      "residual_layers.3.conv2                  #w: 9216    | sparsity: 45.02%\n",
      "residual_layers.3.residual.0             #w: 512     | sparsity: 24.41%\n",
      "residual_layers.4.conv1                  #w: 9216    | sparsity: 49.37%\n",
      "residual_layers.4.conv2                  #w: 9216    | sparsity: 52.05%\n",
      "residual_layers.5.conv1                  #w: 9216    | sparsity: 48.6% \n",
      "residual_layers.5.conv2                  #w: 9216    | sparsity: 55.92%\n",
      "residual_layers.6.conv1                  #w: 18432   | sparsity: 47.86%\n",
      "residual_layers.6.conv2                  #w: 36864   | sparsity: 53.08%\n",
      "residual_layers.6.residual.0             #w: 2048    | sparsity: 38.48%\n",
      "residual_layers.7.conv1                  #w: 36864   | sparsity: 55.32%\n",
      "residual_layers.7.conv2                  #w: 36864   | sparsity: 65.28%\n",
      "residual_layers.8.conv1                  #w: 36864   | sparsity: 69.19%\n",
      "residual_layers.8.conv2                  #w: 36864   | sparsity: 81.17%\n",
      "classifier                               #w: 640     | sparsity: 14.53%\n"
     ]
    },
    {
     "name": "stderr",
     "output_type": "stream",
     "text": [
      "Testing: 100%|█████████████████████████| 26/26 [00:00<00:00, 27.73it/s, accuracy=76.8, loss=0.00193]\n",
      "Epoch 86: 100%|████████████████████████| 128/128 [00:06<00:00, 20.17it/s, accuracy=89.6, loss=0.302]\n"
     ]
    },
    {
     "name": "stdout",
     "output_type": "stream",
     "text": [
      "conv1                                    #w: 432     | sparsity: 22.45%\n",
      "residual_layers.0.conv1                  #w: 2304    | sparsity: 50.48%\n",
      "residual_layers.0.conv2                  #w: 2304    | sparsity: 41.23%\n",
      "residual_layers.1.conv1                  #w: 2304    | sparsity: 45.44%\n",
      "residual_layers.1.conv2                  #w: 2304    | sparsity: 43.19%\n",
      "residual_layers.2.conv1                  #w: 2304    | sparsity: 41.49%\n",
      "residual_layers.2.conv2                  #w: 2304    | sparsity: 48.0% \n",
      "residual_layers.3.conv1                  #w: 4608    | sparsity: 41.8% \n",
      "residual_layers.3.conv2                  #w: 9216    | sparsity: 45.24%\n",
      "residual_layers.3.residual.0             #w: 512     | sparsity: 25.0% \n",
      "residual_layers.4.conv1                  #w: 9216    | sparsity: 50.36%\n",
      "residual_layers.4.conv2                  #w: 9216    | sparsity: 53.16%\n",
      "residual_layers.5.conv1                  #w: 9216    | sparsity: 49.29%\n",
      "residual_layers.5.conv2                  #w: 9216    | sparsity: 56.16%\n",
      "residual_layers.6.conv1                  #w: 18432   | sparsity: 48.5% \n",
      "residual_layers.6.conv2                  #w: 36864   | sparsity: 53.61%\n",
      "residual_layers.6.residual.0             #w: 2048    | sparsity: 40.62%\n",
      "residual_layers.7.conv1                  #w: 36864   | sparsity: 55.93%\n",
      "residual_layers.7.conv2                  #w: 36864   | sparsity: 65.7% \n",
      "residual_layers.8.conv1                  #w: 36864   | sparsity: 69.5% \n",
      "residual_layers.8.conv2                  #w: 36864   | sparsity: 81.36%\n",
      "classifier                               #w: 640     | sparsity: 14.84%\n"
     ]
    },
    {
     "name": "stderr",
     "output_type": "stream",
     "text": [
      "Testing: 100%|███████████████████████████| 26/26 [00:00<00:00, 27.47it/s, accuracy=80, loss=0.00162]\n",
      "Epoch 87: 100%|████████████████████████| 128/128 [00:06<00:00, 20.66it/s, accuracy=89.5, loss=0.302]\n"
     ]
    },
    {
     "name": "stdout",
     "output_type": "stream",
     "text": [
      "conv1                                    #w: 432     | sparsity: 23.84%\n",
      "residual_layers.0.conv1                  #w: 2304    | sparsity: 49.78%\n",
      "residual_layers.0.conv2                  #w: 2304    | sparsity: 41.93%\n",
      "residual_layers.1.conv1                  #w: 2304    | sparsity: 45.83%\n",
      "residual_layers.1.conv2                  #w: 2304    | sparsity: 44.66%\n",
      "residual_layers.2.conv1                  #w: 2304    | sparsity: 43.71%\n",
      "residual_layers.2.conv2                  #w: 2304    | sparsity: 49.78%\n",
      "residual_layers.3.conv1                  #w: 4608    | sparsity: 42.1% \n",
      "residual_layers.3.conv2                  #w: 9216    | sparsity: 45.76%\n",
      "residual_layers.3.residual.0             #w: 512     | sparsity: 23.63%\n",
      "residual_layers.4.conv1                  #w: 9216    | sparsity: 50.75%\n",
      "residual_layers.4.conv2                  #w: 9216    | sparsity: 53.67%\n",
      "residual_layers.5.conv1                  #w: 9216    | sparsity: 48.99%\n",
      "residual_layers.5.conv2                  #w: 9216    | sparsity: 56.45%\n",
      "residual_layers.6.conv1                  #w: 18432   | sparsity: 48.78%\n",
      "residual_layers.6.conv2                  #w: 36864   | sparsity: 54.07%\n",
      "residual_layers.6.residual.0             #w: 2048    | sparsity: 40.19%\n",
      "residual_layers.7.conv1                  #w: 36864   | sparsity: 56.67%\n",
      "residual_layers.7.conv2                  #w: 36864   | sparsity: 66.3% \n",
      "residual_layers.8.conv1                  #w: 36864   | sparsity: 69.9% \n",
      "residual_layers.8.conv2                  #w: 36864   | sparsity: 82.04%\n",
      "classifier                               #w: 640     | sparsity: 15.16%\n"
     ]
    },
    {
     "name": "stderr",
     "output_type": "stream",
     "text": [
      "Testing: 100%|█████████████████████████| 26/26 [00:00<00:00, 26.18it/s, accuracy=82.6, loss=0.00136]\n",
      "Epoch 88: 100%|████████████████████████| 128/128 [00:06<00:00, 20.94it/s, accuracy=89.5, loss=0.302]\n"
     ]
    },
    {
     "name": "stdout",
     "output_type": "stream",
     "text": [
      "conv1                                    #w: 432     | sparsity: 23.84%\n",
      "residual_layers.0.conv1                  #w: 2304    | sparsity: 50.91%\n",
      "residual_layers.0.conv2                  #w: 2304    | sparsity: 42.62%\n",
      "residual_layers.1.conv1                  #w: 2304    | sparsity: 47.27%\n",
      "residual_layers.1.conv2                  #w: 2304    | sparsity: 44.1% \n",
      "residual_layers.2.conv1                  #w: 2304    | sparsity: 42.49%\n",
      "residual_layers.2.conv2                  #w: 2304    | sparsity: 49.61%\n",
      "residual_layers.3.conv1                  #w: 4608    | sparsity: 42.14%\n",
      "residual_layers.3.conv2                  #w: 9216    | sparsity: 45.97%\n",
      "residual_layers.3.residual.0             #w: 512     | sparsity: 25.2% \n",
      "residual_layers.4.conv1                  #w: 9216    | sparsity: 51.58%\n",
      "residual_layers.4.conv2                  #w: 9216    | sparsity: 54.26%\n",
      "residual_layers.5.conv1                  #w: 9216    | sparsity: 50.0% \n",
      "residual_layers.5.conv2                  #w: 9216    | sparsity: 57.44%\n",
      "residual_layers.6.conv1                  #w: 18432   | sparsity: 49.63%\n",
      "residual_layers.6.conv2                  #w: 36864   | sparsity: 54.6% \n",
      "residual_layers.6.residual.0             #w: 2048    | sparsity: 39.94%\n",
      "residual_layers.7.conv1                  #w: 36864   | sparsity: 56.88%\n",
      "residual_layers.7.conv2                  #w: 36864   | sparsity: 66.7% \n",
      "residual_layers.8.conv1                  #w: 36864   | sparsity: 70.24%\n",
      "residual_layers.8.conv2                  #w: 36864   | sparsity: 82.31%\n",
      "classifier                               #w: 640     | sparsity: 15.16%\n"
     ]
    },
    {
     "name": "stderr",
     "output_type": "stream",
     "text": [
      "Testing: 100%|█████████████████████████| 26/26 [00:01<00:00, 25.92it/s, accuracy=80.7, loss=0.00158]\n",
      "Epoch 89: 100%|█████████████████████████| 128/128 [00:06<00:00, 21.13it/s, accuracy=89.2, loss=0.31]\n"
     ]
    },
    {
     "name": "stdout",
     "output_type": "stream",
     "text": [
      "conv1                                    #w: 432     | sparsity: 25.46%\n",
      "residual_layers.0.conv1                  #w: 2304    | sparsity: 52.6% \n",
      "residual_layers.0.conv2                  #w: 2304    | sparsity: 43.4% \n",
      "residual_layers.1.conv1                  #w: 2304    | sparsity: 47.96%\n",
      "residual_layers.1.conv2                  #w: 2304    | sparsity: 45.14%\n",
      "residual_layers.2.conv1                  #w: 2304    | sparsity: 43.06%\n",
      "residual_layers.2.conv2                  #w: 2304    | sparsity: 51.0% \n",
      "residual_layers.3.conv1                  #w: 4608    | sparsity: 42.6% \n",
      "residual_layers.3.conv2                  #w: 9216    | sparsity: 46.46%\n",
      "residual_layers.3.residual.0             #w: 512     | sparsity: 26.17%\n",
      "residual_layers.4.conv1                  #w: 9216    | sparsity: 51.63%\n",
      "residual_layers.4.conv2                  #w: 9216    | sparsity: 54.9% \n",
      "residual_layers.5.conv1                  #w: 9216    | sparsity: 50.4% \n",
      "residual_layers.5.conv2                  #w: 9216    | sparsity: 58.0% \n",
      "residual_layers.6.conv1                  #w: 18432   | sparsity: 50.11%\n",
      "residual_layers.6.conv2                  #w: 36864   | sparsity: 55.06%\n",
      "residual_layers.6.residual.0             #w: 2048    | sparsity: 40.28%\n",
      "residual_layers.7.conv1                  #w: 36864   | sparsity: 57.2% \n",
      "residual_layers.7.conv2                  #w: 36864   | sparsity: 67.09%\n",
      "residual_layers.8.conv1                  #w: 36864   | sparsity: 70.86%\n",
      "residual_layers.8.conv2                  #w: 36864   | sparsity: 82.75%\n",
      "classifier                               #w: 640     | sparsity: 16.56%\n"
     ]
    },
    {
     "name": "stderr",
     "output_type": "stream",
     "text": [
      "Testing: 100%|████████████████████████████| 26/26 [00:00<00:00, 29.26it/s, accuracy=81, loss=0.0015]\n",
      "Epoch 90: 100%|████████████████████████| 128/128 [00:05<00:00, 21.91it/s, accuracy=89.6, loss=0.301]\n"
     ]
    },
    {
     "name": "stdout",
     "output_type": "stream",
     "text": [
      "conv1                                    #w: 432     | sparsity: 23.38%\n",
      "residual_layers.0.conv1                  #w: 2304    | sparsity: 51.69%\n",
      "residual_layers.0.conv2                  #w: 2304    | sparsity: 43.36%\n",
      "residual_layers.1.conv1                  #w: 2304    | sparsity: 46.31%\n",
      "residual_layers.1.conv2                  #w: 2304    | sparsity: 46.57%\n",
      "residual_layers.2.conv1                  #w: 2304    | sparsity: 44.36%\n",
      "residual_layers.2.conv2                  #w: 2304    | sparsity: 50.95%\n",
      "residual_layers.3.conv1                  #w: 4608    | sparsity: 42.58%\n",
      "residual_layers.3.conv2                  #w: 9216    | sparsity: 47.07%\n",
      "residual_layers.3.residual.0             #w: 512     | sparsity: 26.95%\n",
      "residual_layers.4.conv1                  #w: 9216    | sparsity: 52.86%\n",
      "residual_layers.4.conv2                  #w: 9216    | sparsity: 55.87%\n",
      "residual_layers.5.conv1                  #w: 9216    | sparsity: 51.1% \n",
      "residual_layers.5.conv2                  #w: 9216    | sparsity: 58.11%\n",
      "residual_layers.6.conv1                  #w: 18432   | sparsity: 50.34%\n",
      "residual_layers.6.conv2                  #w: 36864   | sparsity: 55.24%\n",
      "residual_layers.6.residual.0             #w: 2048    | sparsity: 40.14%\n",
      "residual_layers.7.conv1                  #w: 36864   | sparsity: 57.86%\n",
      "residual_layers.7.conv2                  #w: 36864   | sparsity: 67.61%\n",
      "residual_layers.8.conv1                  #w: 36864   | sparsity: 71.31%\n",
      "residual_layers.8.conv2                  #w: 36864   | sparsity: 83.46%\n",
      "classifier                               #w: 640     | sparsity: 17.19%\n"
     ]
    },
    {
     "name": "stderr",
     "output_type": "stream",
     "text": [
      "Testing: 100%|██████████████████████████| 26/26 [00:00<00:00, 29.60it/s, accuracy=81.2, loss=0.0014]\n",
      "Epoch 91: 100%|████████████████████████| 128/128 [00:05<00:00, 22.13it/s, accuracy=89.6, loss=0.303]\n"
     ]
    },
    {
     "name": "stdout",
     "output_type": "stream",
     "text": [
      "conv1                                    #w: 432     | sparsity: 26.16%\n",
      "residual_layers.0.conv1                  #w: 2304    | sparsity: 52.56%\n",
      "residual_layers.0.conv2                  #w: 2304    | sparsity: 43.58%\n",
      "residual_layers.1.conv1                  #w: 2304    | sparsity: 48.0% \n",
      "residual_layers.1.conv2                  #w: 2304    | sparsity: 45.49%\n",
      "residual_layers.2.conv1                  #w: 2304    | sparsity: 45.53%\n",
      "residual_layers.2.conv2                  #w: 2304    | sparsity: 51.39%\n",
      "residual_layers.3.conv1                  #w: 4608    | sparsity: 42.62%\n",
      "residual_layers.3.conv2                  #w: 9216    | sparsity: 47.63%\n",
      "residual_layers.3.residual.0             #w: 512     | sparsity: 27.34%\n",
      "residual_layers.4.conv1                  #w: 9216    | sparsity: 52.84%\n",
      "residual_layers.4.conv2                  #w: 9216    | sparsity: 56.34%\n",
      "residual_layers.5.conv1                  #w: 9216    | sparsity: 51.02%\n",
      "residual_layers.5.conv2                  #w: 9216    | sparsity: 58.9% \n",
      "residual_layers.6.conv1                  #w: 18432   | sparsity: 50.95%\n",
      "residual_layers.6.conv2                  #w: 36864   | sparsity: 55.93%\n",
      "residual_layers.6.residual.0             #w: 2048    | sparsity: 41.99%\n",
      "residual_layers.7.conv1                  #w: 36864   | sparsity: 58.67%\n",
      "residual_layers.7.conv2                  #w: 36864   | sparsity: 68.07%\n",
      "residual_layers.8.conv1                  #w: 36864   | sparsity: 71.63%\n",
      "residual_layers.8.conv2                  #w: 36864   | sparsity: 83.47%\n",
      "classifier                               #w: 640     | sparsity: 16.72%\n"
     ]
    },
    {
     "name": "stderr",
     "output_type": "stream",
     "text": [
      "Testing: 100%|█████████████████████████| 26/26 [00:00<00:00, 28.39it/s, accuracy=82.3, loss=0.00136]\n",
      "Epoch 92: 100%|████████████████████████| 128/128 [00:05<00:00, 22.10it/s, accuracy=89.1, loss=0.311]\n"
     ]
    },
    {
     "name": "stdout",
     "output_type": "stream",
     "text": [
      "conv1                                    #w: 432     | sparsity: 25.23%\n",
      "residual_layers.0.conv1                  #w: 2304    | sparsity: 53.91%\n",
      "residual_layers.0.conv2                  #w: 2304    | sparsity: 44.23%\n",
      "residual_layers.1.conv1                  #w: 2304    | sparsity: 48.7% \n",
      "residual_layers.1.conv2                  #w: 2304    | sparsity: 45.88%\n",
      "residual_layers.2.conv1                  #w: 2304    | sparsity: 46.4% \n",
      "residual_layers.2.conv2                  #w: 2304    | sparsity: 51.48%\n",
      "residual_layers.3.conv1                  #w: 4608    | sparsity: 44.16%\n",
      "residual_layers.3.conv2                  #w: 9216    | sparsity: 48.43%\n",
      "residual_layers.3.residual.0             #w: 512     | sparsity: 28.12%\n",
      "residual_layers.4.conv1                  #w: 9216    | sparsity: 53.08%\n",
      "residual_layers.4.conv2                  #w: 9216    | sparsity: 56.13%\n",
      "residual_layers.5.conv1                  #w: 9216    | sparsity: 51.91%\n",
      "residual_layers.5.conv2                  #w: 9216    | sparsity: 60.06%\n",
      "residual_layers.6.conv1                  #w: 18432   | sparsity: 51.2% \n",
      "residual_layers.6.conv2                  #w: 36864   | sparsity: 56.61%\n",
      "residual_layers.6.residual.0             #w: 2048    | sparsity: 41.41%\n",
      "residual_layers.7.conv1                  #w: 36864   | sparsity: 59.23%\n",
      "residual_layers.7.conv2                  #w: 36864   | sparsity: 68.57%\n",
      "residual_layers.8.conv1                  #w: 36864   | sparsity: 71.88%\n",
      "residual_layers.8.conv2                  #w: 36864   | sparsity: 83.63%\n",
      "classifier                               #w: 640     | sparsity: 16.72%\n"
     ]
    },
    {
     "name": "stderr",
     "output_type": "stream",
     "text": [
      "Testing: 100%|█████████████████████████| 26/26 [00:00<00:00, 27.89it/s, accuracy=81.6, loss=0.00153]\n",
      "Epoch 93: 100%|████████████████████████| 128/128 [00:05<00:00, 21.71it/s, accuracy=89.3, loss=0.308]\n"
     ]
    },
    {
     "name": "stdout",
     "output_type": "stream",
     "text": [
      "conv1                                    #w: 432     | sparsity: 26.62%\n",
      "residual_layers.0.conv1                  #w: 2304    | sparsity: 54.21%\n",
      "residual_layers.0.conv2                  #w: 2304    | sparsity: 44.49%\n",
      "residual_layers.1.conv1                  #w: 2304    | sparsity: 49.65%\n",
      "residual_layers.1.conv2                  #w: 2304    | sparsity: 46.44%\n",
      "residual_layers.2.conv1                  #w: 2304    | sparsity: 46.57%\n",
      "residual_layers.2.conv2                  #w: 2304    | sparsity: 52.91%\n",
      "residual_layers.3.conv1                  #w: 4608    | sparsity: 43.49%\n",
      "residual_layers.3.conv2                  #w: 9216    | sparsity: 49.03%\n",
      "residual_layers.3.residual.0             #w: 512     | sparsity: 28.32%\n",
      "residual_layers.4.conv1                  #w: 9216    | sparsity: 53.67%\n",
      "residual_layers.4.conv2                  #w: 9216    | sparsity: 57.07%\n",
      "residual_layers.5.conv1                  #w: 9216    | sparsity: 52.33%\n",
      "residual_layers.5.conv2                  #w: 9216    | sparsity: 60.55%\n",
      "residual_layers.6.conv1                  #w: 18432   | sparsity: 51.43%\n",
      "residual_layers.6.conv2                  #w: 36864   | sparsity: 56.63%\n",
      "residual_layers.6.residual.0             #w: 2048    | sparsity: 43.12%\n",
      "residual_layers.7.conv1                  #w: 36864   | sparsity: 59.51%\n",
      "residual_layers.7.conv2                  #w: 36864   | sparsity: 69.11%\n",
      "residual_layers.8.conv1                  #w: 36864   | sparsity: 72.41%\n",
      "residual_layers.8.conv2                  #w: 36864   | sparsity: 84.32%\n",
      "classifier                               #w: 640     | sparsity: 17.19%\n"
     ]
    },
    {
     "name": "stderr",
     "output_type": "stream",
     "text": [
      "Testing: 100%|█████████████████████████| 26/26 [00:00<00:00, 31.09it/s, accuracy=84.4, loss=0.00121]\n",
      "Epoch 94: 100%|████████████████████████| 128/128 [00:05<00:00, 21.50it/s, accuracy=89.5, loss=0.303]\n"
     ]
    },
    {
     "name": "stdout",
     "output_type": "stream",
     "text": [
      "conv1                                    #w: 432     | sparsity: 26.85%\n",
      "residual_layers.0.conv1                  #w: 2304    | sparsity: 54.43%\n",
      "residual_layers.0.conv2                  #w: 2304    | sparsity: 45.79%\n",
      "residual_layers.1.conv1                  #w: 2304    | sparsity: 50.0% \n",
      "residual_layers.1.conv2                  #w: 2304    | sparsity: 47.7% \n",
      "residual_layers.2.conv1                  #w: 2304    | sparsity: 47.09%\n",
      "residual_layers.2.conv2                  #w: 2304    | sparsity: 52.34%\n",
      "residual_layers.3.conv1                  #w: 4608    | sparsity: 44.34%\n",
      "residual_layers.3.conv2                  #w: 9216    | sparsity: 49.31%\n",
      "residual_layers.3.residual.0             #w: 512     | sparsity: 29.1% \n",
      "residual_layers.4.conv1                  #w: 9216    | sparsity: 54.3% \n",
      "residual_layers.4.conv2                  #w: 9216    | sparsity: 57.43%\n",
      "residual_layers.5.conv1                  #w: 9216    | sparsity: 52.28%\n",
      "residual_layers.5.conv2                  #w: 9216    | sparsity: 61.51%\n",
      "residual_layers.6.conv1                  #w: 18432   | sparsity: 52.3% \n",
      "residual_layers.6.conv2                  #w: 36864   | sparsity: 57.32%\n",
      "residual_layers.6.residual.0             #w: 2048    | sparsity: 42.04%\n",
      "residual_layers.7.conv1                  #w: 36864   | sparsity: 60.4% \n",
      "residual_layers.7.conv2                  #w: 36864   | sparsity: 69.51%\n",
      "residual_layers.8.conv1                  #w: 36864   | sparsity: 72.75%\n",
      "residual_layers.8.conv2                  #w: 36864   | sparsity: 84.15%\n",
      "classifier                               #w: 640     | sparsity: 17.66%\n"
     ]
    },
    {
     "name": "stderr",
     "output_type": "stream",
     "text": [
      "Testing: 100%|█████████████████████████| 26/26 [00:00<00:00, 31.07it/s, accuracy=84.3, loss=0.00119]\n",
      "Epoch 95: 100%|████████████████████████| 128/128 [00:05<00:00, 21.44it/s, accuracy=89.5, loss=0.299]\n"
     ]
    },
    {
     "name": "stdout",
     "output_type": "stream",
     "text": [
      "conv1                                    #w: 432     | sparsity: 27.55%\n",
      "residual_layers.0.conv1                  #w: 2304    | sparsity: 54.12%\n",
      "residual_layers.0.conv2                  #w: 2304    | sparsity: 46.05%\n",
      "residual_layers.1.conv1                  #w: 2304    | sparsity: 50.26%\n",
      "residual_layers.1.conv2                  #w: 2304    | sparsity: 47.7% \n",
      "residual_layers.2.conv1                  #w: 2304    | sparsity: 46.61%\n",
      "residual_layers.2.conv2                  #w: 2304    | sparsity: 54.38%\n",
      "residual_layers.3.conv1                  #w: 4608    | sparsity: 45.2% \n",
      "residual_layers.3.conv2                  #w: 9216    | sparsity: 50.1% \n",
      "residual_layers.3.residual.0             #w: 512     | sparsity: 28.32%\n",
      "residual_layers.4.conv1                  #w: 9216    | sparsity: 54.33%\n",
      "residual_layers.4.conv2                  #w: 9216    | sparsity: 57.98%\n",
      "residual_layers.5.conv1                  #w: 9216    | sparsity: 53.48%\n",
      "residual_layers.5.conv2                  #w: 9216    | sparsity: 61.41%\n",
      "residual_layers.6.conv1                  #w: 18432   | sparsity: 52.25%\n",
      "residual_layers.6.conv2                  #w: 36864   | sparsity: 57.84%\n",
      "residual_layers.6.residual.0             #w: 2048    | sparsity: 43.7% \n",
      "residual_layers.7.conv1                  #w: 36864   | sparsity: 60.77%\n",
      "residual_layers.7.conv2                  #w: 36864   | sparsity: 70.05%\n",
      "residual_layers.8.conv1                  #w: 36864   | sparsity: 73.29%\n",
      "residual_layers.8.conv2                  #w: 36864   | sparsity: 84.53%\n",
      "classifier                               #w: 640     | sparsity: 17.5% \n"
     ]
    },
    {
     "name": "stderr",
     "output_type": "stream",
     "text": [
      "Testing: 100%|█████████████████████████| 26/26 [00:00<00:00, 28.79it/s, accuracy=83.8, loss=0.00127]\n",
      "Epoch 96: 100%|████████████████████████| 128/128 [00:05<00:00, 21.76it/s, accuracy=89.3, loss=0.311]\n"
     ]
    },
    {
     "name": "stdout",
     "output_type": "stream",
     "text": [
      "conv1                                    #w: 432     | sparsity: 25.46%\n",
      "residual_layers.0.conv1                  #w: 2304    | sparsity: 53.86%\n",
      "residual_layers.0.conv2                  #w: 2304    | sparsity: 46.27%\n",
      "residual_layers.1.conv1                  #w: 2304    | sparsity: 51.17%\n",
      "residual_layers.1.conv2                  #w: 2304    | sparsity: 48.65%\n",
      "residual_layers.2.conv1                  #w: 2304    | sparsity: 46.27%\n",
      "residual_layers.2.conv2                  #w: 2304    | sparsity: 54.04%\n",
      "residual_layers.3.conv1                  #w: 4608    | sparsity: 46.53%\n",
      "residual_layers.3.conv2                  #w: 9216    | sparsity: 50.4% \n",
      "residual_layers.3.residual.0             #w: 512     | sparsity: 29.69%\n",
      "residual_layers.4.conv1                  #w: 9216    | sparsity: 55.25%\n",
      "residual_layers.4.conv2                  #w: 9216    | sparsity: 58.41%\n",
      "residual_layers.5.conv1                  #w: 9216    | sparsity: 53.99%\n",
      "residual_layers.5.conv2                  #w: 9216    | sparsity: 62.49%\n",
      "residual_layers.6.conv1                  #w: 18432   | sparsity: 52.81%\n",
      "residual_layers.6.conv2                  #w: 36864   | sparsity: 58.28%\n",
      "residual_layers.6.residual.0             #w: 2048    | sparsity: 43.85%\n",
      "residual_layers.7.conv1                  #w: 36864   | sparsity: 61.25%\n",
      "residual_layers.7.conv2                  #w: 36864   | sparsity: 70.41%\n",
      "residual_layers.8.conv1                  #w: 36864   | sparsity: 73.61%\n",
      "residual_layers.8.conv2                  #w: 36864   | sparsity: 84.69%\n",
      "classifier                               #w: 640     | sparsity: 19.22%\n"
     ]
    },
    {
     "name": "stderr",
     "output_type": "stream",
     "text": [
      "Testing: 100%|█████████████████████████| 26/26 [00:00<00:00, 30.19it/s, accuracy=79.5, loss=0.00164]\n",
      "Epoch 97: 100%|████████████████████████| 128/128 [00:06<00:00, 20.36it/s, accuracy=89.4, loss=0.304]\n"
     ]
    },
    {
     "name": "stdout",
     "output_type": "stream",
     "text": [
      "conv1                                    #w: 432     | sparsity: 27.31%\n",
      "residual_layers.0.conv1                  #w: 2304    | sparsity: 54.99%\n",
      "residual_layers.0.conv2                  #w: 2304    | sparsity: 46.53%\n",
      "residual_layers.1.conv1                  #w: 2304    | sparsity: 51.91%\n",
      "residual_layers.1.conv2                  #w: 2304    | sparsity: 50.04%\n",
      "residual_layers.2.conv1                  #w: 2304    | sparsity: 46.61%\n",
      "residual_layers.2.conv2                  #w: 2304    | sparsity: 54.69%\n",
      "residual_layers.3.conv1                  #w: 4608    | sparsity: 46.29%\n",
      "residual_layers.3.conv2                  #w: 9216    | sparsity: 50.42%\n",
      "residual_layers.3.residual.0             #w: 512     | sparsity: 29.3% \n",
      "residual_layers.4.conv1                  #w: 9216    | sparsity: 55.79%\n",
      "residual_layers.4.conv2                  #w: 9216    | sparsity: 58.68%\n",
      "residual_layers.5.conv1                  #w: 9216    | sparsity: 54.41%\n",
      "residual_layers.5.conv2                  #w: 9216    | sparsity: 62.15%\n",
      "residual_layers.6.conv1                  #w: 18432   | sparsity: 53.75%\n",
      "residual_layers.6.conv2                  #w: 36864   | sparsity: 58.75%\n",
      "residual_layers.6.residual.0             #w: 2048    | sparsity: 43.99%\n",
      "residual_layers.7.conv1                  #w: 36864   | sparsity: 62.14%\n",
      "residual_layers.7.conv2                  #w: 36864   | sparsity: 71.02%\n",
      "residual_layers.8.conv1                  #w: 36864   | sparsity: 73.96%\n",
      "residual_layers.8.conv2                  #w: 36864   | sparsity: 84.74%\n",
      "classifier                               #w: 640     | sparsity: 19.38%\n"
     ]
    },
    {
     "name": "stderr",
     "output_type": "stream",
     "text": [
      "Testing: 100%|█████████████████████████| 26/26 [00:00<00:00, 28.15it/s, accuracy=79.1, loss=0.00175]\n",
      "Epoch 98: 100%|████████████████████████| 128/128 [00:06<00:00, 19.30it/s, accuracy=89.6, loss=0.303]\n"
     ]
    },
    {
     "name": "stdout",
     "output_type": "stream",
     "text": [
      "conv1                                    #w: 432     | sparsity: 26.39%\n",
      "residual_layers.0.conv1                  #w: 2304    | sparsity: 54.56%\n",
      "residual_layers.0.conv2                  #w: 2304    | sparsity: 48.22%\n",
      "residual_layers.1.conv1                  #w: 2304    | sparsity: 51.82%\n",
      "residual_layers.1.conv2                  #w: 2304    | sparsity: 50.13%\n",
      "residual_layers.2.conv1                  #w: 2304    | sparsity: 47.35%\n",
      "residual_layers.2.conv2                  #w: 2304    | sparsity: 54.04%\n",
      "residual_layers.3.conv1                  #w: 4608    | sparsity: 46.07%\n",
      "residual_layers.3.conv2                  #w: 9216    | sparsity: 51.82%\n",
      "residual_layers.3.residual.0             #w: 512     | sparsity: 27.93%\n",
      "residual_layers.4.conv1                  #w: 9216    | sparsity: 56.05%\n",
      "residual_layers.4.conv2                  #w: 9216    | sparsity: 59.23%\n",
      "residual_layers.5.conv1                  #w: 9216    | sparsity: 55.03%\n",
      "residual_layers.5.conv2                  #w: 9216    | sparsity: 62.91%\n",
      "residual_layers.6.conv1                  #w: 18432   | sparsity: 53.66%\n",
      "residual_layers.6.conv2                  #w: 36864   | sparsity: 59.08%\n",
      "residual_layers.6.residual.0             #w: 2048    | sparsity: 44.19%\n",
      "residual_layers.7.conv1                  #w: 36864   | sparsity: 62.59%\n",
      "residual_layers.7.conv2                  #w: 36864   | sparsity: 71.62%\n",
      "residual_layers.8.conv1                  #w: 36864   | sparsity: 74.4% \n",
      "residual_layers.8.conv2                  #w: 36864   | sparsity: 85.07%\n",
      "classifier                               #w: 640     | sparsity: 19.22%\n"
     ]
    },
    {
     "name": "stderr",
     "output_type": "stream",
     "text": [
      "Testing: 100%|█████████████████████████| 26/26 [00:01<00:00, 23.59it/s, accuracy=82.1, loss=0.00145]\n",
      "Epoch 99: 100%|████████████████████████| 128/128 [00:06<00:00, 18.95it/s, accuracy=89.4, loss=0.309]\n"
     ]
    },
    {
     "name": "stdout",
     "output_type": "stream",
     "text": [
      "conv1                                    #w: 432     | sparsity: 28.01%\n",
      "residual_layers.0.conv1                  #w: 2304    | sparsity: 55.64%\n",
      "residual_layers.0.conv2                  #w: 2304    | sparsity: 48.35%\n",
      "residual_layers.1.conv1                  #w: 2304    | sparsity: 52.43%\n",
      "residual_layers.1.conv2                  #w: 2304    | sparsity: 50.13%\n",
      "residual_layers.2.conv1                  #w: 2304    | sparsity: 47.4% \n",
      "residual_layers.2.conv2                  #w: 2304    | sparsity: 55.86%\n",
      "residual_layers.3.conv1                  #w: 4608    | sparsity: 47.94%\n",
      "residual_layers.3.conv2                  #w: 9216    | sparsity: 51.41%\n",
      "residual_layers.3.residual.0             #w: 512     | sparsity: 30.08%\n",
      "residual_layers.4.conv1                  #w: 9216    | sparsity: 56.29%\n",
      "residual_layers.4.conv2                  #w: 9216    | sparsity: 59.94%\n",
      "residual_layers.5.conv1                  #w: 9216    | sparsity: 56.27%\n",
      "residual_layers.5.conv2                  #w: 9216    | sparsity: 63.41%\n",
      "residual_layers.6.conv1                  #w: 18432   | sparsity: 54.54%\n",
      "residual_layers.6.conv2                  #w: 36864   | sparsity: 59.61%\n",
      "residual_layers.6.residual.0             #w: 2048    | sparsity: 43.85%\n",
      "residual_layers.7.conv1                  #w: 36864   | sparsity: 62.99%\n",
      "residual_layers.7.conv2                  #w: 36864   | sparsity: 71.77%\n",
      "residual_layers.8.conv1                  #w: 36864   | sparsity: 74.78%\n",
      "residual_layers.8.conv2                  #w: 36864   | sparsity: 85.28%\n",
      "classifier                               #w: 640     | sparsity: 19.22%\n"
     ]
    },
    {
     "name": "stderr",
     "output_type": "stream",
     "text": [
      "Testing: 100%|█████████████████████████| 26/26 [00:01<00:00, 22.93it/s, accuracy=81.8, loss=0.00143]\n",
      "Epoch 100: 100%|███████████████████████| 128/128 [00:07<00:00, 18.02it/s, accuracy=89.5, loss=0.304]\n"
     ]
    },
    {
     "name": "stdout",
     "output_type": "stream",
     "text": [
      "conv1                                    #w: 432     | sparsity: 27.55%\n",
      "residual_layers.0.conv1                  #w: 2304    | sparsity: 55.77%\n",
      "residual_layers.0.conv2                  #w: 2304    | sparsity: 49.87%\n",
      "residual_layers.1.conv1                  #w: 2304    | sparsity: 53.91%\n",
      "residual_layers.1.conv2                  #w: 2304    | sparsity: 51.13%\n",
      "residual_layers.2.conv1                  #w: 2304    | sparsity: 48.61%\n",
      "residual_layers.2.conv2                  #w: 2304    | sparsity: 54.34%\n",
      "residual_layers.3.conv1                  #w: 4608    | sparsity: 48.2% \n",
      "residual_layers.3.conv2                  #w: 9216    | sparsity: 52.25%\n",
      "residual_layers.3.residual.0             #w: 512     | sparsity: 28.32%\n",
      "residual_layers.4.conv1                  #w: 9216    | sparsity: 56.86%\n",
      "residual_layers.4.conv2                  #w: 9216    | sparsity: 60.29%\n",
      "residual_layers.5.conv1                  #w: 9216    | sparsity: 56.89%\n",
      "residual_layers.5.conv2                  #w: 9216    | sparsity: 63.49%\n",
      "residual_layers.6.conv1                  #w: 18432   | sparsity: 54.99%\n",
      "residual_layers.6.conv2                  #w: 36864   | sparsity: 60.33%\n",
      "residual_layers.6.residual.0             #w: 2048    | sparsity: 44.04%\n",
      "residual_layers.7.conv1                  #w: 36864   | sparsity: 63.36%\n",
      "residual_layers.7.conv2                  #w: 36864   | sparsity: 72.09%\n",
      "residual_layers.8.conv1                  #w: 36864   | sparsity: 75.15%\n",
      "residual_layers.8.conv2                  #w: 36864   | sparsity: 85.69%\n",
      "classifier                               #w: 640     | sparsity: 19.06%\n"
     ]
    },
    {
     "name": "stderr",
     "output_type": "stream",
     "text": [
      "Testing: 100%|█████████████████████████| 26/26 [00:00<00:00, 26.50it/s, accuracy=82.6, loss=0.00142]\n"
     ]
    },
    {
     "name": "stdout",
     "output_type": "stream",
     "text": [
      "Current learning rate has decayed to 0.010000\n"
     ]
    },
    {
     "name": "stderr",
     "output_type": "stream",
     "text": [
      "Epoch 101: 100%|███████████████████████| 128/128 [00:06<00:00, 18.39it/s, accuracy=92.9, loss=0.209]\n"
     ]
    },
    {
     "name": "stdout",
     "output_type": "stream",
     "text": [
      "conv1                                    #w: 432     | sparsity: 27.78%\n",
      "residual_layers.0.conv1                  #w: 2304    | sparsity: 56.34%\n",
      "residual_layers.0.conv2                  #w: 2304    | sparsity: 49.78%\n",
      "residual_layers.1.conv1                  #w: 2304    | sparsity: 54.34%\n",
      "residual_layers.1.conv2                  #w: 2304    | sparsity: 51.26%\n",
      "residual_layers.2.conv1                  #w: 2304    | sparsity: 49.13%\n",
      "residual_layers.2.conv2                  #w: 2304    | sparsity: 54.56%\n",
      "residual_layers.3.conv1                  #w: 4608    | sparsity: 48.33%\n",
      "residual_layers.3.conv2                  #w: 9216    | sparsity: 52.48%\n",
      "residual_layers.3.residual.0             #w: 512     | sparsity: 27.54%\n",
      "residual_layers.4.conv1                  #w: 9216    | sparsity: 57.54%\n",
      "residual_layers.4.conv2                  #w: 9216    | sparsity: 60.57%\n",
      "residual_layers.5.conv1                  #w: 9216    | sparsity: 57.05%\n",
      "residual_layers.5.conv2                  #w: 9216    | sparsity: 64.23%\n",
      "residual_layers.6.conv1                  #w: 18432   | sparsity: 55.3% \n",
      "residual_layers.6.conv2                  #w: 36864   | sparsity: 60.77%\n",
      "residual_layers.6.residual.0             #w: 2048    | sparsity: 44.78%\n",
      "residual_layers.7.conv1                  #w: 36864   | sparsity: 63.81%\n",
      "residual_layers.7.conv2                  #w: 36864   | sparsity: 72.52%\n",
      "residual_layers.8.conv1                  #w: 36864   | sparsity: 75.63%\n",
      "residual_layers.8.conv2                  #w: 36864   | sparsity: 86.09%\n",
      "classifier                               #w: 640     | sparsity: 19.22%\n"
     ]
    },
    {
     "name": "stderr",
     "output_type": "stream",
     "text": [
      "Testing: 100%|█████████████████████████| 26/26 [00:00<00:00, 28.70it/s, accuracy=90.7, loss=0.00071]\n"
     ]
    },
    {
     "name": "stdout",
     "output_type": "stream",
     "text": [
      "Saved best model at epoch 101 with accuracy: 90.69%\n"
     ]
    },
    {
     "name": "stderr",
     "output_type": "stream",
     "text": [
      "Epoch 102: 100%|████████████████████████| 128/128 [00:06<00:00, 18.37it/s, accuracy=94.4, loss=0.17]\n"
     ]
    },
    {
     "name": "stdout",
     "output_type": "stream",
     "text": [
      "conv1                                    #w: 432     | sparsity: 27.78%\n",
      "residual_layers.0.conv1                  #w: 2304    | sparsity: 56.64%\n",
      "residual_layers.0.conv2                  #w: 2304    | sparsity: 50.13%\n",
      "residual_layers.1.conv1                  #w: 2304    | sparsity: 54.43%\n",
      "residual_layers.1.conv2                  #w: 2304    | sparsity: 52.0% \n",
      "residual_layers.2.conv1                  #w: 2304    | sparsity: 49.65%\n",
      "residual_layers.2.conv2                  #w: 2304    | sparsity: 54.95%\n",
      "residual_layers.3.conv1                  #w: 4608    | sparsity: 48.61%\n",
      "residual_layers.3.conv2                  #w: 9216    | sparsity: 52.99%\n",
      "residual_layers.3.residual.0             #w: 512     | sparsity: 27.54%\n",
      "residual_layers.4.conv1                  #w: 9216    | sparsity: 58.01%\n",
      "residual_layers.4.conv2                  #w: 9216    | sparsity: 60.75%\n",
      "residual_layers.5.conv1                  #w: 9216    | sparsity: 57.25%\n",
      "residual_layers.5.conv2                  #w: 9216    | sparsity: 64.56%\n",
      "residual_layers.6.conv1                  #w: 18432   | sparsity: 55.67%\n",
      "residual_layers.6.conv2                  #w: 36864   | sparsity: 61.26%\n",
      "residual_layers.6.residual.0             #w: 2048    | sparsity: 45.46%\n",
      "residual_layers.7.conv1                  #w: 36864   | sparsity: 64.31%\n",
      "residual_layers.7.conv2                  #w: 36864   | sparsity: 72.96%\n",
      "residual_layers.8.conv1                  #w: 36864   | sparsity: 76.1% \n",
      "residual_layers.8.conv2                  #w: 36864   | sparsity: 86.39%\n",
      "classifier                               #w: 640     | sparsity: 19.38%\n"
     ]
    },
    {
     "name": "stderr",
     "output_type": "stream",
     "text": [
      "Testing: 100%|████████████████████████| 26/26 [00:01<00:00, 25.47it/s, accuracy=90.7, loss=0.000704]\n",
      "Epoch 103: 100%|███████████████████████| 128/128 [00:06<00:00, 18.37it/s, accuracy=94.8, loss=0.157]\n"
     ]
    },
    {
     "name": "stdout",
     "output_type": "stream",
     "text": [
      "conv1                                    #w: 432     | sparsity: 28.47%\n",
      "residual_layers.0.conv1                  #w: 2304    | sparsity: 57.07%\n",
      "residual_layers.0.conv2                  #w: 2304    | sparsity: 51.04%\n",
      "residual_layers.1.conv1                  #w: 2304    | sparsity: 54.64%\n",
      "residual_layers.1.conv2                  #w: 2304    | sparsity: 52.08%\n",
      "residual_layers.2.conv1                  #w: 2304    | sparsity: 49.65%\n",
      "residual_layers.2.conv2                  #w: 2304    | sparsity: 55.47%\n",
      "residual_layers.3.conv1                  #w: 4608    | sparsity: 48.96%\n",
      "residual_layers.3.conv2                  #w: 9216    | sparsity: 53.39%\n",
      "residual_layers.3.residual.0             #w: 512     | sparsity: 28.91%\n",
      "residual_layers.4.conv1                  #w: 9216    | sparsity: 58.21%\n",
      "residual_layers.4.conv2                  #w: 9216    | sparsity: 61.37%\n",
      "residual_layers.5.conv1                  #w: 9216    | sparsity: 57.77%\n",
      "residual_layers.5.conv2                  #w: 9216    | sparsity: 65.08%\n",
      "residual_layers.6.conv1                  #w: 18432   | sparsity: 56.16%\n",
      "residual_layers.6.conv2                  #w: 36864   | sparsity: 61.72%\n",
      "residual_layers.6.residual.0             #w: 2048    | sparsity: 45.9% \n",
      "residual_layers.7.conv1                  #w: 36864   | sparsity: 64.76%\n",
      "residual_layers.7.conv2                  #w: 36864   | sparsity: 73.5% \n",
      "residual_layers.8.conv1                  #w: 36864   | sparsity: 76.5% \n",
      "residual_layers.8.conv2                  #w: 36864   | sparsity: 86.57%\n",
      "classifier                               #w: 640     | sparsity: 19.53%\n"
     ]
    },
    {
     "name": "stderr",
     "output_type": "stream",
     "text": [
      "Testing: 100%|████████████████████████| 26/26 [00:00<00:00, 27.35it/s, accuracy=91.3, loss=0.000673]\n"
     ]
    },
    {
     "name": "stdout",
     "output_type": "stream",
     "text": [
      "Saved best model at epoch 103 with accuracy: 91.31%\n"
     ]
    },
    {
     "name": "stderr",
     "output_type": "stream",
     "text": [
      "Epoch 104: 100%|███████████████████████| 128/128 [00:06<00:00, 18.29it/s, accuracy=95.1, loss=0.149]\n"
     ]
    },
    {
     "name": "stdout",
     "output_type": "stream",
     "text": [
      "conv1                                    #w: 432     | sparsity: 28.7% \n",
      "residual_layers.0.conv1                  #w: 2304    | sparsity: 57.2% \n",
      "residual_layers.0.conv2                  #w: 2304    | sparsity: 51.0% \n",
      "residual_layers.1.conv1                  #w: 2304    | sparsity: 54.99%\n",
      "residual_layers.1.conv2                  #w: 2304    | sparsity: 52.6% \n",
      "residual_layers.2.conv1                  #w: 2304    | sparsity: 49.78%\n",
      "residual_layers.2.conv2                  #w: 2304    | sparsity: 55.3% \n",
      "residual_layers.3.conv1                  #w: 4608    | sparsity: 49.33%\n",
      "residual_layers.3.conv2                  #w: 9216    | sparsity: 53.79%\n",
      "residual_layers.3.residual.0             #w: 512     | sparsity: 29.49%\n",
      "residual_layers.4.conv1                  #w: 9216    | sparsity: 58.59%\n",
      "residual_layers.4.conv2                  #w: 9216    | sparsity: 61.78%\n",
      "residual_layers.5.conv1                  #w: 9216    | sparsity: 58.13%\n",
      "residual_layers.5.conv2                  #w: 9216    | sparsity: 65.61%\n",
      "residual_layers.6.conv1                  #w: 18432   | sparsity: 56.6% \n",
      "residual_layers.6.conv2                  #w: 36864   | sparsity: 62.13%\n",
      "residual_layers.6.residual.0             #w: 2048    | sparsity: 46.39%\n",
      "residual_layers.7.conv1                  #w: 36864   | sparsity: 65.21%\n",
      "residual_layers.7.conv2                  #w: 36864   | sparsity: 73.87%\n",
      "residual_layers.8.conv1                  #w: 36864   | sparsity: 76.94%\n",
      "residual_layers.8.conv2                  #w: 36864   | sparsity: 86.97%\n",
      "classifier                               #w: 640     | sparsity: 19.53%\n"
     ]
    },
    {
     "name": "stderr",
     "output_type": "stream",
     "text": [
      "Testing: 100%|████████████████████████| 26/26 [00:01<00:00, 25.63it/s, accuracy=91.1, loss=0.000682]\n",
      "Epoch 105: 100%|███████████████████████| 128/128 [00:06<00:00, 18.35it/s, accuracy=95.2, loss=0.144]\n"
     ]
    },
    {
     "name": "stdout",
     "output_type": "stream",
     "text": [
      "conv1                                    #w: 432     | sparsity: 29.4% \n",
      "residual_layers.0.conv1                  #w: 2304    | sparsity: 57.9% \n",
      "residual_layers.0.conv2                  #w: 2304    | sparsity: 51.78%\n",
      "residual_layers.1.conv1                  #w: 2304    | sparsity: 55.69%\n",
      "residual_layers.1.conv2                  #w: 2304    | sparsity: 53.08%\n",
      "residual_layers.2.conv1                  #w: 2304    | sparsity: 49.87%\n",
      "residual_layers.2.conv2                  #w: 2304    | sparsity: 55.73%\n",
      "residual_layers.3.conv1                  #w: 4608    | sparsity: 49.54%\n",
      "residual_layers.3.conv2                  #w: 9216    | sparsity: 54.34%\n",
      "residual_layers.3.residual.0             #w: 512     | sparsity: 28.32%\n",
      "residual_layers.4.conv1                  #w: 9216    | sparsity: 59.01%\n",
      "residual_layers.4.conv2                  #w: 9216    | sparsity: 62.5% \n",
      "residual_layers.5.conv1                  #w: 9216    | sparsity: 58.59%\n",
      "residual_layers.5.conv2                  #w: 9216    | sparsity: 65.93%\n",
      "residual_layers.6.conv1                  #w: 18432   | sparsity: 57.03%\n",
      "residual_layers.6.conv2                  #w: 36864   | sparsity: 62.52%\n",
      "residual_layers.6.residual.0             #w: 2048    | sparsity: 46.19%\n",
      "residual_layers.7.conv1                  #w: 36864   | sparsity: 65.59%\n",
      "residual_layers.7.conv2                  #w: 36864   | sparsity: 74.28%\n",
      "residual_layers.8.conv1                  #w: 36864   | sparsity: 77.42%\n",
      "residual_layers.8.conv2                  #w: 36864   | sparsity: 87.29%\n",
      "classifier                               #w: 640     | sparsity: 19.38%\n"
     ]
    },
    {
     "name": "stderr",
     "output_type": "stream",
     "text": [
      "Testing: 100%|████████████████████████| 26/26 [00:01<00:00, 23.41it/s, accuracy=91.1, loss=0.000666]\n",
      "Epoch 106: 100%|███████████████████████| 128/128 [00:07<00:00, 18.12it/s, accuracy=95.5, loss=0.135]\n"
     ]
    },
    {
     "name": "stdout",
     "output_type": "stream",
     "text": [
      "conv1                                    #w: 432     | sparsity: 29.4% \n",
      "residual_layers.0.conv1                  #w: 2304    | sparsity: 57.86%\n",
      "residual_layers.0.conv2                  #w: 2304    | sparsity: 52.47%\n",
      "residual_layers.1.conv1                  #w: 2304    | sparsity: 56.16%\n",
      "residual_layers.1.conv2                  #w: 2304    | sparsity: 53.21%\n",
      "residual_layers.2.conv1                  #w: 2304    | sparsity: 50.39%\n",
      "residual_layers.2.conv2                  #w: 2304    | sparsity: 56.42%\n",
      "residual_layers.3.conv1                  #w: 4608    | sparsity: 50.11%\n",
      "residual_layers.3.conv2                  #w: 9216    | sparsity: 54.63%\n",
      "residual_layers.3.residual.0             #w: 512     | sparsity: 28.91%\n",
      "residual_layers.4.conv1                  #w: 9216    | sparsity: 59.61%\n",
      "residual_layers.4.conv2                  #w: 9216    | sparsity: 62.72%\n",
      "residual_layers.5.conv1                  #w: 9216    | sparsity: 59.19%\n",
      "residual_layers.5.conv2                  #w: 9216    | sparsity: 66.63%\n",
      "residual_layers.6.conv1                  #w: 18432   | sparsity: 57.45%\n",
      "residual_layers.6.conv2                  #w: 36864   | sparsity: 62.97%\n",
      "residual_layers.6.residual.0             #w: 2048    | sparsity: 47.07%\n",
      "residual_layers.7.conv1                  #w: 36864   | sparsity: 65.97%\n",
      "residual_layers.7.conv2                  #w: 36864   | sparsity: 74.72%\n",
      "residual_layers.8.conv1                  #w: 36864   | sparsity: 77.75%\n",
      "residual_layers.8.conv2                  #w: 36864   | sparsity: 87.57%\n",
      "classifier                               #w: 640     | sparsity: 19.38%\n"
     ]
    },
    {
     "name": "stderr",
     "output_type": "stream",
     "text": [
      "Testing: 100%|████████████████████████| 26/26 [00:01<00:00, 24.40it/s, accuracy=91.1, loss=0.000671]\n",
      "Epoch 107: 100%|███████████████████████| 128/128 [00:06<00:00, 18.34it/s, accuracy=95.5, loss=0.131]\n"
     ]
    },
    {
     "name": "stdout",
     "output_type": "stream",
     "text": [
      "conv1                                    #w: 432     | sparsity: 29.63%\n",
      "residual_layers.0.conv1                  #w: 2304    | sparsity: 58.42%\n",
      "residual_layers.0.conv2                  #w: 2304    | sparsity: 52.47%\n",
      "residual_layers.1.conv1                  #w: 2304    | sparsity: 56.25%\n",
      "residual_layers.1.conv2                  #w: 2304    | sparsity: 53.73%\n",
      "residual_layers.2.conv1                  #w: 2304    | sparsity: 50.26%\n",
      "residual_layers.2.conv2                  #w: 2304    | sparsity: 56.94%\n",
      "residual_layers.3.conv1                  #w: 4608    | sparsity: 50.04%\n",
      "residual_layers.3.conv2                  #w: 9216    | sparsity: 55.03%\n",
      "residual_layers.3.residual.0             #w: 512     | sparsity: 28.32%\n",
      "residual_layers.4.conv1                  #w: 9216    | sparsity: 59.88%\n",
      "residual_layers.4.conv2                  #w: 9216    | sparsity: 63.12%\n",
      "residual_layers.5.conv1                  #w: 9216    | sparsity: 59.59%\n",
      "residual_layers.5.conv2                  #w: 9216    | sparsity: 66.94%\n",
      "residual_layers.6.conv1                  #w: 18432   | sparsity: 57.98%\n",
      "residual_layers.6.conv2                  #w: 36864   | sparsity: 63.35%\n",
      "residual_layers.6.residual.0             #w: 2048    | sparsity: 47.61%\n",
      "residual_layers.7.conv1                  #w: 36864   | sparsity: 66.37%\n",
      "residual_layers.7.conv2                  #w: 36864   | sparsity: 75.09%\n",
      "residual_layers.8.conv1                  #w: 36864   | sparsity: 78.2% \n",
      "residual_layers.8.conv2                  #w: 36864   | sparsity: 87.95%\n",
      "classifier                               #w: 640     | sparsity: 19.38%\n"
     ]
    },
    {
     "name": "stderr",
     "output_type": "stream",
     "text": [
      "Testing: 100%|██████████████████████████| 26/26 [00:01<00:00, 24.92it/s, accuracy=91, loss=0.000696]\n",
      "Epoch 108: 100%|███████████████████████| 128/128 [00:06<00:00, 19.14it/s, accuracy=95.6, loss=0.129]\n"
     ]
    },
    {
     "name": "stdout",
     "output_type": "stream",
     "text": [
      "conv1                                    #w: 432     | sparsity: 30.32%\n",
      "residual_layers.0.conv1                  #w: 2304    | sparsity: 58.46%\n",
      "residual_layers.0.conv2                  #w: 2304    | sparsity: 53.21%\n",
      "residual_layers.1.conv1                  #w: 2304    | sparsity: 56.47%\n",
      "residual_layers.1.conv2                  #w: 2304    | sparsity: 53.86%\n",
      "residual_layers.2.conv1                  #w: 2304    | sparsity: 50.65%\n",
      "residual_layers.2.conv2                  #w: 2304    | sparsity: 57.51%\n",
      "residual_layers.3.conv1                  #w: 4608    | sparsity: 50.54%\n",
      "residual_layers.3.conv2                  #w: 9216    | sparsity: 55.39%\n",
      "residual_layers.3.residual.0             #w: 512     | sparsity: 29.49%\n",
      "residual_layers.4.conv1                  #w: 9216    | sparsity: 60.41%\n",
      "residual_layers.4.conv2                  #w: 9216    | sparsity: 63.55%\n",
      "residual_layers.5.conv1                  #w: 9216    | sparsity: 59.84%\n",
      "residual_layers.5.conv2                  #w: 9216    | sparsity: 67.49%\n",
      "residual_layers.6.conv1                  #w: 18432   | sparsity: 58.39%\n",
      "residual_layers.6.conv2                  #w: 36864   | sparsity: 63.79%\n",
      "residual_layers.6.residual.0             #w: 2048    | sparsity: 48.1% \n",
      "residual_layers.7.conv1                  #w: 36864   | sparsity: 66.77%\n",
      "residual_layers.7.conv2                  #w: 36864   | sparsity: 75.43%\n",
      "residual_layers.8.conv1                  #w: 36864   | sparsity: 78.55%\n",
      "residual_layers.8.conv2                  #w: 36864   | sparsity: 88.32%\n",
      "classifier                               #w: 640     | sparsity: 19.53%\n"
     ]
    },
    {
     "name": "stderr",
     "output_type": "stream",
     "text": [
      "Testing: 100%|████████████████████████| 26/26 [00:00<00:00, 26.43it/s, accuracy=91.4, loss=0.000679]\n"
     ]
    },
    {
     "name": "stdout",
     "output_type": "stream",
     "text": [
      "Saved best model at epoch 108 with accuracy: 91.44%\n"
     ]
    },
    {
     "name": "stderr",
     "output_type": "stream",
     "text": [
      "Epoch 109: 100%|███████████████████████| 128/128 [00:06<00:00, 18.41it/s, accuracy=95.8, loss=0.126]\n"
     ]
    },
    {
     "name": "stdout",
     "output_type": "stream",
     "text": [
      "conv1                                    #w: 432     | sparsity: 30.56%\n",
      "residual_layers.0.conv1                  #w: 2304    | sparsity: 58.68%\n",
      "residual_layers.0.conv2                  #w: 2304    | sparsity: 53.26%\n",
      "residual_layers.1.conv1                  #w: 2304    | sparsity: 56.86%\n",
      "residual_layers.1.conv2                  #w: 2304    | sparsity: 54.17%\n",
      "residual_layers.2.conv1                  #w: 2304    | sparsity: 50.69%\n",
      "residual_layers.2.conv2                  #w: 2304    | sparsity: 57.73%\n",
      "residual_layers.3.conv1                  #w: 4608    | sparsity: 50.89%\n",
      "residual_layers.3.conv2                  #w: 9216    | sparsity: 55.94%\n",
      "residual_layers.3.residual.0             #w: 512     | sparsity: 30.47%\n",
      "residual_layers.4.conv1                  #w: 9216    | sparsity: 60.76%\n",
      "residual_layers.4.conv2                  #w: 9216    | sparsity: 63.92%\n",
      "residual_layers.5.conv1                  #w: 9216    | sparsity: 60.42%\n",
      "residual_layers.5.conv2                  #w: 9216    | sparsity: 67.9% \n",
      "residual_layers.6.conv1                  #w: 18432   | sparsity: 58.81%\n",
      "residual_layers.6.conv2                  #w: 36864   | sparsity: 64.2% \n",
      "residual_layers.6.residual.0             #w: 2048    | sparsity: 48.19%\n",
      "residual_layers.7.conv1                  #w: 36864   | sparsity: 67.19%\n",
      "residual_layers.7.conv2                  #w: 36864   | sparsity: 75.93%\n",
      "residual_layers.8.conv1                  #w: 36864   | sparsity: 78.92%\n",
      "residual_layers.8.conv2                  #w: 36864   | sparsity: 88.6% \n",
      "classifier                               #w: 640     | sparsity: 19.84%\n"
     ]
    },
    {
     "name": "stderr",
     "output_type": "stream",
     "text": [
      "Testing: 100%|████████████████████████| 26/26 [00:01<00:00, 25.69it/s, accuracy=91.5, loss=0.000674]\n"
     ]
    },
    {
     "name": "stdout",
     "output_type": "stream",
     "text": [
      "Saved best model at epoch 109 with accuracy: 91.45%\n"
     ]
    },
    {
     "name": "stderr",
     "output_type": "stream",
     "text": [
      "Epoch 110: 100%|███████████████████████| 128/128 [00:06<00:00, 18.58it/s, accuracy=95.8, loss=0.123]\n"
     ]
    },
    {
     "name": "stdout",
     "output_type": "stream",
     "text": [
      "conv1                                    #w: 432     | sparsity: 31.02%\n",
      "residual_layers.0.conv1                  #w: 2304    | sparsity: 59.03%\n",
      "residual_layers.0.conv2                  #w: 2304    | sparsity: 53.91%\n",
      "residual_layers.1.conv1                  #w: 2304    | sparsity: 57.6% \n",
      "residual_layers.1.conv2                  #w: 2304    | sparsity: 55.16%\n",
      "residual_layers.2.conv1                  #w: 2304    | sparsity: 50.95%\n",
      "residual_layers.2.conv2                  #w: 2304    | sparsity: 58.29%\n",
      "residual_layers.3.conv1                  #w: 4608    | sparsity: 51.32%\n",
      "residual_layers.3.conv2                  #w: 9216    | sparsity: 56.14%\n",
      "residual_layers.3.residual.0             #w: 512     | sparsity: 30.08%\n",
      "residual_layers.4.conv1                  #w: 9216    | sparsity: 61.23%\n",
      "residual_layers.4.conv2                  #w: 9216    | sparsity: 64.59%\n",
      "residual_layers.5.conv1                  #w: 9216    | sparsity: 60.67%\n",
      "residual_layers.5.conv2                  #w: 9216    | sparsity: 68.48%\n",
      "residual_layers.6.conv1                  #w: 18432   | sparsity: 59.3% \n",
      "residual_layers.6.conv2                  #w: 36864   | sparsity: 64.58%\n",
      "residual_layers.6.residual.0             #w: 2048    | sparsity: 48.54%\n",
      "residual_layers.7.conv1                  #w: 36864   | sparsity: 67.59%\n",
      "residual_layers.7.conv2                  #w: 36864   | sparsity: 76.32%\n",
      "residual_layers.8.conv1                  #w: 36864   | sparsity: 79.35%\n",
      "residual_layers.8.conv2                  #w: 36864   | sparsity: 88.75%\n",
      "classifier                               #w: 640     | sparsity: 19.53%\n"
     ]
    },
    {
     "name": "stderr",
     "output_type": "stream",
     "text": [
      "Testing: 100%|██████████████████████████| 26/26 [00:01<00:00, 24.80it/s, accuracy=91.3, loss=0.0007]\n",
      "Epoch 111: 100%|███████████████████████| 128/128 [00:06<00:00, 18.44it/s, accuracy=96.1, loss=0.118]\n"
     ]
    },
    {
     "name": "stdout",
     "output_type": "stream",
     "text": [
      "conv1                                    #w: 432     | sparsity: 31.02%\n",
      "residual_layers.0.conv1                  #w: 2304    | sparsity: 59.07%\n",
      "residual_layers.0.conv2                  #w: 2304    | sparsity: 53.95%\n",
      "residual_layers.1.conv1                  #w: 2304    | sparsity: 57.64%\n",
      "residual_layers.1.conv2                  #w: 2304    | sparsity: 55.12%\n",
      "residual_layers.2.conv1                  #w: 2304    | sparsity: 51.56%\n",
      "residual_layers.2.conv2                  #w: 2304    | sparsity: 58.85%\n",
      "residual_layers.3.conv1                  #w: 4608    | sparsity: 51.63%\n",
      "residual_layers.3.conv2                  #w: 9216    | sparsity: 56.43%\n",
      "residual_layers.3.residual.0             #w: 512     | sparsity: 30.47%\n",
      "residual_layers.4.conv1                  #w: 9216    | sparsity: 61.6% \n",
      "residual_layers.4.conv2                  #w: 9216    | sparsity: 64.92%\n",
      "residual_layers.5.conv1                  #w: 9216    | sparsity: 60.86%\n",
      "residual_layers.5.conv2                  #w: 9216    | sparsity: 68.9% \n",
      "residual_layers.6.conv1                  #w: 18432   | sparsity: 59.79%\n",
      "residual_layers.6.conv2                  #w: 36864   | sparsity: 65.07%\n",
      "residual_layers.6.residual.0             #w: 2048    | sparsity: 49.37%\n",
      "residual_layers.7.conv1                  #w: 36864   | sparsity: 68.07%\n",
      "residual_layers.7.conv2                  #w: 36864   | sparsity: 76.75%\n",
      "residual_layers.8.conv1                  #w: 36864   | sparsity: 79.76%\n",
      "residual_layers.8.conv2                  #w: 36864   | sparsity: 88.89%\n",
      "classifier                               #w: 640     | sparsity: 19.69%\n"
     ]
    },
    {
     "name": "stderr",
     "output_type": "stream",
     "text": [
      "Testing: 100%|████████████████████████| 26/26 [00:00<00:00, 26.57it/s, accuracy=91.5, loss=0.000675]\n"
     ]
    },
    {
     "name": "stdout",
     "output_type": "stream",
     "text": [
      "Saved best model at epoch 111 with accuracy: 91.46%\n"
     ]
    },
    {
     "name": "stderr",
     "output_type": "stream",
     "text": [
      "Epoch 112: 100%|███████████████████████| 128/128 [00:07<00:00, 18.16it/s, accuracy=95.9, loss=0.121]\n"
     ]
    },
    {
     "name": "stdout",
     "output_type": "stream",
     "text": [
      "conv1                                    #w: 432     | sparsity: 30.79%\n",
      "residual_layers.0.conv1                  #w: 2304    | sparsity: 59.77%\n",
      "residual_layers.0.conv2                  #w: 2304    | sparsity: 54.25%\n",
      "residual_layers.1.conv1                  #w: 2304    | sparsity: 58.03%\n",
      "residual_layers.1.conv2                  #w: 2304    | sparsity: 55.99%\n",
      "residual_layers.2.conv1                  #w: 2304    | sparsity: 51.95%\n",
      "residual_layers.2.conv2                  #w: 2304    | sparsity: 59.94%\n",
      "residual_layers.3.conv1                  #w: 4608    | sparsity: 52.04%\n",
      "residual_layers.3.conv2                  #w: 9216    | sparsity: 56.94%\n",
      "residual_layers.3.residual.0             #w: 512     | sparsity: 30.47%\n",
      "residual_layers.4.conv1                  #w: 9216    | sparsity: 61.78%\n",
      "residual_layers.4.conv2                  #w: 9216    | sparsity: 65.2% \n",
      "residual_layers.5.conv1                  #w: 9216    | sparsity: 61.15%\n",
      "residual_layers.5.conv2                  #w: 9216    | sparsity: 69.52%\n",
      "residual_layers.6.conv1                  #w: 18432   | sparsity: 60.22%\n",
      "residual_layers.6.conv2                  #w: 36864   | sparsity: 65.56%\n",
      "residual_layers.6.residual.0             #w: 2048    | sparsity: 49.8% \n",
      "residual_layers.7.conv1                  #w: 36864   | sparsity: 68.49%\n",
      "residual_layers.7.conv2                  #w: 36864   | sparsity: 77.06%\n",
      "residual_layers.8.conv1                  #w: 36864   | sparsity: 80.11%\n",
      "residual_layers.8.conv2                  #w: 36864   | sparsity: 89.12%\n",
      "classifier                               #w: 640     | sparsity: 19.53%\n"
     ]
    },
    {
     "name": "stderr",
     "output_type": "stream",
     "text": [
      "Testing: 100%|████████████████████████| 26/26 [00:00<00:00, 26.98it/s, accuracy=91.1, loss=0.000717]\n",
      "Epoch 113: 100%|███████████████████████| 128/128 [00:06<00:00, 18.54it/s, accuracy=96.2, loss=0.115]\n"
     ]
    },
    {
     "name": "stdout",
     "output_type": "stream",
     "text": [
      "conv1                                    #w: 432     | sparsity: 30.32%\n",
      "residual_layers.0.conv1                  #w: 2304    | sparsity: 59.77%\n",
      "residual_layers.0.conv2                  #w: 2304    | sparsity: 54.56%\n",
      "residual_layers.1.conv1                  #w: 2304    | sparsity: 58.77%\n",
      "residual_layers.1.conv2                  #w: 2304    | sparsity: 56.34%\n",
      "residual_layers.2.conv1                  #w: 2304    | sparsity: 51.65%\n",
      "residual_layers.2.conv2                  #w: 2304    | sparsity: 59.81%\n",
      "residual_layers.3.conv1                  #w: 4608    | sparsity: 52.58%\n",
      "residual_layers.3.conv2                  #w: 9216    | sparsity: 57.43%\n",
      "residual_layers.3.residual.0             #w: 512     | sparsity: 30.27%\n",
      "residual_layers.4.conv1                  #w: 9216    | sparsity: 62.32%\n",
      "residual_layers.4.conv2                  #w: 9216    | sparsity: 65.49%\n",
      "residual_layers.5.conv1                  #w: 9216    | sparsity: 61.69%\n",
      "residual_layers.5.conv2                  #w: 9216    | sparsity: 69.66%\n",
      "residual_layers.6.conv1                  #w: 18432   | sparsity: 60.65%\n",
      "residual_layers.6.conv2                  #w: 36864   | sparsity: 65.93%\n",
      "residual_layers.6.residual.0             #w: 2048    | sparsity: 50.24%\n",
      "residual_layers.7.conv1                  #w: 36864   | sparsity: 68.86%\n",
      "residual_layers.7.conv2                  #w: 36864   | sparsity: 77.47%\n",
      "residual_layers.8.conv1                  #w: 36864   | sparsity: 80.54%\n",
      "residual_layers.8.conv2                  #w: 36864   | sparsity: 89.31%\n",
      "classifier                               #w: 640     | sparsity: 19.69%\n"
     ]
    },
    {
     "name": "stderr",
     "output_type": "stream",
     "text": [
      "Testing: 100%|████████████████████████| 26/26 [00:00<00:00, 26.31it/s, accuracy=90.8, loss=0.000701]\n",
      "Epoch 114: 100%|███████████████████████| 128/128 [00:06<00:00, 18.38it/s, accuracy=96.2, loss=0.113]\n"
     ]
    },
    {
     "name": "stdout",
     "output_type": "stream",
     "text": [
      "conv1                                    #w: 432     | sparsity: 32.18%\n",
      "residual_layers.0.conv1                  #w: 2304    | sparsity: 60.55%\n",
      "residual_layers.0.conv2                  #w: 2304    | sparsity: 55.08%\n",
      "residual_layers.1.conv1                  #w: 2304    | sparsity: 59.29%\n",
      "residual_layers.1.conv2                  #w: 2304    | sparsity: 56.64%\n",
      "residual_layers.2.conv1                  #w: 2304    | sparsity: 52.0% \n",
      "residual_layers.2.conv2                  #w: 2304    | sparsity: 60.11%\n",
      "residual_layers.3.conv1                  #w: 4608    | sparsity: 52.95%\n",
      "residual_layers.3.conv2                  #w: 9216    | sparsity: 57.76%\n",
      "residual_layers.3.residual.0             #w: 512     | sparsity: 32.23%\n",
      "residual_layers.4.conv1                  #w: 9216    | sparsity: 62.52%\n",
      "residual_layers.4.conv2                  #w: 9216    | sparsity: 66.17%\n",
      "residual_layers.5.conv1                  #w: 9216    | sparsity: 61.9% \n",
      "residual_layers.5.conv2                  #w: 9216    | sparsity: 70.45%\n",
      "residual_layers.6.conv1                  #w: 18432   | sparsity: 61.04%\n",
      "residual_layers.6.conv2                  #w: 36864   | sparsity: 66.26%\n",
      "residual_layers.6.residual.0             #w: 2048    | sparsity: 50.24%\n",
      "residual_layers.7.conv1                  #w: 36864   | sparsity: 69.26%\n",
      "residual_layers.7.conv2                  #w: 36864   | sparsity: 77.87%\n",
      "residual_layers.8.conv1                  #w: 36864   | sparsity: 81.01%\n",
      "residual_layers.8.conv2                  #w: 36864   | sparsity: 89.53%\n",
      "classifier                               #w: 640     | sparsity: 19.69%\n"
     ]
    },
    {
     "name": "stderr",
     "output_type": "stream",
     "text": [
      "Testing: 100%|████████████████████████| 26/26 [00:01<00:00, 24.15it/s, accuracy=90.6, loss=0.000734]\n",
      "Epoch 115: 100%|███████████████████████| 128/128 [00:06<00:00, 19.17it/s, accuracy=96.2, loss=0.115]\n"
     ]
    },
    {
     "name": "stdout",
     "output_type": "stream",
     "text": [
      "conv1                                    #w: 432     | sparsity: 32.41%\n",
      "residual_layers.0.conv1                  #w: 2304    | sparsity: 60.81%\n",
      "residual_layers.0.conv2                  #w: 2304    | sparsity: 55.12%\n",
      "residual_layers.1.conv1                  #w: 2304    | sparsity: 58.94%\n",
      "residual_layers.1.conv2                  #w: 2304    | sparsity: 56.77%\n",
      "residual_layers.2.conv1                  #w: 2304    | sparsity: 52.56%\n",
      "residual_layers.2.conv2                  #w: 2304    | sparsity: 60.59%\n",
      "residual_layers.3.conv1                  #w: 4608    | sparsity: 53.17%\n",
      "residual_layers.3.conv2                  #w: 9216    | sparsity: 58.29%\n",
      "residual_layers.3.residual.0             #w: 512     | sparsity: 33.01%\n",
      "residual_layers.4.conv1                  #w: 9216    | sparsity: 62.93%\n",
      "residual_layers.4.conv2                  #w: 9216    | sparsity: 66.35%\n",
      "residual_layers.5.conv1                  #w: 9216    | sparsity: 62.33%\n",
      "residual_layers.5.conv2                  #w: 9216    | sparsity: 70.88%\n",
      "residual_layers.6.conv1                  #w: 18432   | sparsity: 61.33%\n",
      "residual_layers.6.conv2                  #w: 36864   | sparsity: 66.77%\n",
      "residual_layers.6.residual.0             #w: 2048    | sparsity: 50.68%\n",
      "residual_layers.7.conv1                  #w: 36864   | sparsity: 69.75%\n",
      "residual_layers.7.conv2                  #w: 36864   | sparsity: 78.21%\n",
      "residual_layers.8.conv1                  #w: 36864   | sparsity: 81.43%\n",
      "residual_layers.8.conv2                  #w: 36864   | sparsity: 89.62%\n",
      "classifier                               #w: 640     | sparsity: 19.38%\n"
     ]
    },
    {
     "name": "stderr",
     "output_type": "stream",
     "text": [
      "Testing: 100%|████████████████████████| 26/26 [00:00<00:00, 27.42it/s, accuracy=91.2, loss=0.000695]\n",
      "Epoch 116: 100%|████████████████████████| 128/128 [00:06<00:00, 18.34it/s, accuracy=96.4, loss=0.11]\n"
     ]
    },
    {
     "name": "stdout",
     "output_type": "stream",
     "text": [
      "conv1                                    #w: 432     | sparsity: 31.94%\n",
      "residual_layers.0.conv1                  #w: 2304    | sparsity: 60.94%\n",
      "residual_layers.0.conv2                  #w: 2304    | sparsity: 55.6% \n",
      "residual_layers.1.conv1                  #w: 2304    | sparsity: 59.59%\n",
      "residual_layers.1.conv2                  #w: 2304    | sparsity: 57.12%\n",
      "residual_layers.2.conv1                  #w: 2304    | sparsity: 52.78%\n",
      "residual_layers.2.conv2                  #w: 2304    | sparsity: 61.07%\n",
      "residual_layers.3.conv1                  #w: 4608    | sparsity: 53.6% \n",
      "residual_layers.3.conv2                  #w: 9216    | sparsity: 58.76%\n",
      "residual_layers.3.residual.0             #w: 512     | sparsity: 33.01%\n",
      "residual_layers.4.conv1                  #w: 9216    | sparsity: 63.36%\n",
      "residual_layers.4.conv2                  #w: 9216    | sparsity: 66.74%\n",
      "residual_layers.5.conv1                  #w: 9216    | sparsity: 62.97%\n",
      "residual_layers.5.conv2                  #w: 9216    | sparsity: 71.2% \n",
      "residual_layers.6.conv1                  #w: 18432   | sparsity: 61.92%\n",
      "residual_layers.6.conv2                  #w: 36864   | sparsity: 67.24%\n",
      "residual_layers.6.residual.0             #w: 2048    | sparsity: 51.32%\n",
      "residual_layers.7.conv1                  #w: 36864   | sparsity: 70.07%\n",
      "residual_layers.7.conv2                  #w: 36864   | sparsity: 78.56%\n",
      "residual_layers.8.conv1                  #w: 36864   | sparsity: 81.77%\n",
      "residual_layers.8.conv2                  #w: 36864   | sparsity: 89.73%\n",
      "classifier                               #w: 640     | sparsity: 19.69%\n"
     ]
    },
    {
     "name": "stderr",
     "output_type": "stream",
     "text": [
      "Testing: 100%|████████████████████████| 26/26 [00:00<00:00, 27.07it/s, accuracy=90.6, loss=0.000752]\n",
      "Epoch 117: 100%|███████████████████████| 128/128 [00:06<00:00, 18.56it/s, accuracy=96.2, loss=0.109]\n"
     ]
    },
    {
     "name": "stdout",
     "output_type": "stream",
     "text": [
      "conv1                                    #w: 432     | sparsity: 32.87%\n",
      "residual_layers.0.conv1                  #w: 2304    | sparsity: 61.72%\n",
      "residual_layers.0.conv2                  #w: 2304    | sparsity: 56.08%\n",
      "residual_layers.1.conv1                  #w: 2304    | sparsity: 60.11%\n",
      "residual_layers.1.conv2                  #w: 2304    | sparsity: 57.38%\n",
      "residual_layers.2.conv1                  #w: 2304    | sparsity: 53.56%\n",
      "residual_layers.2.conv2                  #w: 2304    | sparsity: 61.81%\n",
      "residual_layers.3.conv1                  #w: 4608    | sparsity: 54.01%\n",
      "residual_layers.3.conv2                  #w: 9216    | sparsity: 58.76%\n",
      "residual_layers.3.residual.0             #w: 512     | sparsity: 33.79%\n",
      "residual_layers.4.conv1                  #w: 9216    | sparsity: 63.94%\n",
      "residual_layers.4.conv2                  #w: 9216    | sparsity: 67.25%\n",
      "residual_layers.5.conv1                  #w: 9216    | sparsity: 63.11%\n",
      "residual_layers.5.conv2                  #w: 9216    | sparsity: 71.46%\n",
      "residual_layers.6.conv1                  #w: 18432   | sparsity: 62.47%\n",
      "residual_layers.6.conv2                  #w: 36864   | sparsity: 67.58%\n",
      "residual_layers.6.residual.0             #w: 2048    | sparsity: 51.71%\n",
      "residual_layers.7.conv1                  #w: 36864   | sparsity: 70.59%\n",
      "residual_layers.7.conv2                  #w: 36864   | sparsity: 78.91%\n",
      "residual_layers.8.conv1                  #w: 36864   | sparsity: 82.04%\n",
      "residual_layers.8.conv2                  #w: 36864   | sparsity: 89.84%\n",
      "classifier                               #w: 640     | sparsity: 19.84%\n"
     ]
    },
    {
     "name": "stderr",
     "output_type": "stream",
     "text": [
      "Testing: 100%|████████████████████████| 26/26 [00:00<00:00, 26.18it/s, accuracy=90.7, loss=0.000746]\n",
      "Epoch 118: 100%|███████████████████████| 128/128 [00:06<00:00, 18.51it/s, accuracy=96.2, loss=0.112]\n"
     ]
    },
    {
     "name": "stdout",
     "output_type": "stream",
     "text": [
      "conv1                                    #w: 432     | sparsity: 32.64%\n",
      "residual_layers.0.conv1                  #w: 2304    | sparsity: 62.28%\n",
      "residual_layers.0.conv2                  #w: 2304    | sparsity: 56.03%\n",
      "residual_layers.1.conv1                  #w: 2304    | sparsity: 60.03%\n",
      "residual_layers.1.conv2                  #w: 2304    | sparsity: 58.03%\n",
      "residual_layers.2.conv1                  #w: 2304    | sparsity: 54.12%\n",
      "residual_layers.2.conv2                  #w: 2304    | sparsity: 61.81%\n",
      "residual_layers.3.conv1                  #w: 4608    | sparsity: 54.6% \n",
      "residual_layers.3.conv2                  #w: 9216    | sparsity: 59.55%\n",
      "residual_layers.3.residual.0             #w: 512     | sparsity: 33.79%\n",
      "residual_layers.4.conv1                  #w: 9216    | sparsity: 64.51%\n",
      "residual_layers.4.conv2                  #w: 9216    | sparsity: 67.36%\n",
      "residual_layers.5.conv1                  #w: 9216    | sparsity: 63.68%\n",
      "residual_layers.5.conv2                  #w: 9216    | sparsity: 71.61%\n",
      "residual_layers.6.conv1                  #w: 18432   | sparsity: 62.74%\n",
      "residual_layers.6.conv2                  #w: 36864   | sparsity: 68.18%\n",
      "residual_layers.6.residual.0             #w: 2048    | sparsity: 51.9% \n",
      "residual_layers.7.conv1                  #w: 36864   | sparsity: 70.84%\n",
      "residual_layers.7.conv2                  #w: 36864   | sparsity: 79.19%\n",
      "residual_layers.8.conv1                  #w: 36864   | sparsity: 82.45%\n",
      "residual_layers.8.conv2                  #w: 36864   | sparsity: 90.07%\n",
      "classifier                               #w: 640     | sparsity: 20.0% \n"
     ]
    },
    {
     "name": "stderr",
     "output_type": "stream",
     "text": [
      "Testing: 100%|████████████████████████| 26/26 [00:00<00:00, 26.34it/s, accuracy=90.2, loss=0.000798]\n",
      "Epoch 119: 100%|███████████████████████| 128/128 [00:06<00:00, 19.10it/s, accuracy=96.2, loss=0.111]\n"
     ]
    },
    {
     "name": "stdout",
     "output_type": "stream",
     "text": [
      "conv1                                    #w: 432     | sparsity: 32.87%\n",
      "residual_layers.0.conv1                  #w: 2304    | sparsity: 62.5% \n",
      "residual_layers.0.conv2                  #w: 2304    | sparsity: 56.68%\n",
      "residual_layers.1.conv1                  #w: 2304    | sparsity: 60.46%\n",
      "residual_layers.1.conv2                  #w: 2304    | sparsity: 58.46%\n",
      "residual_layers.2.conv1                  #w: 2304    | sparsity: 53.73%\n",
      "residual_layers.2.conv2                  #w: 2304    | sparsity: 61.94%\n",
      "residual_layers.3.conv1                  #w: 4608    | sparsity: 54.69%\n",
      "residual_layers.3.conv2                  #w: 9216    | sparsity: 59.94%\n",
      "residual_layers.3.residual.0             #w: 512     | sparsity: 33.4% \n",
      "residual_layers.4.conv1                  #w: 9216    | sparsity: 64.94%\n",
      "residual_layers.4.conv2                  #w: 9216    | sparsity: 67.98%\n",
      "residual_layers.5.conv1                  #w: 9216    | sparsity: 64.15%\n",
      "residual_layers.5.conv2                  #w: 9216    | sparsity: 72.14%\n",
      "residual_layers.6.conv1                  #w: 18432   | sparsity: 63.3% \n",
      "residual_layers.6.conv2                  #w: 36864   | sparsity: 68.59%\n",
      "residual_layers.6.residual.0             #w: 2048    | sparsity: 52.93%\n",
      "residual_layers.7.conv1                  #w: 36864   | sparsity: 71.33%\n",
      "residual_layers.7.conv2                  #w: 36864   | sparsity: 79.52%\n",
      "residual_layers.8.conv1                  #w: 36864   | sparsity: 82.73%\n",
      "residual_layers.8.conv2                  #w: 36864   | sparsity: 90.09%\n",
      "classifier                               #w: 640     | sparsity: 20.16%\n"
     ]
    },
    {
     "name": "stderr",
     "output_type": "stream",
     "text": [
      "Testing: 100%|████████████████████████| 26/26 [00:01<00:00, 25.31it/s, accuracy=91.1, loss=0.000736]\n",
      "Epoch 120: 100%|███████████████████████| 128/128 [00:06<00:00, 18.74it/s, accuracy=96.3, loss=0.109]\n"
     ]
    },
    {
     "name": "stdout",
     "output_type": "stream",
     "text": [
      "conv1                                    #w: 432     | sparsity: 33.33%\n",
      "residual_layers.0.conv1                  #w: 2304    | sparsity: 62.93%\n",
      "residual_layers.0.conv2                  #w: 2304    | sparsity: 57.07%\n",
      "residual_layers.1.conv1                  #w: 2304    | sparsity: 61.07%\n",
      "residual_layers.1.conv2                  #w: 2304    | sparsity: 58.85%\n",
      "residual_layers.2.conv1                  #w: 2304    | sparsity: 54.6% \n",
      "residual_layers.2.conv2                  #w: 2304    | sparsity: 62.5% \n",
      "residual_layers.3.conv1                  #w: 4608    | sparsity: 55.32%\n",
      "residual_layers.3.conv2                  #w: 9216    | sparsity: 60.45%\n",
      "residual_layers.3.residual.0             #w: 512     | sparsity: 33.79%\n",
      "residual_layers.4.conv1                  #w: 9216    | sparsity: 65.47%\n",
      "residual_layers.4.conv2                  #w: 9216    | sparsity: 68.37%\n",
      "residual_layers.5.conv1                  #w: 9216    | sparsity: 64.51%\n",
      "residual_layers.5.conv2                  #w: 9216    | sparsity: 72.02%\n",
      "residual_layers.6.conv1                  #w: 18432   | sparsity: 63.62%\n",
      "residual_layers.6.conv2                  #w: 36864   | sparsity: 69.05%\n",
      "residual_layers.6.residual.0             #w: 2048    | sparsity: 52.83%\n",
      "residual_layers.7.conv1                  #w: 36864   | sparsity: 71.63%\n",
      "residual_layers.7.conv2                  #w: 36864   | sparsity: 79.88%\n",
      "residual_layers.8.conv1                  #w: 36864   | sparsity: 83.12%\n",
      "residual_layers.8.conv2                  #w: 36864   | sparsity: 90.25%\n",
      "classifier                               #w: 640     | sparsity: 20.31%\n"
     ]
    },
    {
     "name": "stderr",
     "output_type": "stream",
     "text": [
      "Testing: 100%|████████████████████████| 26/26 [00:01<00:00, 24.79it/s, accuracy=90.4, loss=0.000775]\n",
      "Epoch 121: 100%|████████████████████████| 128/128 [00:06<00:00, 18.62it/s, accuracy=96.2, loss=0.11]\n"
     ]
    },
    {
     "name": "stdout",
     "output_type": "stream",
     "text": [
      "conv1                                    #w: 432     | sparsity: 33.56%\n",
      "residual_layers.0.conv1                  #w: 2304    | sparsity: 63.06%\n",
      "residual_layers.0.conv2                  #w: 2304    | sparsity: 57.47%\n",
      "residual_layers.1.conv1                  #w: 2304    | sparsity: 61.41%\n",
      "residual_layers.1.conv2                  #w: 2304    | sparsity: 59.33%\n",
      "residual_layers.2.conv1                  #w: 2304    | sparsity: 55.38%\n",
      "residual_layers.2.conv2                  #w: 2304    | sparsity: 62.5% \n",
      "residual_layers.3.conv1                  #w: 4608    | sparsity: 55.49%\n",
      "residual_layers.3.conv2                  #w: 9216    | sparsity: 60.68%\n",
      "residual_layers.3.residual.0             #w: 512     | sparsity: 34.38%\n",
      "residual_layers.4.conv1                  #w: 9216    | sparsity: 66.08%\n",
      "residual_layers.4.conv2                  #w: 9216    | sparsity: 68.68%\n",
      "residual_layers.5.conv1                  #w: 9216    | sparsity: 64.81%\n",
      "residual_layers.5.conv2                  #w: 9216    | sparsity: 72.52%\n",
      "residual_layers.6.conv1                  #w: 18432   | sparsity: 64.12%\n",
      "residual_layers.6.conv2                  #w: 36864   | sparsity: 69.55%\n",
      "residual_layers.6.residual.0             #w: 2048    | sparsity: 53.61%\n",
      "residual_layers.7.conv1                  #w: 36864   | sparsity: 72.02%\n",
      "residual_layers.7.conv2                  #w: 36864   | sparsity: 80.2% \n",
      "residual_layers.8.conv1                  #w: 36864   | sparsity: 83.32%\n",
      "residual_layers.8.conv2                  #w: 36864   | sparsity: 90.35%\n",
      "classifier                               #w: 640     | sparsity: 20.78%\n"
     ]
    },
    {
     "name": "stderr",
     "output_type": "stream",
     "text": [
      "Testing: 100%|████████████████████████| 26/26 [00:00<00:00, 27.12it/s, accuracy=90.5, loss=0.000782]\n",
      "Epoch 122: 100%|████████████████████████| 128/128 [00:06<00:00, 18.96it/s, accuracy=96.3, loss=0.11]\n"
     ]
    },
    {
     "name": "stdout",
     "output_type": "stream",
     "text": [
      "conv1                                    #w: 432     | sparsity: 33.8% \n",
      "residual_layers.0.conv1                  #w: 2304    | sparsity: 63.02%\n",
      "residual_layers.0.conv2                  #w: 2304    | sparsity: 58.12%\n",
      "residual_layers.1.conv1                  #w: 2304    | sparsity: 61.89%\n",
      "residual_layers.1.conv2                  #w: 2304    | sparsity: 59.55%\n",
      "residual_layers.2.conv1                  #w: 2304    | sparsity: 55.77%\n",
      "residual_layers.2.conv2                  #w: 2304    | sparsity: 62.8% \n",
      "residual_layers.3.conv1                  #w: 4608    | sparsity: 56.08%\n",
      "residual_layers.3.conv2                  #w: 9216    | sparsity: 61.17%\n",
      "residual_layers.3.residual.0             #w: 512     | sparsity: 34.96%\n",
      "residual_layers.4.conv1                  #w: 9216    | sparsity: 66.21%\n",
      "residual_layers.4.conv2                  #w: 9216    | sparsity: 69.23%\n",
      "residual_layers.5.conv1                  #w: 9216    | sparsity: 65.03%\n",
      "residual_layers.5.conv2                  #w: 9216    | sparsity: 72.86%\n",
      "residual_layers.6.conv1                  #w: 18432   | sparsity: 64.33%\n",
      "residual_layers.6.conv2                  #w: 36864   | sparsity: 69.96%\n",
      "residual_layers.6.residual.0             #w: 2048    | sparsity: 54.59%\n",
      "residual_layers.7.conv1                  #w: 36864   | sparsity: 72.25%\n",
      "residual_layers.7.conv2                  #w: 36864   | sparsity: 80.58%\n",
      "residual_layers.8.conv1                  #w: 36864   | sparsity: 83.75%\n",
      "residual_layers.8.conv2                  #w: 36864   | sparsity: 90.57%\n",
      "classifier                               #w: 640     | sparsity: 20.78%\n"
     ]
    },
    {
     "name": "stderr",
     "output_type": "stream",
     "text": [
      "Testing: 100%|████████████████████████| 26/26 [00:01<00:00, 24.72it/s, accuracy=90.3, loss=0.000802]\n",
      "Epoch 123: 100%|███████████████████████| 128/128 [00:06<00:00, 18.66it/s, accuracy=96.3, loss=0.109]\n"
     ]
    },
    {
     "name": "stdout",
     "output_type": "stream",
     "text": [
      "conv1                                    #w: 432     | sparsity: 33.56%\n",
      "residual_layers.0.conv1                  #w: 2304    | sparsity: 63.67%\n",
      "residual_layers.0.conv2                  #w: 2304    | sparsity: 58.77%\n",
      "residual_layers.1.conv1                  #w: 2304    | sparsity: 61.94%\n",
      "residual_layers.1.conv2                  #w: 2304    | sparsity: 59.72%\n",
      "residual_layers.2.conv1                  #w: 2304    | sparsity: 55.95%\n",
      "residual_layers.2.conv2                  #w: 2304    | sparsity: 64.06%\n",
      "residual_layers.3.conv1                  #w: 4608    | sparsity: 56.53%\n",
      "residual_layers.3.conv2                  #w: 9216    | sparsity: 61.75%\n",
      "residual_layers.3.residual.0             #w: 512     | sparsity: 33.79%\n",
      "residual_layers.4.conv1                  #w: 9216    | sparsity: 66.69%\n",
      "residual_layers.4.conv2                  #w: 9216    | sparsity: 69.61%\n",
      "residual_layers.5.conv1                  #w: 9216    | sparsity: 65.6% \n",
      "residual_layers.5.conv2                  #w: 9216    | sparsity: 73.16%\n",
      "residual_layers.6.conv1                  #w: 18432   | sparsity: 64.92%\n",
      "residual_layers.6.conv2                  #w: 36864   | sparsity: 70.36%\n",
      "residual_layers.6.residual.0             #w: 2048    | sparsity: 54.54%\n",
      "residual_layers.7.conv1                  #w: 36864   | sparsity: 72.61%\n",
      "residual_layers.7.conv2                  #w: 36864   | sparsity: 80.87%\n",
      "residual_layers.8.conv1                  #w: 36864   | sparsity: 84.01%\n",
      "residual_layers.8.conv2                  #w: 36864   | sparsity: 90.68%\n",
      "classifier                               #w: 640     | sparsity: 20.94%\n"
     ]
    },
    {
     "name": "stderr",
     "output_type": "stream",
     "text": [
      "Testing: 100%|████████████████████████| 26/26 [00:01<00:00, 24.66it/s, accuracy=90.7, loss=0.000768]\n",
      "Epoch 124: 100%|████████████████████████| 128/128 [00:06<00:00, 19.26it/s, accuracy=96.2, loss=0.11]\n"
     ]
    },
    {
     "name": "stdout",
     "output_type": "stream",
     "text": [
      "conv1                                    #w: 432     | sparsity: 34.26%\n",
      "residual_layers.0.conv1                  #w: 2304    | sparsity: 63.76%\n",
      "residual_layers.0.conv2                  #w: 2304    | sparsity: 59.07%\n",
      "residual_layers.1.conv1                  #w: 2304    | sparsity: 62.07%\n",
      "residual_layers.1.conv2                  #w: 2304    | sparsity: 60.42%\n",
      "residual_layers.2.conv1                  #w: 2304    | sparsity: 56.21%\n",
      "residual_layers.2.conv2                  #w: 2304    | sparsity: 63.89%\n",
      "residual_layers.3.conv1                  #w: 4608    | sparsity: 57.25%\n",
      "residual_layers.3.conv2                  #w: 9216    | sparsity: 62.1% \n",
      "residual_layers.3.residual.0             #w: 512     | sparsity: 34.18%\n",
      "residual_layers.4.conv1                  #w: 9216    | sparsity: 67.2% \n",
      "residual_layers.4.conv2                  #w: 9216    | sparsity: 69.78%\n",
      "residual_layers.5.conv1                  #w: 9216    | sparsity: 66.06%\n",
      "residual_layers.5.conv2                  #w: 9216    | sparsity: 73.8% \n",
      "residual_layers.6.conv1                  #w: 18432   | sparsity: 65.4% \n",
      "residual_layers.6.conv2                  #w: 36864   | sparsity: 70.67%\n",
      "residual_layers.6.residual.0             #w: 2048    | sparsity: 55.18%\n",
      "residual_layers.7.conv1                  #w: 36864   | sparsity: 72.99%\n",
      "residual_layers.7.conv2                  #w: 36864   | sparsity: 81.23%\n",
      "residual_layers.8.conv1                  #w: 36864   | sparsity: 84.3% \n",
      "residual_layers.8.conv2                  #w: 36864   | sparsity: 90.77%\n",
      "classifier                               #w: 640     | sparsity: 21.09%\n"
     ]
    },
    {
     "name": "stderr",
     "output_type": "stream",
     "text": [
      "Testing: 100%|██████████████████████████| 26/26 [00:01<00:00, 25.81it/s, accuracy=90, loss=0.000841]\n",
      "Epoch 125: 100%|███████████████████████| 128/128 [00:06<00:00, 18.71it/s, accuracy=96.1, loss=0.112]\n"
     ]
    },
    {
     "name": "stdout",
     "output_type": "stream",
     "text": [
      "conv1                                    #w: 432     | sparsity: 34.95%\n",
      "residual_layers.0.conv1                  #w: 2304    | sparsity: 63.98%\n",
      "residual_layers.0.conv2                  #w: 2304    | sparsity: 59.94%\n",
      "residual_layers.1.conv1                  #w: 2304    | sparsity: 62.54%\n",
      "residual_layers.1.conv2                  #w: 2304    | sparsity: 60.81%\n",
      "residual_layers.2.conv1                  #w: 2304    | sparsity: 57.25%\n",
      "residual_layers.2.conv2                  #w: 2304    | sparsity: 64.11%\n",
      "residual_layers.3.conv1                  #w: 4608    | sparsity: 57.23%\n",
      "residual_layers.3.conv2                  #w: 9216    | sparsity: 62.76%\n",
      "residual_layers.3.residual.0             #w: 512     | sparsity: 34.38%\n",
      "residual_layers.4.conv1                  #w: 9216    | sparsity: 67.31%\n",
      "residual_layers.4.conv2                  #w: 9216    | sparsity: 70.43%\n",
      "residual_layers.5.conv1                  #w: 9216    | sparsity: 66.55%\n",
      "residual_layers.5.conv2                  #w: 9216    | sparsity: 74.08%\n",
      "residual_layers.6.conv1                  #w: 18432   | sparsity: 66.04%\n",
      "residual_layers.6.conv2                  #w: 36864   | sparsity: 71.16%\n",
      "residual_layers.6.residual.0             #w: 2048    | sparsity: 55.57%\n",
      "residual_layers.7.conv1                  #w: 36864   | sparsity: 73.3% \n",
      "residual_layers.7.conv2                  #w: 36864   | sparsity: 81.41%\n",
      "residual_layers.8.conv1                  #w: 36864   | sparsity: 84.52%\n",
      "residual_layers.8.conv2                  #w: 36864   | sparsity: 90.87%\n",
      "classifier                               #w: 640     | sparsity: 21.09%\n"
     ]
    },
    {
     "name": "stderr",
     "output_type": "stream",
     "text": [
      "Testing: 100%|████████████████████████| 26/26 [00:01<00:00, 23.80it/s, accuracy=90.5, loss=0.000776]\n",
      "Epoch 126: 100%|█████████████████████████| 128/128 [00:06<00:00, 19.10it/s, accuracy=96, loss=0.115]\n"
     ]
    },
    {
     "name": "stdout",
     "output_type": "stream",
     "text": [
      "conv1                                    #w: 432     | sparsity: 34.95%\n",
      "residual_layers.0.conv1                  #w: 2304    | sparsity: 63.8% \n",
      "residual_layers.0.conv2                  #w: 2304    | sparsity: 60.24%\n",
      "residual_layers.1.conv1                  #w: 2304    | sparsity: 62.85%\n",
      "residual_layers.1.conv2                  #w: 2304    | sparsity: 61.02%\n",
      "residual_layers.2.conv1                  #w: 2304    | sparsity: 57.34%\n",
      "residual_layers.2.conv2                  #w: 2304    | sparsity: 64.54%\n",
      "residual_layers.3.conv1                  #w: 4608    | sparsity: 57.96%\n",
      "residual_layers.3.conv2                  #w: 9216    | sparsity: 63.29%\n",
      "residual_layers.3.residual.0             #w: 512     | sparsity: 34.57%\n",
      "residual_layers.4.conv1                  #w: 9216    | sparsity: 67.88%\n",
      "residual_layers.4.conv2                  #w: 9216    | sparsity: 70.61%\n",
      "residual_layers.5.conv1                  #w: 9216    | sparsity: 67.06%\n",
      "residual_layers.5.conv2                  #w: 9216    | sparsity: 74.12%\n",
      "residual_layers.6.conv1                  #w: 18432   | sparsity: 66.41%\n",
      "residual_layers.6.conv2                  #w: 36864   | sparsity: 71.51%\n",
      "residual_layers.6.residual.0             #w: 2048    | sparsity: 56.93%\n",
      "residual_layers.7.conv1                  #w: 36864   | sparsity: 73.7% \n",
      "residual_layers.7.conv2                  #w: 36864   | sparsity: 81.65%\n",
      "residual_layers.8.conv1                  #w: 36864   | sparsity: 84.83%\n",
      "residual_layers.8.conv2                  #w: 36864   | sparsity: 91.06%\n",
      "classifier                               #w: 640     | sparsity: 21.09%\n"
     ]
    },
    {
     "name": "stderr",
     "output_type": "stream",
     "text": [
      "Testing: 100%|█████████████████████████| 26/26 [00:01<00:00, 25.47it/s, accuracy=90.7, loss=0.00077]\n",
      "Epoch 127: 100%|███████████████████████| 128/128 [00:06<00:00, 18.90it/s, accuracy=96.2, loss=0.113]\n"
     ]
    },
    {
     "name": "stdout",
     "output_type": "stream",
     "text": [
      "conv1                                    #w: 432     | sparsity: 35.88%\n",
      "residual_layers.0.conv1                  #w: 2304    | sparsity: 64.5% \n",
      "residual_layers.0.conv2                  #w: 2304    | sparsity: 60.29%\n",
      "residual_layers.1.conv1                  #w: 2304    | sparsity: 63.28%\n",
      "residual_layers.1.conv2                  #w: 2304    | sparsity: 61.68%\n",
      "residual_layers.2.conv1                  #w: 2304    | sparsity: 57.12%\n",
      "residual_layers.2.conv2                  #w: 2304    | sparsity: 65.02%\n",
      "residual_layers.3.conv1                  #w: 4608    | sparsity: 58.33%\n",
      "residual_layers.3.conv2                  #w: 9216    | sparsity: 63.87%\n",
      "residual_layers.3.residual.0             #w: 512     | sparsity: 36.13%\n",
      "residual_layers.4.conv1                  #w: 9216    | sparsity: 68.42%\n",
      "residual_layers.4.conv2                  #w: 9216    | sparsity: 71.14%\n",
      "residual_layers.5.conv1                  #w: 9216    | sparsity: 67.42%\n",
      "residual_layers.5.conv2                  #w: 9216    | sparsity: 74.58%\n",
      "residual_layers.6.conv1                  #w: 18432   | sparsity: 66.91%\n",
      "residual_layers.6.conv2                  #w: 36864   | sparsity: 71.83%\n",
      "residual_layers.6.residual.0             #w: 2048    | sparsity: 57.32%\n",
      "residual_layers.7.conv1                  #w: 36864   | sparsity: 73.98%\n",
      "residual_layers.7.conv2                  #w: 36864   | sparsity: 82.04%\n",
      "residual_layers.8.conv1                  #w: 36864   | sparsity: 85.1% \n",
      "residual_layers.8.conv2                  #w: 36864   | sparsity: 91.07%\n",
      "classifier                               #w: 640     | sparsity: 21.72%\n"
     ]
    },
    {
     "name": "stderr",
     "output_type": "stream",
     "text": [
      "Testing: 100%|████████████████████████| 26/26 [00:01<00:00, 22.65it/s, accuracy=90.8, loss=0.000739]\n",
      "Epoch 128: 100%|███████████████████████| 128/128 [00:06<00:00, 18.82it/s, accuracy=96.1, loss=0.114]\n"
     ]
    },
    {
     "name": "stdout",
     "output_type": "stream",
     "text": [
      "conv1                                    #w: 432     | sparsity: 35.88%\n",
      "residual_layers.0.conv1                  #w: 2304    | sparsity: 65.02%\n",
      "residual_layers.0.conv2                  #w: 2304    | sparsity: 60.85%\n",
      "residual_layers.1.conv1                  #w: 2304    | sparsity: 63.45%\n",
      "residual_layers.1.conv2                  #w: 2304    | sparsity: 61.76%\n",
      "residual_layers.2.conv1                  #w: 2304    | sparsity: 57.51%\n",
      "residual_layers.2.conv2                  #w: 2304    | sparsity: 65.62%\n",
      "residual_layers.3.conv1                  #w: 4608    | sparsity: 58.53%\n",
      "residual_layers.3.conv2                  #w: 9216    | sparsity: 64.04%\n",
      "residual_layers.3.residual.0             #w: 512     | sparsity: 36.13%\n",
      "residual_layers.4.conv1                  #w: 9216    | sparsity: 68.87%\n",
      "residual_layers.4.conv2                  #w: 9216    | sparsity: 71.47%\n",
      "residual_layers.5.conv1                  #w: 9216    | sparsity: 67.72%\n",
      "residual_layers.5.conv2                  #w: 9216    | sparsity: 75.13%\n",
      "residual_layers.6.conv1                  #w: 18432   | sparsity: 67.32%\n",
      "residual_layers.6.conv2                  #w: 36864   | sparsity: 72.44%\n",
      "residual_layers.6.residual.0             #w: 2048    | sparsity: 57.86%\n",
      "residual_layers.7.conv1                  #w: 36864   | sparsity: 74.37%\n",
      "residual_layers.7.conv2                  #w: 36864   | sparsity: 82.3% \n",
      "residual_layers.8.conv1                  #w: 36864   | sparsity: 85.28%\n",
      "residual_layers.8.conv2                  #w: 36864   | sparsity: 91.12%\n",
      "classifier                               #w: 640     | sparsity: 21.72%\n"
     ]
    },
    {
     "name": "stderr",
     "output_type": "stream",
     "text": [
      "Testing: 100%|████████████████████████| 26/26 [00:00<00:00, 27.31it/s, accuracy=90.5, loss=0.000805]\n",
      "Epoch 129: 100%|█████████████████████████| 128/128 [00:06<00:00, 18.97it/s, accuracy=96, loss=0.115]\n"
     ]
    },
    {
     "name": "stdout",
     "output_type": "stream",
     "text": [
      "conv1                                    #w: 432     | sparsity: 36.11%\n",
      "residual_layers.0.conv1                  #w: 2304    | sparsity: 65.41%\n",
      "residual_layers.0.conv2                  #w: 2304    | sparsity: 61.24%\n",
      "residual_layers.1.conv1                  #w: 2304    | sparsity: 63.8% \n",
      "residual_layers.1.conv2                  #w: 2304    | sparsity: 62.07%\n",
      "residual_layers.2.conv1                  #w: 2304    | sparsity: 57.55%\n",
      "residual_layers.2.conv2                  #w: 2304    | sparsity: 65.62%\n",
      "residual_layers.3.conv1                  #w: 4608    | sparsity: 59.16%\n",
      "residual_layers.3.conv2                  #w: 9216    | sparsity: 64.36%\n",
      "residual_layers.3.residual.0             #w: 512     | sparsity: 36.52%\n",
      "residual_layers.4.conv1                  #w: 9216    | sparsity: 69.53%\n",
      "residual_layers.4.conv2                  #w: 9216    | sparsity: 72.09%\n",
      "residual_layers.5.conv1                  #w: 9216    | sparsity: 68.15%\n",
      "residual_layers.5.conv2                  #w: 9216    | sparsity: 75.62%\n",
      "residual_layers.6.conv1                  #w: 18432   | sparsity: 67.62%\n",
      "residual_layers.6.conv2                  #w: 36864   | sparsity: 72.78%\n",
      "residual_layers.6.residual.0             #w: 2048    | sparsity: 58.06%\n",
      "residual_layers.7.conv1                  #w: 36864   | sparsity: 74.76%\n",
      "residual_layers.7.conv2                  #w: 36864   | sparsity: 82.57%\n",
      "residual_layers.8.conv1                  #w: 36864   | sparsity: 85.55%\n",
      "residual_layers.8.conv2                  #w: 36864   | sparsity: 91.11%\n",
      "classifier                               #w: 640     | sparsity: 21.88%\n"
     ]
    },
    {
     "name": "stderr",
     "output_type": "stream",
     "text": [
      "Testing: 100%|████████████████████████| 26/26 [00:01<00:00, 24.74it/s, accuracy=90.1, loss=0.000864]\n",
      "Epoch 130: 100%|███████████████████████| 128/128 [00:06<00:00, 18.85it/s, accuracy=95.9, loss=0.119]\n"
     ]
    },
    {
     "name": "stdout",
     "output_type": "stream",
     "text": [
      "conv1                                    #w: 432     | sparsity: 37.04%\n",
      "residual_layers.0.conv1                  #w: 2304    | sparsity: 65.62%\n",
      "residual_layers.0.conv2                  #w: 2304    | sparsity: 62.02%\n",
      "residual_layers.1.conv1                  #w: 2304    | sparsity: 64.54%\n",
      "residual_layers.1.conv2                  #w: 2304    | sparsity: 62.67%\n",
      "residual_layers.2.conv1                  #w: 2304    | sparsity: 58.59%\n",
      "residual_layers.2.conv2                  #w: 2304    | sparsity: 65.54%\n",
      "residual_layers.3.conv1                  #w: 4608    | sparsity: 59.9% \n",
      "residual_layers.3.conv2                  #w: 9216    | sparsity: 64.94%\n",
      "residual_layers.3.residual.0             #w: 512     | sparsity: 37.89%\n",
      "residual_layers.4.conv1                  #w: 9216    | sparsity: 69.87%\n",
      "residual_layers.4.conv2                  #w: 9216    | sparsity: 72.43%\n",
      "residual_layers.5.conv1                  #w: 9216    | sparsity: 68.22%\n",
      "residual_layers.5.conv2                  #w: 9216    | sparsity: 75.94%\n",
      "residual_layers.6.conv1                  #w: 18432   | sparsity: 68.34%\n",
      "residual_layers.6.conv2                  #w: 36864   | sparsity: 73.19%\n",
      "residual_layers.6.residual.0             #w: 2048    | sparsity: 58.54%\n",
      "residual_layers.7.conv1                  #w: 36864   | sparsity: 75.12%\n",
      "residual_layers.7.conv2                  #w: 36864   | sparsity: 82.81%\n",
      "residual_layers.8.conv1                  #w: 36864   | sparsity: 85.77%\n",
      "residual_layers.8.conv2                  #w: 36864   | sparsity: 91.09%\n",
      "classifier                               #w: 640     | sparsity: 21.88%\n"
     ]
    },
    {
     "name": "stderr",
     "output_type": "stream",
     "text": [
      "Testing: 100%|████████████████████████| 26/26 [00:01<00:00, 24.05it/s, accuracy=89.9, loss=0.000871]\n",
      "Epoch 131: 100%|███████████████████████| 128/128 [00:06<00:00, 18.75it/s, accuracy=95.7, loss=0.122]\n"
     ]
    },
    {
     "name": "stdout",
     "output_type": "stream",
     "text": [
      "conv1                                    #w: 432     | sparsity: 36.57%\n",
      "residual_layers.0.conv1                  #w: 2304    | sparsity: 66.1% \n",
      "residual_layers.0.conv2                  #w: 2304    | sparsity: 62.54%\n",
      "residual_layers.1.conv1                  #w: 2304    | sparsity: 64.97%\n",
      "residual_layers.1.conv2                  #w: 2304    | sparsity: 62.98%\n",
      "residual_layers.2.conv1                  #w: 2304    | sparsity: 58.9% \n",
      "residual_layers.2.conv2                  #w: 2304    | sparsity: 65.93%\n",
      "residual_layers.3.conv1                  #w: 4608    | sparsity: 59.96%\n",
      "residual_layers.3.conv2                  #w: 9216    | sparsity: 65.55%\n",
      "residual_layers.3.residual.0             #w: 512     | sparsity: 37.89%\n",
      "residual_layers.4.conv1                  #w: 9216    | sparsity: 70.01%\n",
      "residual_layers.4.conv2                  #w: 9216    | sparsity: 72.78%\n",
      "residual_layers.5.conv1                  #w: 9216    | sparsity: 68.32%\n",
      "residual_layers.5.conv2                  #w: 9216    | sparsity: 75.91%\n",
      "residual_layers.6.conv1                  #w: 18432   | sparsity: 68.57%\n",
      "residual_layers.6.conv2                  #w: 36864   | sparsity: 73.55%\n",
      "residual_layers.6.residual.0             #w: 2048    | sparsity: 59.18%\n",
      "residual_layers.7.conv1                  #w: 36864   | sparsity: 75.41%\n",
      "residual_layers.7.conv2                  #w: 36864   | sparsity: 83.06%\n",
      "residual_layers.8.conv1                  #w: 36864   | sparsity: 86.07%\n",
      "residual_layers.8.conv2                  #w: 36864   | sparsity: 91.43%\n",
      "classifier                               #w: 640     | sparsity: 22.03%\n"
     ]
    },
    {
     "name": "stderr",
     "output_type": "stream",
     "text": [
      "Testing: 100%|████████████████████████| 26/26 [00:01<00:00, 24.94it/s, accuracy=89.7, loss=0.000857]\n",
      "Epoch 132: 100%|███████████████████████| 128/128 [00:06<00:00, 19.45it/s, accuracy=95.7, loss=0.123]\n"
     ]
    },
    {
     "name": "stdout",
     "output_type": "stream",
     "text": [
      "conv1                                    #w: 432     | sparsity: 36.11%\n",
      "residual_layers.0.conv1                  #w: 2304    | sparsity: 66.19%\n",
      "residual_layers.0.conv2                  #w: 2304    | sparsity: 62.54%\n",
      "residual_layers.1.conv1                  #w: 2304    | sparsity: 65.23%\n",
      "residual_layers.1.conv2                  #w: 2304    | sparsity: 63.59%\n",
      "residual_layers.2.conv1                  #w: 2304    | sparsity: 59.42%\n",
      "residual_layers.2.conv2                  #w: 2304    | sparsity: 66.23%\n",
      "residual_layers.3.conv1                  #w: 4608    | sparsity: 60.48%\n",
      "residual_layers.3.conv2                  #w: 9216    | sparsity: 66.23%\n",
      "residual_layers.3.residual.0             #w: 512     | sparsity: 38.28%\n",
      "residual_layers.4.conv1                  #w: 9216    | sparsity: 70.43%\n",
      "residual_layers.4.conv2                  #w: 9216    | sparsity: 73.1% \n",
      "residual_layers.5.conv1                  #w: 9216    | sparsity: 68.84%\n",
      "residual_layers.5.conv2                  #w: 9216    | sparsity: 76.2% \n",
      "residual_layers.6.conv1                  #w: 18432   | sparsity: 68.85%\n",
      "residual_layers.6.conv2                  #w: 36864   | sparsity: 73.89%\n",
      "residual_layers.6.residual.0             #w: 2048    | sparsity: 60.21%\n",
      "residual_layers.7.conv1                  #w: 36864   | sparsity: 75.82%\n",
      "residual_layers.7.conv2                  #w: 36864   | sparsity: 83.28%\n",
      "residual_layers.8.conv1                  #w: 36864   | sparsity: 86.27%\n",
      "residual_layers.8.conv2                  #w: 36864   | sparsity: 91.59%\n",
      "classifier                               #w: 640     | sparsity: 22.34%\n"
     ]
    },
    {
     "name": "stderr",
     "output_type": "stream",
     "text": [
      "Testing: 100%|████████████████████████| 26/26 [00:00<00:00, 27.05it/s, accuracy=89.7, loss=0.000857]\n",
      "Epoch 133: 100%|███████████████████████| 128/128 [00:06<00:00, 19.29it/s, accuracy=95.9, loss=0.121]\n"
     ]
    },
    {
     "name": "stdout",
     "output_type": "stream",
     "text": [
      "conv1                                    #w: 432     | sparsity: 36.81%\n",
      "residual_layers.0.conv1                  #w: 2304    | sparsity: 67.19%\n",
      "residual_layers.0.conv2                  #w: 2304    | sparsity: 63.5% \n",
      "residual_layers.1.conv1                  #w: 2304    | sparsity: 65.71%\n",
      "residual_layers.1.conv2                  #w: 2304    | sparsity: 64.24%\n",
      "residual_layers.2.conv1                  #w: 2304    | sparsity: 59.77%\n",
      "residual_layers.2.conv2                  #w: 2304    | sparsity: 66.97%\n",
      "residual_layers.3.conv1                  #w: 4608    | sparsity: 61.11%\n",
      "residual_layers.3.conv2                  #w: 9216    | sparsity: 66.55%\n",
      "residual_layers.3.residual.0             #w: 512     | sparsity: 39.84%\n",
      "residual_layers.4.conv1                  #w: 9216    | sparsity: 71.13%\n",
      "residual_layers.4.conv2                  #w: 9216    | sparsity: 73.39%\n",
      "residual_layers.5.conv1                  #w: 9216    | sparsity: 69.11%\n",
      "residual_layers.5.conv2                  #w: 9216    | sparsity: 76.6% \n",
      "residual_layers.6.conv1                  #w: 18432   | sparsity: 69.53%\n",
      "residual_layers.6.conv2                  #w: 36864   | sparsity: 74.28%\n",
      "residual_layers.6.residual.0             #w: 2048    | sparsity: 59.91%\n",
      "residual_layers.7.conv1                  #w: 36864   | sparsity: 76.14%\n",
      "residual_layers.7.conv2                  #w: 36864   | sparsity: 83.5% \n",
      "residual_layers.8.conv1                  #w: 36864   | sparsity: 86.39%\n",
      "residual_layers.8.conv2                  #w: 36864   | sparsity: 91.56%\n",
      "classifier                               #w: 640     | sparsity: 22.5% \n"
     ]
    },
    {
     "name": "stderr",
     "output_type": "stream",
     "text": [
      "Testing: 100%|████████████████████████| 26/26 [00:01<00:00, 24.30it/s, accuracy=89.7, loss=0.000869]\n",
      "Epoch 134: 100%|███████████████████████| 128/128 [00:07<00:00, 18.21it/s, accuracy=95.7, loss=0.125]\n"
     ]
    },
    {
     "name": "stdout",
     "output_type": "stream",
     "text": [
      "conv1                                    #w: 432     | sparsity: 36.57%\n",
      "residual_layers.0.conv1                  #w: 2304    | sparsity: 67.71%\n",
      "residual_layers.0.conv2                  #w: 2304    | sparsity: 64.19%\n",
      "residual_layers.1.conv1                  #w: 2304    | sparsity: 66.45%\n",
      "residual_layers.1.conv2                  #w: 2304    | sparsity: 64.84%\n",
      "residual_layers.2.conv1                  #w: 2304    | sparsity: 60.29%\n",
      "residual_layers.2.conv2                  #w: 2304    | sparsity: 66.93%\n",
      "residual_layers.3.conv1                  #w: 4608    | sparsity: 61.18%\n",
      "residual_layers.3.conv2                  #w: 9216    | sparsity: 67.07%\n",
      "residual_layers.3.residual.0             #w: 512     | sparsity: 40.04%\n",
      "residual_layers.4.conv1                  #w: 9216    | sparsity: 71.54%\n",
      "residual_layers.4.conv2                  #w: 9216    | sparsity: 73.93%\n",
      "residual_layers.5.conv1                  #w: 9216    | sparsity: 69.48%\n",
      "residual_layers.5.conv2                  #w: 9216    | sparsity: 76.97%\n",
      "residual_layers.6.conv1                  #w: 18432   | sparsity: 69.95%\n",
      "residual_layers.6.conv2                  #w: 36864   | sparsity: 74.71%\n",
      "residual_layers.6.residual.0             #w: 2048    | sparsity: 60.21%\n",
      "residual_layers.7.conv1                  #w: 36864   | sparsity: 76.46%\n",
      "residual_layers.7.conv2                  #w: 36864   | sparsity: 83.67%\n",
      "residual_layers.8.conv1                  #w: 36864   | sparsity: 86.68%\n",
      "residual_layers.8.conv2                  #w: 36864   | sparsity: 91.59%\n",
      "classifier                               #w: 640     | sparsity: 22.34%\n"
     ]
    },
    {
     "name": "stderr",
     "output_type": "stream",
     "text": [
      "Testing: 100%|████████████████████████| 26/26 [00:01<00:00, 25.94it/s, accuracy=90.3, loss=0.000816]\n",
      "Epoch 135: 100%|███████████████████████| 128/128 [00:06<00:00, 18.99it/s, accuracy=95.6, loss=0.128]\n"
     ]
    },
    {
     "name": "stdout",
     "output_type": "stream",
     "text": [
      "conv1                                    #w: 432     | sparsity: 37.73%\n",
      "residual_layers.0.conv1                  #w: 2304    | sparsity: 68.32%\n",
      "residual_layers.0.conv2                  #w: 2304    | sparsity: 64.5% \n",
      "residual_layers.1.conv1                  #w: 2304    | sparsity: 66.93%\n",
      "residual_layers.1.conv2                  #w: 2304    | sparsity: 64.71%\n",
      "residual_layers.2.conv1                  #w: 2304    | sparsity: 59.85%\n",
      "residual_layers.2.conv2                  #w: 2304    | sparsity: 67.53%\n",
      "residual_layers.3.conv1                  #w: 4608    | sparsity: 61.55%\n",
      "residual_layers.3.conv2                  #w: 9216    | sparsity: 67.4% \n",
      "residual_layers.3.residual.0             #w: 512     | sparsity: 40.43%\n",
      "residual_layers.4.conv1                  #w: 9216    | sparsity: 72.07%\n",
      "residual_layers.4.conv2                  #w: 9216    | sparsity: 74.49%\n",
      "residual_layers.5.conv1                  #w: 9216    | sparsity: 70.24%\n",
      "residual_layers.5.conv2                  #w: 9216    | sparsity: 77.45%\n",
      "residual_layers.6.conv1                  #w: 18432   | sparsity: 70.39%\n",
      "residual_layers.6.conv2                  #w: 36864   | sparsity: 74.95%\n",
      "residual_layers.6.residual.0             #w: 2048    | sparsity: 61.18%\n",
      "residual_layers.7.conv1                  #w: 36864   | sparsity: 76.84%\n",
      "residual_layers.7.conv2                  #w: 36864   | sparsity: 83.78%\n",
      "residual_layers.8.conv1                  #w: 36864   | sparsity: 86.74%\n",
      "residual_layers.8.conv2                  #w: 36864   | sparsity: 91.87%\n",
      "classifier                               #w: 640     | sparsity: 22.66%\n"
     ]
    },
    {
     "name": "stderr",
     "output_type": "stream",
     "text": [
      "Testing: 100%|████████████████████████| 26/26 [00:01<00:00, 23.20it/s, accuracy=89.9, loss=0.000829]\n",
      "Epoch 136: 100%|████████████████████████| 128/128 [00:06<00:00, 18.43it/s, accuracy=95.5, loss=0.13]\n"
     ]
    },
    {
     "name": "stdout",
     "output_type": "stream",
     "text": [
      "conv1                                    #w: 432     | sparsity: 37.5% \n",
      "residual_layers.0.conv1                  #w: 2304    | sparsity: 68.27%\n",
      "residual_layers.0.conv2                  #w: 2304    | sparsity: 64.8% \n",
      "residual_layers.1.conv1                  #w: 2304    | sparsity: 67.32%\n",
      "residual_layers.1.conv2                  #w: 2304    | sparsity: 65.15%\n",
      "residual_layers.2.conv1                  #w: 2304    | sparsity: 60.63%\n",
      "residual_layers.2.conv2                  #w: 2304    | sparsity: 67.45%\n",
      "residual_layers.3.conv1                  #w: 4608    | sparsity: 62.24%\n",
      "residual_layers.3.conv2                  #w: 9216    | sparsity: 67.91%\n",
      "residual_layers.3.residual.0             #w: 512     | sparsity: 40.23%\n",
      "residual_layers.4.conv1                  #w: 9216    | sparsity: 72.19%\n",
      "residual_layers.4.conv2                  #w: 9216    | sparsity: 74.57%\n",
      "residual_layers.5.conv1                  #w: 9216    | sparsity: 70.52%\n",
      "residual_layers.5.conv2                  #w: 9216    | sparsity: 77.89%\n",
      "residual_layers.6.conv1                  #w: 18432   | sparsity: 70.65%\n",
      "residual_layers.6.conv2                  #w: 36864   | sparsity: 75.37%\n",
      "residual_layers.6.residual.0             #w: 2048    | sparsity: 61.52%\n",
      "residual_layers.7.conv1                  #w: 36864   | sparsity: 77.03%\n",
      "residual_layers.7.conv2                  #w: 36864   | sparsity: 83.99%\n",
      "residual_layers.8.conv1                  #w: 36864   | sparsity: 87.11%\n",
      "residual_layers.8.conv2                  #w: 36864   | sparsity: 92.01%\n",
      "classifier                               #w: 640     | sparsity: 22.97%\n"
     ]
    },
    {
     "name": "stderr",
     "output_type": "stream",
     "text": [
      "Testing: 100%|████████████████████████| 26/26 [00:01<00:00, 23.83it/s, accuracy=88.9, loss=0.000906]\n",
      "Epoch 137: 100%|████████████████████████| 128/128 [00:06<00:00, 19.76it/s, accuracy=95.5, loss=0.13]\n"
     ]
    },
    {
     "name": "stdout",
     "output_type": "stream",
     "text": [
      "conv1                                    #w: 432     | sparsity: 38.66%\n",
      "residual_layers.0.conv1                  #w: 2304    | sparsity: 68.84%\n",
      "residual_layers.0.conv2                  #w: 2304    | sparsity: 65.06%\n",
      "residual_layers.1.conv1                  #w: 2304    | sparsity: 67.84%\n",
      "residual_layers.1.conv2                  #w: 2304    | sparsity: 65.23%\n",
      "residual_layers.2.conv1                  #w: 2304    | sparsity: 60.76%\n",
      "residual_layers.2.conv2                  #w: 2304    | sparsity: 68.58%\n",
      "residual_layers.3.conv1                  #w: 4608    | sparsity: 62.41%\n",
      "residual_layers.3.conv2                  #w: 9216    | sparsity: 68.53%\n",
      "residual_layers.3.residual.0             #w: 512     | sparsity: 40.43%\n",
      "residual_layers.4.conv1                  #w: 9216    | sparsity: 72.44%\n",
      "residual_layers.4.conv2                  #w: 9216    | sparsity: 74.86%\n",
      "residual_layers.5.conv1                  #w: 9216    | sparsity: 70.71%\n",
      "residual_layers.5.conv2                  #w: 9216    | sparsity: 78.07%\n",
      "residual_layers.6.conv1                  #w: 18432   | sparsity: 71.07%\n",
      "residual_layers.6.conv2                  #w: 36864   | sparsity: 75.63%\n",
      "residual_layers.6.residual.0             #w: 2048    | sparsity: 62.74%\n",
      "residual_layers.7.conv1                  #w: 36864   | sparsity: 77.39%\n",
      "residual_layers.7.conv2                  #w: 36864   | sparsity: 84.41%\n",
      "residual_layers.8.conv1                  #w: 36864   | sparsity: 87.38%\n",
      "residual_layers.8.conv2                  #w: 36864   | sparsity: 91.95%\n",
      "classifier                               #w: 640     | sparsity: 22.97%\n"
     ]
    },
    {
     "name": "stderr",
     "output_type": "stream",
     "text": [
      "Testing: 100%|████████████████████████| 26/26 [00:01<00:00, 23.86it/s, accuracy=89.5, loss=0.000896]\n",
      "Epoch 138: 100%|███████████████████████| 128/128 [00:06<00:00, 19.44it/s, accuracy=95.3, loss=0.135]\n"
     ]
    },
    {
     "name": "stdout",
     "output_type": "stream",
     "text": [
      "conv1                                    #w: 432     | sparsity: 38.66%\n",
      "residual_layers.0.conv1                  #w: 2304    | sparsity: 69.31%\n",
      "residual_layers.0.conv2                  #w: 2304    | sparsity: 65.89%\n",
      "residual_layers.1.conv1                  #w: 2304    | sparsity: 68.23%\n",
      "residual_layers.1.conv2                  #w: 2304    | sparsity: 65.89%\n",
      "residual_layers.2.conv1                  #w: 2304    | sparsity: 61.33%\n",
      "residual_layers.2.conv2                  #w: 2304    | sparsity: 68.97%\n",
      "residual_layers.3.conv1                  #w: 4608    | sparsity: 63.09%\n",
      "residual_layers.3.conv2                  #w: 9216    | sparsity: 68.71%\n",
      "residual_layers.3.residual.0             #w: 512     | sparsity: 40.62%\n",
      "residual_layers.4.conv1                  #w: 9216    | sparsity: 72.88%\n",
      "residual_layers.4.conv2                  #w: 9216    | sparsity: 75.35%\n",
      "residual_layers.5.conv1                  #w: 9216    | sparsity: 71.04%\n",
      "residual_layers.5.conv2                  #w: 9216    | sparsity: 78.03%\n",
      "residual_layers.6.conv1                  #w: 18432   | sparsity: 71.46%\n",
      "residual_layers.6.conv2                  #w: 36864   | sparsity: 76.11%\n",
      "residual_layers.6.residual.0             #w: 2048    | sparsity: 62.55%\n",
      "residual_layers.7.conv1                  #w: 36864   | sparsity: 77.64%\n",
      "residual_layers.7.conv2                  #w: 36864   | sparsity: 84.58%\n",
      "residual_layers.8.conv1                  #w: 36864   | sparsity: 87.54%\n",
      "residual_layers.8.conv2                  #w: 36864   | sparsity: 92.14%\n",
      "classifier                               #w: 640     | sparsity: 23.59%\n"
     ]
    },
    {
     "name": "stderr",
     "output_type": "stream",
     "text": [
      "Testing: 100%|████████████████████████| 26/26 [00:00<00:00, 26.91it/s, accuracy=89.2, loss=0.000887]\n",
      "Epoch 139: 100%|██████████████████████████| 128/128 [00:06<00:00, 19.17it/s, accuracy=95, loss=0.14]\n"
     ]
    },
    {
     "name": "stdout",
     "output_type": "stream",
     "text": [
      "conv1                                    #w: 432     | sparsity: 39.12%\n",
      "residual_layers.0.conv1                  #w: 2304    | sparsity: 70.05%\n",
      "residual_layers.0.conv2                  #w: 2304    | sparsity: 66.23%\n",
      "residual_layers.1.conv1                  #w: 2304    | sparsity: 68.1% \n",
      "residual_layers.1.conv2                  #w: 2304    | sparsity: 65.89%\n",
      "residual_layers.2.conv1                  #w: 2304    | sparsity: 61.24%\n",
      "residual_layers.2.conv2                  #w: 2304    | sparsity: 69.4% \n",
      "residual_layers.3.conv1                  #w: 4608    | sparsity: 63.22%\n",
      "residual_layers.3.conv2                  #w: 9216    | sparsity: 69.25%\n",
      "residual_layers.3.residual.0             #w: 512     | sparsity: 44.14%\n",
      "residual_layers.4.conv1                  #w: 9216    | sparsity: 73.26%\n",
      "residual_layers.4.conv2                  #w: 9216    | sparsity: 75.55%\n",
      "residual_layers.5.conv1                  #w: 9216    | sparsity: 71.37%\n",
      "residual_layers.5.conv2                  #w: 9216    | sparsity: 78.6% \n",
      "residual_layers.6.conv1                  #w: 18432   | sparsity: 72.04%\n",
      "residual_layers.6.conv2                  #w: 36864   | sparsity: 76.47%\n",
      "residual_layers.6.residual.0             #w: 2048    | sparsity: 63.23%\n",
      "residual_layers.7.conv1                  #w: 36864   | sparsity: 77.78%\n",
      "residual_layers.7.conv2                  #w: 36864   | sparsity: 84.77%\n",
      "residual_layers.8.conv1                  #w: 36864   | sparsity: 87.64%\n",
      "residual_layers.8.conv2                  #w: 36864   | sparsity: 92.39%\n",
      "classifier                               #w: 640     | sparsity: 23.59%\n"
     ]
    },
    {
     "name": "stderr",
     "output_type": "stream",
     "text": [
      "Testing: 100%|████████████████████████| 26/26 [00:00<00:00, 27.36it/s, accuracy=89.4, loss=0.000862]\n",
      "Epoch 140: 100%|███████████████████████| 128/128 [00:06<00:00, 19.73it/s, accuracy=95.2, loss=0.137]\n"
     ]
    },
    {
     "name": "stdout",
     "output_type": "stream",
     "text": [
      "conv1                                    #w: 432     | sparsity: 39.81%\n",
      "residual_layers.0.conv1                  #w: 2304    | sparsity: 70.14%\n",
      "residual_layers.0.conv2                  #w: 2304    | sparsity: 66.62%\n",
      "residual_layers.1.conv1                  #w: 2304    | sparsity: 68.27%\n",
      "residual_layers.1.conv2                  #w: 2304    | sparsity: 66.19%\n",
      "residual_layers.2.conv1                  #w: 2304    | sparsity: 61.81%\n",
      "residual_layers.2.conv2                  #w: 2304    | sparsity: 70.31%\n",
      "residual_layers.3.conv1                  #w: 4608    | sparsity: 63.91%\n",
      "residual_layers.3.conv2                  #w: 9216    | sparsity: 69.66%\n",
      "residual_layers.3.residual.0             #w: 512     | sparsity: 42.58%\n",
      "residual_layers.4.conv1                  #w: 9216    | sparsity: 73.46%\n",
      "residual_layers.4.conv2                  #w: 9216    | sparsity: 76.14%\n",
      "residual_layers.5.conv1                  #w: 9216    | sparsity: 72.3% \n",
      "residual_layers.5.conv2                  #w: 9216    | sparsity: 78.8% \n",
      "residual_layers.6.conv1                  #w: 18432   | sparsity: 72.15%\n",
      "residual_layers.6.conv2                  #w: 36864   | sparsity: 76.81%\n",
      "residual_layers.6.residual.0             #w: 2048    | sparsity: 64.11%\n",
      "residual_layers.7.conv1                  #w: 36864   | sparsity: 78.13%\n",
      "residual_layers.7.conv2                  #w: 36864   | sparsity: 85.06%\n",
      "residual_layers.8.conv1                  #w: 36864   | sparsity: 88.0% \n",
      "residual_layers.8.conv2                  #w: 36864   | sparsity: 92.15%\n",
      "classifier                               #w: 640     | sparsity: 24.06%\n"
     ]
    },
    {
     "name": "stderr",
     "output_type": "stream",
     "text": [
      "Testing: 100%|████████████████████████| 26/26 [00:00<00:00, 26.74it/s, accuracy=89.1, loss=0.000905]\n",
      "Epoch 141: 100%|███████████████████████| 128/128 [00:06<00:00, 19.99it/s, accuracy=95.1, loss=0.143]\n"
     ]
    },
    {
     "name": "stdout",
     "output_type": "stream",
     "text": [
      "conv1                                    #w: 432     | sparsity: 40.05%\n",
      "residual_layers.0.conv1                  #w: 2304    | sparsity: 70.49%\n",
      "residual_layers.0.conv2                  #w: 2304    | sparsity: 67.4% \n",
      "residual_layers.1.conv1                  #w: 2304    | sparsity: 69.05%\n",
      "residual_layers.1.conv2                  #w: 2304    | sparsity: 67.27%\n",
      "residual_layers.2.conv1                  #w: 2304    | sparsity: 62.24%\n",
      "residual_layers.2.conv2                  #w: 2304    | sparsity: 70.27%\n",
      "residual_layers.3.conv1                  #w: 4608    | sparsity: 64.65%\n",
      "residual_layers.3.conv2                  #w: 9216    | sparsity: 69.99%\n",
      "residual_layers.3.residual.0             #w: 512     | sparsity: 42.77%\n",
      "residual_layers.4.conv1                  #w: 9216    | sparsity: 73.64%\n",
      "residual_layers.4.conv2                  #w: 9216    | sparsity: 76.19%\n",
      "residual_layers.5.conv1                  #w: 9216    | sparsity: 72.45%\n",
      "residual_layers.5.conv2                  #w: 9216    | sparsity: 79.08%\n",
      "residual_layers.6.conv1                  #w: 18432   | sparsity: 72.6% \n",
      "residual_layers.6.conv2                  #w: 36864   | sparsity: 77.2% \n",
      "residual_layers.6.residual.0             #w: 2048    | sparsity: 64.4% \n",
      "residual_layers.7.conv1                  #w: 36864   | sparsity: 78.42%\n",
      "residual_layers.7.conv2                  #w: 36864   | sparsity: 85.09%\n",
      "residual_layers.8.conv1                  #w: 36864   | sparsity: 88.11%\n",
      "residual_layers.8.conv2                  #w: 36864   | sparsity: 92.49%\n",
      "classifier                               #w: 640     | sparsity: 24.38%\n"
     ]
    },
    {
     "name": "stderr",
     "output_type": "stream",
     "text": [
      "Testing: 100%|████████████████████████| 26/26 [00:00<00:00, 28.48it/s, accuracy=88.2, loss=0.000957]\n",
      "Epoch 142: 100%|███████████████████████| 128/128 [00:06<00:00, 19.86it/s, accuracy=94.9, loss=0.146]\n"
     ]
    },
    {
     "name": "stdout",
     "output_type": "stream",
     "text": [
      "conv1                                    #w: 432     | sparsity: 40.05%\n",
      "residual_layers.0.conv1                  #w: 2304    | sparsity: 71.05%\n",
      "residual_layers.0.conv2                  #w: 2304    | sparsity: 67.36%\n",
      "residual_layers.1.conv1                  #w: 2304    | sparsity: 69.49%\n",
      "residual_layers.1.conv2                  #w: 2304    | sparsity: 66.71%\n",
      "residual_layers.2.conv1                  #w: 2304    | sparsity: 63.02%\n",
      "residual_layers.2.conv2                  #w: 2304    | sparsity: 70.31%\n",
      "residual_layers.3.conv1                  #w: 4608    | sparsity: 64.39%\n",
      "residual_layers.3.conv2                  #w: 9216    | sparsity: 70.46%\n",
      "residual_layers.3.residual.0             #w: 512     | sparsity: 42.58%\n",
      "residual_layers.4.conv1                  #w: 9216    | sparsity: 74.38%\n",
      "residual_layers.4.conv2                  #w: 9216    | sparsity: 76.32%\n",
      "residual_layers.5.conv1                  #w: 9216    | sparsity: 73.06%\n",
      "residual_layers.5.conv2                  #w: 9216    | sparsity: 79.24%\n",
      "residual_layers.6.conv1                  #w: 18432   | sparsity: 72.8% \n",
      "residual_layers.6.conv2                  #w: 36864   | sparsity: 77.66%\n",
      "residual_layers.6.residual.0             #w: 2048    | sparsity: 64.79%\n",
      "residual_layers.7.conv1                  #w: 36864   | sparsity: 78.78%\n",
      "residual_layers.7.conv2                  #w: 36864   | sparsity: 85.29%\n",
      "residual_layers.8.conv1                  #w: 36864   | sparsity: 88.22%\n",
      "residual_layers.8.conv2                  #w: 36864   | sparsity: 92.68%\n",
      "classifier                               #w: 640     | sparsity: 24.38%\n"
     ]
    },
    {
     "name": "stderr",
     "output_type": "stream",
     "text": [
      "Testing: 100%|████████████████████████| 26/26 [00:01<00:00, 25.25it/s, accuracy=88.5, loss=0.000971]\n",
      "Epoch 143: 100%|███████████████████████| 128/128 [00:06<00:00, 19.51it/s, accuracy=94.9, loss=0.146]\n"
     ]
    },
    {
     "name": "stdout",
     "output_type": "stream",
     "text": [
      "conv1                                    #w: 432     | sparsity: 40.51%\n",
      "residual_layers.0.conv1                  #w: 2304    | sparsity: 71.53%\n",
      "residual_layers.0.conv2                  #w: 2304    | sparsity: 67.62%\n",
      "residual_layers.1.conv1                  #w: 2304    | sparsity: 69.97%\n",
      "residual_layers.1.conv2                  #w: 2304    | sparsity: 67.06%\n",
      "residual_layers.2.conv1                  #w: 2304    | sparsity: 62.63%\n",
      "residual_layers.2.conv2                  #w: 2304    | sparsity: 71.09%\n",
      "residual_layers.3.conv1                  #w: 4608    | sparsity: 65.21%\n",
      "residual_layers.3.conv2                  #w: 9216    | sparsity: 71.22%\n",
      "residual_layers.3.residual.0             #w: 512     | sparsity: 43.75%\n",
      "residual_layers.4.conv1                  #w: 9216    | sparsity: 74.44%\n",
      "residual_layers.4.conv2                  #w: 9216    | sparsity: 77.01%\n",
      "residual_layers.5.conv1                  #w: 9216    | sparsity: 72.83%\n",
      "residual_layers.5.conv2                  #w: 9216    | sparsity: 79.85%\n",
      "residual_layers.6.conv1                  #w: 18432   | sparsity: 73.31%\n",
      "residual_layers.6.conv2                  #w: 36864   | sparsity: 77.94%\n",
      "residual_layers.6.residual.0             #w: 2048    | sparsity: 64.84%\n",
      "residual_layers.7.conv1                  #w: 36864   | sparsity: 79.14%\n",
      "residual_layers.7.conv2                  #w: 36864   | sparsity: 85.46%\n",
      "residual_layers.8.conv1                  #w: 36864   | sparsity: 88.45%\n",
      "residual_layers.8.conv2                  #w: 36864   | sparsity: 92.59%\n",
      "classifier                               #w: 640     | sparsity: 24.69%\n"
     ]
    },
    {
     "name": "stderr",
     "output_type": "stream",
     "text": [
      "Testing: 100%|██████████████████████████| 26/26 [00:01<00:00, 24.76it/s, accuracy=89, loss=0.000882]\n",
      "Epoch 144: 100%|███████████████████████| 128/128 [00:06<00:00, 19.80it/s, accuracy=94.6, loss=0.153]\n"
     ]
    },
    {
     "name": "stdout",
     "output_type": "stream",
     "text": [
      "conv1                                    #w: 432     | sparsity: 40.74%\n",
      "residual_layers.0.conv1                  #w: 2304    | sparsity: 71.4% \n",
      "residual_layers.0.conv2                  #w: 2304    | sparsity: 68.14%\n",
      "residual_layers.1.conv1                  #w: 2304    | sparsity: 70.88%\n",
      "residual_layers.1.conv2                  #w: 2304    | sparsity: 67.32%\n",
      "residual_layers.2.conv1                  #w: 2304    | sparsity: 63.37%\n",
      "residual_layers.2.conv2                  #w: 2304    | sparsity: 71.01%\n",
      "residual_layers.3.conv1                  #w: 4608    | sparsity: 65.6% \n",
      "residual_layers.3.conv2                  #w: 9216    | sparsity: 71.76%\n",
      "residual_layers.3.residual.0             #w: 512     | sparsity: 42.97%\n",
      "residual_layers.4.conv1                  #w: 9216    | sparsity: 74.7% \n",
      "residual_layers.4.conv2                  #w: 9216    | sparsity: 77.09%\n",
      "residual_layers.5.conv1                  #w: 9216    | sparsity: 73.27%\n",
      "residual_layers.5.conv2                  #w: 9216    | sparsity: 79.95%\n",
      "residual_layers.6.conv1                  #w: 18432   | sparsity: 73.49%\n",
      "residual_layers.6.conv2                  #w: 36864   | sparsity: 78.28%\n",
      "residual_layers.6.residual.0             #w: 2048    | sparsity: 65.14%\n",
      "residual_layers.7.conv1                  #w: 36864   | sparsity: 79.47%\n",
      "residual_layers.7.conv2                  #w: 36864   | sparsity: 85.54%\n",
      "residual_layers.8.conv1                  #w: 36864   | sparsity: 88.63%\n",
      "residual_layers.8.conv2                  #w: 36864   | sparsity: 92.94%\n",
      "classifier                               #w: 640     | sparsity: 24.84%\n"
     ]
    },
    {
     "name": "stderr",
     "output_type": "stream",
     "text": [
      "Testing: 100%|████████████████████████| 26/26 [00:00<00:00, 26.81it/s, accuracy=88.1, loss=0.000995]\n",
      "Epoch 145: 100%|███████████████████████| 128/128 [00:06<00:00, 20.00it/s, accuracy=94.7, loss=0.155]\n"
     ]
    },
    {
     "name": "stdout",
     "output_type": "stream",
     "text": [
      "conv1                                    #w: 432     | sparsity: 40.74%\n",
      "residual_layers.0.conv1                  #w: 2304    | sparsity: 71.83%\n",
      "residual_layers.0.conv2                  #w: 2304    | sparsity: 69.1% \n",
      "residual_layers.1.conv1                  #w: 2304    | sparsity: 70.92%\n",
      "residual_layers.1.conv2                  #w: 2304    | sparsity: 68.58%\n",
      "residual_layers.2.conv1                  #w: 2304    | sparsity: 64.19%\n",
      "residual_layers.2.conv2                  #w: 2304    | sparsity: 71.05%\n",
      "residual_layers.3.conv1                  #w: 4608    | sparsity: 66.38%\n",
      "residual_layers.3.conv2                  #w: 9216    | sparsity: 71.79%\n",
      "residual_layers.3.residual.0             #w: 512     | sparsity: 43.36%\n",
      "residual_layers.4.conv1                  #w: 9216    | sparsity: 75.08%\n",
      "residual_layers.4.conv2                  #w: 9216    | sparsity: 77.8% \n",
      "residual_layers.5.conv1                  #w: 9216    | sparsity: 73.85%\n",
      "residual_layers.5.conv2                  #w: 9216    | sparsity: 80.31%\n",
      "residual_layers.6.conv1                  #w: 18432   | sparsity: 73.87%\n",
      "residual_layers.6.conv2                  #w: 36864   | sparsity: 78.47%\n",
      "residual_layers.6.residual.0             #w: 2048    | sparsity: 65.48%\n",
      "residual_layers.7.conv1                  #w: 36864   | sparsity: 79.89%\n",
      "residual_layers.7.conv2                  #w: 36864   | sparsity: 85.8% \n",
      "residual_layers.8.conv1                  #w: 36864   | sparsity: 88.84%\n",
      "residual_layers.8.conv2                  #w: 36864   | sparsity: 92.79%\n",
      "classifier                               #w: 640     | sparsity: 25.31%\n"
     ]
    },
    {
     "name": "stderr",
     "output_type": "stream",
     "text": [
      "Testing: 100%|█████████████████████████| 26/26 [00:00<00:00, 26.98it/s, accuracy=87.9, loss=0.00104]\n",
      "Epoch 146: 100%|███████████████████████| 128/128 [00:06<00:00, 19.73it/s, accuracy=94.4, loss=0.159]\n"
     ]
    },
    {
     "name": "stdout",
     "output_type": "stream",
     "text": [
      "conv1                                    #w: 432     | sparsity: 41.2% \n",
      "residual_layers.0.conv1                  #w: 2304    | sparsity: 72.74%\n",
      "residual_layers.0.conv2                  #w: 2304    | sparsity: 69.57%\n",
      "residual_layers.1.conv1                  #w: 2304    | sparsity: 71.09%\n",
      "residual_layers.1.conv2                  #w: 2304    | sparsity: 68.62%\n",
      "residual_layers.2.conv1                  #w: 2304    | sparsity: 63.8% \n",
      "residual_layers.2.conv2                  #w: 2304    | sparsity: 71.44%\n",
      "residual_layers.3.conv1                  #w: 4608    | sparsity: 66.54%\n",
      "residual_layers.3.conv2                  #w: 9216    | sparsity: 71.9% \n",
      "residual_layers.3.residual.0             #w: 512     | sparsity: 44.53%\n",
      "residual_layers.4.conv1                  #w: 9216    | sparsity: 75.59%\n",
      "residual_layers.4.conv2                  #w: 9216    | sparsity: 77.91%\n",
      "residual_layers.5.conv1                  #w: 9216    | sparsity: 74.08%\n",
      "residual_layers.5.conv2                  #w: 9216    | sparsity: 80.6% \n",
      "residual_layers.6.conv1                  #w: 18432   | sparsity: 74.28%\n",
      "residual_layers.6.conv2                  #w: 36864   | sparsity: 78.84%\n",
      "residual_layers.6.residual.0             #w: 2048    | sparsity: 65.62%\n",
      "residual_layers.7.conv1                  #w: 36864   | sparsity: 80.18%\n",
      "residual_layers.7.conv2                  #w: 36864   | sparsity: 86.17%\n",
      "residual_layers.8.conv1                  #w: 36864   | sparsity: 88.91%\n",
      "residual_layers.8.conv2                  #w: 36864   | sparsity: 92.88%\n",
      "classifier                               #w: 640     | sparsity: 25.47%\n"
     ]
    },
    {
     "name": "stderr",
     "output_type": "stream",
     "text": [
      "Testing: 100%|███████████████████████████| 26/26 [00:01<00:00, 25.12it/s, accuracy=88, loss=0.00104]\n",
      "Epoch 147: 100%|███████████████████████| 128/128 [00:06<00:00, 19.27it/s, accuracy=94.4, loss=0.162]\n"
     ]
    },
    {
     "name": "stdout",
     "output_type": "stream",
     "text": [
      "conv1                                    #w: 432     | sparsity: 41.9% \n",
      "residual_layers.0.conv1                  #w: 2304    | sparsity: 72.96%\n",
      "residual_layers.0.conv2                  #w: 2304    | sparsity: 69.66%\n",
      "residual_layers.1.conv1                  #w: 2304    | sparsity: 71.18%\n",
      "residual_layers.1.conv2                  #w: 2304    | sparsity: 69.36%\n",
      "residual_layers.2.conv1                  #w: 2304    | sparsity: 64.5% \n",
      "residual_layers.2.conv2                  #w: 2304    | sparsity: 72.87%\n",
      "residual_layers.3.conv1                  #w: 4608    | sparsity: 67.04%\n",
      "residual_layers.3.conv2                  #w: 9216    | sparsity: 72.42%\n",
      "residual_layers.3.residual.0             #w: 512     | sparsity: 43.95%\n",
      "residual_layers.4.conv1                  #w: 9216    | sparsity: 75.84%\n",
      "residual_layers.4.conv2                  #w: 9216    | sparsity: 77.99%\n",
      "residual_layers.5.conv1                  #w: 9216    | sparsity: 74.01%\n",
      "residual_layers.5.conv2                  #w: 9216    | sparsity: 80.4% \n",
      "residual_layers.6.conv1                  #w: 18432   | sparsity: 74.52%\n",
      "residual_layers.6.conv2                  #w: 36864   | sparsity: 79.19%\n",
      "residual_layers.6.residual.0             #w: 2048    | sparsity: 67.19%\n",
      "residual_layers.7.conv1                  #w: 36864   | sparsity: 80.4% \n",
      "residual_layers.7.conv2                  #w: 36864   | sparsity: 86.34%\n",
      "residual_layers.8.conv1                  #w: 36864   | sparsity: 89.01%\n",
      "residual_layers.8.conv2                  #w: 36864   | sparsity: 93.23%\n",
      "classifier                               #w: 640     | sparsity: 25.78%\n"
     ]
    },
    {
     "name": "stderr",
     "output_type": "stream",
     "text": [
      "Testing: 100%|█████████████████████████| 26/26 [00:00<00:00, 27.43it/s, accuracy=87.8, loss=0.00104]\n",
      "Epoch 148: 100%|███████████████████████| 128/128 [00:06<00:00, 19.63it/s, accuracy=94.4, loss=0.161]\n"
     ]
    },
    {
     "name": "stdout",
     "output_type": "stream",
     "text": [
      "conv1                                    #w: 432     | sparsity: 42.59%\n",
      "residual_layers.0.conv1                  #w: 2304    | sparsity: 72.7% \n",
      "residual_layers.0.conv2                  #w: 2304    | sparsity: 69.84%\n",
      "residual_layers.1.conv1                  #w: 2304    | sparsity: 72.18%\n",
      "residual_layers.1.conv2                  #w: 2304    | sparsity: 69.88%\n",
      "residual_layers.2.conv1                  #w: 2304    | sparsity: 64.8% \n",
      "residual_layers.2.conv2                  #w: 2304    | sparsity: 72.79%\n",
      "residual_layers.3.conv1                  #w: 4608    | sparsity: 67.21%\n",
      "residual_layers.3.conv2                  #w: 9216    | sparsity: 72.89%\n",
      "residual_layers.3.residual.0             #w: 512     | sparsity: 44.14%\n",
      "residual_layers.4.conv1                  #w: 9216    | sparsity: 76.36%\n",
      "residual_layers.4.conv2                  #w: 9216    | sparsity: 78.32%\n",
      "residual_layers.5.conv1                  #w: 9216    | sparsity: 74.36%\n",
      "residual_layers.5.conv2                  #w: 9216    | sparsity: 80.65%\n",
      "residual_layers.6.conv1                  #w: 18432   | sparsity: 74.97%\n",
      "residual_layers.6.conv2                  #w: 36864   | sparsity: 79.48%\n",
      "residual_layers.6.residual.0             #w: 2048    | sparsity: 67.38%\n",
      "residual_layers.7.conv1                  #w: 36864   | sparsity: 80.59%\n",
      "residual_layers.7.conv2                  #w: 36864   | sparsity: 86.44%\n",
      "residual_layers.8.conv1                  #w: 36864   | sparsity: 89.14%\n",
      "residual_layers.8.conv2                  #w: 36864   | sparsity: 93.43%\n",
      "classifier                               #w: 640     | sparsity: 25.94%\n"
     ]
    },
    {
     "name": "stderr",
     "output_type": "stream",
     "text": [
      "Testing: 100%|█████████████████████████| 26/26 [00:01<00:00, 25.90it/s, accuracy=87.7, loss=0.00101]\n",
      "Epoch 149: 100%|██████████████████████████| 128/128 [00:06<00:00, 19.84it/s, accuracy=94, loss=0.17]\n"
     ]
    },
    {
     "name": "stdout",
     "output_type": "stream",
     "text": [
      "conv1                                    #w: 432     | sparsity: 40.97%\n",
      "residual_layers.0.conv1                  #w: 2304    | sparsity: 73.78%\n",
      "residual_layers.0.conv2                  #w: 2304    | sparsity: 70.27%\n",
      "residual_layers.1.conv1                  #w: 2304    | sparsity: 72.53%\n",
      "residual_layers.1.conv2                  #w: 2304    | sparsity: 70.79%\n",
      "residual_layers.2.conv1                  #w: 2304    | sparsity: 65.76%\n",
      "residual_layers.2.conv2                  #w: 2304    | sparsity: 73.39%\n",
      "residual_layers.3.conv1                  #w: 4608    | sparsity: 67.82%\n",
      "residual_layers.3.conv2                  #w: 9216    | sparsity: 73.24%\n",
      "residual_layers.3.residual.0             #w: 512     | sparsity: 45.12%\n",
      "residual_layers.4.conv1                  #w: 9216    | sparsity: 76.4% \n",
      "residual_layers.4.conv2                  #w: 9216    | sparsity: 78.62%\n",
      "residual_layers.5.conv1                  #w: 9216    | sparsity: 75.0% \n",
      "residual_layers.5.conv2                  #w: 9216    | sparsity: 81.08%\n",
      "residual_layers.6.conv1                  #w: 18432   | sparsity: 75.25%\n",
      "residual_layers.6.conv2                  #w: 36864   | sparsity: 79.81%\n",
      "residual_layers.6.residual.0             #w: 2048    | sparsity: 67.48%\n",
      "residual_layers.7.conv1                  #w: 36864   | sparsity: 80.92%\n",
      "residual_layers.7.conv2                  #w: 36864   | sparsity: 86.75%\n",
      "residual_layers.8.conv1                  #w: 36864   | sparsity: 89.36%\n",
      "residual_layers.8.conv2                  #w: 36864   | sparsity: 93.17%\n",
      "classifier                               #w: 640     | sparsity: 26.25%\n"
     ]
    },
    {
     "name": "stderr",
     "output_type": "stream",
     "text": [
      "Testing: 100%|████████████████████████| 26/26 [00:00<00:00, 26.21it/s, accuracy=88.3, loss=0.000965]\n",
      "Epoch 150: 100%|█████████████████████████| 128/128 [00:06<00:00, 20.34it/s, accuracy=94, loss=0.171]\n"
     ]
    },
    {
     "name": "stdout",
     "output_type": "stream",
     "text": [
      "conv1                                    #w: 432     | sparsity: 40.51%\n",
      "residual_layers.0.conv1                  #w: 2304    | sparsity: 73.91%\n",
      "residual_layers.0.conv2                  #w: 2304    | sparsity: 70.96%\n",
      "residual_layers.1.conv1                  #w: 2304    | sparsity: 73.22%\n",
      "residual_layers.1.conv2                  #w: 2304    | sparsity: 70.31%\n",
      "residual_layers.2.conv1                  #w: 2304    | sparsity: 66.32%\n",
      "residual_layers.2.conv2                  #w: 2304    | sparsity: 73.65%\n",
      "residual_layers.3.conv1                  #w: 4608    | sparsity: 68.42%\n",
      "residual_layers.3.conv2                  #w: 9216    | sparsity: 73.55%\n",
      "residual_layers.3.residual.0             #w: 512     | sparsity: 46.09%\n",
      "residual_layers.4.conv1                  #w: 9216    | sparsity: 77.08%\n",
      "residual_layers.4.conv2                  #w: 9216    | sparsity: 78.93%\n",
      "residual_layers.5.conv1                  #w: 9216    | sparsity: 75.12%\n",
      "residual_layers.5.conv2                  #w: 9216    | sparsity: 81.26%\n",
      "residual_layers.6.conv1                  #w: 18432   | sparsity: 75.52%\n",
      "residual_layers.6.conv2                  #w: 36864   | sparsity: 80.19%\n",
      "residual_layers.6.residual.0             #w: 2048    | sparsity: 68.02%\n",
      "residual_layers.7.conv1                  #w: 36864   | sparsity: 81.14%\n",
      "residual_layers.7.conv2                  #w: 36864   | sparsity: 86.74%\n",
      "residual_layers.8.conv1                  #w: 36864   | sparsity: 89.47%\n",
      "residual_layers.8.conv2                  #w: 36864   | sparsity: 93.52%\n",
      "classifier                               #w: 640     | sparsity: 26.72%\n"
     ]
    },
    {
     "name": "stderr",
     "output_type": "stream",
     "text": [
      "Testing: 100%|████████████████████████| 26/26 [00:00<00:00, 28.93it/s, accuracy=88.1, loss=0.000972]\n"
     ]
    },
    {
     "name": "stdout",
     "output_type": "stream",
     "text": [
      "Current learning rate has decayed to 0.001000\n"
     ]
    },
    {
     "name": "stderr",
     "output_type": "stream",
     "text": [
      "Epoch 151: 100%|███████████████████████| 128/128 [00:06<00:00, 20.65it/s, accuracy=95.7, loss=0.129]\n"
     ]
    },
    {
     "name": "stdout",
     "output_type": "stream",
     "text": [
      "conv1                                    #w: 432     | sparsity: 41.2% \n",
      "residual_layers.0.conv1                  #w: 2304    | sparsity: 74.0% \n",
      "residual_layers.0.conv2                  #w: 2304    | sparsity: 70.96%\n",
      "residual_layers.1.conv1                  #w: 2304    | sparsity: 73.05%\n",
      "residual_layers.1.conv2                  #w: 2304    | sparsity: 70.88%\n",
      "residual_layers.2.conv1                  #w: 2304    | sparsity: 66.58%\n",
      "residual_layers.2.conv2                  #w: 2304    | sparsity: 73.87%\n",
      "residual_layers.3.conv1                  #w: 4608    | sparsity: 68.6% \n",
      "residual_layers.3.conv2                  #w: 9216    | sparsity: 73.81%\n",
      "residual_layers.3.residual.0             #w: 512     | sparsity: 45.9% \n",
      "residual_layers.4.conv1                  #w: 9216    | sparsity: 77.35%\n",
      "residual_layers.4.conv2                  #w: 9216    | sparsity: 79.06%\n",
      "residual_layers.5.conv1                  #w: 9216    | sparsity: 75.37%\n",
      "residual_layers.5.conv2                  #w: 9216    | sparsity: 81.45%\n",
      "residual_layers.6.conv1                  #w: 18432   | sparsity: 75.86%\n",
      "residual_layers.6.conv2                  #w: 36864   | sparsity: 80.37%\n",
      "residual_layers.6.residual.0             #w: 2048    | sparsity: 68.16%\n",
      "residual_layers.7.conv1                  #w: 36864   | sparsity: 81.41%\n",
      "residual_layers.7.conv2                  #w: 36864   | sparsity: 86.95%\n",
      "residual_layers.8.conv1                  #w: 36864   | sparsity: 89.64%\n",
      "residual_layers.8.conv2                  #w: 36864   | sparsity: 93.99%\n",
      "classifier                               #w: 640     | sparsity: 26.72%\n"
     ]
    },
    {
     "name": "stderr",
     "output_type": "stream",
     "text": [
      "Testing: 100%|████████████████████████| 26/26 [00:01<00:00, 25.86it/s, accuracy=91.1, loss=0.000704]\n",
      "Epoch 152: 100%|███████████████████████| 128/128 [00:06<00:00, 20.41it/s, accuracy=96.5, loss=0.109]\n"
     ]
    },
    {
     "name": "stdout",
     "output_type": "stream",
     "text": [
      "conv1                                    #w: 432     | sparsity: 41.44%\n",
      "residual_layers.0.conv1                  #w: 2304    | sparsity: 74.05%\n",
      "residual_layers.0.conv2                  #w: 2304    | sparsity: 70.92%\n",
      "residual_layers.1.conv1                  #w: 2304    | sparsity: 73.22%\n",
      "residual_layers.1.conv2                  #w: 2304    | sparsity: 71.01%\n",
      "residual_layers.2.conv1                  #w: 2304    | sparsity: 66.8% \n",
      "residual_layers.2.conv2                  #w: 2304    | sparsity: 74.05%\n",
      "residual_layers.3.conv1                  #w: 4608    | sparsity: 68.75%\n",
      "residual_layers.3.conv2                  #w: 9216    | sparsity: 73.98%\n",
      "residual_layers.3.residual.0             #w: 512     | sparsity: 45.9% \n",
      "residual_layers.4.conv1                  #w: 9216    | sparsity: 77.69%\n",
      "residual_layers.4.conv2                  #w: 9216    | sparsity: 79.44%\n",
      "residual_layers.5.conv1                  #w: 9216    | sparsity: 75.61%\n",
      "residual_layers.5.conv2                  #w: 9216    | sparsity: 81.81%\n",
      "residual_layers.6.conv1                  #w: 18432   | sparsity: 76.12%\n",
      "residual_layers.6.conv2                  #w: 36864   | sparsity: 80.57%\n",
      "residual_layers.6.residual.0             #w: 2048    | sparsity: 68.55%\n",
      "residual_layers.7.conv1                  #w: 36864   | sparsity: 81.64%\n",
      "residual_layers.7.conv2                  #w: 36864   | sparsity: 87.15%\n",
      "residual_layers.8.conv1                  #w: 36864   | sparsity: 89.79%\n",
      "residual_layers.8.conv2                  #w: 36864   | sparsity: 94.35%\n",
      "classifier                               #w: 640     | sparsity: 26.72%\n"
     ]
    },
    {
     "name": "stderr",
     "output_type": "stream",
     "text": [
      "Testing: 100%|████████████████████████| 26/26 [00:00<00:00, 26.62it/s, accuracy=91.2, loss=0.000701]\n",
      "Epoch 153: 100%|███████████████████████| 128/128 [00:06<00:00, 20.48it/s, accuracy=96.8, loss=0.103]\n"
     ]
    },
    {
     "name": "stdout",
     "output_type": "stream",
     "text": [
      "conv1                                    #w: 432     | sparsity: 41.44%\n",
      "residual_layers.0.conv1                  #w: 2304    | sparsity: 74.26%\n",
      "residual_layers.0.conv2                  #w: 2304    | sparsity: 71.22%\n",
      "residual_layers.1.conv1                  #w: 2304    | sparsity: 73.39%\n",
      "residual_layers.1.conv2                  #w: 2304    | sparsity: 71.18%\n",
      "residual_layers.2.conv1                  #w: 2304    | sparsity: 67.06%\n",
      "residual_layers.2.conv2                  #w: 2304    | sparsity: 74.09%\n",
      "residual_layers.3.conv1                  #w: 4608    | sparsity: 68.97%\n",
      "residual_layers.3.conv2                  #w: 9216    | sparsity: 74.34%\n",
      "residual_layers.3.residual.0             #w: 512     | sparsity: 45.7% \n",
      "residual_layers.4.conv1                  #w: 9216    | sparsity: 77.86%\n",
      "residual_layers.4.conv2                  #w: 9216    | sparsity: 79.67%\n",
      "residual_layers.5.conv1                  #w: 9216    | sparsity: 75.93%\n",
      "residual_layers.5.conv2                  #w: 9216    | sparsity: 81.99%\n",
      "residual_layers.6.conv1                  #w: 18432   | sparsity: 76.35%\n",
      "residual_layers.6.conv2                  #w: 36864   | sparsity: 80.88%\n",
      "residual_layers.6.residual.0             #w: 2048    | sparsity: 68.85%\n",
      "residual_layers.7.conv1                  #w: 36864   | sparsity: 81.91%\n",
      "residual_layers.7.conv2                  #w: 36864   | sparsity: 87.39%\n",
      "residual_layers.8.conv1                  #w: 36864   | sparsity: 90.01%\n",
      "residual_layers.8.conv2                  #w: 36864   | sparsity: 94.5% \n",
      "classifier                               #w: 640     | sparsity: 26.88%\n"
     ]
    },
    {
     "name": "stderr",
     "output_type": "stream",
     "text": [
      "Testing: 100%|████████████████████████| 26/26 [00:00<00:00, 28.03it/s, accuracy=91.2, loss=0.000704]\n",
      "Epoch 154: 100%|██████████████████████| 128/128 [00:06<00:00, 20.48it/s, accuracy=96.8, loss=0.0988]\n"
     ]
    },
    {
     "name": "stdout",
     "output_type": "stream",
     "text": [
      "conv1                                    #w: 432     | sparsity: 41.2% \n",
      "residual_layers.0.conv1                  #w: 2304    | sparsity: 74.31%\n",
      "residual_layers.0.conv2                  #w: 2304    | sparsity: 71.31%\n",
      "residual_layers.1.conv1                  #w: 2304    | sparsity: 73.39%\n",
      "residual_layers.1.conv2                  #w: 2304    | sparsity: 71.61%\n",
      "residual_layers.2.conv1                  #w: 2304    | sparsity: 67.27%\n",
      "residual_layers.2.conv2                  #w: 2304    | sparsity: 74.26%\n",
      "residual_layers.3.conv1                  #w: 4608    | sparsity: 69.4% \n",
      "residual_layers.3.conv2                  #w: 9216    | sparsity: 74.51%\n",
      "residual_layers.3.residual.0             #w: 512     | sparsity: 46.48%\n",
      "residual_layers.4.conv1                  #w: 9216    | sparsity: 78.01%\n",
      "residual_layers.4.conv2                  #w: 9216    | sparsity: 79.92%\n",
      "residual_layers.5.conv1                  #w: 9216    | sparsity: 76.2% \n",
      "residual_layers.5.conv2                  #w: 9216    | sparsity: 82.24%\n",
      "residual_layers.6.conv1                  #w: 18432   | sparsity: 76.59%\n",
      "residual_layers.6.conv2                  #w: 36864   | sparsity: 81.12%\n",
      "residual_layers.6.residual.0             #w: 2048    | sparsity: 69.04%\n",
      "residual_layers.7.conv1                  #w: 36864   | sparsity: 82.13%\n",
      "residual_layers.7.conv2                  #w: 36864   | sparsity: 87.64%\n",
      "residual_layers.8.conv1                  #w: 36864   | sparsity: 90.15%\n",
      "residual_layers.8.conv2                  #w: 36864   | sparsity: 94.79%\n",
      "classifier                               #w: 640     | sparsity: 26.88%\n"
     ]
    },
    {
     "name": "stderr",
     "output_type": "stream",
     "text": [
      "Testing: 100%|████████████████████████| 26/26 [00:00<00:00, 27.38it/s, accuracy=91.2, loss=0.000703]\n",
      "Epoch 155: 100%|██████████████████████| 128/128 [00:06<00:00, 20.60it/s, accuracy=96.9, loss=0.0969]\n"
     ]
    },
    {
     "name": "stdout",
     "output_type": "stream",
     "text": [
      "conv1                                    #w: 432     | sparsity: 41.9% \n",
      "residual_layers.0.conv1                  #w: 2304    | sparsity: 74.83%\n",
      "residual_layers.0.conv2                  #w: 2304    | sparsity: 71.31%\n",
      "residual_layers.1.conv1                  #w: 2304    | sparsity: 73.78%\n",
      "residual_layers.1.conv2                  #w: 2304    | sparsity: 71.79%\n",
      "residual_layers.2.conv1                  #w: 2304    | sparsity: 67.4% \n",
      "residual_layers.2.conv2                  #w: 2304    | sparsity: 74.35%\n",
      "residual_layers.3.conv1                  #w: 4608    | sparsity: 69.47%\n",
      "residual_layers.3.conv2                  #w: 9216    | sparsity: 74.98%\n",
      "residual_layers.3.residual.0             #w: 512     | sparsity: 47.07%\n",
      "residual_layers.4.conv1                  #w: 9216    | sparsity: 78.21%\n",
      "residual_layers.4.conv2                  #w: 9216    | sparsity: 80.18%\n",
      "residual_layers.5.conv1                  #w: 9216    | sparsity: 76.53%\n",
      "residual_layers.5.conv2                  #w: 9216    | sparsity: 82.45%\n",
      "residual_layers.6.conv1                  #w: 18432   | sparsity: 76.99%\n",
      "residual_layers.6.conv2                  #w: 36864   | sparsity: 81.38%\n",
      "residual_layers.6.residual.0             #w: 2048    | sparsity: 69.73%\n",
      "residual_layers.7.conv1                  #w: 36864   | sparsity: 82.43%\n",
      "residual_layers.7.conv2                  #w: 36864   | sparsity: 87.81%\n",
      "residual_layers.8.conv1                  #w: 36864   | sparsity: 90.42%\n",
      "residual_layers.8.conv2                  #w: 36864   | sparsity: 94.76%\n",
      "classifier                               #w: 640     | sparsity: 27.19%\n"
     ]
    },
    {
     "name": "stderr",
     "output_type": "stream",
     "text": [
      "Testing: 100%|██████████████████████████| 26/26 [00:00<00:00, 26.52it/s, accuracy=91, loss=0.000715]\n",
      "Epoch 156: 100%|██████████████████████| 128/128 [00:06<00:00, 19.97it/s, accuracy=96.9, loss=0.0961]\n"
     ]
    },
    {
     "name": "stdout",
     "output_type": "stream",
     "text": [
      "conv1                                    #w: 432     | sparsity: 41.67%\n",
      "residual_layers.0.conv1                  #w: 2304    | sparsity: 74.87%\n",
      "residual_layers.0.conv2                  #w: 2304    | sparsity: 71.57%\n",
      "residual_layers.1.conv1                  #w: 2304    | sparsity: 73.96%\n",
      "residual_layers.1.conv2                  #w: 2304    | sparsity: 72.18%\n",
      "residual_layers.2.conv1                  #w: 2304    | sparsity: 67.71%\n",
      "residual_layers.2.conv2                  #w: 2304    | sparsity: 75.0% \n",
      "residual_layers.3.conv1                  #w: 4608    | sparsity: 69.6% \n",
      "residual_layers.3.conv2                  #w: 9216    | sparsity: 75.3% \n",
      "residual_layers.3.residual.0             #w: 512     | sparsity: 46.68%\n",
      "residual_layers.4.conv1                  #w: 9216    | sparsity: 78.45%\n",
      "residual_layers.4.conv2                  #w: 9216    | sparsity: 80.44%\n",
      "residual_layers.5.conv1                  #w: 9216    | sparsity: 76.68%\n",
      "residual_layers.5.conv2                  #w: 9216    | sparsity: 82.73%\n",
      "residual_layers.6.conv1                  #w: 18432   | sparsity: 77.29%\n",
      "residual_layers.6.conv2                  #w: 36864   | sparsity: 81.64%\n",
      "residual_layers.6.residual.0             #w: 2048    | sparsity: 70.02%\n",
      "residual_layers.7.conv1                  #w: 36864   | sparsity: 82.63%\n",
      "residual_layers.7.conv2                  #w: 36864   | sparsity: 88.08%\n",
      "residual_layers.8.conv1                  #w: 36864   | sparsity: 90.6% \n",
      "residual_layers.8.conv2                  #w: 36864   | sparsity: 94.87%\n",
      "classifier                               #w: 640     | sparsity: 27.19%\n"
     ]
    },
    {
     "name": "stderr",
     "output_type": "stream",
     "text": [
      "Testing: 100%|████████████████████████| 26/26 [00:00<00:00, 28.05it/s, accuracy=90.9, loss=0.000713]\n",
      "Epoch 157: 100%|████████████████████████| 128/128 [00:06<00:00, 20.80it/s, accuracy=97, loss=0.0941]\n"
     ]
    },
    {
     "name": "stdout",
     "output_type": "stream",
     "text": [
      "conv1                                    #w: 432     | sparsity: 42.13%\n",
      "residual_layers.0.conv1                  #w: 2304    | sparsity: 74.65%\n",
      "residual_layers.0.conv2                  #w: 2304    | sparsity: 71.88%\n",
      "residual_layers.1.conv1                  #w: 2304    | sparsity: 74.13%\n",
      "residual_layers.1.conv2                  #w: 2304    | sparsity: 72.22%\n",
      "residual_layers.2.conv1                  #w: 2304    | sparsity: 67.97%\n",
      "residual_layers.2.conv2                  #w: 2304    | sparsity: 75.26%\n",
      "residual_layers.3.conv1                  #w: 4608    | sparsity: 69.9% \n",
      "residual_layers.3.conv2                  #w: 9216    | sparsity: 75.66%\n",
      "residual_layers.3.residual.0             #w: 512     | sparsity: 47.46%\n",
      "residual_layers.4.conv1                  #w: 9216    | sparsity: 78.72%\n",
      "residual_layers.4.conv2                  #w: 9216    | sparsity: 80.73%\n",
      "residual_layers.5.conv1                  #w: 9216    | sparsity: 77.12%\n",
      "residual_layers.5.conv2                  #w: 9216    | sparsity: 83.13%\n",
      "residual_layers.6.conv1                  #w: 18432   | sparsity: 77.52%\n",
      "residual_layers.6.conv2                  #w: 36864   | sparsity: 81.91%\n",
      "residual_layers.6.residual.0             #w: 2048    | sparsity: 70.51%\n",
      "residual_layers.7.conv1                  #w: 36864   | sparsity: 82.94%\n",
      "residual_layers.7.conv2                  #w: 36864   | sparsity: 88.3% \n",
      "residual_layers.8.conv1                  #w: 36864   | sparsity: 90.77%\n",
      "residual_layers.8.conv2                  #w: 36864   | sparsity: 94.84%\n",
      "classifier                               #w: 640     | sparsity: 27.19%\n"
     ]
    },
    {
     "name": "stderr",
     "output_type": "stream",
     "text": [
      "Testing: 100%|██████████████████████████| 26/26 [00:00<00:00, 28.63it/s, accuracy=91, loss=0.000723]\n",
      "Epoch 158: 100%|██████████████████████| 128/128 [00:06<00:00, 20.48it/s, accuracy=96.9, loss=0.0953]\n"
     ]
    },
    {
     "name": "stdout",
     "output_type": "stream",
     "text": [
      "conv1                                    #w: 432     | sparsity: 42.13%\n",
      "residual_layers.0.conv1                  #w: 2304    | sparsity: 74.91%\n",
      "residual_layers.0.conv2                  #w: 2304    | sparsity: 72.27%\n",
      "residual_layers.1.conv1                  #w: 2304    | sparsity: 74.57%\n",
      "residual_layers.1.conv2                  #w: 2304    | sparsity: 72.31%\n",
      "residual_layers.2.conv1                  #w: 2304    | sparsity: 68.06%\n",
      "residual_layers.2.conv2                  #w: 2304    | sparsity: 75.65%\n",
      "residual_layers.3.conv1                  #w: 4608    | sparsity: 70.29%\n",
      "residual_layers.3.conv2                  #w: 9216    | sparsity: 75.9% \n",
      "residual_layers.3.residual.0             #w: 512     | sparsity: 47.46%\n",
      "residual_layers.4.conv1                  #w: 9216    | sparsity: 79.07%\n",
      "residual_layers.4.conv2                  #w: 9216    | sparsity: 81.01%\n",
      "residual_layers.5.conv1                  #w: 9216    | sparsity: 77.26%\n",
      "residual_layers.5.conv2                  #w: 9216    | sparsity: 83.36%\n",
      "residual_layers.6.conv1                  #w: 18432   | sparsity: 77.88%\n",
      "residual_layers.6.conv2                  #w: 36864   | sparsity: 82.21%\n",
      "residual_layers.6.residual.0             #w: 2048    | sparsity: 70.61%\n",
      "residual_layers.7.conv1                  #w: 36864   | sparsity: 83.19%\n",
      "residual_layers.7.conv2                  #w: 36864   | sparsity: 88.47%\n",
      "residual_layers.8.conv1                  #w: 36864   | sparsity: 90.99%\n",
      "residual_layers.8.conv2                  #w: 36864   | sparsity: 94.89%\n",
      "classifier                               #w: 640     | sparsity: 27.19%\n"
     ]
    },
    {
     "name": "stderr",
     "output_type": "stream",
     "text": [
      "Testing: 100%|████████████████████████| 26/26 [00:00<00:00, 27.50it/s, accuracy=90.9, loss=0.000729]\n",
      "Epoch 159: 100%|██████████████████████| 128/128 [00:06<00:00, 20.40it/s, accuracy=96.8, loss=0.0956]\n"
     ]
    },
    {
     "name": "stdout",
     "output_type": "stream",
     "text": [
      "conv1                                    #w: 432     | sparsity: 43.29%\n",
      "residual_layers.0.conv1                  #w: 2304    | sparsity: 75.0% \n",
      "residual_layers.0.conv2                  #w: 2304    | sparsity: 72.48%\n",
      "residual_layers.1.conv1                  #w: 2304    | sparsity: 74.78%\n",
      "residual_layers.1.conv2                  #w: 2304    | sparsity: 72.79%\n",
      "residual_layers.2.conv1                  #w: 2304    | sparsity: 68.23%\n",
      "residual_layers.2.conv2                  #w: 2304    | sparsity: 75.87%\n",
      "residual_layers.3.conv1                  #w: 4608    | sparsity: 70.38%\n",
      "residual_layers.3.conv2                  #w: 9216    | sparsity: 76.24%\n",
      "residual_layers.3.residual.0             #w: 512     | sparsity: 47.85%\n",
      "residual_layers.4.conv1                  #w: 9216    | sparsity: 79.3% \n",
      "residual_layers.4.conv2                  #w: 9216    | sparsity: 81.24%\n",
      "residual_layers.5.conv1                  #w: 9216    | sparsity: 77.55%\n",
      "residual_layers.5.conv2                  #w: 9216    | sparsity: 83.56%\n",
      "residual_layers.6.conv1                  #w: 18432   | sparsity: 78.17%\n",
      "residual_layers.6.conv2                  #w: 36864   | sparsity: 82.49%\n",
      "residual_layers.6.residual.0             #w: 2048    | sparsity: 71.04%\n",
      "residual_layers.7.conv1                  #w: 36864   | sparsity: 83.4% \n",
      "residual_layers.7.conv2                  #w: 36864   | sparsity: 88.75%\n",
      "residual_layers.8.conv1                  #w: 36864   | sparsity: 91.2% \n",
      "residual_layers.8.conv2                  #w: 36864   | sparsity: 94.91%\n",
      "classifier                               #w: 640     | sparsity: 27.19%\n"
     ]
    },
    {
     "name": "stderr",
     "output_type": "stream",
     "text": [
      "Testing: 100%|██████████████████████████| 26/26 [00:00<00:00, 26.47it/s, accuracy=91, loss=0.000731]\n",
      "Epoch 160: 100%|████████████████████████| 128/128 [00:06<00:00, 20.21it/s, accuracy=97, loss=0.0955]\n"
     ]
    },
    {
     "name": "stdout",
     "output_type": "stream",
     "text": [
      "conv1                                    #w: 432     | sparsity: 42.59%\n",
      "residual_layers.0.conv1                  #w: 2304    | sparsity: 75.39%\n",
      "residual_layers.0.conv2                  #w: 2304    | sparsity: 72.79%\n",
      "residual_layers.1.conv1                  #w: 2304    | sparsity: 74.91%\n",
      "residual_layers.1.conv2                  #w: 2304    | sparsity: 73.09%\n",
      "residual_layers.2.conv1                  #w: 2304    | sparsity: 68.27%\n",
      "residual_layers.2.conv2                  #w: 2304    | sparsity: 76.17%\n",
      "residual_layers.3.conv1                  #w: 4608    | sparsity: 70.64%\n",
      "residual_layers.3.conv2                  #w: 9216    | sparsity: 76.55%\n",
      "residual_layers.3.residual.0             #w: 512     | sparsity: 48.83%\n",
      "residual_layers.4.conv1                  #w: 9216    | sparsity: 79.5% \n",
      "residual_layers.4.conv2                  #w: 9216    | sparsity: 81.6% \n",
      "residual_layers.5.conv1                  #w: 9216    | sparsity: 77.78%\n",
      "residual_layers.5.conv2                  #w: 9216    | sparsity: 83.66%\n",
      "residual_layers.6.conv1                  #w: 18432   | sparsity: 78.51%\n",
      "residual_layers.6.conv2                  #w: 36864   | sparsity: 82.74%\n",
      "residual_layers.6.residual.0             #w: 2048    | sparsity: 71.29%\n",
      "residual_layers.7.conv1                  #w: 36864   | sparsity: 83.72%\n",
      "residual_layers.7.conv2                  #w: 36864   | sparsity: 88.93%\n",
      "residual_layers.8.conv1                  #w: 36864   | sparsity: 91.36%\n",
      "residual_layers.8.conv2                  #w: 36864   | sparsity: 94.9% \n",
      "classifier                               #w: 640     | sparsity: 27.66%\n"
     ]
    },
    {
     "name": "stderr",
     "output_type": "stream",
     "text": [
      "Testing: 100%|████████████████████████| 26/26 [00:01<00:00, 24.46it/s, accuracy=90.9, loss=0.000741]\n",
      "Epoch 161: 100%|██████████████████████| 128/128 [00:06<00:00, 20.38it/s, accuracy=96.8, loss=0.0959]\n"
     ]
    },
    {
     "name": "stdout",
     "output_type": "stream",
     "text": [
      "conv1                                    #w: 432     | sparsity: 43.29%\n",
      "residual_layers.0.conv1                  #w: 2304    | sparsity: 75.48%\n",
      "residual_layers.0.conv2                  #w: 2304    | sparsity: 73.0% \n",
      "residual_layers.1.conv1                  #w: 2304    | sparsity: 75.17%\n",
      "residual_layers.1.conv2                  #w: 2304    | sparsity: 73.18%\n",
      "residual_layers.2.conv1                  #w: 2304    | sparsity: 68.27%\n",
      "residual_layers.2.conv2                  #w: 2304    | sparsity: 76.13%\n",
      "residual_layers.3.conv1                  #w: 4608    | sparsity: 70.86%\n",
      "residual_layers.3.conv2                  #w: 9216    | sparsity: 76.9% \n",
      "residual_layers.3.residual.0             #w: 512     | sparsity: 48.63%\n",
      "residual_layers.4.conv1                  #w: 9216    | sparsity: 79.61%\n",
      "residual_layers.4.conv2                  #w: 9216    | sparsity: 81.74%\n",
      "residual_layers.5.conv1                  #w: 9216    | sparsity: 77.83%\n",
      "residual_layers.5.conv2                  #w: 9216    | sparsity: 84.06%\n",
      "residual_layers.6.conv1                  #w: 18432   | sparsity: 78.86%\n",
      "residual_layers.6.conv2                  #w: 36864   | sparsity: 83.02%\n",
      "residual_layers.6.residual.0             #w: 2048    | sparsity: 71.48%\n",
      "residual_layers.7.conv1                  #w: 36864   | sparsity: 84.01%\n",
      "residual_layers.7.conv2                  #w: 36864   | sparsity: 89.19%\n",
      "residual_layers.8.conv1                  #w: 36864   | sparsity: 91.52%\n",
      "residual_layers.8.conv2                  #w: 36864   | sparsity: 94.92%\n",
      "classifier                               #w: 640     | sparsity: 27.66%\n"
     ]
    },
    {
     "name": "stderr",
     "output_type": "stream",
     "text": [
      "Testing: 100%|████████████████████████| 26/26 [00:00<00:00, 27.83it/s, accuracy=90.9, loss=0.000731]\n",
      "Epoch 162: 100%|██████████████████████| 128/128 [00:06<00:00, 20.32it/s, accuracy=96.8, loss=0.0991]\n"
     ]
    },
    {
     "name": "stdout",
     "output_type": "stream",
     "text": [
      "conv1                                    #w: 432     | sparsity: 43.75%\n",
      "residual_layers.0.conv1                  #w: 2304    | sparsity: 75.69%\n",
      "residual_layers.0.conv2                  #w: 2304    | sparsity: 73.31%\n",
      "residual_layers.1.conv1                  #w: 2304    | sparsity: 75.39%\n",
      "residual_layers.1.conv2                  #w: 2304    | sparsity: 73.31%\n",
      "residual_layers.2.conv1                  #w: 2304    | sparsity: 68.84%\n",
      "residual_layers.2.conv2                  #w: 2304    | sparsity: 76.52%\n",
      "residual_layers.3.conv1                  #w: 4608    | sparsity: 70.79%\n",
      "residual_layers.3.conv2                  #w: 9216    | sparsity: 77.03%\n",
      "residual_layers.3.residual.0             #w: 512     | sparsity: 48.63%\n",
      "residual_layers.4.conv1                  #w: 9216    | sparsity: 79.92%\n",
      "residual_layers.4.conv2                  #w: 9216    | sparsity: 82.01%\n",
      "residual_layers.5.conv1                  #w: 9216    | sparsity: 78.11%\n",
      "residual_layers.5.conv2                  #w: 9216    | sparsity: 84.31%\n",
      "residual_layers.6.conv1                  #w: 18432   | sparsity: 79.12%\n",
      "residual_layers.6.conv2                  #w: 36864   | sparsity: 83.31%\n",
      "residual_layers.6.residual.0             #w: 2048    | sparsity: 72.07%\n",
      "residual_layers.7.conv1                  #w: 36864   | sparsity: 84.23%\n",
      "residual_layers.7.conv2                  #w: 36864   | sparsity: 89.41%\n",
      "residual_layers.8.conv1                  #w: 36864   | sparsity: 91.79%\n",
      "residual_layers.8.conv2                  #w: 36864   | sparsity: 94.86%\n",
      "classifier                               #w: 640     | sparsity: 27.66%\n"
     ]
    },
    {
     "name": "stderr",
     "output_type": "stream",
     "text": [
      "Testing: 100%|████████████████████████| 26/26 [00:00<00:00, 28.05it/s, accuracy=90.9, loss=0.000751]\n",
      "Epoch 163: 100%|██████████████████████| 128/128 [00:06<00:00, 20.94it/s, accuracy=96.9, loss=0.0974]\n"
     ]
    },
    {
     "name": "stdout",
     "output_type": "stream",
     "text": [
      "conv1                                    #w: 432     | sparsity: 43.75%\n",
      "residual_layers.0.conv1                  #w: 2304    | sparsity: 76.04%\n",
      "residual_layers.0.conv2                  #w: 2304    | sparsity: 73.52%\n",
      "residual_layers.1.conv1                  #w: 2304    | sparsity: 75.74%\n",
      "residual_layers.1.conv2                  #w: 2304    | sparsity: 73.61%\n",
      "residual_layers.2.conv1                  #w: 2304    | sparsity: 69.27%\n",
      "residual_layers.2.conv2                  #w: 2304    | sparsity: 76.87%\n",
      "residual_layers.3.conv1                  #w: 4608    | sparsity: 71.09%\n",
      "residual_layers.3.conv2                  #w: 9216    | sparsity: 77.45%\n",
      "residual_layers.3.residual.0             #w: 512     | sparsity: 48.83%\n",
      "residual_layers.4.conv1                  #w: 9216    | sparsity: 80.11%\n",
      "residual_layers.4.conv2                  #w: 9216    | sparsity: 82.13%\n",
      "residual_layers.5.conv1                  #w: 9216    | sparsity: 78.4% \n",
      "residual_layers.5.conv2                  #w: 9216    | sparsity: 84.4% \n",
      "residual_layers.6.conv1                  #w: 18432   | sparsity: 79.45%\n",
      "residual_layers.6.conv2                  #w: 36864   | sparsity: 83.52%\n",
      "residual_layers.6.residual.0             #w: 2048    | sparsity: 72.31%\n",
      "residual_layers.7.conv1                  #w: 36864   | sparsity: 84.45%\n",
      "residual_layers.7.conv2                  #w: 36864   | sparsity: 89.65%\n",
      "residual_layers.8.conv1                  #w: 36864   | sparsity: 91.9% \n",
      "residual_layers.8.conv2                  #w: 36864   | sparsity: 94.93%\n",
      "classifier                               #w: 640     | sparsity: 27.81%\n"
     ]
    },
    {
     "name": "stderr",
     "output_type": "stream",
     "text": [
      "Testing: 100%|████████████████████████| 26/26 [00:00<00:00, 28.29it/s, accuracy=90.7, loss=0.000754]\n",
      "Epoch 164: 100%|███████████████████████| 128/128 [00:06<00:00, 20.36it/s, accuracy=96.7, loss=0.101]\n"
     ]
    },
    {
     "name": "stdout",
     "output_type": "stream",
     "text": [
      "conv1                                    #w: 432     | sparsity: 43.98%\n",
      "residual_layers.0.conv1                  #w: 2304    | sparsity: 76.13%\n",
      "residual_layers.0.conv2                  #w: 2304    | sparsity: 73.74%\n",
      "residual_layers.1.conv1                  #w: 2304    | sparsity: 76.0% \n",
      "residual_layers.1.conv2                  #w: 2304    | sparsity: 73.87%\n",
      "residual_layers.2.conv1                  #w: 2304    | sparsity: 69.62%\n",
      "residual_layers.2.conv2                  #w: 2304    | sparsity: 76.87%\n",
      "residual_layers.3.conv1                  #w: 4608    | sparsity: 71.31%\n",
      "residual_layers.3.conv2                  #w: 9216    | sparsity: 77.58%\n",
      "residual_layers.3.residual.0             #w: 512     | sparsity: 48.83%\n",
      "residual_layers.4.conv1                  #w: 9216    | sparsity: 80.39%\n",
      "residual_layers.4.conv2                  #w: 9216    | sparsity: 82.41%\n",
      "residual_layers.5.conv1                  #w: 9216    | sparsity: 78.7% \n",
      "residual_layers.5.conv2                  #w: 9216    | sparsity: 84.75%\n",
      "residual_layers.6.conv1                  #w: 18432   | sparsity: 79.71%\n",
      "residual_layers.6.conv2                  #w: 36864   | sparsity: 83.8% \n",
      "residual_layers.6.residual.0             #w: 2048    | sparsity: 73.0% \n",
      "residual_layers.7.conv1                  #w: 36864   | sparsity: 84.71%\n",
      "residual_layers.7.conv2                  #w: 36864   | sparsity: 89.79%\n",
      "residual_layers.8.conv1                  #w: 36864   | sparsity: 92.04%\n",
      "residual_layers.8.conv2                  #w: 36864   | sparsity: 94.98%\n",
      "classifier                               #w: 640     | sparsity: 27.81%\n"
     ]
    },
    {
     "name": "stderr",
     "output_type": "stream",
     "text": [
      "Testing: 100%|████████████████████████| 26/26 [00:00<00:00, 26.88it/s, accuracy=90.8, loss=0.000744]\n",
      "Epoch 165: 100%|███████████████████████| 128/128 [00:06<00:00, 20.94it/s, accuracy=96.7, loss=0.101]\n"
     ]
    },
    {
     "name": "stdout",
     "output_type": "stream",
     "text": [
      "conv1                                    #w: 432     | sparsity: 44.21%\n",
      "residual_layers.0.conv1                  #w: 2304    | sparsity: 76.35%\n",
      "residual_layers.0.conv2                  #w: 2304    | sparsity: 74.05%\n",
      "residual_layers.1.conv1                  #w: 2304    | sparsity: 76.26%\n",
      "residual_layers.1.conv2                  #w: 2304    | sparsity: 74.22%\n",
      "residual_layers.2.conv1                  #w: 2304    | sparsity: 69.92%\n",
      "residual_layers.2.conv2                  #w: 2304    | sparsity: 77.13%\n",
      "residual_layers.3.conv1                  #w: 4608    | sparsity: 71.53%\n",
      "residual_layers.3.conv2                  #w: 9216    | sparsity: 77.95%\n",
      "residual_layers.3.residual.0             #w: 512     | sparsity: 49.02%\n",
      "residual_layers.4.conv1                  #w: 9216    | sparsity: 80.64%\n",
      "residual_layers.4.conv2                  #w: 9216    | sparsity: 82.67%\n",
      "residual_layers.5.conv1                  #w: 9216    | sparsity: 78.99%\n",
      "residual_layers.5.conv2                  #w: 9216    | sparsity: 84.98%\n",
      "residual_layers.6.conv1                  #w: 18432   | sparsity: 79.97%\n",
      "residual_layers.6.conv2                  #w: 36864   | sparsity: 84.01%\n",
      "residual_layers.6.residual.0             #w: 2048    | sparsity: 73.29%\n",
      "residual_layers.7.conv1                  #w: 36864   | sparsity: 84.96%\n",
      "residual_layers.7.conv2                  #w: 36864   | sparsity: 89.97%\n",
      "residual_layers.8.conv1                  #w: 36864   | sparsity: 92.17%\n",
      "residual_layers.8.conv2                  #w: 36864   | sparsity: 95.05%\n",
      "classifier                               #w: 640     | sparsity: 27.81%\n"
     ]
    },
    {
     "name": "stderr",
     "output_type": "stream",
     "text": [
      "Testing: 100%|████████████████████████| 26/26 [00:00<00:00, 28.04it/s, accuracy=90.8, loss=0.000755]\n",
      "Epoch 166: 100%|███████████████████████| 128/128 [00:05<00:00, 21.35it/s, accuracy=96.5, loss=0.102]\n"
     ]
    },
    {
     "name": "stdout",
     "output_type": "stream",
     "text": [
      "conv1                                    #w: 432     | sparsity: 44.44%\n",
      "residual_layers.0.conv1                  #w: 2304    | sparsity: 76.65%\n",
      "residual_layers.0.conv2                  #w: 2304    | sparsity: 74.26%\n",
      "residual_layers.1.conv1                  #w: 2304    | sparsity: 76.52%\n",
      "residual_layers.1.conv2                  #w: 2304    | sparsity: 74.48%\n",
      "residual_layers.2.conv1                  #w: 2304    | sparsity: 69.7% \n",
      "residual_layers.2.conv2                  #w: 2304    | sparsity: 77.17%\n",
      "residual_layers.3.conv1                  #w: 4608    | sparsity: 71.77%\n",
      "residual_layers.3.conv2                  #w: 9216    | sparsity: 78.32%\n",
      "residual_layers.3.residual.0             #w: 512     | sparsity: 48.83%\n",
      "residual_layers.4.conv1                  #w: 9216    | sparsity: 80.77%\n",
      "residual_layers.4.conv2                  #w: 9216    | sparsity: 82.92%\n",
      "residual_layers.5.conv1                  #w: 9216    | sparsity: 79.22%\n",
      "residual_layers.5.conv2                  #w: 9216    | sparsity: 85.2% \n",
      "residual_layers.6.conv1                  #w: 18432   | sparsity: 80.27%\n",
      "residual_layers.6.conv2                  #w: 36864   | sparsity: 84.28%\n",
      "residual_layers.6.residual.0             #w: 2048    | sparsity: 73.58%\n",
      "residual_layers.7.conv1                  #w: 36864   | sparsity: 85.24%\n",
      "residual_layers.7.conv2                  #w: 36864   | sparsity: 90.17%\n",
      "residual_layers.8.conv1                  #w: 36864   | sparsity: 92.31%\n",
      "residual_layers.8.conv2                  #w: 36864   | sparsity: 95.08%\n",
      "classifier                               #w: 640     | sparsity: 27.81%\n"
     ]
    },
    {
     "name": "stderr",
     "output_type": "stream",
     "text": [
      "Testing: 100%|████████████████████████| 26/26 [00:00<00:00, 27.56it/s, accuracy=90.6, loss=0.000765]\n",
      "Epoch 167: 100%|███████████████████████| 128/128 [00:06<00:00, 20.50it/s, accuracy=96.6, loss=0.105]\n"
     ]
    },
    {
     "name": "stdout",
     "output_type": "stream",
     "text": [
      "conv1                                    #w: 432     | sparsity: 44.44%\n",
      "residual_layers.0.conv1                  #w: 2304    | sparsity: 76.91%\n",
      "residual_layers.0.conv2                  #w: 2304    | sparsity: 74.48%\n",
      "residual_layers.1.conv1                  #w: 2304    | sparsity: 76.69%\n",
      "residual_layers.1.conv2                  #w: 2304    | sparsity: 74.7% \n",
      "residual_layers.2.conv1                  #w: 2304    | sparsity: 70.05%\n",
      "residual_layers.2.conv2                  #w: 2304    | sparsity: 77.6% \n",
      "residual_layers.3.conv1                  #w: 4608    | sparsity: 72.07%\n",
      "residual_layers.3.conv2                  #w: 9216    | sparsity: 78.47%\n",
      "residual_layers.3.residual.0             #w: 512     | sparsity: 49.02%\n",
      "residual_layers.4.conv1                  #w: 9216    | sparsity: 81.02%\n",
      "residual_layers.4.conv2                  #w: 9216    | sparsity: 83.33%\n",
      "residual_layers.5.conv1                  #w: 9216    | sparsity: 79.52%\n",
      "residual_layers.5.conv2                  #w: 9216    | sparsity: 85.43%\n",
      "residual_layers.6.conv1                  #w: 18432   | sparsity: 80.64%\n",
      "residual_layers.6.conv2                  #w: 36864   | sparsity: 84.57%\n",
      "residual_layers.6.residual.0             #w: 2048    | sparsity: 73.78%\n",
      "residual_layers.7.conv1                  #w: 36864   | sparsity: 85.4% \n",
      "residual_layers.7.conv2                  #w: 36864   | sparsity: 90.34%\n",
      "residual_layers.8.conv1                  #w: 36864   | sparsity: 92.49%\n",
      "residual_layers.8.conv2                  #w: 36864   | sparsity: 95.01%\n",
      "classifier                               #w: 640     | sparsity: 28.28%\n"
     ]
    },
    {
     "name": "stderr",
     "output_type": "stream",
     "text": [
      "Testing: 100%|█████████████████████████| 26/26 [00:00<00:00, 29.53it/s, accuracy=90.5, loss=0.00077]\n",
      "Epoch 168: 100%|███████████████████████| 128/128 [00:06<00:00, 20.07it/s, accuracy=96.5, loss=0.104]\n"
     ]
    },
    {
     "name": "stdout",
     "output_type": "stream",
     "text": [
      "conv1                                    #w: 432     | sparsity: 44.21%\n",
      "residual_layers.0.conv1                  #w: 2304    | sparsity: 77.04%\n",
      "residual_layers.0.conv2                  #w: 2304    | sparsity: 74.52%\n",
      "residual_layers.1.conv1                  #w: 2304    | sparsity: 76.95%\n",
      "residual_layers.1.conv2                  #w: 2304    | sparsity: 75.17%\n",
      "residual_layers.2.conv1                  #w: 2304    | sparsity: 70.23%\n",
      "residual_layers.2.conv2                  #w: 2304    | sparsity: 77.69%\n",
      "residual_layers.3.conv1                  #w: 4608    | sparsity: 72.33%\n",
      "residual_layers.3.conv2                  #w: 9216    | sparsity: 78.45%\n",
      "residual_layers.3.residual.0             #w: 512     | sparsity: 50.39%\n",
      "residual_layers.4.conv1                  #w: 9216    | sparsity: 81.34%\n",
      "residual_layers.4.conv2                  #w: 9216    | sparsity: 83.51%\n",
      "residual_layers.5.conv1                  #w: 9216    | sparsity: 79.8% \n",
      "residual_layers.5.conv2                  #w: 9216    | sparsity: 85.62%\n",
      "residual_layers.6.conv1                  #w: 18432   | sparsity: 80.94%\n",
      "residual_layers.6.conv2                  #w: 36864   | sparsity: 84.77%\n",
      "residual_layers.6.residual.0             #w: 2048    | sparsity: 74.22%\n",
      "residual_layers.7.conv1                  #w: 36864   | sparsity: 85.76%\n",
      "residual_layers.7.conv2                  #w: 36864   | sparsity: 90.56%\n",
      "residual_layers.8.conv1                  #w: 36864   | sparsity: 92.61%\n",
      "residual_layers.8.conv2                  #w: 36864   | sparsity: 94.99%\n",
      "classifier                               #w: 640     | sparsity: 28.28%\n"
     ]
    },
    {
     "name": "stderr",
     "output_type": "stream",
     "text": [
      "Testing: 100%|█████████████████████████| 26/26 [00:00<00:00, 26.17it/s, accuracy=90.5, loss=0.00079]\n",
      "Epoch 169: 100%|███████████████████████| 128/128 [00:06<00:00, 20.80it/s, accuracy=96.4, loss=0.108]\n"
     ]
    },
    {
     "name": "stdout",
     "output_type": "stream",
     "text": [
      "conv1                                    #w: 432     | sparsity: 43.98%\n",
      "residual_layers.0.conv1                  #w: 2304    | sparsity: 77.26%\n",
      "residual_layers.0.conv2                  #w: 2304    | sparsity: 74.65%\n",
      "residual_layers.1.conv1                  #w: 2304    | sparsity: 77.17%\n",
      "residual_layers.1.conv2                  #w: 2304    | sparsity: 75.52%\n",
      "residual_layers.2.conv1                  #w: 2304    | sparsity: 70.57%\n",
      "residual_layers.2.conv2                  #w: 2304    | sparsity: 77.65%\n",
      "residual_layers.3.conv1                  #w: 4608    | sparsity: 72.55%\n",
      "residual_layers.3.conv2                  #w: 9216    | sparsity: 78.93%\n",
      "residual_layers.3.residual.0             #w: 512     | sparsity: 50.2% \n",
      "residual_layers.4.conv1                  #w: 9216    | sparsity: 81.54%\n",
      "residual_layers.4.conv2                  #w: 9216    | sparsity: 83.82%\n",
      "residual_layers.5.conv1                  #w: 9216    | sparsity: 79.99%\n",
      "residual_layers.5.conv2                  #w: 9216    | sparsity: 85.7% \n",
      "residual_layers.6.conv1                  #w: 18432   | sparsity: 81.24%\n",
      "residual_layers.6.conv2                  #w: 36864   | sparsity: 84.97%\n",
      "residual_layers.6.residual.0             #w: 2048    | sparsity: 74.27%\n",
      "residual_layers.7.conv1                  #w: 36864   | sparsity: 85.95%\n",
      "residual_layers.7.conv2                  #w: 36864   | sparsity: 90.63%\n",
      "residual_layers.8.conv1                  #w: 36864   | sparsity: 92.75%\n",
      "residual_layers.8.conv2                  #w: 36864   | sparsity: 95.19%\n",
      "classifier                               #w: 640     | sparsity: 28.12%\n"
     ]
    },
    {
     "name": "stderr",
     "output_type": "stream",
     "text": [
      "Testing: 100%|████████████████████████| 26/26 [00:01<00:00, 24.90it/s, accuracy=90.7, loss=0.000771]\n",
      "Epoch 170: 100%|████████████████████████| 128/128 [00:06<00:00, 20.25it/s, accuracy=96.3, loss=0.11]\n"
     ]
    },
    {
     "name": "stdout",
     "output_type": "stream",
     "text": [
      "conv1                                    #w: 432     | sparsity: 45.14%\n",
      "residual_layers.0.conv1                  #w: 2304    | sparsity: 77.34%\n",
      "residual_layers.0.conv2                  #w: 2304    | sparsity: 75.17%\n",
      "residual_layers.1.conv1                  #w: 2304    | sparsity: 77.65%\n",
      "residual_layers.1.conv2                  #w: 2304    | sparsity: 75.43%\n",
      "residual_layers.2.conv1                  #w: 2304    | sparsity: 70.66%\n",
      "residual_layers.2.conv2                  #w: 2304    | sparsity: 77.95%\n",
      "residual_layers.3.conv1                  #w: 4608    | sparsity: 72.7% \n",
      "residual_layers.3.conv2                  #w: 9216    | sparsity: 79.2% \n",
      "residual_layers.3.residual.0             #w: 512     | sparsity: 50.98%\n",
      "residual_layers.4.conv1                  #w: 9216    | sparsity: 81.8% \n",
      "residual_layers.4.conv2                  #w: 9216    | sparsity: 83.87%\n",
      "residual_layers.5.conv1                  #w: 9216    | sparsity: 80.35%\n",
      "residual_layers.5.conv2                  #w: 9216    | sparsity: 86.0% \n",
      "residual_layers.6.conv1                  #w: 18432   | sparsity: 81.5% \n",
      "residual_layers.6.conv2                  #w: 36864   | sparsity: 85.19%\n",
      "residual_layers.6.residual.0             #w: 2048    | sparsity: 75.2% \n",
      "residual_layers.7.conv1                  #w: 36864   | sparsity: 86.11%\n",
      "residual_layers.7.conv2                  #w: 36864   | sparsity: 90.83%\n",
      "residual_layers.8.conv1                  #w: 36864   | sparsity: 92.88%\n",
      "residual_layers.8.conv2                  #w: 36864   | sparsity: 95.23%\n",
      "classifier                               #w: 640     | sparsity: 28.28%\n"
     ]
    },
    {
     "name": "stderr",
     "output_type": "stream",
     "text": [
      "Testing: 100%|████████████████████████| 26/26 [00:00<00:00, 28.54it/s, accuracy=90.4, loss=0.000784]\n",
      "Epoch 171: 100%|████████████████████████| 128/128 [00:06<00:00, 20.36it/s, accuracy=96.3, loss=0.11]\n"
     ]
    },
    {
     "name": "stdout",
     "output_type": "stream",
     "text": [
      "conv1                                    #w: 432     | sparsity: 46.06%\n",
      "residual_layers.0.conv1                  #w: 2304    | sparsity: 77.39%\n",
      "residual_layers.0.conv2                  #w: 2304    | sparsity: 75.26%\n",
      "residual_layers.1.conv1                  #w: 2304    | sparsity: 77.95%\n",
      "residual_layers.1.conv2                  #w: 2304    | sparsity: 75.87%\n",
      "residual_layers.2.conv1                  #w: 2304    | sparsity: 70.79%\n",
      "residual_layers.2.conv2                  #w: 2304    | sparsity: 78.43%\n",
      "residual_layers.3.conv1                  #w: 4608    | sparsity: 73.09%\n",
      "residual_layers.3.conv2                  #w: 9216    | sparsity: 79.31%\n",
      "residual_layers.3.residual.0             #w: 512     | sparsity: 51.17%\n",
      "residual_layers.4.conv1                  #w: 9216    | sparsity: 82.02%\n",
      "residual_layers.4.conv2                  #w: 9216    | sparsity: 84.19%\n",
      "residual_layers.5.conv1                  #w: 9216    | sparsity: 80.39%\n",
      "residual_layers.5.conv2                  #w: 9216    | sparsity: 86.26%\n",
      "residual_layers.6.conv1                  #w: 18432   | sparsity: 81.72%\n",
      "residual_layers.6.conv2                  #w: 36864   | sparsity: 85.5% \n",
      "residual_layers.6.residual.0             #w: 2048    | sparsity: 75.44%\n",
      "residual_layers.7.conv1                  #w: 36864   | sparsity: 86.36%\n",
      "residual_layers.7.conv2                  #w: 36864   | sparsity: 90.99%\n",
      "residual_layers.8.conv1                  #w: 36864   | sparsity: 93.07%\n",
      "residual_layers.8.conv2                  #w: 36864   | sparsity: 95.12%\n",
      "classifier                               #w: 640     | sparsity: 28.44%\n"
     ]
    },
    {
     "name": "stderr",
     "output_type": "stream",
     "text": [
      "Testing: 100%|████████████████████████| 26/26 [00:00<00:00, 28.33it/s, accuracy=90.6, loss=0.000786]\n",
      "Epoch 172: 100%|███████████████████████| 128/128 [00:06<00:00, 20.89it/s, accuracy=96.2, loss=0.112]\n"
     ]
    },
    {
     "name": "stdout",
     "output_type": "stream",
     "text": [
      "conv1                                    #w: 432     | sparsity: 45.14%\n",
      "residual_layers.0.conv1                  #w: 2304    | sparsity: 77.65%\n",
      "residual_layers.0.conv2                  #w: 2304    | sparsity: 75.35%\n",
      "residual_layers.1.conv1                  #w: 2304    | sparsity: 78.12%\n",
      "residual_layers.1.conv2                  #w: 2304    | sparsity: 75.69%\n",
      "residual_layers.2.conv1                  #w: 2304    | sparsity: 70.88%\n",
      "residual_layers.2.conv2                  #w: 2304    | sparsity: 78.34%\n",
      "residual_layers.3.conv1                  #w: 4608    | sparsity: 73.16%\n",
      "residual_layers.3.conv2                  #w: 9216    | sparsity: 79.59%\n",
      "residual_layers.3.residual.0             #w: 512     | sparsity: 51.95%\n",
      "residual_layers.4.conv1                  #w: 9216    | sparsity: 82.19%\n",
      "residual_layers.4.conv2                  #w: 9216    | sparsity: 84.45%\n",
      "residual_layers.5.conv1                  #w: 9216    | sparsity: 80.57%\n",
      "residual_layers.5.conv2                  #w: 9216    | sparsity: 86.38%\n",
      "residual_layers.6.conv1                  #w: 18432   | sparsity: 82.06%\n",
      "residual_layers.6.conv2                  #w: 36864   | sparsity: 85.75%\n",
      "residual_layers.6.residual.0             #w: 2048    | sparsity: 75.63%\n",
      "residual_layers.7.conv1                  #w: 36864   | sparsity: 86.57%\n",
      "residual_layers.7.conv2                  #w: 36864   | sparsity: 91.22%\n",
      "residual_layers.8.conv1                  #w: 36864   | sparsity: 93.23%\n",
      "residual_layers.8.conv2                  #w: 36864   | sparsity: 95.06%\n",
      "classifier                               #w: 640     | sparsity: 28.44%\n"
     ]
    },
    {
     "name": "stderr",
     "output_type": "stream",
     "text": [
      "Testing: 100%|████████████████████████| 26/26 [00:00<00:00, 27.94it/s, accuracy=90.3, loss=0.000798]\n",
      "Epoch 173: 100%|███████████████████████| 128/128 [00:06<00:00, 20.41it/s, accuracy=96.2, loss=0.112]\n"
     ]
    },
    {
     "name": "stdout",
     "output_type": "stream",
     "text": [
      "conv1                                    #w: 432     | sparsity: 45.14%\n",
      "residual_layers.0.conv1                  #w: 2304    | sparsity: 77.82%\n",
      "residual_layers.0.conv2                  #w: 2304    | sparsity: 75.56%\n",
      "residual_layers.1.conv1                  #w: 2304    | sparsity: 78.04%\n",
      "residual_layers.1.conv2                  #w: 2304    | sparsity: 76.13%\n",
      "residual_layers.2.conv1                  #w: 2304    | sparsity: 71.57%\n",
      "residual_layers.2.conv2                  #w: 2304    | sparsity: 78.47%\n",
      "residual_layers.3.conv1                  #w: 4608    | sparsity: 73.57%\n",
      "residual_layers.3.conv2                  #w: 9216    | sparsity: 79.71%\n",
      "residual_layers.3.residual.0             #w: 512     | sparsity: 50.59%\n",
      "residual_layers.4.conv1                  #w: 9216    | sparsity: 82.58%\n",
      "residual_layers.4.conv2                  #w: 9216    | sparsity: 84.73%\n",
      "residual_layers.5.conv1                  #w: 9216    | sparsity: 80.77%\n",
      "residual_layers.5.conv2                  #w: 9216    | sparsity: 86.55%\n",
      "residual_layers.6.conv1                  #w: 18432   | sparsity: 82.36%\n",
      "residual_layers.6.conv2                  #w: 36864   | sparsity: 85.91%\n",
      "residual_layers.6.residual.0             #w: 2048    | sparsity: 75.98%\n",
      "residual_layers.7.conv1                  #w: 36864   | sparsity: 86.82%\n",
      "residual_layers.7.conv2                  #w: 36864   | sparsity: 91.35%\n",
      "residual_layers.8.conv1                  #w: 36864   | sparsity: 93.33%\n",
      "residual_layers.8.conv2                  #w: 36864   | sparsity: 95.18%\n",
      "classifier                               #w: 640     | sparsity: 28.91%\n"
     ]
    },
    {
     "name": "stderr",
     "output_type": "stream",
     "text": [
      "Testing: 100%|████████████████████████| 26/26 [00:00<00:00, 27.65it/s, accuracy=90.4, loss=0.000794]\n",
      "Epoch 174: 100%|███████████████████████| 128/128 [00:06<00:00, 20.60it/s, accuracy=96.1, loss=0.117]\n"
     ]
    },
    {
     "name": "stdout",
     "output_type": "stream",
     "text": [
      "conv1                                    #w: 432     | sparsity: 45.37%\n",
      "residual_layers.0.conv1                  #w: 2304    | sparsity: 77.73%\n",
      "residual_layers.0.conv2                  #w: 2304    | sparsity: 75.52%\n",
      "residual_layers.1.conv1                  #w: 2304    | sparsity: 78.39%\n",
      "residual_layers.1.conv2                  #w: 2304    | sparsity: 76.17%\n",
      "residual_layers.2.conv1                  #w: 2304    | sparsity: 71.92%\n",
      "residual_layers.2.conv2                  #w: 2304    | sparsity: 78.78%\n",
      "residual_layers.3.conv1                  #w: 4608    | sparsity: 73.83%\n",
      "residual_layers.3.conv2                  #w: 9216    | sparsity: 79.99%\n",
      "residual_layers.3.residual.0             #w: 512     | sparsity: 50.98%\n",
      "residual_layers.4.conv1                  #w: 9216    | sparsity: 82.61%\n",
      "residual_layers.4.conv2                  #w: 9216    | sparsity: 85.02%\n",
      "residual_layers.5.conv1                  #w: 9216    | sparsity: 81.02%\n",
      "residual_layers.5.conv2                  #w: 9216    | sparsity: 86.77%\n",
      "residual_layers.6.conv1                  #w: 18432   | sparsity: 82.6% \n",
      "residual_layers.6.conv2                  #w: 36864   | sparsity: 86.17%\n",
      "residual_layers.6.residual.0             #w: 2048    | sparsity: 76.37%\n",
      "residual_layers.7.conv1                  #w: 36864   | sparsity: 87.04%\n",
      "residual_layers.7.conv2                  #w: 36864   | sparsity: 91.43%\n",
      "residual_layers.8.conv1                  #w: 36864   | sparsity: 93.48%\n",
      "residual_layers.8.conv2                  #w: 36864   | sparsity: 95.24%\n",
      "classifier                               #w: 640     | sparsity: 28.91%\n"
     ]
    },
    {
     "name": "stderr",
     "output_type": "stream",
     "text": [
      "Testing: 100%|████████████████████████| 26/26 [00:00<00:00, 27.73it/s, accuracy=90.5, loss=0.000792]\n",
      "Epoch 175: 100%|█████████████████████████| 128/128 [00:06<00:00, 21.14it/s, accuracy=96, loss=0.118]\n"
     ]
    },
    {
     "name": "stdout",
     "output_type": "stream",
     "text": [
      "conv1                                    #w: 432     | sparsity: 45.6% \n",
      "residual_layers.0.conv1                  #w: 2304    | sparsity: 77.82%\n",
      "residual_layers.0.conv2                  #w: 2304    | sparsity: 76.09%\n",
      "residual_layers.1.conv1                  #w: 2304    | sparsity: 78.69%\n",
      "residual_layers.1.conv2                  #w: 2304    | sparsity: 76.39%\n",
      "residual_layers.2.conv1                  #w: 2304    | sparsity: 71.88%\n",
      "residual_layers.2.conv2                  #w: 2304    | sparsity: 78.82%\n",
      "residual_layers.3.conv1                  #w: 4608    | sparsity: 74.07%\n",
      "residual_layers.3.conv2                  #w: 9216    | sparsity: 80.15%\n",
      "residual_layers.3.residual.0             #w: 512     | sparsity: 51.76%\n",
      "residual_layers.4.conv1                  #w: 9216    | sparsity: 82.94%\n",
      "residual_layers.4.conv2                  #w: 9216    | sparsity: 84.99%\n",
      "residual_layers.5.conv1                  #w: 9216    | sparsity: 81.2% \n",
      "residual_layers.5.conv2                  #w: 9216    | sparsity: 86.91%\n",
      "residual_layers.6.conv1                  #w: 18432   | sparsity: 82.77%\n",
      "residual_layers.6.conv2                  #w: 36864   | sparsity: 86.4% \n",
      "residual_layers.6.residual.0             #w: 2048    | sparsity: 77.05%\n",
      "residual_layers.7.conv1                  #w: 36864   | sparsity: 87.3% \n",
      "residual_layers.7.conv2                  #w: 36864   | sparsity: 91.59%\n",
      "residual_layers.8.conv1                  #w: 36864   | sparsity: 93.57%\n",
      "residual_layers.8.conv2                  #w: 36864   | sparsity: 95.23%\n",
      "classifier                               #w: 640     | sparsity: 29.06%\n"
     ]
    },
    {
     "name": "stderr",
     "output_type": "stream",
     "text": [
      "Testing: 100%|████████████████████████| 26/26 [00:01<00:00, 22.20it/s, accuracy=90.5, loss=0.000806]\n",
      "Epoch 176: 100%|███████████████████████| 128/128 [00:06<00:00, 20.42it/s, accuracy=95.9, loss=0.122]\n"
     ]
    },
    {
     "name": "stdout",
     "output_type": "stream",
     "text": [
      "conv1                                    #w: 432     | sparsity: 46.06%\n",
      "residual_layers.0.conv1                  #w: 2304    | sparsity: 78.12%\n",
      "residual_layers.0.conv2                  #w: 2304    | sparsity: 76.26%\n",
      "residual_layers.1.conv1                  #w: 2304    | sparsity: 78.6% \n",
      "residual_layers.1.conv2                  #w: 2304    | sparsity: 76.65%\n",
      "residual_layers.2.conv1                  #w: 2304    | sparsity: 72.35%\n",
      "residual_layers.2.conv2                  #w: 2304    | sparsity: 78.99%\n",
      "residual_layers.3.conv1                  #w: 4608    | sparsity: 74.22%\n",
      "residual_layers.3.conv2                  #w: 9216    | sparsity: 80.33%\n",
      "residual_layers.3.residual.0             #w: 512     | sparsity: 52.15%\n",
      "residual_layers.4.conv1                  #w: 9216    | sparsity: 83.09%\n",
      "residual_layers.4.conv2                  #w: 9216    | sparsity: 85.21%\n",
      "residual_layers.5.conv1                  #w: 9216    | sparsity: 81.45%\n",
      "residual_layers.5.conv2                  #w: 9216    | sparsity: 86.99%\n",
      "residual_layers.6.conv1                  #w: 18432   | sparsity: 82.96%\n",
      "residual_layers.6.conv2                  #w: 36864   | sparsity: 86.66%\n",
      "residual_layers.6.residual.0             #w: 2048    | sparsity: 77.44%\n",
      "residual_layers.7.conv1                  #w: 36864   | sparsity: 87.5% \n",
      "residual_layers.7.conv2                  #w: 36864   | sparsity: 91.72%\n",
      "residual_layers.8.conv1                  #w: 36864   | sparsity: 93.61%\n",
      "residual_layers.8.conv2                  #w: 36864   | sparsity: 95.44%\n",
      "classifier                               #w: 640     | sparsity: 29.22%\n"
     ]
    },
    {
     "name": "stderr",
     "output_type": "stream",
     "text": [
      "Testing: 100%|████████████████████████| 26/26 [00:00<00:00, 28.29it/s, accuracy=90.7, loss=0.000807]\n",
      "Epoch 177: 100%|███████████████████████| 128/128 [00:06<00:00, 20.16it/s, accuracy=95.8, loss=0.125]\n"
     ]
    },
    {
     "name": "stdout",
     "output_type": "stream",
     "text": [
      "conv1                                    #w: 432     | sparsity: 45.6% \n",
      "residual_layers.0.conv1                  #w: 2304    | sparsity: 78.43%\n",
      "residual_layers.0.conv2                  #w: 2304    | sparsity: 76.65%\n",
      "residual_layers.1.conv1                  #w: 2304    | sparsity: 78.78%\n",
      "residual_layers.1.conv2                  #w: 2304    | sparsity: 77.17%\n",
      "residual_layers.2.conv1                  #w: 2304    | sparsity: 72.4% \n",
      "residual_layers.2.conv2                  #w: 2304    | sparsity: 79.21%\n",
      "residual_layers.3.conv1                  #w: 4608    | sparsity: 74.54%\n",
      "residual_layers.3.conv2                  #w: 9216    | sparsity: 80.79%\n",
      "residual_layers.3.residual.0             #w: 512     | sparsity: 52.34%\n",
      "residual_layers.4.conv1                  #w: 9216    | sparsity: 83.45%\n",
      "residual_layers.4.conv2                  #w: 9216    | sparsity: 85.38%\n",
      "residual_layers.5.conv1                  #w: 9216    | sparsity: 81.64%\n",
      "residual_layers.5.conv2                  #w: 9216    | sparsity: 87.1% \n",
      "residual_layers.6.conv1                  #w: 18432   | sparsity: 83.35%\n",
      "residual_layers.6.conv2                  #w: 36864   | sparsity: 86.85%\n",
      "residual_layers.6.residual.0             #w: 2048    | sparsity: 77.49%\n",
      "residual_layers.7.conv1                  #w: 36864   | sparsity: 87.62%\n",
      "residual_layers.7.conv2                  #w: 36864   | sparsity: 91.83%\n",
      "residual_layers.8.conv1                  #w: 36864   | sparsity: 93.69%\n",
      "residual_layers.8.conv2                  #w: 36864   | sparsity: 95.43%\n",
      "classifier                               #w: 640     | sparsity: 29.38%\n"
     ]
    },
    {
     "name": "stderr",
     "output_type": "stream",
     "text": [
      "Testing: 100%|██████████████████████████| 26/26 [00:00<00:00, 28.72it/s, accuracy=90, loss=0.000846]\n",
      "Epoch 178: 100%|███████████████████████| 128/128 [00:06<00:00, 20.75it/s, accuracy=95.6, loss=0.128]\n"
     ]
    },
    {
     "name": "stdout",
     "output_type": "stream",
     "text": [
      "conv1                                    #w: 432     | sparsity: 46.06%\n",
      "residual_layers.0.conv1                  #w: 2304    | sparsity: 79.04%\n",
      "residual_layers.0.conv2                  #w: 2304    | sparsity: 76.91%\n",
      "residual_layers.1.conv1                  #w: 2304    | sparsity: 78.65%\n",
      "residual_layers.1.conv2                  #w: 2304    | sparsity: 77.08%\n",
      "residual_layers.2.conv1                  #w: 2304    | sparsity: 72.57%\n",
      "residual_layers.2.conv2                  #w: 2304    | sparsity: 79.08%\n",
      "residual_layers.3.conv1                  #w: 4608    | sparsity: 74.65%\n",
      "residual_layers.3.conv2                  #w: 9216    | sparsity: 81.12%\n",
      "residual_layers.3.residual.0             #w: 512     | sparsity: 52.15%\n",
      "residual_layers.4.conv1                  #w: 9216    | sparsity: 83.63%\n",
      "residual_layers.4.conv2                  #w: 9216    | sparsity: 85.68%\n",
      "residual_layers.5.conv1                  #w: 9216    | sparsity: 81.88%\n",
      "residual_layers.5.conv2                  #w: 9216    | sparsity: 87.22%\n",
      "residual_layers.6.conv1                  #w: 18432   | sparsity: 83.53%\n",
      "residual_layers.6.conv2                  #w: 36864   | sparsity: 87.0% \n",
      "residual_layers.6.residual.0             #w: 2048    | sparsity: 78.08%\n",
      "residual_layers.7.conv1                  #w: 36864   | sparsity: 87.85%\n",
      "residual_layers.7.conv2                  #w: 36864   | sparsity: 91.87%\n",
      "residual_layers.8.conv1                  #w: 36864   | sparsity: 93.82%\n",
      "residual_layers.8.conv2                  #w: 36864   | sparsity: 95.71%\n",
      "classifier                               #w: 640     | sparsity: 29.38%\n"
     ]
    },
    {
     "name": "stderr",
     "output_type": "stream",
     "text": [
      "Testing: 100%|████████████████████████| 26/26 [00:00<00:00, 30.54it/s, accuracy=89.9, loss=0.000842]\n",
      "Epoch 179: 100%|███████████████████████| 128/128 [00:06<00:00, 21.11it/s, accuracy=95.6, loss=0.129]\n"
     ]
    },
    {
     "name": "stdout",
     "output_type": "stream",
     "text": [
      "conv1                                    #w: 432     | sparsity: 46.3% \n",
      "residual_layers.0.conv1                  #w: 2304    | sparsity: 78.99%\n",
      "residual_layers.0.conv2                  #w: 2304    | sparsity: 77.21%\n",
      "residual_layers.1.conv1                  #w: 2304    | sparsity: 79.21%\n",
      "residual_layers.1.conv2                  #w: 2304    | sparsity: 77.43%\n",
      "residual_layers.2.conv1                  #w: 2304    | sparsity: 72.87%\n",
      "residual_layers.2.conv2                  #w: 2304    | sparsity: 79.38%\n",
      "residual_layers.3.conv1                  #w: 4608    | sparsity: 75.17%\n",
      "residual_layers.3.conv2                  #w: 9216    | sparsity: 81.36%\n",
      "residual_layers.3.residual.0             #w: 512     | sparsity: 52.93%\n",
      "residual_layers.4.conv1                  #w: 9216    | sparsity: 83.91%\n",
      "residual_layers.4.conv2                  #w: 9216    | sparsity: 85.9% \n",
      "residual_layers.5.conv1                  #w: 9216    | sparsity: 81.91%\n",
      "residual_layers.5.conv2                  #w: 9216    | sparsity: 87.4% \n",
      "residual_layers.6.conv1                  #w: 18432   | sparsity: 83.84%\n",
      "residual_layers.6.conv2                  #w: 36864   | sparsity: 87.28%\n",
      "residual_layers.6.residual.0             #w: 2048    | sparsity: 78.08%\n",
      "residual_layers.7.conv1                  #w: 36864   | sparsity: 87.98%\n",
      "residual_layers.7.conv2                  #w: 36864   | sparsity: 92.07%\n",
      "residual_layers.8.conv1                  #w: 36864   | sparsity: 93.91%\n",
      "residual_layers.8.conv2                  #w: 36864   | sparsity: 95.61%\n",
      "classifier                               #w: 640     | sparsity: 29.53%\n"
     ]
    },
    {
     "name": "stderr",
     "output_type": "stream",
     "text": [
      "Testing: 100%|████████████████████████| 26/26 [00:00<00:00, 30.16it/s, accuracy=89.2, loss=0.000896]\n",
      "Epoch 180: 100%|███████████████████████| 128/128 [00:06<00:00, 20.58it/s, accuracy=95.7, loss=0.129]\n"
     ]
    },
    {
     "name": "stdout",
     "output_type": "stream",
     "text": [
      "conv1                                    #w: 432     | sparsity: 46.3% \n",
      "residual_layers.0.conv1                  #w: 2304    | sparsity: 79.08%\n",
      "residual_layers.0.conv2                  #w: 2304    | sparsity: 77.26%\n",
      "residual_layers.1.conv1                  #w: 2304    | sparsity: 79.21%\n",
      "residual_layers.1.conv2                  #w: 2304    | sparsity: 78.08%\n",
      "residual_layers.2.conv1                  #w: 2304    | sparsity: 73.65%\n",
      "residual_layers.2.conv2                  #w: 2304    | sparsity: 79.86%\n",
      "residual_layers.3.conv1                  #w: 4608    | sparsity: 75.39%\n",
      "residual_layers.3.conv2                  #w: 9216    | sparsity: 81.76%\n",
      "residual_layers.3.residual.0             #w: 512     | sparsity: 52.73%\n",
      "residual_layers.4.conv1                  #w: 9216    | sparsity: 84.19%\n",
      "residual_layers.4.conv2                  #w: 9216    | sparsity: 86.24%\n",
      "residual_layers.5.conv1                  #w: 9216    | sparsity: 82.45%\n",
      "residual_layers.5.conv2                  #w: 9216    | sparsity: 87.68%\n",
      "residual_layers.6.conv1                  #w: 18432   | sparsity: 84.01%\n",
      "residual_layers.6.conv2                  #w: 36864   | sparsity: 87.45%\n",
      "residual_layers.6.residual.0             #w: 2048    | sparsity: 78.81%\n",
      "residual_layers.7.conv1                  #w: 36864   | sparsity: 88.19%\n",
      "residual_layers.7.conv2                  #w: 36864   | sparsity: 92.16%\n",
      "residual_layers.8.conv1                  #w: 36864   | sparsity: 93.91%\n",
      "residual_layers.8.conv2                  #w: 36864   | sparsity: 95.56%\n",
      "classifier                               #w: 640     | sparsity: 29.53%\n"
     ]
    },
    {
     "name": "stderr",
     "output_type": "stream",
     "text": [
      "Testing: 100%|████████████████████████| 26/26 [00:00<00:00, 27.17it/s, accuracy=89.8, loss=0.000817]\n",
      "Epoch 181: 100%|███████████████████████| 128/128 [00:06<00:00, 20.30it/s, accuracy=95.4, loss=0.135]\n"
     ]
    },
    {
     "name": "stdout",
     "output_type": "stream",
     "text": [
      "conv1                                    #w: 432     | sparsity: 46.76%\n",
      "residual_layers.0.conv1                  #w: 2304    | sparsity: 79.3% \n",
      "residual_layers.0.conv2                  #w: 2304    | sparsity: 77.6% \n",
      "residual_layers.1.conv1                  #w: 2304    | sparsity: 79.38%\n",
      "residual_layers.1.conv2                  #w: 2304    | sparsity: 77.95%\n",
      "residual_layers.2.conv1                  #w: 2304    | sparsity: 73.48%\n",
      "residual_layers.2.conv2                  #w: 2304    | sparsity: 80.03%\n",
      "residual_layers.3.conv1                  #w: 4608    | sparsity: 75.69%\n",
      "residual_layers.3.conv2                  #w: 9216    | sparsity: 81.89%\n",
      "residual_layers.3.residual.0             #w: 512     | sparsity: 53.71%\n",
      "residual_layers.4.conv1                  #w: 9216    | sparsity: 84.35%\n",
      "residual_layers.4.conv2                  #w: 9216    | sparsity: 86.43%\n",
      "residual_layers.5.conv1                  #w: 9216    | sparsity: 82.55%\n",
      "residual_layers.5.conv2                  #w: 9216    | sparsity: 87.92%\n",
      "residual_layers.6.conv1                  #w: 18432   | sparsity: 84.16%\n",
      "residual_layers.6.conv2                  #w: 36864   | sparsity: 87.64%\n",
      "residual_layers.6.residual.0             #w: 2048    | sparsity: 79.0% \n",
      "residual_layers.7.conv1                  #w: 36864   | sparsity: 88.38%\n",
      "residual_layers.7.conv2                  #w: 36864   | sparsity: 92.37%\n",
      "residual_layers.8.conv1                  #w: 36864   | sparsity: 94.04%\n",
      "residual_layers.8.conv2                  #w: 36864   | sparsity: 95.56%\n",
      "classifier                               #w: 640     | sparsity: 29.53%\n"
     ]
    },
    {
     "name": "stderr",
     "output_type": "stream",
     "text": [
      "Testing: 100%|████████████████████████| 26/26 [00:00<00:00, 29.16it/s, accuracy=89.6, loss=0.000837]\n",
      "Epoch 182: 100%|███████████████████████| 128/128 [00:06<00:00, 20.65it/s, accuracy=95.4, loss=0.135]\n"
     ]
    },
    {
     "name": "stdout",
     "output_type": "stream",
     "text": [
      "conv1                                    #w: 432     | sparsity: 46.53%\n",
      "residual_layers.0.conv1                  #w: 2304    | sparsity: 79.64%\n",
      "residual_layers.0.conv2                  #w: 2304    | sparsity: 77.78%\n",
      "residual_layers.1.conv1                  #w: 2304    | sparsity: 79.56%\n",
      "residual_layers.1.conv2                  #w: 2304    | sparsity: 78.04%\n",
      "residual_layers.2.conv1                  #w: 2304    | sparsity: 73.74%\n",
      "residual_layers.2.conv2                  #w: 2304    | sparsity: 79.9% \n",
      "residual_layers.3.conv1                  #w: 4608    | sparsity: 75.91%\n",
      "residual_layers.3.conv2                  #w: 9216    | sparsity: 82.23%\n",
      "residual_layers.3.residual.0             #w: 512     | sparsity: 53.32%\n",
      "residual_layers.4.conv1                  #w: 9216    | sparsity: 84.7% \n",
      "residual_layers.4.conv2                  #w: 9216    | sparsity: 86.5% \n",
      "residual_layers.5.conv1                  #w: 9216    | sparsity: 82.7% \n",
      "residual_layers.5.conv2                  #w: 9216    | sparsity: 88.01%\n",
      "residual_layers.6.conv1                  #w: 18432   | sparsity: 84.37%\n",
      "residual_layers.6.conv2                  #w: 36864   | sparsity: 87.83%\n",
      "residual_layers.6.residual.0             #w: 2048    | sparsity: 79.3% \n",
      "residual_layers.7.conv1                  #w: 36864   | sparsity: 88.57%\n",
      "residual_layers.7.conv2                  #w: 36864   | sparsity: 92.45%\n",
      "residual_layers.8.conv1                  #w: 36864   | sparsity: 94.19%\n",
      "residual_layers.8.conv2                  #w: 36864   | sparsity: 95.71%\n",
      "classifier                               #w: 640     | sparsity: 29.69%\n"
     ]
    },
    {
     "name": "stderr",
     "output_type": "stream",
     "text": [
      "Testing: 100%|████████████████████████| 26/26 [00:00<00:00, 27.97it/s, accuracy=89.6, loss=0.000868]\n",
      "Epoch 183: 100%|███████████████████████| 128/128 [00:06<00:00, 20.07it/s, accuracy=95.1, loss=0.142]\n"
     ]
    },
    {
     "name": "stdout",
     "output_type": "stream",
     "text": [
      "conv1                                    #w: 432     | sparsity: 46.76%\n",
      "residual_layers.0.conv1                  #w: 2304    | sparsity: 79.64%\n",
      "residual_layers.0.conv2                  #w: 2304    | sparsity: 77.91%\n",
      "residual_layers.1.conv1                  #w: 2304    | sparsity: 79.99%\n",
      "residual_layers.1.conv2                  #w: 2304    | sparsity: 78.39%\n",
      "residual_layers.2.conv1                  #w: 2304    | sparsity: 74.52%\n",
      "residual_layers.2.conv2                  #w: 2304    | sparsity: 80.08%\n",
      "residual_layers.3.conv1                  #w: 4608    | sparsity: 76.15%\n",
      "residual_layers.3.conv2                  #w: 9216    | sparsity: 82.26%\n",
      "residual_layers.3.residual.0             #w: 512     | sparsity: 53.32%\n",
      "residual_layers.4.conv1                  #w: 9216    | sparsity: 84.97%\n",
      "residual_layers.4.conv2                  #w: 9216    | sparsity: 86.77%\n",
      "residual_layers.5.conv1                  #w: 9216    | sparsity: 83.02%\n",
      "residual_layers.5.conv2                  #w: 9216    | sparsity: 88.05%\n",
      "residual_layers.6.conv1                  #w: 18432   | sparsity: 84.52%\n",
      "residual_layers.6.conv2                  #w: 36864   | sparsity: 88.07%\n",
      "residual_layers.6.residual.0             #w: 2048    | sparsity: 79.83%\n",
      "residual_layers.7.conv1                  #w: 36864   | sparsity: 88.62%\n",
      "residual_layers.7.conv2                  #w: 36864   | sparsity: 92.54%\n",
      "residual_layers.8.conv1                  #w: 36864   | sparsity: 94.27%\n",
      "residual_layers.8.conv2                  #w: 36864   | sparsity: 95.83%\n",
      "classifier                               #w: 640     | sparsity: 29.84%\n"
     ]
    },
    {
     "name": "stderr",
     "output_type": "stream",
     "text": [
      "Testing: 100%|██████████████████████████| 26/26 [00:00<00:00, 26.81it/s, accuracy=90, loss=0.000802]\n",
      "Epoch 184: 100%|███████████████████████| 128/128 [00:06<00:00, 20.57it/s, accuracy=95.1, loss=0.143]\n"
     ]
    },
    {
     "name": "stdout",
     "output_type": "stream",
     "text": [
      "conv1                                    #w: 432     | sparsity: 46.99%\n",
      "residual_layers.0.conv1                  #w: 2304    | sparsity: 79.69%\n",
      "residual_layers.0.conv2                  #w: 2304    | sparsity: 77.95%\n",
      "residual_layers.1.conv1                  #w: 2304    | sparsity: 80.3% \n",
      "residual_layers.1.conv2                  #w: 2304    | sparsity: 78.65%\n",
      "residual_layers.2.conv1                  #w: 2304    | sparsity: 74.78%\n",
      "residual_layers.2.conv2                  #w: 2304    | sparsity: 80.12%\n",
      "residual_layers.3.conv1                  #w: 4608    | sparsity: 76.41%\n",
      "residual_layers.3.conv2                  #w: 9216    | sparsity: 82.64%\n",
      "residual_layers.3.residual.0             #w: 512     | sparsity: 54.49%\n",
      "residual_layers.4.conv1                  #w: 9216    | sparsity: 85.11%\n",
      "residual_layers.4.conv2                  #w: 9216    | sparsity: 86.81%\n",
      "residual_layers.5.conv1                  #w: 9216    | sparsity: 83.04%\n",
      "residual_layers.5.conv2                  #w: 9216    | sparsity: 88.05%\n",
      "residual_layers.6.conv1                  #w: 18432   | sparsity: 84.85%\n",
      "residual_layers.6.conv2                  #w: 36864   | sparsity: 88.18%\n",
      "residual_layers.6.residual.0             #w: 2048    | sparsity: 80.03%\n",
      "residual_layers.7.conv1                  #w: 36864   | sparsity: 88.82%\n",
      "residual_layers.7.conv2                  #w: 36864   | sparsity: 92.66%\n",
      "residual_layers.8.conv1                  #w: 36864   | sparsity: 94.32%\n",
      "residual_layers.8.conv2                  #w: 36864   | sparsity: 95.98%\n",
      "classifier                               #w: 640     | sparsity: 30.16%\n"
     ]
    },
    {
     "name": "stderr",
     "output_type": "stream",
     "text": [
      "Testing: 100%|████████████████████████| 26/26 [00:00<00:00, 28.17it/s, accuracy=89.7, loss=0.000849]\n",
      "Epoch 185: 100%|█████████████████████████| 128/128 [00:06<00:00, 21.07it/s, accuracy=95, loss=0.146]\n"
     ]
    },
    {
     "name": "stdout",
     "output_type": "stream",
     "text": [
      "conv1                                    #w: 432     | sparsity: 46.76%\n",
      "residual_layers.0.conv1                  #w: 2304    | sparsity: 79.95%\n",
      "residual_layers.0.conv2                  #w: 2304    | sparsity: 78.3% \n",
      "residual_layers.1.conv1                  #w: 2304    | sparsity: 80.69%\n",
      "residual_layers.1.conv2                  #w: 2304    | sparsity: 78.95%\n",
      "residual_layers.2.conv1                  #w: 2304    | sparsity: 75.0% \n",
      "residual_layers.2.conv2                  #w: 2304    | sparsity: 80.25%\n",
      "residual_layers.3.conv1                  #w: 4608    | sparsity: 76.61%\n",
      "residual_layers.3.conv2                  #w: 9216    | sparsity: 82.86%\n",
      "residual_layers.3.residual.0             #w: 512     | sparsity: 54.69%\n",
      "residual_layers.4.conv1                  #w: 9216    | sparsity: 85.2% \n",
      "residual_layers.4.conv2                  #w: 9216    | sparsity: 87.04%\n",
      "residual_layers.5.conv1                  #w: 9216    | sparsity: 83.19%\n",
      "residual_layers.5.conv2                  #w: 9216    | sparsity: 88.14%\n",
      "residual_layers.6.conv1                  #w: 18432   | sparsity: 85.1% \n",
      "residual_layers.6.conv2                  #w: 36864   | sparsity: 88.39%\n",
      "residual_layers.6.residual.0             #w: 2048    | sparsity: 79.83%\n",
      "residual_layers.7.conv1                  #w: 36864   | sparsity: 89.01%\n",
      "residual_layers.7.conv2                  #w: 36864   | sparsity: 92.71%\n",
      "residual_layers.8.conv1                  #w: 36864   | sparsity: 94.41%\n",
      "residual_layers.8.conv2                  #w: 36864   | sparsity: 96.11%\n",
      "classifier                               #w: 640     | sparsity: 30.31%\n"
     ]
    },
    {
     "name": "stderr",
     "output_type": "stream",
     "text": [
      "Testing: 100%|████████████████████████| 26/26 [00:00<00:00, 26.85it/s, accuracy=89.8, loss=0.000839]\n",
      "Epoch 186: 100%|█████████████████████████| 128/128 [00:06<00:00, 19.68it/s, accuracy=95, loss=0.145]\n"
     ]
    },
    {
     "name": "stdout",
     "output_type": "stream",
     "text": [
      "conv1                                    #w: 432     | sparsity: 46.99%\n",
      "residual_layers.0.conv1                  #w: 2304    | sparsity: 79.99%\n",
      "residual_layers.0.conv2                  #w: 2304    | sparsity: 78.52%\n",
      "residual_layers.1.conv1                  #w: 2304    | sparsity: 80.77%\n",
      "residual_layers.1.conv2                  #w: 2304    | sparsity: 79.34%\n",
      "residual_layers.2.conv1                  #w: 2304    | sparsity: 75.22%\n",
      "residual_layers.2.conv2                  #w: 2304    | sparsity: 80.69%\n",
      "residual_layers.3.conv1                  #w: 4608    | sparsity: 76.74%\n",
      "residual_layers.3.conv2                  #w: 9216    | sparsity: 83.13%\n",
      "residual_layers.3.residual.0             #w: 512     | sparsity: 54.88%\n",
      "residual_layers.4.conv1                  #w: 9216    | sparsity: 85.55%\n",
      "residual_layers.4.conv2                  #w: 9216    | sparsity: 87.24%\n",
      "residual_layers.5.conv1                  #w: 9216    | sparsity: 83.32%\n",
      "residual_layers.5.conv2                  #w: 9216    | sparsity: 88.49%\n",
      "residual_layers.6.conv1                  #w: 18432   | sparsity: 85.35%\n",
      "residual_layers.6.conv2                  #w: 36864   | sparsity: 88.61%\n",
      "residual_layers.6.residual.0             #w: 2048    | sparsity: 80.37%\n",
      "residual_layers.7.conv1                  #w: 36864   | sparsity: 89.11%\n",
      "residual_layers.7.conv2                  #w: 36864   | sparsity: 92.9% \n",
      "residual_layers.8.conv1                  #w: 36864   | sparsity: 94.48%\n",
      "residual_layers.8.conv2                  #w: 36864   | sparsity: 95.98%\n",
      "classifier                               #w: 640     | sparsity: 30.31%\n"
     ]
    },
    {
     "name": "stderr",
     "output_type": "stream",
     "text": [
      "Testing: 100%|████████████████████████| 26/26 [00:00<00:00, 26.67it/s, accuracy=89.5, loss=0.000856]\n",
      "Epoch 187: 100%|███████████████████████| 128/128 [00:06<00:00, 20.42it/s, accuracy=94.7, loss=0.151]\n"
     ]
    },
    {
     "name": "stdout",
     "output_type": "stream",
     "text": [
      "conv1                                    #w: 432     | sparsity: 46.99%\n",
      "residual_layers.0.conv1                  #w: 2304    | sparsity: 80.3% \n",
      "residual_layers.0.conv2                  #w: 2304    | sparsity: 78.82%\n",
      "residual_layers.1.conv1                  #w: 2304    | sparsity: 80.69%\n",
      "residual_layers.1.conv2                  #w: 2304    | sparsity: 79.6% \n",
      "residual_layers.2.conv1                  #w: 2304    | sparsity: 75.48%\n",
      "residual_layers.2.conv2                  #w: 2304    | sparsity: 80.99%\n",
      "residual_layers.3.conv1                  #w: 4608    | sparsity: 77.15%\n",
      "residual_layers.3.conv2                  #w: 9216    | sparsity: 83.2% \n",
      "residual_layers.3.residual.0             #w: 512     | sparsity: 56.45%\n",
      "residual_layers.4.conv1                  #w: 9216    | sparsity: 85.74%\n",
      "residual_layers.4.conv2                  #w: 9216    | sparsity: 87.3% \n",
      "residual_layers.5.conv1                  #w: 9216    | sparsity: 83.58%\n",
      "residual_layers.5.conv2                  #w: 9216    | sparsity: 88.56%\n",
      "residual_layers.6.conv1                  #w: 18432   | sparsity: 85.66%\n",
      "residual_layers.6.conv2                  #w: 36864   | sparsity: 88.67%\n",
      "residual_layers.6.residual.0             #w: 2048    | sparsity: 80.66%\n",
      "residual_layers.7.conv1                  #w: 36864   | sparsity: 89.38%\n",
      "residual_layers.7.conv2                  #w: 36864   | sparsity: 92.92%\n",
      "residual_layers.8.conv1                  #w: 36864   | sparsity: 94.67%\n",
      "residual_layers.8.conv2                  #w: 36864   | sparsity: 95.96%\n",
      "classifier                               #w: 640     | sparsity: 30.62%\n"
     ]
    },
    {
     "name": "stderr",
     "output_type": "stream",
     "text": [
      "Testing: 100%|████████████████████████| 26/26 [00:00<00:00, 27.70it/s, accuracy=89.5, loss=0.000864]\n",
      "Epoch 188: 100%|███████████████████████| 128/128 [00:06<00:00, 20.54it/s, accuracy=94.5, loss=0.155]\n"
     ]
    },
    {
     "name": "stdout",
     "output_type": "stream",
     "text": [
      "conv1                                    #w: 432     | sparsity: 46.99%\n",
      "residual_layers.0.conv1                  #w: 2304    | sparsity: 80.03%\n",
      "residual_layers.0.conv2                  #w: 2304    | sparsity: 78.86%\n",
      "residual_layers.1.conv1                  #w: 2304    | sparsity: 80.95%\n",
      "residual_layers.1.conv2                  #w: 2304    | sparsity: 79.82%\n",
      "residual_layers.2.conv1                  #w: 2304    | sparsity: 75.69%\n",
      "residual_layers.2.conv2                  #w: 2304    | sparsity: 80.9% \n",
      "residual_layers.3.conv1                  #w: 4608    | sparsity: 77.21%\n",
      "residual_layers.3.conv2                  #w: 9216    | sparsity: 83.62%\n",
      "residual_layers.3.residual.0             #w: 512     | sparsity: 55.66%\n",
      "residual_layers.4.conv1                  #w: 9216    | sparsity: 86.06%\n",
      "residual_layers.4.conv2                  #w: 9216    | sparsity: 87.53%\n",
      "residual_layers.5.conv1                  #w: 9216    | sparsity: 83.96%\n",
      "residual_layers.5.conv2                  #w: 9216    | sparsity: 88.68%\n",
      "residual_layers.6.conv1                  #w: 18432   | sparsity: 85.73%\n",
      "residual_layers.6.conv2                  #w: 36864   | sparsity: 88.9% \n",
      "residual_layers.6.residual.0             #w: 2048    | sparsity: 81.01%\n",
      "residual_layers.7.conv1                  #w: 36864   | sparsity: 89.53%\n",
      "residual_layers.7.conv2                  #w: 36864   | sparsity: 93.01%\n",
      "residual_layers.8.conv1                  #w: 36864   | sparsity: 94.69%\n",
      "residual_layers.8.conv2                  #w: 36864   | sparsity: 96.07%\n",
      "classifier                               #w: 640     | sparsity: 30.78%\n"
     ]
    },
    {
     "name": "stderr",
     "output_type": "stream",
     "text": [
      "Testing: 100%|████████████████████████| 26/26 [00:01<00:00, 24.67it/s, accuracy=89.8, loss=0.000836]\n",
      "Epoch 189: 100%|███████████████████████| 128/128 [00:06<00:00, 19.78it/s, accuracy=94.6, loss=0.155]\n"
     ]
    },
    {
     "name": "stdout",
     "output_type": "stream",
     "text": [
      "conv1                                    #w: 432     | sparsity: 46.99%\n",
      "residual_layers.0.conv1                  #w: 2304    | sparsity: 80.6% \n",
      "residual_layers.0.conv2                  #w: 2304    | sparsity: 78.95%\n",
      "residual_layers.1.conv1                  #w: 2304    | sparsity: 81.08%\n",
      "residual_layers.1.conv2                  #w: 2304    | sparsity: 80.16%\n",
      "residual_layers.2.conv1                  #w: 2304    | sparsity: 76.22%\n",
      "residual_layers.2.conv2                  #w: 2304    | sparsity: 81.16%\n",
      "residual_layers.3.conv1                  #w: 4608    | sparsity: 77.41%\n",
      "residual_layers.3.conv2                  #w: 9216    | sparsity: 83.68%\n",
      "residual_layers.3.residual.0             #w: 512     | sparsity: 56.05%\n",
      "residual_layers.4.conv1                  #w: 9216    | sparsity: 86.06%\n",
      "residual_layers.4.conv2                  #w: 9216    | sparsity: 87.53%\n",
      "residual_layers.5.conv1                  #w: 9216    | sparsity: 84.15%\n",
      "residual_layers.5.conv2                  #w: 9216    | sparsity: 88.88%\n",
      "residual_layers.6.conv1                  #w: 18432   | sparsity: 85.96%\n",
      "residual_layers.6.conv2                  #w: 36864   | sparsity: 89.08%\n",
      "residual_layers.6.residual.0             #w: 2048    | sparsity: 80.86%\n",
      "residual_layers.7.conv1                  #w: 36864   | sparsity: 89.63%\n",
      "residual_layers.7.conv2                  #w: 36864   | sparsity: 93.16%\n",
      "residual_layers.8.conv1                  #w: 36864   | sparsity: 94.7% \n",
      "residual_layers.8.conv2                  #w: 36864   | sparsity: 96.2% \n",
      "classifier                               #w: 640     | sparsity: 31.09%\n"
     ]
    },
    {
     "name": "stderr",
     "output_type": "stream",
     "text": [
      "Testing: 100%|████████████████████████| 26/26 [00:01<00:00, 25.80it/s, accuracy=89.4, loss=0.000899]\n",
      "Epoch 190: 100%|███████████████████████| 128/128 [00:06<00:00, 20.07it/s, accuracy=94.4, loss=0.161]\n"
     ]
    },
    {
     "name": "stdout",
     "output_type": "stream",
     "text": [
      "conv1                                    #w: 432     | sparsity: 47.22%\n",
      "residual_layers.0.conv1                  #w: 2304    | sparsity: 80.73%\n",
      "residual_layers.0.conv2                  #w: 2304    | sparsity: 79.25%\n",
      "residual_layers.1.conv1                  #w: 2304    | sparsity: 81.6% \n",
      "residual_layers.1.conv2                  #w: 2304    | sparsity: 80.6% \n",
      "residual_layers.2.conv1                  #w: 2304    | sparsity: 76.09%\n",
      "residual_layers.2.conv2                  #w: 2304    | sparsity: 81.6% \n",
      "residual_layers.3.conv1                  #w: 4608    | sparsity: 77.69%\n",
      "residual_layers.3.conv2                  #w: 9216    | sparsity: 83.91%\n",
      "residual_layers.3.residual.0             #w: 512     | sparsity: 57.03%\n",
      "residual_layers.4.conv1                  #w: 9216    | sparsity: 86.2% \n",
      "residual_layers.4.conv2                  #w: 9216    | sparsity: 87.74%\n",
      "residual_layers.5.conv1                  #w: 9216    | sparsity: 84.51%\n",
      "residual_layers.5.conv2                  #w: 9216    | sparsity: 89.06%\n",
      "residual_layers.6.conv1                  #w: 18432   | sparsity: 86.07%\n",
      "residual_layers.6.conv2                  #w: 36864   | sparsity: 89.18%\n",
      "residual_layers.6.residual.0             #w: 2048    | sparsity: 81.45%\n",
      "residual_layers.7.conv1                  #w: 36864   | sparsity: 89.89%\n",
      "residual_layers.7.conv2                  #w: 36864   | sparsity: 93.23%\n",
      "residual_layers.8.conv1                  #w: 36864   | sparsity: 94.75%\n",
      "residual_layers.8.conv2                  #w: 36864   | sparsity: 96.26%\n",
      "classifier                               #w: 640     | sparsity: 31.25%\n"
     ]
    },
    {
     "name": "stderr",
     "output_type": "stream",
     "text": [
      "Testing: 100%|██████████████████████████| 26/26 [00:00<00:00, 27.02it/s, accuracy=89, loss=0.000889]\n",
      "Epoch 191: 100%|███████████████████████| 128/128 [00:06<00:00, 21.17it/s, accuracy=94.4, loss=0.165]\n"
     ]
    },
    {
     "name": "stdout",
     "output_type": "stream",
     "text": [
      "conv1                                    #w: 432     | sparsity: 46.99%\n",
      "residual_layers.0.conv1                  #w: 2304    | sparsity: 80.9% \n",
      "residual_layers.0.conv2                  #w: 2304    | sparsity: 79.69%\n",
      "residual_layers.1.conv1                  #w: 2304    | sparsity: 81.55%\n",
      "residual_layers.1.conv2                  #w: 2304    | sparsity: 80.95%\n",
      "residual_layers.2.conv1                  #w: 2304    | sparsity: 76.13%\n",
      "residual_layers.2.conv2                  #w: 2304    | sparsity: 81.47%\n",
      "residual_layers.3.conv1                  #w: 4608    | sparsity: 78.04%\n",
      "residual_layers.3.conv2                  #w: 9216    | sparsity: 84.21%\n",
      "residual_layers.3.residual.0             #w: 512     | sparsity: 57.23%\n",
      "residual_layers.4.conv1                  #w: 9216    | sparsity: 86.4% \n",
      "residual_layers.4.conv2                  #w: 9216    | sparsity: 87.88%\n",
      "residual_layers.5.conv1                  #w: 9216    | sparsity: 84.53%\n",
      "residual_layers.5.conv2                  #w: 9216    | sparsity: 89.08%\n",
      "residual_layers.6.conv1                  #w: 18432   | sparsity: 86.21%\n",
      "residual_layers.6.conv2                  #w: 36864   | sparsity: 89.37%\n",
      "residual_layers.6.residual.0             #w: 2048    | sparsity: 81.93%\n",
      "residual_layers.7.conv1                  #w: 36864   | sparsity: 90.0% \n",
      "residual_layers.7.conv2                  #w: 36864   | sparsity: 93.27%\n",
      "residual_layers.8.conv1                  #w: 36864   | sparsity: 94.82%\n",
      "residual_layers.8.conv2                  #w: 36864   | sparsity: 96.39%\n",
      "classifier                               #w: 640     | sparsity: 31.56%\n"
     ]
    },
    {
     "name": "stderr",
     "output_type": "stream",
     "text": [
      "Testing: 100%|████████████████████████| 26/26 [00:01<00:00, 25.23it/s, accuracy=89.2, loss=0.000879]\n",
      "Epoch 192: 100%|███████████████████████| 128/128 [00:06<00:00, 20.54it/s, accuracy=94.2, loss=0.165]\n"
     ]
    },
    {
     "name": "stdout",
     "output_type": "stream",
     "text": [
      "conv1                                    #w: 432     | sparsity: 47.69%\n",
      "residual_layers.0.conv1                  #w: 2304    | sparsity: 81.12%\n",
      "residual_layers.0.conv2                  #w: 2304    | sparsity: 79.6% \n",
      "residual_layers.1.conv1                  #w: 2304    | sparsity: 81.51%\n",
      "residual_layers.1.conv2                  #w: 2304    | sparsity: 80.56%\n",
      "residual_layers.2.conv1                  #w: 2304    | sparsity: 76.95%\n",
      "residual_layers.2.conv2                  #w: 2304    | sparsity: 81.64%\n",
      "residual_layers.3.conv1                  #w: 4608    | sparsity: 78.26%\n",
      "residual_layers.3.conv2                  #w: 9216    | sparsity: 84.45%\n",
      "residual_layers.3.residual.0             #w: 512     | sparsity: 57.62%\n",
      "residual_layers.4.conv1                  #w: 9216    | sparsity: 86.53%\n",
      "residual_layers.4.conv2                  #w: 9216    | sparsity: 88.0% \n",
      "residual_layers.5.conv1                  #w: 9216    | sparsity: 84.84%\n",
      "residual_layers.5.conv2                  #w: 9216    | sparsity: 89.07%\n",
      "residual_layers.6.conv1                  #w: 18432   | sparsity: 86.36%\n",
      "residual_layers.6.conv2                  #w: 36864   | sparsity: 89.5% \n",
      "residual_layers.6.residual.0             #w: 2048    | sparsity: 81.88%\n",
      "residual_layers.7.conv1                  #w: 36864   | sparsity: 90.25%\n",
      "residual_layers.7.conv2                  #w: 36864   | sparsity: 93.47%\n",
      "residual_layers.8.conv1                  #w: 36864   | sparsity: 94.91%\n",
      "residual_layers.8.conv2                  #w: 36864   | sparsity: 96.34%\n",
      "classifier                               #w: 640     | sparsity: 31.88%\n"
     ]
    },
    {
     "name": "stderr",
     "output_type": "stream",
     "text": [
      "Testing: 100%|████████████████████████| 26/26 [00:01<00:00, 25.74it/s, accuracy=88.8, loss=0.000919]\n",
      "Epoch 193: 100%|███████████████████████| 128/128 [00:06<00:00, 19.68it/s, accuracy=94.3, loss=0.168]\n"
     ]
    },
    {
     "name": "stdout",
     "output_type": "stream",
     "text": [
      "conv1                                    #w: 432     | sparsity: 47.69%\n",
      "residual_layers.0.conv1                  #w: 2304    | sparsity: 81.03%\n",
      "residual_layers.0.conv2                  #w: 2304    | sparsity: 80.03%\n",
      "residual_layers.1.conv1                  #w: 2304    | sparsity: 81.73%\n",
      "residual_layers.1.conv2                  #w: 2304    | sparsity: 80.86%\n",
      "residual_layers.2.conv1                  #w: 2304    | sparsity: 76.69%\n",
      "residual_layers.2.conv2                  #w: 2304    | sparsity: 81.99%\n",
      "residual_layers.3.conv1                  #w: 4608    | sparsity: 78.52%\n",
      "residual_layers.3.conv2                  #w: 9216    | sparsity: 84.69%\n",
      "residual_layers.3.residual.0             #w: 512     | sparsity: 58.2% \n",
      "residual_layers.4.conv1                  #w: 9216    | sparsity: 86.82%\n",
      "residual_layers.4.conv2                  #w: 9216    | sparsity: 88.17%\n",
      "residual_layers.5.conv1                  #w: 9216    | sparsity: 85.04%\n",
      "residual_layers.5.conv2                  #w: 9216    | sparsity: 89.33%\n",
      "residual_layers.6.conv1                  #w: 18432   | sparsity: 86.66%\n",
      "residual_layers.6.conv2                  #w: 36864   | sparsity: 89.66%\n",
      "residual_layers.6.residual.0             #w: 2048    | sparsity: 81.74%\n",
      "residual_layers.7.conv1                  #w: 36864   | sparsity: 90.28%\n",
      "residual_layers.7.conv2                  #w: 36864   | sparsity: 93.55%\n",
      "residual_layers.8.conv1                  #w: 36864   | sparsity: 95.03%\n",
      "residual_layers.8.conv2                  #w: 36864   | sparsity: 96.34%\n",
      "classifier                               #w: 640     | sparsity: 32.34%\n"
     ]
    },
    {
     "name": "stderr",
     "output_type": "stream",
     "text": [
      "Testing: 100%|████████████████████████| 26/26 [00:00<00:00, 27.20it/s, accuracy=89.3, loss=0.000895]\n",
      "Epoch 194: 100%|█████████████████████████| 128/128 [00:06<00:00, 20.49it/s, accuracy=94, loss=0.173]\n"
     ]
    },
    {
     "name": "stdout",
     "output_type": "stream",
     "text": [
      "conv1                                    #w: 432     | sparsity: 47.69%\n",
      "residual_layers.0.conv1                  #w: 2304    | sparsity: 81.21%\n",
      "residual_layers.0.conv2                  #w: 2304    | sparsity: 79.9% \n",
      "residual_layers.1.conv1                  #w: 2304    | sparsity: 81.9% \n",
      "residual_layers.1.conv2                  #w: 2304    | sparsity: 81.42%\n",
      "residual_layers.2.conv1                  #w: 2304    | sparsity: 77.17%\n",
      "residual_layers.2.conv2                  #w: 2304    | sparsity: 82.16%\n",
      "residual_layers.3.conv1                  #w: 4608    | sparsity: 78.88%\n",
      "residual_layers.3.conv2                  #w: 9216    | sparsity: 84.94%\n",
      "residual_layers.3.residual.0             #w: 512     | sparsity: 58.79%\n",
      "residual_layers.4.conv1                  #w: 9216    | sparsity: 86.95%\n",
      "residual_layers.4.conv2                  #w: 9216    | sparsity: 88.34%\n",
      "residual_layers.5.conv1                  #w: 9216    | sparsity: 85.22%\n",
      "residual_layers.5.conv2                  #w: 9216    | sparsity: 89.51%\n",
      "residual_layers.6.conv1                  #w: 18432   | sparsity: 86.8% \n",
      "residual_layers.6.conv2                  #w: 36864   | sparsity: 89.78%\n",
      "residual_layers.6.residual.0             #w: 2048    | sparsity: 82.37%\n",
      "residual_layers.7.conv1                  #w: 36864   | sparsity: 90.51%\n",
      "residual_layers.7.conv2                  #w: 36864   | sparsity: 93.56%\n",
      "residual_layers.8.conv1                  #w: 36864   | sparsity: 95.07%\n",
      "residual_layers.8.conv2                  #w: 36864   | sparsity: 96.37%\n",
      "classifier                               #w: 640     | sparsity: 32.66%\n"
     ]
    },
    {
     "name": "stderr",
     "output_type": "stream",
     "text": [
      "Testing: 100%|████████████████████████| 26/26 [00:00<00:00, 28.29it/s, accuracy=88.7, loss=0.000946]\n",
      "Epoch 195: 100%|███████████████████████| 128/128 [00:06<00:00, 20.50it/s, accuracy=93.8, loss=0.175]\n"
     ]
    },
    {
     "name": "stdout",
     "output_type": "stream",
     "text": [
      "conv1                                    #w: 432     | sparsity: 47.92%\n",
      "residual_layers.0.conv1                  #w: 2304    | sparsity: 81.34%\n",
      "residual_layers.0.conv2                  #w: 2304    | sparsity: 80.12%\n",
      "residual_layers.1.conv1                  #w: 2304    | sparsity: 82.25%\n",
      "residual_layers.1.conv2                  #w: 2304    | sparsity: 81.51%\n",
      "residual_layers.2.conv1                  #w: 2304    | sparsity: 77.26%\n",
      "residual_layers.2.conv2                  #w: 2304    | sparsity: 81.68%\n",
      "residual_layers.3.conv1                  #w: 4608    | sparsity: 78.69%\n",
      "residual_layers.3.conv2                  #w: 9216    | sparsity: 84.97%\n",
      "residual_layers.3.residual.0             #w: 512     | sparsity: 59.18%\n",
      "residual_layers.4.conv1                  #w: 9216    | sparsity: 87.11%\n",
      "residual_layers.4.conv2                  #w: 9216    | sparsity: 88.55%\n",
      "residual_layers.5.conv1                  #w: 9216    | sparsity: 85.46%\n",
      "residual_layers.5.conv2                  #w: 9216    | sparsity: 89.62%\n",
      "residual_layers.6.conv1                  #w: 18432   | sparsity: 86.88%\n",
      "residual_layers.6.conv2                  #w: 36864   | sparsity: 90.0% \n",
      "residual_layers.6.residual.0             #w: 2048    | sparsity: 82.52%\n",
      "residual_layers.7.conv1                  #w: 36864   | sparsity: 90.58%\n",
      "residual_layers.7.conv2                  #w: 36864   | sparsity: 93.71%\n",
      "residual_layers.8.conv1                  #w: 36864   | sparsity: 95.1% \n",
      "residual_layers.8.conv2                  #w: 36864   | sparsity: 96.64%\n",
      "classifier                               #w: 640     | sparsity: 33.12%\n"
     ]
    },
    {
     "name": "stderr",
     "output_type": "stream",
     "text": [
      "Testing: 100%|████████████████████████| 26/26 [00:01<00:00, 25.39it/s, accuracy=89.1, loss=0.000894]\n",
      "Epoch 196: 100%|███████████████████████| 128/128 [00:06<00:00, 19.90it/s, accuracy=93.5, loss=0.184]\n"
     ]
    },
    {
     "name": "stdout",
     "output_type": "stream",
     "text": [
      "conv1                                    #w: 432     | sparsity: 47.92%\n",
      "residual_layers.0.conv1                  #w: 2304    | sparsity: 81.6% \n",
      "residual_layers.0.conv2                  #w: 2304    | sparsity: 80.51%\n",
      "residual_layers.1.conv1                  #w: 2304    | sparsity: 82.12%\n",
      "residual_layers.1.conv2                  #w: 2304    | sparsity: 81.64%\n",
      "residual_layers.2.conv1                  #w: 2304    | sparsity: 77.73%\n",
      "residual_layers.2.conv2                  #w: 2304    | sparsity: 81.94%\n",
      "residual_layers.3.conv1                  #w: 4608    | sparsity: 78.88%\n",
      "residual_layers.3.conv2                  #w: 9216    | sparsity: 85.29%\n",
      "residual_layers.3.residual.0             #w: 512     | sparsity: 59.77%\n",
      "residual_layers.4.conv1                  #w: 9216    | sparsity: 87.16%\n",
      "residual_layers.4.conv2                  #w: 9216    | sparsity: 88.63%\n",
      "residual_layers.5.conv1                  #w: 9216    | sparsity: 85.59%\n",
      "residual_layers.5.conv2                  #w: 9216    | sparsity: 89.78%\n",
      "residual_layers.6.conv1                  #w: 18432   | sparsity: 87.1% \n",
      "residual_layers.6.conv2                  #w: 36864   | sparsity: 90.09%\n",
      "residual_layers.6.residual.0             #w: 2048    | sparsity: 82.81%\n",
      "residual_layers.7.conv1                  #w: 36864   | sparsity: 90.77%\n",
      "residual_layers.7.conv2                  #w: 36864   | sparsity: 93.68%\n",
      "residual_layers.8.conv1                  #w: 36864   | sparsity: 95.17%\n",
      "residual_layers.8.conv2                  #w: 36864   | sparsity: 96.73%\n",
      "classifier                               #w: 640     | sparsity: 33.12%\n"
     ]
    },
    {
     "name": "stderr",
     "output_type": "stream",
     "text": [
      "Testing: 100%|████████████████████████| 26/26 [00:00<00:00, 28.19it/s, accuracy=88.5, loss=0.000946]\n",
      "Epoch 197: 100%|███████████████████████| 128/128 [00:06<00:00, 20.11it/s, accuracy=93.6, loss=0.184]\n"
     ]
    },
    {
     "name": "stdout",
     "output_type": "stream",
     "text": [
      "conv1                                    #w: 432     | sparsity: 48.15%\n",
      "residual_layers.0.conv1                  #w: 2304    | sparsity: 81.64%\n",
      "residual_layers.0.conv2                  #w: 2304    | sparsity: 80.86%\n",
      "residual_layers.1.conv1                  #w: 2304    | sparsity: 82.73%\n",
      "residual_layers.1.conv2                  #w: 2304    | sparsity: 81.73%\n",
      "residual_layers.2.conv1                  #w: 2304    | sparsity: 77.78%\n",
      "residual_layers.2.conv2                  #w: 2304    | sparsity: 82.25%\n",
      "residual_layers.3.conv1                  #w: 4608    | sparsity: 79.06%\n",
      "residual_layers.3.conv2                  #w: 9216    | sparsity: 85.45%\n",
      "residual_layers.3.residual.0             #w: 512     | sparsity: 60.16%\n",
      "residual_layers.4.conv1                  #w: 9216    | sparsity: 87.4% \n",
      "residual_layers.4.conv2                  #w: 9216    | sparsity: 88.89%\n",
      "residual_layers.5.conv1                  #w: 9216    | sparsity: 85.77%\n",
      "residual_layers.5.conv2                  #w: 9216    | sparsity: 89.49%\n",
      "residual_layers.6.conv1                  #w: 18432   | sparsity: 87.09%\n",
      "residual_layers.6.conv2                  #w: 36864   | sparsity: 90.19%\n",
      "residual_layers.6.residual.0             #w: 2048    | sparsity: 83.2% \n",
      "residual_layers.7.conv1                  #w: 36864   | sparsity: 90.94%\n",
      "residual_layers.7.conv2                  #w: 36864   | sparsity: 93.82%\n",
      "residual_layers.8.conv1                  #w: 36864   | sparsity: 95.27%\n",
      "residual_layers.8.conv2                  #w: 36864   | sparsity: 96.77%\n",
      "classifier                               #w: 640     | sparsity: 33.44%\n"
     ]
    },
    {
     "name": "stderr",
     "output_type": "stream",
     "text": [
      "Testing: 100%|█████████████████████████| 26/26 [00:00<00:00, 27.37it/s, accuracy=87.8, loss=0.00098]\n",
      "Epoch 198: 100%|███████████████████████| 128/128 [00:06<00:00, 20.78it/s, accuracy=93.6, loss=0.187]\n"
     ]
    },
    {
     "name": "stdout",
     "output_type": "stream",
     "text": [
      "conv1                                    #w: 432     | sparsity: 48.38%\n",
      "residual_layers.0.conv1                  #w: 2304    | sparsity: 82.16%\n",
      "residual_layers.0.conv2                  #w: 2304    | sparsity: 80.73%\n",
      "residual_layers.1.conv1                  #w: 2304    | sparsity: 82.64%\n",
      "residual_layers.1.conv2                  #w: 2304    | sparsity: 81.77%\n",
      "residual_layers.2.conv1                  #w: 2304    | sparsity: 78.08%\n",
      "residual_layers.2.conv2                  #w: 2304    | sparsity: 82.47%\n",
      "residual_layers.3.conv1                  #w: 4608    | sparsity: 79.32%\n",
      "residual_layers.3.conv2                  #w: 9216    | sparsity: 85.51%\n",
      "residual_layers.3.residual.0             #w: 512     | sparsity: 60.16%\n",
      "residual_layers.4.conv1                  #w: 9216    | sparsity: 87.51%\n",
      "residual_layers.4.conv2                  #w: 9216    | sparsity: 89.13%\n",
      "residual_layers.5.conv1                  #w: 9216    | sparsity: 85.96%\n",
      "residual_layers.5.conv2                  #w: 9216    | sparsity: 89.87%\n",
      "residual_layers.6.conv1                  #w: 18432   | sparsity: 87.36%\n",
      "residual_layers.6.conv2                  #w: 36864   | sparsity: 90.3% \n",
      "residual_layers.6.residual.0             #w: 2048    | sparsity: 83.11%\n",
      "residual_layers.7.conv1                  #w: 36864   | sparsity: 91.07%\n",
      "residual_layers.7.conv2                  #w: 36864   | sparsity: 93.89%\n",
      "residual_layers.8.conv1                  #w: 36864   | sparsity: 95.25%\n",
      "residual_layers.8.conv2                  #w: 36864   | sparsity: 96.93%\n",
      "classifier                               #w: 640     | sparsity: 33.75%\n"
     ]
    },
    {
     "name": "stderr",
     "output_type": "stream",
     "text": [
      "Testing: 100%|█████████████████████████| 26/26 [00:00<00:00, 26.49it/s, accuracy=88.5, loss=0.00093]\n",
      "Epoch 199: 100%|███████████████████████| 128/128 [00:06<00:00, 19.78it/s, accuracy=93.4, loss=0.189]\n"
     ]
    },
    {
     "name": "stdout",
     "output_type": "stream",
     "text": [
      "conv1                                    #w: 432     | sparsity: 48.38%\n",
      "residual_layers.0.conv1                  #w: 2304    | sparsity: 82.07%\n",
      "residual_layers.0.conv2                  #w: 2304    | sparsity: 81.21%\n",
      "residual_layers.1.conv1                  #w: 2304    | sparsity: 82.86%\n",
      "residual_layers.1.conv2                  #w: 2304    | sparsity: 81.99%\n",
      "residual_layers.2.conv1                  #w: 2304    | sparsity: 78.65%\n",
      "residual_layers.2.conv2                  #w: 2304    | sparsity: 82.64%\n",
      "residual_layers.3.conv1                  #w: 4608    | sparsity: 79.69%\n",
      "residual_layers.3.conv2                  #w: 9216    | sparsity: 85.87%\n",
      "residual_layers.3.residual.0             #w: 512     | sparsity: 60.55%\n",
      "residual_layers.4.conv1                  #w: 9216    | sparsity: 87.9% \n",
      "residual_layers.4.conv2                  #w: 9216    | sparsity: 89.1% \n",
      "residual_layers.5.conv1                  #w: 9216    | sparsity: 86.12%\n",
      "residual_layers.5.conv2                  #w: 9216    | sparsity: 90.03%\n",
      "residual_layers.6.conv1                  #w: 18432   | sparsity: 87.4% \n",
      "residual_layers.6.conv2                  #w: 36864   | sparsity: 90.45%\n",
      "residual_layers.6.residual.0             #w: 2048    | sparsity: 83.79%\n",
      "residual_layers.7.conv1                  #w: 36864   | sparsity: 91.25%\n",
      "residual_layers.7.conv2                  #w: 36864   | sparsity: 93.94%\n",
      "residual_layers.8.conv1                  #w: 36864   | sparsity: 95.35%\n",
      "residual_layers.8.conv2                  #w: 36864   | sparsity: 96.77%\n",
      "classifier                               #w: 640     | sparsity: 33.75%\n"
     ]
    },
    {
     "name": "stderr",
     "output_type": "stream",
     "text": [
      "Testing: 100%|█████████████████████████| 26/26 [00:00<00:00, 28.52it/s, accuracy=87.5, loss=0.00107]\n",
      "Epoch 200: 100%|███████████████████████| 128/128 [00:06<00:00, 20.41it/s, accuracy=93.4, loss=0.191]\n"
     ]
    },
    {
     "name": "stdout",
     "output_type": "stream",
     "text": [
      "conv1                                    #w: 432     | sparsity: 49.07%\n",
      "residual_layers.0.conv1                  #w: 2304    | sparsity: 82.29%\n",
      "residual_layers.0.conv2                  #w: 2304    | sparsity: 81.34%\n",
      "residual_layers.1.conv1                  #w: 2304    | sparsity: 83.07%\n",
      "residual_layers.1.conv2                  #w: 2304    | sparsity: 82.55%\n",
      "residual_layers.2.conv1                  #w: 2304    | sparsity: 78.82%\n",
      "residual_layers.2.conv2                  #w: 2304    | sparsity: 82.94%\n",
      "residual_layers.3.conv1                  #w: 4608    | sparsity: 80.14%\n",
      "residual_layers.3.conv2                  #w: 9216    | sparsity: 85.94%\n",
      "residual_layers.3.residual.0             #w: 512     | sparsity: 60.74%\n",
      "residual_layers.4.conv1                  #w: 9216    | sparsity: 88.11%\n",
      "residual_layers.4.conv2                  #w: 9216    | sparsity: 89.21%\n",
      "residual_layers.5.conv1                  #w: 9216    | sparsity: 86.15%\n",
      "residual_layers.5.conv2                  #w: 9216    | sparsity: 90.07%\n",
      "residual_layers.6.conv1                  #w: 18432   | sparsity: 87.59%\n",
      "residual_layers.6.conv2                  #w: 36864   | sparsity: 90.61%\n",
      "residual_layers.6.residual.0             #w: 2048    | sparsity: 83.25%\n",
      "residual_layers.7.conv1                  #w: 36864   | sparsity: 91.38%\n",
      "residual_layers.7.conv2                  #w: 36864   | sparsity: 94.02%\n",
      "residual_layers.8.conv1                  #w: 36864   | sparsity: 95.4% \n",
      "residual_layers.8.conv2                  #w: 36864   | sparsity: 96.81%\n",
      "classifier                               #w: 640     | sparsity: 34.06%\n"
     ]
    },
    {
     "name": "stderr",
     "output_type": "stream",
     "text": [
      "Testing: 100%|████████████████████████| 26/26 [00:00<00:00, 26.39it/s, accuracy=88.2, loss=0.000964]\n"
     ]
    }
   ],
   "source": [
    "criterion = nn.CrossEntropyLoss()\n",
    "optimizer = optim.SGD(resnet20_model.parameters(), lr=hyperparameters['lr'], \n",
    "                      momentum=hyperparameters['momentum'], weight_decay=hyperparameters['weight_decay'])\n",
    "\n",
    "log_file_path = os.path.join(output_folder, 'training_log.txt')\n",
    "with open(log_file_path, 'w') as log_file:\n",
    "    log_file.write(f\"Training started at {datetime.now()}\\n\")\n",
    "\n",
    "    best_accuracy = 0.0\n",
    "\n",
    "    for epoch in range(hyperparameters['epochs']):\n",
    "        train_loss, train_accuracy = train(resnet20_model, train_loader, criterion, optimizer, epoch, log_file)\n",
    "        test_loss, test_accuracy = test(resnet20_model, test_loader, criterion, log_file)\n",
    "\n",
    "        if test_accuracy > best_accuracy:\n",
    "            best_accuracy = test_accuracy\n",
    "            model_checkpoint_path = os.path.join(output_folder, f\"best_model.pth\")\n",
    "            torch.save(resnet20_model.state_dict(), model_checkpoint_path)\n",
    "            print(f\"Saved best model at epoch {epoch+1} with accuracy: {best_accuracy:.2f}%\")\n",
    "\n",
    "        if epoch+1 in DECAY_EPOCHS:\n",
    "            current_learning_rate = current_learning_rate * DECAY\n",
    "            for param_group in optimizer.param_groups:\n",
    "                param_group['lr'] = current_learning_rate\n",
    "            print(\"Current learning rate has decayed to %f\" %current_learning_rate)\n",
    "\n",
    "\n",
    "    log_file.write(f\"Training completed at {datetime.now()}\\n\")\n",
    "    log_file.write(f\"Best model accuracy: {best_accuracy:.2f}%\\n\")\n"
   ]
  }
 ],
 "metadata": {
  "kernelspec": {
   "display_name": "shrey_coursework",
   "language": "python",
   "name": "python3"
  },
  "language_info": {
   "codemirror_mode": {
    "name": "ipython",
    "version": 3
   },
   "file_extension": ".py",
   "mimetype": "text/x-python",
   "name": "python",
   "nbconvert_exporter": "python",
   "pygments_lexer": "ipython3",
   "version": "3.10.12"
  }
 },
 "nbformat": 4,
 "nbformat_minor": 5
}
